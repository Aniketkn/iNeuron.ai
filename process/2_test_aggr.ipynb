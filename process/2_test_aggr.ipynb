{
 "cells": [
  {
   "cell_type": "markdown",
   "metadata": {},
   "source": [
    "# Aggregate sample point neighborhood indicators to generate output indicators for within and accross-city comparison\n",
    "Description: This script is for preparing all the fields for within and accross city indicators\n",
    "This script should be run after the sample point geopackages prepared for all cities (sp.py), then use this is script to get all the final output\n",
    "\n",
    "**Two outputs:**\n",
    "1. global_indicators_hex_250m.gpkg  \n",
    "\n",
    "|indicators | data type | description |\n",
    "|---- | --- | --- |\n",
    "|urban_sample_point_count | int | Count of urban sample points associated with each hexagon (judge using intersect); this must be positive.  Zero sample count hexagons are not of relevance for output |\n",
    "|pct_access_500m_supermarkets | float | Percentage of sample points with pedestrian network access to supermarkets within (up to and including) 500 metres |\n",
    "|pct_access_500m_covenience | float | Percentage of sample points with pedestrian network access to convenience within (up to and including) 500 metres |\n",
    "|pct_access_500m_pt_any | float | Percentage of sample points with pedestrian network access to public transport within (up to and including) 500 metres |\n",
    "|pct_access_500m_public_open_space | float | Percentage of sample points with pedestrian network access to public open space within (up to and including) 500 metres |\n",
    "|local_nh_population_density | float | Average local neighbourhood population density for sample points |\n",
    "|local_nh_intersection_density | float | Average local neighbourhood intersection density for sample points |\n",
    "|local_daily_living | float | Average daily living score for sample points |\n",
    "|local_walkability | float | Average walkability score for sample points (calculated relative to all sample points across city) |\n",
    "|all_cities_z_nh_population_density | float | Z-score of local neighbourhood population density for hexagons relative to all cities |\n",
    "|all_cities_z_nh_intersection_density | float | Z-score of local neighbourhood intersection density for hexagons relative to all cities |\n",
    "| all_cities_z_daily_living | float | Z-score of daily living score for hexagons relative to all cities |\n",
    "| all_cities_walkability | float | Walkability index for hexagons relative to all cities |\n",
    "\n",
    "\n",
    "2. global_indicators_city.gpkg  \n",
    "\n",
    "|indicators | data type | description |\n",
    "|---- | --- | --- |\n",
    "|pop_pct_access_500m_supermarkets | float | Percentage of population with access to supermarkets within (up to and including) 500 metres|\n",
    "|pop_pct_access_500m_convenience | float | Percentage of population with pedestrian network access to convenience within (up to and including) 500 metres |\n",
    "|pop_pct_access_500m_pt_any | float | Percentage of population with pedestrian network access to public transport within (up to and including) 500 metres |\n",
    "|pop_pct_access_500m_public_open_space | float | Percentage of population with pedestrian network access to public open space within (up to and including) 500 metres |\n",
    "|pop_nh_pop_density | float | Average local neighbourhood population density for population |\n",
    "| pop_nh_intersection_density | float | Average local neighbourhood intersection density for population |\n",
    "| pop_daily_living | float | Average daily living score for population |\n",
    "| pop_walkability | float | Average walkability index for population (within city) |\n",
    "| all_cities_pop_z_nh_population_density | float | Z-score of population weighted neighbourhood population density for city relative to all cities |\n",
    "| all_cities_pop_z_nh_intersection_density | float | Z-score of population weighted neighbourhood intersection density for city relative to all cities |\n",
    "| all_cities_pop_z_daily_living | float | Z-score of population weighted daily living score for city relative to all cities |\n",
    "|all_cities_walkability | float | Walkability index for city relative to all cities|"
   ]
  },
  {
   "cell_type": "code",
   "execution_count": 4,
   "metadata": {},
   "outputs": [],
   "source": [
    "import json\n",
    "import os\n",
    "import time\n",
    "import pandas as pd\n",
    "import geopandas as gpd\n",
    "import sys\n",
    "from setup_aggr import * #module for all aggregation functions used in this notebook"
   ]
  },
  {
   "cell_type": "code",
   "execution_count": 5,
   "metadata": {},
   "outputs": [
    {
     "name": "stdout",
     "output_type": "stream",
     "text": [
      "Cities:['valencia', 'vic']\n"
     ]
    }
   ],
   "source": [
    "# get the work directory\n",
    "dirname = os.path.dirname('')\n",
    "jsonFile = \"./configuration/\" + sys.argv[1]\n",
    "jsonPath = os.path.join(dirname, jsonFile)\n",
    "\n",
    "#read configeration file for all cities (here only include vic and valencia for testing purposes)\n",
    "with open(\"configuration/cities2.json\") as json_file:\n",
    "    config = json.load(json_file)\n",
    "\n",
    "# specify input and outpur location\n",
    "folder = config['folder']\n",
    "input_folder = config['input_folder']\n",
    "\n",
    "# read city names from json\n",
    "cites = list(config['cityNames'].values())\n",
    "print(\"Cities:{}\".format(cites))"
   ]
  },
  {
   "cell_type": "markdown",
   "metadata": {},
   "source": [
    "## 1. Generate \"global_indicators_hex_250m.gpkg\" for within-city hex-level indicators"
   ]
  },
  {
   "cell_type": "code",
   "execution_count": 6,
   "metadata": {},
   "outputs": [
    {
     "name": "stdout",
     "output_type": "stream",
     "text": [
      "City-specific input datasources with sample point stats are from:  ['data/input/valencia_es_2019_1600m_buffer.gpkg', 'data/input/vic_es_2019_1600m_buffer.gpkg']\n",
      "All within-city indicators will be saved to:  data/output/test_global_indicators_hex_250m.gpkg\n"
     ]
    }
   ],
   "source": [
    "# create the output path of \"global_indicators_hex_250m.gpkg\"\n",
    "gpkgOutput_hex250 = os.path.join(dirname, folder,\n",
    "                                 config['output_hex_250m'])\n",
    "\n",
    "# read the input path of pre-prepared sample point of each city\n",
    "gpkgInput_ori = []\n",
    "for gpkg in list(config['gpkgNames'].values()):\n",
    "    gpkgInput_ori.append(os.path.join(dirname, input_folder, gpkg))\n",
    "\n",
    "print(\"City-specific input datasources with sample point stats are from: \",  gpkgInput_ori)\n",
    "  \n",
    "print(\"All within-city indicators will be saved to: \", gpkgOutput_hex250)"
   ]
  },
  {
   "cell_type": "code",
   "execution_count": 7,
   "metadata": {},
   "outputs": [
    {
     "name": "stdout",
     "output_type": "stream",
     "text": [
      "Calculate hex-level indicators weighted by sample points within each city:\n",
      "0 valencia\n",
      "1 vic\n"
     ]
    }
   ],
   "source": [
    "# prepare aggregation for hexes across all cities\n",
    "print(\"Calculate hex-level indicators weighted by sample points within each city:\")\n",
    "\n",
    "cities_hexes = []\n",
    "for index, gpkgInput in enumerate(gpkgInput_ori):\n",
    "    print(index, cites[index])\n",
    "    city_hexes = calc_hexes_pct_sp_access(gpkgInput, gpkgOutput_hex250, cites[index],\n",
    "               config['samplepointResult'], config['hex250'], config)\n",
    "    cities_hexes.append(city_hexes)\n",
    "    "
   ]
  },
  {
   "cell_type": "code",
   "execution_count": 8,
   "metadata": {},
   "outputs": [
    {
     "data": {
      "text/html": [
       "<div>\n",
       "<style scoped>\n",
       "    .dataframe tbody tr th:only-of-type {\n",
       "        vertical-align: middle;\n",
       "    }\n",
       "\n",
       "    .dataframe tbody tr th {\n",
       "        vertical-align: top;\n",
       "    }\n",
       "\n",
       "    .dataframe thead th {\n",
       "        text-align: right;\n",
       "    }\n",
       "</style>\n",
       "<table border=\"1\" class=\"dataframe\">\n",
       "  <thead>\n",
       "    <tr style=\"text-align: right;\">\n",
       "      <th></th>\n",
       "      <th>index</th>\n",
       "      <th>geometry</th>\n",
       "      <th>urban_sample_point_count</th>\n",
       "      <th>pct_access_500m_supermarkets</th>\n",
       "      <th>pct_access_500m_convenience</th>\n",
       "      <th>pct_access_500m_pt_any</th>\n",
       "      <th>pct_access_500m_public_open_space</th>\n",
       "      <th>local_nh_population_density</th>\n",
       "      <th>local_nh_intersection_density</th>\n",
       "      <th>local_daily_living</th>\n",
       "      <th>local_walkability</th>\n",
       "      <th>study_region</th>\n",
       "    </tr>\n",
       "  </thead>\n",
       "  <tbody>\n",
       "    <tr>\n",
       "      <th>12</th>\n",
       "      <td>14290</td>\n",
       "      <td>MULTIPOLYGON (((729706.000 4363806.000, 729768...</td>\n",
       "      <td>12</td>\n",
       "      <td>0.0</td>\n",
       "      <td>33.333333</td>\n",
       "      <td>83.333333</td>\n",
       "      <td>100.0</td>\n",
       "      <td>5863.539898</td>\n",
       "      <td>44.837584</td>\n",
       "      <td>1.166667</td>\n",
       "      <td>-5.963264</td>\n",
       "      <td>valencia</td>\n",
       "    </tr>\n",
       "    <tr>\n",
       "      <th>30</th>\n",
       "      <td>16525</td>\n",
       "      <td>MULTIPOLYGON (((728962.000 4366858.000, 729024...</td>\n",
       "      <td>14</td>\n",
       "      <td>100.0</td>\n",
       "      <td>100.000000</td>\n",
       "      <td>100.000000</td>\n",
       "      <td>100.0</td>\n",
       "      <td>9505.956210</td>\n",
       "      <td>58.387891</td>\n",
       "      <td>3.000000</td>\n",
       "      <td>-2.843656</td>\n",
       "      <td>valencia</td>\n",
       "    </tr>\n",
       "    <tr>\n",
       "      <th>35</th>\n",
       "      <td>17173</td>\n",
       "      <td>MULTIPOLYGON (((725614.000 4367730.000, 725676...</td>\n",
       "      <td>26</td>\n",
       "      <td>0.0</td>\n",
       "      <td>100.000000</td>\n",
       "      <td>100.000000</td>\n",
       "      <td>100.0</td>\n",
       "      <td>11393.625880</td>\n",
       "      <td>94.476445</td>\n",
       "      <td>2.000000</td>\n",
       "      <td>-2.477176</td>\n",
       "      <td>valencia</td>\n",
       "    </tr>\n",
       "  </tbody>\n",
       "</table>\n",
       "</div>"
      ],
      "text/plain": [
       "    index                                           geometry  \\\n",
       "12  14290  MULTIPOLYGON (((729706.000 4363806.000, 729768...   \n",
       "30  16525  MULTIPOLYGON (((728962.000 4366858.000, 729024...   \n",
       "35  17173  MULTIPOLYGON (((725614.000 4367730.000, 725676...   \n",
       "\n",
       "    urban_sample_point_count  pct_access_500m_supermarkets  \\\n",
       "12                        12                           0.0   \n",
       "30                        14                         100.0   \n",
       "35                        26                           0.0   \n",
       "\n",
       "    pct_access_500m_convenience  pct_access_500m_pt_any  \\\n",
       "12                    33.333333               83.333333   \n",
       "30                   100.000000              100.000000   \n",
       "35                   100.000000              100.000000   \n",
       "\n",
       "    pct_access_500m_public_open_space  local_nh_population_density  \\\n",
       "12                              100.0                  5863.539898   \n",
       "30                              100.0                  9505.956210   \n",
       "35                              100.0                 11393.625880   \n",
       "\n",
       "    local_nh_intersection_density  local_daily_living  local_walkability  \\\n",
       "12                      44.837584            1.166667          -5.963264   \n",
       "30                      58.387891            3.000000          -2.843656   \n",
       "35                      94.476445            2.000000          -2.477176   \n",
       "\n",
       "   study_region  \n",
       "12     valencia  \n",
       "30     valencia  \n",
       "35     valencia  "
      ]
     },
     "execution_count": 8,
     "metadata": {},
     "output_type": "execute_result"
    }
   ],
   "source": [
    "cities_hexes[0].head(3)"
   ]
  },
  {
   "cell_type": "code",
   "execution_count": 9,
   "metadata": {},
   "outputs": [
    {
     "name": "stdout",
     "output_type": "stream",
     "text": [
      "Calculate hex-level indicators zscores within each city.\n",
      "Check ['data/output/test_global_indicators_hex_250m.gpkg'] for output indicators of each city\n"
     ]
    }
   ],
   "source": [
    "# prepare all_cities level fields for every hex across all cities\n",
    "print(\"Calculate hex-level indicators zscores within each city.\\n\" \n",
    "      \"Check\", [gpkgOutput_hex250], \"for output indicators of each city\" )\n",
    "\n",
    "calc_hexes_zscore_walk(gpkgOutput_hex250, cites, config)"
   ]
  },
  {
   "cell_type": "code",
   "execution_count": 10,
   "metadata": {},
   "outputs": [
    {
     "data": {
      "text/plain": [
       "Index(['index', 'local_daily_living', 'local_nh_intersection_density',\n",
       "       'local_nh_population_density', 'local_walkability',\n",
       "       'pct_access_500m_convenience', 'pct_access_500m_pt_any',\n",
       "       'pct_access_500m_public_open_space', 'pct_access_500m_supermarkets',\n",
       "       'study_region', 'urban_sample_point_count',\n",
       "       'all_cities_z_nh_population_density',\n",
       "       'all_cities_z_nh_intersection_density', 'all_cities_z_daily_living',\n",
       "       'all_cities_walkability', 'geometry'],\n",
       "      dtype='object')"
      ]
     },
     "execution_count": 10,
     "metadata": {},
     "output_type": "execute_result"
    }
   ],
   "source": [
    "# check the hex layer for within-city indicators\n",
    "vic_hex250 = gpd.read_file(gpkgOutput_hex250, layer=config[\"cityNames\"]['vic'])\n",
    "vic_hex250.columns"
   ]
  },
  {
   "cell_type": "markdown",
   "metadata": {},
   "source": [
    "## 2. Generate \"global_indicators_city.gpkg\" for accross-city city-level indicators"
   ]
  },
  {
   "cell_type": "code",
   "execution_count": 11,
   "metadata": {},
   "outputs": [
    {
     "name": "stdout",
     "output_type": "stream",
     "text": [
      "All accross-city indicators will be saved to:  data/output/test_global_indicators_city.gpkg\n"
     ]
    }
   ],
   "source": [
    "# create the path of \"global_indicators_city.gpkg\"\n",
    "gpkgOutput_cities = os.path.join(dirname, folder,\n",
    "                                 config['global_indicators_city'])\n",
    "print(\"All accross-city indicators will be saved to: \", gpkgOutput_cities)"
   ]
  },
  {
   "cell_type": "code",
   "execution_count": 12,
   "metadata": {},
   "outputs": [
    {
     "name": "stdout",
     "output_type": "stream",
     "text": [
      "Calculate city-level indicators weighted by city population:\n",
      "0 valencia\n",
      "1 vic\n"
     ]
    }
   ],
   "source": [
    "# prepare aggregation for study region across all cities\n",
    "print(\"Calculate city-level indicators weighted by city population:\")\n",
    "\n",
    "cities_all = []\n",
    "for index, gpkgInput in enumerate(gpkgInput_ori):\n",
    "    print(index, cites[index])\n",
    "    city = calc_cities_pop_pct_indicators(gpkgOutput_hex250, cites[index], gpkgInput, config,\n",
    "              gpkgOutput_cities)\n",
    "    cities_all.append(city)\n"
   ]
  },
  {
   "cell_type": "code",
   "execution_count": 13,
   "metadata": {},
   "outputs": [
    {
     "data": {
      "text/html": [
       "<div>\n",
       "<style scoped>\n",
       "    .dataframe tbody tr th:only-of-type {\n",
       "        vertical-align: middle;\n",
       "    }\n",
       "\n",
       "    .dataframe tbody tr th {\n",
       "        vertical-align: top;\n",
       "    }\n",
       "\n",
       "    .dataframe thead th {\n",
       "        text-align: right;\n",
       "    }\n",
       "</style>\n",
       "<table border=\"1\" class=\"dataframe\">\n",
       "  <thead>\n",
       "    <tr style=\"text-align: right;\">\n",
       "      <th></th>\n",
       "      <th>Study region</th>\n",
       "      <th>geometry</th>\n",
       "      <th>urban_sample_point_count</th>\n",
       "      <th>pop_pct_access_500m_supermarkets</th>\n",
       "      <th>pop_pct_access_500m_convenience</th>\n",
       "      <th>pop_pct_access_500m_pt_any</th>\n",
       "      <th>pop_pct_access_500m_public_open_space</th>\n",
       "      <th>pop_nh_pop_density</th>\n",
       "      <th>pop_nh_intersection_density</th>\n",
       "      <th>pop_daily_living</th>\n",
       "      <th>pop_walkability</th>\n",
       "      <th>all_cities_pop_z_daily_living</th>\n",
       "      <th>all_cities_walkability</th>\n",
       "    </tr>\n",
       "  </thead>\n",
       "  <tbody>\n",
       "    <tr>\n",
       "      <th>0</th>\n",
       "      <td>Valencia</td>\n",
       "      <td>MULTIPOLYGON (((729184.362 4381327.027, 729178...</td>\n",
       "      <td>73653</td>\n",
       "      <td>60.984933</td>\n",
       "      <td>47.814282</td>\n",
       "      <td>83.279347</td>\n",
       "      <td>89.25162</td>\n",
       "      <td>15552.28365</td>\n",
       "      <td>129.322474</td>\n",
       "      <td>1.920786</td>\n",
       "      <td>-0.622679</td>\n",
       "      <td>0.505169</td>\n",
       "      <td>1.826356</td>\n",
       "    </tr>\n",
       "  </tbody>\n",
       "</table>\n",
       "</div>"
      ],
      "text/plain": [
       "  Study region                                           geometry  \\\n",
       "0     Valencia  MULTIPOLYGON (((729184.362 4381327.027, 729178...   \n",
       "\n",
       "   urban_sample_point_count  pop_pct_access_500m_supermarkets  \\\n",
       "0                     73653                         60.984933   \n",
       "\n",
       "   pop_pct_access_500m_convenience  pop_pct_access_500m_pt_any  \\\n",
       "0                        47.814282                   83.279347   \n",
       "\n",
       "   pop_pct_access_500m_public_open_space  pop_nh_pop_density  \\\n",
       "0                               89.25162         15552.28365   \n",
       "\n",
       "   pop_nh_intersection_density  pop_daily_living  pop_walkability  \\\n",
       "0                   129.322474          1.920786        -0.622679   \n",
       "\n",
       "   all_cities_pop_z_daily_living  all_cities_walkability  \n",
       "0                       0.505169                1.826356  "
      ]
     },
     "execution_count": 13,
     "metadata": {},
     "output_type": "execute_result"
    }
   ],
   "source": [
    "cities_all[0] # index 0 is city of Valencia"
   ]
  },
  {
   "cell_type": "code",
   "execution_count": 14,
   "metadata": {},
   "outputs": [
    {
     "data": {
      "text/plain": [
       "Index(['city', 'area_sqkm', 'urban_sample_point_count',\n",
       "       'pop_pct_access_500m_supermarkets', 'pop_pct_access_500m_convenience',\n",
       "       'pop_pct_access_500m_pt_any', 'pop_pct_access_500m_public_open_space',\n",
       "       'pop_nh_pop_density', 'pop_nh_intersection_density', 'pop_daily_living',\n",
       "       'pop_walkability', 'all_cities_pop_z_daily_living',\n",
       "       'all_cities_walkability', 'geometry'],\n",
       "      dtype='object')"
      ]
     },
     "execution_count": 14,
     "metadata": {},
     "output_type": "execute_result"
    }
   ],
   "source": [
    "# check the hex layer for within-city indicators\n",
    "vic_city = gpd.read_file(gpkgOutput_cities, layer=config[\"cityNames\"]['vic'])\n",
    "vic_city.columns"
   ]
  },
  {
   "cell_type": "code",
   "execution_count": null,
   "metadata": {},
   "outputs": [],
   "source": []
  }
 ],
 "metadata": {
  "kernelspec": {
   "display_name": "Python 3",
   "language": "python",
   "name": "python3"
  },
  "language_info": {
   "codemirror_mode": {
    "name": "ipython",
    "version": 3
   },
   "file_extension": ".py",
   "mimetype": "text/x-python",
   "name": "python",
   "nbconvert_exporter": "python",
   "pygments_lexer": "ipython3",
   "version": "3.6.7"
  }
 },
 "nbformat": 4,
 "nbformat_minor": 4
}
