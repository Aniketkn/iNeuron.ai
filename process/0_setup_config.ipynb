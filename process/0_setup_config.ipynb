{
 "cells": [
  {
   "cell_type": "markdown",
   "metadata": {},
   "source": [
    "# Set up study region config file"
   ]
  },
  {
   "cell_type": "code",
   "execution_count": 7,
   "metadata": {},
   "outputs": [],
   "source": [
    "import json\n",
    "import os\n",
    "import sys\n",
    "import time\n",
    "\n",
    "from setup_config import * # python module that defines project config parameters"
   ]
  },
  {
   "cell_type": "markdown",
   "metadata": {},
   "source": [
    "## Generate study region specific config in json"
   ]
  },
  {
   "cell_type": "code",
   "execution_count": 8,
   "metadata": {},
   "outputs": [
    {
     "name": "stdout",
     "output_type": "stream",
     "text": [
      "Generate study region configuration json file\n"
     ]
    }
   ],
   "source": [
    "print(\"Generate study region configuration json file\")\n",
    "startTime = time.time()\n",
    "\n",
    "for city, region, to_crs in zip(cities, regions, to_crs):\n",
    "    # generate dict of study region input datasource parameters\n",
    "    city_config = {\n",
    "    \"study_region\": \"{city}\".format(city=city),\n",
    "    \"to_crs\": {\"init\": \"epsg:{crs}\".format(crs=to_crs)},\n",
    "    \"geopackagePath\": \"{city}_{region}_{project_year}_{distance}m_buffer.gpkg\".format(\n",
    "            city=city, region=region, project_year=project_year, distance=distance),\n",
    "    \"geopackagePath_output\": \"{city}_{region}_{project_year}_{distance}m_buffer_output{output_date}.gpkg\".format(\n",
    "            city=city, region=region, project_year=project_year, distance=distance, output_date=output_date),\n",
    "    \"graphmlName\": \"{city}_{region}_{project_year}_{study_buffer}m_pedestrian_osm_{osm_input_date}.graphml\".format(\n",
    "            city=city, region=region, project_year=project_year, study_buffer=study_buffer, osm_input_date=osm_input_date),\n",
    "    \"graphmlProj_name\": \"{city}_{region}_{project_year}_{study_buffer}m_pedestrian_osm_{osm_input_date}_proj.graphml\".format(\n",
    "            city=city, region=region, project_year=project_year, study_buffer=study_buffer, osm_input_date=osm_input_date),\n",
    "    \"folder\": \"data/input\",\n",
    "    \"tempCSV\" : \"nodes_pop_intersect_density_{city}.csv\".format(city=city)\n",
    "    }\n",
    "    # serializing json, write to file\n",
    "    with open(\"configuration/{city}.json\".format(city=city), \"w\") as write_file:\n",
    "        json.dump(city_config, write_file, indent=4)\n"
   ]
  },
  {
   "cell_type": "markdown",
   "metadata": {},
   "source": [
    "# Generate all cities aggregation config in json"
   ]
  },
  {
   "cell_type": "code",
   "execution_count": 9,
   "metadata": {},
   "outputs": [
    {
     "name": "stdout",
     "output_type": "stream",
     "text": [
      "Generate cities aggregation configuration json file\n",
      "All study region configuration file were generated, total time is : 0.00 hours or 0.01 seconds\n"
     ]
    }
   ],
   "source": [
    "# prepare cities configuration json file for aggregation\n",
    "print(\"Generate cities aggregation configuration json file\")\n",
    "startTime = time.time()\n",
    "\n",
    "gpkgNames = {}\n",
    "cities_config = {}\n",
    "\n",
    "for city, region in zip(cities, regions):\n",
    "    gpkgName = {\"{city}\".format(city=city): \"{city}_{region}_{project_year}_{distance}m_buffer_output{output_date}.gpkg\".format(\n",
    "            city=city, region=region, project_year=project_year, distance=distance, output_date=output_date)}\n",
    "    gpkgNames.update(gpkgName)\n",
    "\n",
    "cities_config = {\"gpkgNames\" : gpkgNames}\n",
    "cities_config.update(cities_parameters)\n",
    "cities_config.update({\"hex_fieldNames\" : hex_fieldNames})\n",
    "cities_config.update({\"city_fieldNames\" : city_fieldNames})\n",
    "\n",
    "with open(\"configuration/cities.json\", \"w\") as write_file:\n",
    "        json.dump(cities_config, write_file, indent=4)\n",
    "        \n",
    "endTime = time.time() - startTime\n",
    "print('All study region configuration file were generated, total time is : {0:.2f} hours or {1:.2f} seconds'.format(\n",
    "    endTime / 3600, endTime))"
   ]
  },
  {
   "cell_type": "code",
   "execution_count": null,
   "metadata": {},
   "outputs": [],
   "source": []
  }
 ],
 "metadata": {
  "kernelspec": {
   "display_name": "Python 3",
   "language": "python",
   "name": "python3"
  },
  "language_info": {
   "codemirror_mode": {
    "name": "ipython",
    "version": 3
   },
   "file_extension": ".py",
   "mimetype": "text/x-python",
   "name": "python",
   "nbconvert_exporter": "python",
   "pygments_lexer": "ipython3",
   "version": "3.7.6"
  }
 },
 "nbformat": 4,
 "nbformat_minor": 4
}
