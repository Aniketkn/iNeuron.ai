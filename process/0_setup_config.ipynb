{
 "cells": [
  {
   "cell_type": "markdown",
   "metadata": {},
   "source": [
    "# Set up study region config file"
   ]
  },
  {
   "cell_type": "code",
   "execution_count": 19,
   "metadata": {},
   "outputs": [],
   "source": [
    "import json\n",
    "import os\n",
    "import sys\n",
    "import time\n",
    "\n",
    "import setup_config as sc # python module that defines project config parameters"
   ]
  },
  {
   "cell_type": "code",
   "execution_count": 20,
   "metadata": {},
   "outputs": [
    {
     "name": "stdout",
     "output_type": "stream",
     "text": [
      "[{'cityname': 'adelaide', 'region': 'au', 'crs': 'epsg:7845'}, {'cityname': 'auckland', 'region': 'nz', 'crs': 'epsg:2193'}, {'cityname': 'baltimore', 'region': 'us', 'crs': 'epsg:32618'}, {'cityname': 'bangkok', 'region': 'th', 'crs': 'epsg:32647'}, {'cityname': 'barcelona', 'region': 'es', 'crs': 'epsg:25831'}, {'cityname': 'belfast', 'region': 'gb', 'crs': 'epsg:29902'}, {'cityname': 'bern', 'region': 'ch', 'crs': 'epsg:32633'}, {'cityname': 'chennai', 'region': 'in', 'crs': 'epsg:32644'}, {'cityname': 'cologne', 'region': 'de', 'crs': 'epsg:32631'}, {'cityname': 'ghent', 'region': 'be', 'crs': 'epsg:32631'}, {'cityname': 'graz', 'region': 'at', 'crs': 'epsg:32633'}, {'cityname': 'hanoi', 'region': 'vn', 'crs': 'epsg:32648'}, {'cityname': 'hong_kong', 'region': 'hk', 'crs': 'epsg:32650'}, {'cityname': 'lisbon', 'region': 'pt', 'crs': 'epsg:3763'}, {'cityname': 'melbourne', 'region': 'au', 'crs': 'epsg:7845'}, {'cityname': 'mexico_city', 'region': 'mx', 'crs': 'epsg:32614'}, {'cityname': 'odense', 'region': 'dk', 'crs': 'epsg:32632'}, {'cityname': 'olomouc', 'region': 'cz', 'crs': 'epsg:32633'}, {'cityname': 'phoenix', 'region': 'us', 'crs': 'epsg:32612'}, {'cityname': 'sao_paulo', 'region': 'br', 'crs': 'epsg:32723'}, {'cityname': 'seattle', 'region': 'us', 'crs': 'epsg:32610'}, {'cityname': 'sydney', 'region': 'au', 'crs': 'epsg:7845'}, {'cityname': 'valencia', 'region': 'es', 'crs': 'epsg:25830'}, {'cityname': 'vic', 'region': 'es', 'crs': 'epsg:25831'}]\n"
     ]
    }
   ],
   "source": [
    "#show all study regions\n",
    "print(sc.cities)"
   ]
  },
  {
   "cell_type": "markdown",
   "metadata": {},
   "source": [
    "## Generate study region specific config in json"
   ]
  },
  {
   "cell_type": "code",
   "execution_count": 21,
   "metadata": {},
   "outputs": [
    {
     "name": "stdout",
     "output_type": "stream",
     "text": [
      "Generate study region configuration json file\n"
     ]
    }
   ],
   "source": [
    "print('Generate study region configuration json file')\n",
    "startTime = time.time()\n",
    "\n",
    "for i in range(len(sc.cities)):\n",
    "    # generate dict of study region input datasource parameters\n",
    "    city = sc.cities[i]['cityname']\n",
    "    region = sc.cities[i]['region']\n",
    "    to_crs = sc.cities[i]['crs']\n",
    "    \n",
    "    city_config = {\n",
    "    'study_region': '{city}'.format(city=city),\n",
    "    'to_crs': {'init': '{crs}'.format(crs=to_crs)},\n",
    "    'geopackagePath': '{city}_{region}_{project_year}_{distance}m_buffer.gpkg'.format(\n",
    "            city=city, region=region, project_year=sc.project_year, distance=sc.distance),\n",
    "    'geopackagePath_output': '{city}_{region}_{project_year}_{distance}m_buffer_output{output_date}.gpkg'.format(\n",
    "            city=city, region=region, project_year=sc.project_year, distance=sc.distance, output_date=sc.output_date),\n",
    "    'graphmlName': '{city}_{region}_{project_year}_{study_buffer}m_pedestrian_osm_{osm_input_date}.graphml'.format(\n",
    "            city=city, region=region, project_year=sc.project_year, study_buffer=sc.study_buffer, osm_input_date=sc.osm_input_date),\n",
    "    'graphmlProj_name': '{city}_{region}_{project_year}_{study_buffer}m_pedestrian_osm_{osm_input_date}_proj.graphml'.format(\n",
    "            city=city, region=region, project_year=sc.project_year, study_buffer=sc.study_buffer, osm_input_date=sc.osm_input_date),\n",
    "    'folder': 'data/input',\n",
    "    'tempCSV' : 'nodes_pop_intersect_density_{city}.csv'.format(city=city)\n",
    "    }\n",
    "    # serializing json, write to file\n",
    "    with open('configuration/{city}.json'.format(city=city), 'w') as write_file:\n",
    "        json.dump(city_config, write_file, indent=4)\n"
   ]
  },
  {
   "cell_type": "markdown",
   "metadata": {},
   "source": [
    "# Generate all cities aggregation config in json"
   ]
  },
  {
   "cell_type": "code",
   "execution_count": 22,
   "metadata": {},
   "outputs": [
    {
     "name": "stdout",
     "output_type": "stream",
     "text": [
      "Generate cities aggregation configuration json file\n",
      "All study region configuration file were generated, total time is : 0.00 hours or 0.01 seconds\n"
     ]
    }
   ],
   "source": [
    "# prepare cities configuration json file for aggregation\n",
    "print('Generate cities aggregation configuration json file')\n",
    "startTime = time.time()\n",
    "\n",
    "gpkgNames = {}\n",
    "cities_config = {}\n",
    "\n",
    "for i in range(len(sc.cities)):\n",
    "    city = sc.cities[i]['cityname']\n",
    "    region = sc.cities[i]['region']\n",
    "    \n",
    "    gpkgName = {'{city}'.format(city=city): '{city}_{region}_{project_year}_{distance}m_buffer_output{output_date}.gpkg'.format(\n",
    "            city=city, region=region, project_year=sc.project_year, distance=sc.distance, output_date=sc.output_date)}\n",
    "    gpkgNames.update(gpkgName)\n",
    "\n",
    "cities_config = {'gpkgNames' : gpkgNames}\n",
    "cities_config.update(sc.cities_parameters)\n",
    "cities_config.update({'hex_fieldNames' : sc.hex_fieldNames})\n",
    "cities_config.update({'city_fieldNames' : sc.city_fieldNames})\n",
    "\n",
    "with open('configuration/cities.json', 'w') as write_file:\n",
    "        json.dump(cities_config, write_file, indent=4)\n",
    "        \n",
    "endTime = time.time() - startTime\n",
    "print('All study region configuration file were generated, total time is : {0:.2f} hours or {1:.2f} seconds'.format(\n",
    "    endTime / 3600, endTime))"
   ]
  },
  {
   "cell_type": "code",
   "execution_count": null,
   "metadata": {},
   "outputs": [],
   "source": []
  }
 ],
 "metadata": {
  "kernelspec": {
   "display_name": "Python 3",
   "language": "python",
   "name": "python3"
  },
  "language_info": {
   "codemirror_mode": {
    "name": "ipython",
    "version": 3
   },
   "file_extension": ".py",
   "mimetype": "text/x-python",
   "name": "python",
   "nbconvert_exporter": "python",
   "pygments_lexer": "ipython3",
   "version": "3.7.6"
  }
 },
 "nbformat": 4,
 "nbformat_minor": 4
}
