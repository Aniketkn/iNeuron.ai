{
 "cells": [
  {
   "cell_type": "markdown",
   "metadata": {},
   "source": [
    "# Aggregate neighborhood stats to generate within and across-city indicators\n",
    "Description: This script is for preparing all within and across city indicators\n",
    "This script should be run after when the sample point stats are prepared for all cities (sp.py), use this is script to get all the final output for both within-city and across-city indicator\n",
    "\n",
    "\n",
    "**Two outputs:**\n",
    "1. global_indicators_hex_250m.gpkg  \n",
    "\n",
    "|indicators | data type | description |\n",
    "|---- | --- | --- |\n",
    "| urban_sample_point_count | int | Count of urban sample points associated with each hexagon (judge using intersect); this must be positive.  Zero sample count hexagons are not of relevance for output |\n",
    "| pct_access_500m_supermarkets | float | Percentage of sample points with pedestrian network access to supermarkets within (up to and including) 500 metres |\n",
    "| pct_access_500m_convenience | float | Percentage of sample points with pedestrian network access to convenience within (up to and including) 500 metres |\n",
    "| pct_access_500m_pt_any | float | Percentage of sample points with pedestrian network access to public transport within (up to and including) 500 metres |\n",
    "| pct_access_500m_public_open_space | float | Percentage of sample points with pedestrian network access to public open space within (up to and including) 500 metres |\n",
    "| local_nh_population_density | float | Average local neighbourhood population density |\n",
    "| local_nh_intersection_density | float | Average local neighbourhood intersection density |\n",
    "| local_daily_living | float | Average local neighbourhood daily living score |\n",
    "| local_walkability | float | Average local neighbourhood walkability score |\n",
    "| all_cities_z_nh_population_density | float | Z-score of local neighbourhood population density relative to all cities |\n",
    "| all_cities_z_nh_intersection_density | float | Z-score of local neighbourhood intersection density relative to all cities |\n",
    "| all_cities_z_daily_living | float | Z-score of daily living score relative to all cities |\n",
    "| all_cities_walkability | float | Walkability index relative to all cities |\n",
    "\n",
    "\n",
    "2. global_indicators_city.gpkg  \n",
    "\n",
    "|indicators | data type | description |\n",
    "|---- | --- | --- |\n",
    "| pop_pct_access_500m_supermarkets | float | Percentage of population with pedestrian network access to supermarkets within (up to and including) 500 metres|\n",
    "| pop_pct_access_500m_convenience | float | Percentage of population with pedestrian network access to convenience within (up to and including) 500 metres |\n",
    "| pop_pct_access_500m_pt_any | float | Percentage of population with pedestrian network access to public transport within (up to and including) 500 metres |\n",
    "| pop_pct_access_500m_public_open_space | float | Percentage of population with pedestrian network access to public open space within (up to and including) 500 metres |\n",
    "| pop_nh_pop_density | float | Average local neighbourhood population density |\n",
    "| pop_nh_intersection_density | float | Average local neighbourhood intersection density |\n",
    "| pop_daily_living | float | Average daily living score for population (within city) |\n",
    "| pop_walkability | float | Average walkability index for population (within city) |\n",
    "| all_cities_pop_z_daily_living | float | Average z-score of daily living score for population relative to all cities |\n",
    "| all_cities_walkability | float | Average walkability index for population relative to all cities|"
   ]
  },
  {
   "cell_type": "code",
   "execution_count": 28,
   "metadata": {},
   "outputs": [],
   "source": [
    "import json\n",
    "import os\n",
    "import time\n",
    "import pandas as pd\n",
    "import geopandas as gpd\n",
    "import sys\n",
    "from setup_aggr import * # module for all aggregation functions used in this notebook\n",
    "import matplotlib.pyplot as plt\n",
    "\n",
    "%matplotlib inline"
   ]
  },
  {
   "cell_type": "code",
   "execution_count": 19,
   "metadata": {},
   "outputs": [
    {
     "name": "stdout",
     "output_type": "stream",
     "text": [
      "Cities:['bangkok', 'hong_kong', 'odense', 'phoenix', 'sao_paulo', 'sydney']\n"
     ]
    }
   ],
   "source": [
    "# get the work directory\n",
    "dirname = os.path.dirname('')\n",
    "jsonFile = \"./configuration/\" + sys.argv[1]\n",
    "jsonPath = os.path.join(dirname, jsonFile)\n",
    "\n",
    "#read configeration file for all cities (here only include vic and valencia for testing purposes)\n",
    "with open(\"configuration/cities2.json\") as json_file:\n",
    "    config = json.load(json_file)\n",
    "\n",
    "# specify input and outpur location\n",
    "folder = config['folder']\n",
    "input_folder = config['input_folder']\n",
    "\n",
    "# read city names from json\n",
    "cites = list(config['cityNames'].values())\n",
    "print(\"Cities:{}\".format(cites))"
   ]
  },
  {
   "cell_type": "markdown",
   "metadata": {},
   "source": [
    "## 1. Generate \"global_indicators_hex_250m.gpkg\" for hex-level indicators"
   ]
  },
  {
   "cell_type": "code",
   "execution_count": 20,
   "metadata": {},
   "outputs": [
    {
     "name": "stdout",
     "output_type": "stream",
     "text": [
      "City-specific input datasources with sample point stats are from:  ['data/input/bangkok_th_2019_1600m_buffer.gpkg', 'data/input/hong_kong_hk_2019_1600m_buffer.gpkg', 'data/input/odense_dk_2019_1600m_buffer.gpkg', 'data/input/phoenix_us_2019_1600m_buffer.gpkg', 'data/input/sao_paulo_br_2019_1600m_buffer.gpkg', 'data/input/sydney_au_2019_1600m_buffer.gpkg']\n",
      "All within-city indicators will be saved to:  data/output/test_global_indicators_hex_250m.gpkg\n"
     ]
    }
   ],
   "source": [
    "# create the output path of \"global_indicators_hex_250m.gpkg\"\n",
    "gpkgOutput_hex250 = os.path.join(dirname, folder,\n",
    "                                 config['output_hex_250m'])\n",
    "\n",
    "# read the input path of pre-prepared sample point of each city\n",
    "gpkgInput_ori = []\n",
    "for gpkg in list(config['gpkgNames'].values()):\n",
    "    gpkgInput_ori.append(os.path.join(dirname, input_folder, gpkg))\n",
    "\n",
    "print(\"City-specific input datasources with sample point stats are from: \",  gpkgInput_ori)\n",
    "  \n",
    "print(\"All within-city indicators will be saved to: \", gpkgOutput_hex250)"
   ]
  },
  {
   "cell_type": "code",
   "execution_count": 21,
   "metadata": {},
   "outputs": [
    {
     "name": "stdout",
     "output_type": "stream",
     "text": [
      "Calculate hex-level indicators weighted by sample points within each city:\n",
      "0 bangkok\n",
      "1 hong_kong\n",
      "2 odense\n",
      "3 phoenix\n",
      "4 sao_paulo\n",
      "5 sydney\n"
     ]
    }
   ],
   "source": [
    "# prepare aggregation for hexes across all cities\n",
    "print(\"Calculate hex-level indicators weighted by sample points within each city:\")\n",
    "\n",
    "cities_hexes = []\n",
    "for index, gpkgInput in enumerate(gpkgInput_ori):\n",
    "    print(index, cites[index])\n",
    "    city_hexes = calc_hexes_pct_sp_access(gpkgInput, gpkgOutput_hex250, cites[index],\n",
    "               config['samplepointResult'], config['hex250'], config)\n",
    "    cities_hexes.append(city_hexes)\n",
    "    "
   ]
  },
  {
   "cell_type": "code",
   "execution_count": 22,
   "metadata": {},
   "outputs": [
    {
     "data": {
      "text/html": [
       "<div>\n",
       "<style scoped>\n",
       "    .dataframe tbody tr th:only-of-type {\n",
       "        vertical-align: middle;\n",
       "    }\n",
       "\n",
       "    .dataframe tbody tr th {\n",
       "        vertical-align: top;\n",
       "    }\n",
       "\n",
       "    .dataframe thead th {\n",
       "        text-align: right;\n",
       "    }\n",
       "</style>\n",
       "<table border=\"1\" class=\"dataframe\">\n",
       "  <thead>\n",
       "    <tr style=\"text-align: right;\">\n",
       "      <th></th>\n",
       "      <th>index</th>\n",
       "      <th>geometry</th>\n",
       "      <th>urban_sample_point_count</th>\n",
       "      <th>pct_access_500m_supermarkets</th>\n",
       "      <th>pct_access_500m_convenience</th>\n",
       "      <th>pct_access_500m_pt_any</th>\n",
       "      <th>pct_access_500m_public_open_space</th>\n",
       "      <th>local_nh_population_density</th>\n",
       "      <th>local_nh_intersection_density</th>\n",
       "      <th>local_daily_living</th>\n",
       "      <th>local_walkability</th>\n",
       "      <th>study_region</th>\n",
       "    </tr>\n",
       "  </thead>\n",
       "  <tbody>\n",
       "    <tr>\n",
       "      <th>16</th>\n",
       "      <td>25</td>\n",
       "      <td>MULTIPOLYGON (((660839.000 1503144.000, 660901...</td>\n",
       "      <td>6</td>\n",
       "      <td>0.0</td>\n",
       "      <td>0.0</td>\n",
       "      <td>0.0</td>\n",
       "      <td>0.0</td>\n",
       "      <td>2750.312574</td>\n",
       "      <td>69.599755</td>\n",
       "      <td>0.0</td>\n",
       "      <td>-2.957398</td>\n",
       "      <td>bangkok</td>\n",
       "    </tr>\n",
       "    <tr>\n",
       "      <th>17</th>\n",
       "      <td>26</td>\n",
       "      <td>MULTIPOLYGON (((661025.000 1503253.000, 661087...</td>\n",
       "      <td>20</td>\n",
       "      <td>0.0</td>\n",
       "      <td>0.0</td>\n",
       "      <td>0.0</td>\n",
       "      <td>0.0</td>\n",
       "      <td>2499.574916</td>\n",
       "      <td>66.006140</td>\n",
       "      <td>0.0</td>\n",
       "      <td>-3.108806</td>\n",
       "      <td>bangkok</td>\n",
       "    </tr>\n",
       "    <tr>\n",
       "      <th>19</th>\n",
       "      <td>28</td>\n",
       "      <td>MULTIPOLYGON (((661397.000 1503253.000, 661459...</td>\n",
       "      <td>27</td>\n",
       "      <td>0.0</td>\n",
       "      <td>0.0</td>\n",
       "      <td>0.0</td>\n",
       "      <td>0.0</td>\n",
       "      <td>2814.743640</td>\n",
       "      <td>72.360081</td>\n",
       "      <td>0.0</td>\n",
       "      <td>-2.855665</td>\n",
       "      <td>bangkok</td>\n",
       "    </tr>\n",
       "  </tbody>\n",
       "</table>\n",
       "</div>"
      ],
      "text/plain": [
       "    index                                           geometry  \\\n",
       "16     25  MULTIPOLYGON (((660839.000 1503144.000, 660901...   \n",
       "17     26  MULTIPOLYGON (((661025.000 1503253.000, 661087...   \n",
       "19     28  MULTIPOLYGON (((661397.000 1503253.000, 661459...   \n",
       "\n",
       "    urban_sample_point_count  pct_access_500m_supermarkets  \\\n",
       "16                         6                           0.0   \n",
       "17                        20                           0.0   \n",
       "19                        27                           0.0   \n",
       "\n",
       "    pct_access_500m_convenience  pct_access_500m_pt_any  \\\n",
       "16                          0.0                     0.0   \n",
       "17                          0.0                     0.0   \n",
       "19                          0.0                     0.0   \n",
       "\n",
       "    pct_access_500m_public_open_space  local_nh_population_density  \\\n",
       "16                                0.0                  2750.312574   \n",
       "17                                0.0                  2499.574916   \n",
       "19                                0.0                  2814.743640   \n",
       "\n",
       "    local_nh_intersection_density  local_daily_living  local_walkability  \\\n",
       "16                      69.599755                 0.0          -2.957398   \n",
       "17                      66.006140                 0.0          -3.108806   \n",
       "19                      72.360081                 0.0          -2.855665   \n",
       "\n",
       "   study_region  \n",
       "16      bangkok  \n",
       "17      bangkok  \n",
       "19      bangkok  "
      ]
     },
     "execution_count": 22,
     "metadata": {},
     "output_type": "execute_result"
    }
   ],
   "source": [
    "# show example of bangkok hex-level indicator dataframe\n",
    "cities_hexes[0].head(3)"
   ]
  },
  {
   "cell_type": "code",
   "execution_count": 23,
   "metadata": {},
   "outputs": [
    {
     "name": "stdout",
     "output_type": "stream",
     "text": [
      "Calculate hex-level indicators zscores relative to all cities.\n",
      "Check ['data/output/test_global_indicators_hex_250m.gpkg'] for output indicators of each city\n"
     ]
    }
   ],
   "source": [
    "# prepare all_cities level fields for every hex across all cities\n",
    "print(\"Calculate hex-level indicators zscores relative to all cities.\\n\" \n",
    "      \"Check\", [gpkgOutput_hex250], \"for output indicators of each city\" )\n",
    "\n",
    "calc_hexes_zscore_walk(gpkgOutput_hex250, cites, config)"
   ]
  },
  {
   "cell_type": "code",
   "execution_count": 24,
   "metadata": {},
   "outputs": [
    {
     "data": {
      "text/plain": [
       "Index(['index', 'local_daily_living', 'local_nh_intersection_density',\n",
       "       'local_nh_population_density', 'local_walkability',\n",
       "       'pct_access_500m_convenience', 'pct_access_500m_pt_any',\n",
       "       'pct_access_500m_public_open_space', 'pct_access_500m_supermarkets',\n",
       "       'study_region', 'urban_sample_point_count',\n",
       "       'all_cities_z_nh_population_density',\n",
       "       'all_cities_z_nh_intersection_density', 'all_cities_z_daily_living',\n",
       "       'all_cities_walkability', 'geometry'],\n",
       "      dtype='object')"
      ]
     },
     "execution_count": 24,
     "metadata": {},
     "output_type": "execute_result"
    }
   ],
   "source": [
    "# check the hex layer for within-city indicators\n",
    "hex250 = gpd.read_file(gpkgOutput_hex250, layer=config[\"cityNames\"]['phoenix'])\n",
    "hex250.columns"
   ]
  },
  {
   "cell_type": "code",
   "execution_count": 29,
   "metadata": {},
   "outputs": [
    {
     "data": {
      "text/plain": [
       "Text(0.5, 0.95, 'Local walkability')"
      ]
     },
     "execution_count": 29,
     "metadata": {},
     "output_type": "execute_result"
    },
    {
     "data": {
      "image/png": "[encoded data removed]",
      "text/plain": [
       "<Figure size 360x360 with 1 Axes>"
      ]
     },
     "metadata": {
      "needs_background": "light"
     },
     "output_type": "display_data"
    }
   ],
   "source": [
    "col=['local_walkability']\n",
    "\n",
    "fig, ax = plt.subplots(figsize=(5, 5))\n",
    "\n",
    "#plot indicators\n",
    "ax = hex250.plot(ax=ax, column=col, scheme='NaturalBreaks', k=6, cmap='inferno_r', edgecolor='none')\n",
    "\n",
    "ax.set_title(config[\"cityNames\"]['phoenix'], fontsize=9)\n",
    "ax.set_axis_off()\n",
    "\n",
    "# add a title to the figure\n",
    "fig.suptitle('Local walkability', y=0.95, fontsize=10, weight='bold')"
   ]
  },
  {
   "cell_type": "markdown",
   "metadata": {},
   "source": [
    "## 2. Generate \"global_indicators_city.gpkg\" for city-level indicators"
   ]
  },
  {
   "cell_type": "code",
   "execution_count": 30,
   "metadata": {},
   "outputs": [
    {
     "name": "stdout",
     "output_type": "stream",
     "text": [
      "All accross-city indicators will be saved to:  data/output/test_global_indicators_city.gpkg\n"
     ]
    }
   ],
   "source": [
    "# create the path of \"global_indicators_city.gpkg\"\n",
    "gpkgOutput_cities = os.path.join(dirname, folder,\n",
    "                                 config['global_indicators_city'])\n",
    "print(\"All accross-city indicators will be saved to: \", gpkgOutput_cities)"
   ]
  },
  {
   "cell_type": "code",
   "execution_count": 31,
   "metadata": {},
   "outputs": [
    {
     "name": "stdout",
     "output_type": "stream",
     "text": [
      "Calculate city-level indicators weighted by population:\n",
      "0 bangkok\n",
      "1 hong_kong\n",
      "2 odense\n",
      "3 phoenix\n",
      "4 sao_paulo\n",
      "5 sydney\n"
     ]
    }
   ],
   "source": [
    "# prepare aggregation for study region across all cities\n",
    "print(\"Calculate city-level indicators weighted by population:\")\n",
    "\n",
    "cities_all = []\n",
    "for index, gpkgInput in enumerate(gpkgInput_ori):\n",
    "    print(index, cites[index])\n",
    "    city = calc_cities_pop_pct_indicators(gpkgOutput_hex250, cites[index], gpkgInput, config,\n",
    "              gpkgOutput_cities)\n",
    "    cities_all.append(city)\n"
   ]
  },
  {
   "cell_type": "code",
   "execution_count": 32,
   "metadata": {},
   "outputs": [
    {
     "data": {
      "text/html": [
       "<div>\n",
       "<style scoped>\n",
       "    .dataframe tbody tr th:only-of-type {\n",
       "        vertical-align: middle;\n",
       "    }\n",
       "\n",
       "    .dataframe tbody tr th {\n",
       "        vertical-align: top;\n",
       "    }\n",
       "\n",
       "    .dataframe thead th {\n",
       "        text-align: right;\n",
       "    }\n",
       "</style>\n",
       "<table border=\"1\" class=\"dataframe\">\n",
       "  <thead>\n",
       "    <tr style=\"text-align: right;\">\n",
       "      <th></th>\n",
       "      <th>Study region</th>\n",
       "      <th>geometry</th>\n",
       "      <th>urban_sample_point_count</th>\n",
       "      <th>pop_pct_access_500m_supermarkets</th>\n",
       "      <th>pop_pct_access_500m_convenience</th>\n",
       "      <th>pop_pct_access_500m_pt_any</th>\n",
       "      <th>pop_pct_access_500m_public_open_space</th>\n",
       "      <th>pop_nh_pop_density</th>\n",
       "      <th>pop_nh_intersection_density</th>\n",
       "      <th>pop_daily_living</th>\n",
       "      <th>pop_walkability</th>\n",
       "      <th>all_cities_pop_z_daily_living</th>\n",
       "      <th>all_cities_walkability</th>\n",
       "    </tr>\n",
       "  </thead>\n",
       "  <tbody>\n",
       "    <tr>\n",
       "      <th>0</th>\n",
       "      <td>Bangkok</td>\n",
       "      <td>MULTIPOLYGON (((674339.840 1543299.664, 674382...</td>\n",
       "      <td>712517</td>\n",
       "      <td>15.518546</td>\n",
       "      <td>32.863172</td>\n",
       "      <td>20.217992</td>\n",
       "      <td>35.943933</td>\n",
       "      <td>20614.377136</td>\n",
       "      <td>93.006263</td>\n",
       "      <td>0.685997</td>\n",
       "      <td>0.63751</td>\n",
       "      <td>-0.11454</td>\n",
       "      <td>0.709983</td>\n",
       "    </tr>\n",
       "  </tbody>\n",
       "</table>\n",
       "</div>"
      ],
      "text/plain": [
       "  Study region                                           geometry  \\\n",
       "0      Bangkok  MULTIPOLYGON (((674339.840 1543299.664, 674382...   \n",
       "\n",
       "   urban_sample_point_count  pop_pct_access_500m_supermarkets  \\\n",
       "0                    712517                         15.518546   \n",
       "\n",
       "   pop_pct_access_500m_convenience  pop_pct_access_500m_pt_any  \\\n",
       "0                        32.863172                   20.217992   \n",
       "\n",
       "   pop_pct_access_500m_public_open_space  pop_nh_pop_density  \\\n",
       "0                              35.943933        20614.377136   \n",
       "\n",
       "   pop_nh_intersection_density  pop_daily_living  pop_walkability  \\\n",
       "0                    93.006263          0.685997          0.63751   \n",
       "\n",
       "   all_cities_pop_z_daily_living  all_cities_walkability  \n",
       "0                       -0.11454                0.709983  "
      ]
     },
     "execution_count": 32,
     "metadata": {},
     "output_type": "execute_result"
    }
   ],
   "source": [
    "cities_all[0] # show city indicator dataframe of index 0, city of bangkok"
   ]
  },
  {
   "cell_type": "code",
   "execution_count": 35,
   "metadata": {},
   "outputs": [],
   "source": [
    "cities_ind = gpd.GeoDataFrame()\n",
    "for i in range(len(cities_all)):\n",
    "    city_ind = cities_all[i]\n",
    "    cities_ind = cities_ind.append(city_ind, ignore_index=True)"
   ]
  },
  {
   "cell_type": "code",
   "execution_count": 38,
   "metadata": {},
   "outputs": [
    {
     "data": {
      "text/html": [
       "<div>\n",
       "<style scoped>\n",
       "    .dataframe tbody tr th:only-of-type {\n",
       "        vertical-align: middle;\n",
       "    }\n",
       "\n",
       "    .dataframe tbody tr th {\n",
       "        vertical-align: top;\n",
       "    }\n",
       "\n",
       "    .dataframe thead th {\n",
       "        text-align: right;\n",
       "    }\n",
       "</style>\n",
       "<table border=\"1\" class=\"dataframe\">\n",
       "  <thead>\n",
       "    <tr style=\"text-align: right;\">\n",
       "      <th></th>\n",
       "      <th>Study region</th>\n",
       "      <th>geometry</th>\n",
       "      <th>urban_sample_point_count</th>\n",
       "      <th>pop_pct_access_500m_supermarkets</th>\n",
       "      <th>pop_pct_access_500m_convenience</th>\n",
       "      <th>pop_pct_access_500m_pt_any</th>\n",
       "      <th>pop_pct_access_500m_public_open_space</th>\n",
       "      <th>pop_nh_pop_density</th>\n",
       "      <th>pop_nh_intersection_density</th>\n",
       "      <th>pop_daily_living</th>\n",
       "      <th>pop_walkability</th>\n",
       "      <th>all_cities_pop_z_daily_living</th>\n",
       "      <th>all_cities_walkability</th>\n",
       "    </tr>\n",
       "  </thead>\n",
       "  <tbody>\n",
       "    <tr>\n",
       "      <th>5</th>\n",
       "      <td>Sydney</td>\n",
       "      <td>MULTIPOLYGON (((1583629.798 -3922551.514, 1583...</td>\n",
       "      <td>673256</td>\n",
       "      <td>21.907671</td>\n",
       "      <td>27.934495</td>\n",
       "      <td>60.562907</td>\n",
       "      <td>93.567663</td>\n",
       "      <td>6352.109092</td>\n",
       "      <td>75.777919</td>\n",
       "      <td>1.104051</td>\n",
       "      <td>0.479576</td>\n",
       "      <td>0.353024</td>\n",
       "      <td>-0.378404</td>\n",
       "    </tr>\n",
       "    <tr>\n",
       "      <th>3</th>\n",
       "      <td>Phoenix</td>\n",
       "      <td>MULTIPOLYGON (((377030.203 3709132.952, 377041...</td>\n",
       "      <td>495546</td>\n",
       "      <td>5.437286</td>\n",
       "      <td>21.833525</td>\n",
       "      <td>60.558224</td>\n",
       "      <td>53.837341</td>\n",
       "      <td>3936.523950</td>\n",
       "      <td>91.243812</td>\n",
       "      <td>0.878290</td>\n",
       "      <td>0.407138</td>\n",
       "      <td>0.100527</td>\n",
       "      <td>-0.273008</td>\n",
       "    </tr>\n",
       "    <tr>\n",
       "      <th>0</th>\n",
       "      <td>Bangkok</td>\n",
       "      <td>MULTIPOLYGON (((674339.840 1543299.664, 674382...</td>\n",
       "      <td>712517</td>\n",
       "      <td>15.518546</td>\n",
       "      <td>32.863172</td>\n",
       "      <td>20.217992</td>\n",
       "      <td>35.943933</td>\n",
       "      <td>20614.377136</td>\n",
       "      <td>93.006263</td>\n",
       "      <td>0.685997</td>\n",
       "      <td>0.637510</td>\n",
       "      <td>-0.114540</td>\n",
       "      <td>0.709983</td>\n",
       "    </tr>\n",
       "    <tr>\n",
       "      <th>2</th>\n",
       "      <td>Odense</td>\n",
       "      <td>MULTIPOLYGON (((589115.578 6145014.850, 589126...</td>\n",
       "      <td>50717</td>\n",
       "      <td>43.178351</td>\n",
       "      <td>36.295145</td>\n",
       "      <td>62.146698</td>\n",
       "      <td>96.633922</td>\n",
       "      <td>2481.904811</td>\n",
       "      <td>121.868320</td>\n",
       "      <td>1.416202</td>\n",
       "      <td>0.414358</td>\n",
       "      <td>0.702143</td>\n",
       "      <td>1.264501</td>\n",
       "    </tr>\n",
       "    <tr>\n",
       "      <th>4</th>\n",
       "      <td>Sao Paulo</td>\n",
       "      <td>MULTIPOLYGON (((315479.151 7404857.977, 315323...</td>\n",
       "      <td>674919</td>\n",
       "      <td>34.026152</td>\n",
       "      <td>36.158985</td>\n",
       "      <td>38.378558</td>\n",
       "      <td>84.175297</td>\n",
       "      <td>26995.905066</td>\n",
       "      <td>112.909516</td>\n",
       "      <td>1.085637</td>\n",
       "      <td>0.448274</td>\n",
       "      <td>0.332429</td>\n",
       "      <td>2.265357</td>\n",
       "    </tr>\n",
       "    <tr>\n",
       "      <th>1</th>\n",
       "      <td>Hong Kong</td>\n",
       "      <td>MULTIPOLYGON (((205149.727 2462500.892, 205135...</td>\n",
       "      <td>196588</td>\n",
       "      <td>47.909987</td>\n",
       "      <td>51.103704</td>\n",
       "      <td>89.498977</td>\n",
       "      <td>98.451097</td>\n",
       "      <td>79301.017178</td>\n",
       "      <td>117.157995</td>\n",
       "      <td>1.885127</td>\n",
       "      <td>1.256596</td>\n",
       "      <td>1.226602</td>\n",
       "      <td>6.873648</td>\n",
       "    </tr>\n",
       "  </tbody>\n",
       "</table>\n",
       "</div>"
      ],
      "text/plain": [
       "  Study region                                           geometry  \\\n",
       "5       Sydney  MULTIPOLYGON (((1583629.798 -3922551.514, 1583...   \n",
       "3      Phoenix  MULTIPOLYGON (((377030.203 3709132.952, 377041...   \n",
       "0      Bangkok  MULTIPOLYGON (((674339.840 1543299.664, 674382...   \n",
       "2       Odense  MULTIPOLYGON (((589115.578 6145014.850, 589126...   \n",
       "4    Sao Paulo  MULTIPOLYGON (((315479.151 7404857.977, 315323...   \n",
       "1    Hong Kong  MULTIPOLYGON (((205149.727 2462500.892, 205135...   \n",
       "\n",
       "   urban_sample_point_count  pop_pct_access_500m_supermarkets  \\\n",
       "5                    673256                         21.907671   \n",
       "3                    495546                          5.437286   \n",
       "0                    712517                         15.518546   \n",
       "2                     50717                         43.178351   \n",
       "4                    674919                         34.026152   \n",
       "1                    196588                         47.909987   \n",
       "\n",
       "   pop_pct_access_500m_convenience  pop_pct_access_500m_pt_any  \\\n",
       "5                        27.934495                   60.562907   \n",
       "3                        21.833525                   60.558224   \n",
       "0                        32.863172                   20.217992   \n",
       "2                        36.295145                   62.146698   \n",
       "4                        36.158985                   38.378558   \n",
       "1                        51.103704                   89.498977   \n",
       "\n",
       "   pop_pct_access_500m_public_open_space  pop_nh_pop_density  \\\n",
       "5                              93.567663         6352.109092   \n",
       "3                              53.837341         3936.523950   \n",
       "0                              35.943933        20614.377136   \n",
       "2                              96.633922         2481.904811   \n",
       "4                              84.175297        26995.905066   \n",
       "1                              98.451097        79301.017178   \n",
       "\n",
       "   pop_nh_intersection_density  pop_daily_living  pop_walkability  \\\n",
       "5                    75.777919          1.104051         0.479576   \n",
       "3                    91.243812          0.878290         0.407138   \n",
       "0                    93.006263          0.685997         0.637510   \n",
       "2                   121.868320          1.416202         0.414358   \n",
       "4                   112.909516          1.085637         0.448274   \n",
       "1                   117.157995          1.885127         1.256596   \n",
       "\n",
       "   all_cities_pop_z_daily_living  all_cities_walkability  \n",
       "5                       0.353024               -0.378404  \n",
       "3                       0.100527               -0.273008  \n",
       "0                      -0.114540                0.709983  \n",
       "2                       0.702143                1.264501  \n",
       "4                       0.332429                2.265357  \n",
       "1                       1.226602                6.873648  "
      ]
     },
     "execution_count": 38,
     "metadata": {},
     "output_type": "execute_result"
    }
   ],
   "source": [
    "# show city-level indicators sorted by walkability index relative to all cities\n",
    "cities_ind.sort_values('all_cities_walkability')"
   ]
  },
  {
   "cell_type": "code",
   "execution_count": null,
   "metadata": {},
   "outputs": [],
   "source": []
  }
 ],
 "metadata": {
  "kernelspec": {
   "display_name": "Python 3",
   "language": "python",
   "name": "python3"
  },
  "language_info": {
   "codemirror_mode": {
    "name": "ipython",
    "version": 3
   },
   "file_extension": ".py",
   "mimetype": "text/x-python",
   "name": "python",
   "nbconvert_exporter": "python",
   "pygments_lexer": "ipython3",
   "version": "3.6.7"
  }
 },
 "nbformat": 4,
 "nbformat_minor": 4
}
