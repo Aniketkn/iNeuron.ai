{
 "cells": [
  {
   "cell_type": "code",
   "execution_count": 5,
   "metadata": {},
   "outputs": [],
   "source": [
    "import geopandas as gpd\n",
    "import osmnx as ox\n",
    "import os\n",
    "import sv_config as sc\n",
    "\n",
    "dirname = os.path.abspath('')\n",
    "gpkg_output = os.path.join(dirname, sc.geopackagePath)\n",
    "graphml = os.path.join(dirname, sc.folder,sc.graphmlProj_name)\n",
    "graphml\n",
    "\n",
    "G = ox.load_graphml(graphml)\n",
    "\n",
    "\n",
    "nodes, edges = ox.graph_to_gdfs(G)\n",
    "for i in edges.columns.to_list():\n",
    "    if i !='geometry':\n",
    "        edges[i]=edges[i].astype(str)\n",
    "\n",
    "nodes.to_file(gpkg_output,layer='nodes_origin',driver='GPKG')\n",
    "edges.to_file(gpkg_output,layer='edges_origin',driver='GPKG')"
   ]
  },
  {
   "cell_type": "code",
   "execution_count": null,
   "metadata": {},
   "outputs": [],
   "source": []
  }
 ],
 "metadata": {
  "kernelspec": {
   "display_name": "Python 3",
   "language": "python",
   "name": "python3"
  },
  "language_info": {
   "codemirror_mode": {
    "name": "ipython",
    "version": 3
   },
   "file_extension": ".py",
   "mimetype": "text/x-python",
   "name": "python",
   "nbconvert_exporter": "python",
   "pygments_lexer": "ipython3",
   "version": "3.7.3"
  }
 },
 "nbformat": 4,
 "nbformat_minor": 4
}
