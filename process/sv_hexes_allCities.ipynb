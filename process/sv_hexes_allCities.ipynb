{
 "cells": [
  {
   "cell_type": "code",
   "execution_count": 1,
   "metadata": {},
   "outputs": [
    {
     "name": "stdout",
     "output_type": "stream",
     "text": [
      "Null layer: 'melbourne'\n"
     ]
    }
   ],
   "source": [
    "import geopandas as gpd\n",
    "import pandas as pd\n",
    "import os\n",
    "import time\n",
    "import sv_config as sc\n",
    "import sv_setup_hexes_allCities as ssh\n",
    "\n",
    "startTime = time.time()\n",
    "dirname = os.path.abspath('')\n",
    "gpkg_input = os.path.join(dirname, sc.output_hex_250m)\n",
    "gdf_layers = []\n",
    "layers = []\n",
    "for i in list(sc.layerNames.values()):\n",
    "    try:\n",
    "        gdf = gpd.read_file(gpkg_input, layer=i)\n",
    "        gdf = gdf.reindex(columns=sorted(gdf.columns))\n",
    "        gdf_layers.append(gdf)\n",
    "        layers.append(i)\n",
    "    except ValueError as e:\n",
    "        print(e)\n",
    "\n",
    "# create a big dataframe(all_cities_hex_df) according to gdf_layers\n",
    "all_cities_hex_df = pd.concat(gdf_layers, ignore_index=True)\n",
    "\n",
    "fieldNames = [\n",
    "    sc.hex_fieldNames['local_nh_population_density'],\n",
    "    sc.hex_fieldNames['local_nh_intersection_density'],\n",
    "    sc.hex_fieldNames['local_daily_living']\n",
    "]\n",
    "\n",
    "fieldNames_new = [\n",
    "    sc.hex_fieldNames['all_cities_z_nh_population_density'],\n",
    "    sc.hex_fieldNames['all_cities_z_nh_intersection_density'],\n",
    "    sc.hex_fieldNames['all_cities_z_daily_living']\n",
    "]\n",
    "\n",
    "fieldNames_zip = list(zip(fieldNames, fieldNames_new))\n",
    "\n",
    "for index, layer in enumerate(gdf_layers):\n",
    "    for field_zip in fieldNames_zip:\n",
    "        mean, std = ssh.getMeanStd(all_cities_hex_df, field_zip[0])\n",
    "        layer[field_zip[1]] = (layer[field_zip[0]] - mean) / std\n",
    "    layer.to_file(gpkg_input, layer=layers[index], driver='GPKG')"
   ]
  },
  {
   "cell_type": "code",
   "execution_count": null,
   "metadata": {},
   "outputs": [],
   "source": []
  }
 ],
 "metadata": {
  "kernelspec": {
   "display_name": "Python 3",
   "language": "python",
   "name": "python3"
  },
  "language_info": {
   "codemirror_mode": {
    "name": "ipython",
    "version": 3
   },
   "file_extension": ".py",
   "mimetype": "text/x-python",
   "name": "python",
   "nbconvert_exporter": "python",
   "pygments_lexer": "ipython3",
   "version": "3.7.3"
  }
 },
 "nbformat": 4,
 "nbformat_minor": 4
}
