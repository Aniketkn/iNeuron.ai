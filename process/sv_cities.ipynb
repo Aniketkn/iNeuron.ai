{
 "cells": [
  {
   "cell_type": "code",
   "execution_count": 2,
   "metadata": {},
   "outputs": [],
   "source": [
    "import geopandas as gpd\n",
    "import pandas as pd\n",
    "import os\n",
    "import time\n",
    "import sv_config as sc\n",
    "\n",
    "startTime = time.time()\n",
    "dirname = os.path.abspath('')\n",
    "gpkg_input = os.path.join(dirname, sc.output_hex_250m)\n",
    "gdf_hex = gpd.read_file(gpkg_input, layer=\"odense\")\n",
    "\n",
    "# join pop_est from original hex to processed hex\n",
    "gpkg_origin_hex = os.path.join(dirname, sc.geopackagePath)\n",
    "gdf_hex_origin = gpd.read_file(gpkg_origin_hex, layer=sc.hex250)\n",
    "gdf_study_region = gpd.read_file(gpkg_origin_hex, layer=sc.urban_study_region)\n"
   ]
  },
  {
   "cell_type": "code",
   "execution_count": 3,
   "metadata": {},
   "outputs": [],
   "source": [
    "gdf_hex = gdf_hex.join(gdf_hex_origin.set_index('index'),on='index',how = 'left',rsuffix='_origin')"
   ]
  },
  {
   "cell_type": "code",
   "execution_count": 4,
   "metadata": {},
   "outputs": [],
   "source": [
    "# import pandas as pd\n",
    "# gdf1=pd.merge(gdf_hex,gdf_hex_origin,on='index',how='left',suffixes=('','_origin'))"
   ]
  },
  {
   "cell_type": "code",
   "execution_count": 7,
   "metadata": {},
   "outputs": [
    {
     "data": {
      "text/html": [
       "<div>\n",
       "<style scoped>\n",
       "    .dataframe tbody tr th:only-of-type {\n",
       "        vertical-align: middle;\n",
       "    }\n",
       "\n",
       "    .dataframe tbody tr th {\n",
       "        vertical-align: top;\n",
       "    }\n",
       "\n",
       "    .dataframe thead th {\n",
       "        text-align: right;\n",
       "    }\n",
       "</style>\n",
       "<table border=\"1\" class=\"dataframe\">\n",
       "  <thead>\n",
       "    <tr style=\"text-align: right;\">\n",
       "      <th></th>\n",
       "      <th>Study region</th>\n",
       "      <th>geometry</th>\n",
       "      <th>urban_sample_point_count</th>\n",
       "    </tr>\n",
       "  </thead>\n",
       "  <tbody>\n",
       "    <tr>\n",
       "      <th>0</th>\n",
       "      <td>Odense</td>\n",
       "      <td>MULTIPOLYGON (((589115.578 6145014.850, 589126...</td>\n",
       "      <td>50707</td>\n",
       "    </tr>\n",
       "  </tbody>\n",
       "</table>\n",
       "</div>"
      ],
      "text/plain": [
       "  Study region                                           geometry  \\\n",
       "0       Odense  MULTIPOLYGON (((589115.578 6145014.850, 589126...   \n",
       "\n",
       "   urban_sample_point_count  \n",
       "0                     50707  "
      ]
     },
     "execution_count": 7,
     "metadata": {},
     "output_type": "execute_result"
    }
   ],
   "source": [
    "gdf_study_region"
   ]
  },
  {
   "cell_type": "code",
   "execution_count": 6,
   "metadata": {},
   "outputs": [],
   "source": [
    "gdf_study_region['urban_sample_point_count'] = gdf_hex['urban_sample_point_count'].sum()"
   ]
  },
  {
   "cell_type": "code",
   "execution_count": 10,
   "metadata": {},
   "outputs": [
    {
     "data": {
      "text/plain": [
       "36.87057168378925"
      ]
     },
     "execution_count": 10,
     "metadata": {},
     "output_type": "execute_result"
    }
   ],
   "source": [
    "(gdf_hex['pop_est']*gdf_hex['pct_access_500m_supermarkets']).sum()/(gdf_hex['pop_est'].sum())"
   ]
  },
  {
   "cell_type": "code",
   "execution_count": 11,
   "metadata": {},
   "outputs": [],
   "source": [
    "def aggregation(input_gdf, out_gdf, fieldNames):\n",
    "    \"\"\"create aggregation result for city from hexes\n",
    "    Arguments:\n",
    "        input_gdf {geodataframe} -- [hex]\n",
    "        out_gdf {geodataframe} -- [city]\n",
    "        fieldNames {list} -- [zipped input and output fieldnames]\n",
    "    \"\"\"\n",
    "    for field in fieldNames:\n",
    "        out_gdf[field[1]] = (input_gdf['pop_est'] * input_gdf[field[0]]\n",
    "                             ).sum() / (input_gdf['pop_est'].sum())\n",
    "    return out_gdf"
   ]
  },
  {
   "cell_type": "code",
   "execution_count": 12,
   "metadata": {},
   "outputs": [],
   "source": [
    "fieldNames = [\n",
    "    'pct_access_500m_supermarkets', 'pct_access_500m_convenience',\n",
    "    'pct_access_500m_pt_any', 'pct_access_500m_public_open_space',\n",
    "    'local_nh_population_density', 'local_nh_intersection_density',\n",
    "    'local_daily_living', 'local_walkability'\n",
    "]\n",
    "\n",
    "fieldNames_new = [\n",
    "    'pop_pct_access_500m_supermarkets', 'pop_pct_access_500m_convenience',\n",
    "    'pop_pct_access_500m_pt_any', 'pop_pct_access_500m_public_open_space',\n",
    "    'pop_nh_pop_density', 'pop_nh_intersection_density', 'pop_daily_living',\n",
    "    'pop_walkability'\n",
    "]"
   ]
  },
  {
   "cell_type": "code",
   "execution_count": 13,
   "metadata": {},
   "outputs": [],
   "source": [
    "gdf_study_region = aggregation(gdf_hex, gdf_study_region,\n",
    "                               list(zip(fieldNames, fieldNames_new)))"
   ]
  },
  {
   "cell_type": "code",
   "execution_count": 14,
   "metadata": {},
   "outputs": [
    {
     "data": {
      "text/html": [
       "<div>\n",
       "<style scoped>\n",
       "    .dataframe tbody tr th:only-of-type {\n",
       "        vertical-align: middle;\n",
       "    }\n",
       "\n",
       "    .dataframe tbody tr th {\n",
       "        vertical-align: top;\n",
       "    }\n",
       "\n",
       "    .dataframe thead th {\n",
       "        text-align: right;\n",
       "    }\n",
       "</style>\n",
       "<table border=\"1\" class=\"dataframe\">\n",
       "  <thead>\n",
       "    <tr style=\"text-align: right;\">\n",
       "      <th></th>\n",
       "      <th>Study region</th>\n",
       "      <th>geometry</th>\n",
       "      <th>urban_sample_point_count</th>\n",
       "      <th>pop_pct_access_500m_supermarkets</th>\n",
       "      <th>pop_pct_access_500m_convenience</th>\n",
       "      <th>pop_pct_access_500m_pt_any</th>\n",
       "      <th>pop_pct_access_500m_public_open_space</th>\n",
       "      <th>pop_nh_pop_density</th>\n",
       "      <th>pop_nh_intersection_density</th>\n",
       "      <th>pop_daily_living</th>\n",
       "      <th>pop_walkability</th>\n",
       "    </tr>\n",
       "  </thead>\n",
       "  <tbody>\n",
       "    <tr>\n",
       "      <th>0</th>\n",
       "      <td>Odense</td>\n",
       "      <td>MULTIPOLYGON (((589115.578 6145014.850, 589126...</td>\n",
       "      <td>50707</td>\n",
       "      <td>36.870572</td>\n",
       "      <td>36.216761</td>\n",
       "      <td>62.426846</td>\n",
       "      <td>96.633922</td>\n",
       "      <td>2483.269751</td>\n",
       "      <td>121.900978</td>\n",
       "      <td>2.321481</td>\n",
       "      <td>0.376287</td>\n",
       "    </tr>\n",
       "  </tbody>\n",
       "</table>\n",
       "</div>"
      ],
      "text/plain": [
       "  Study region                                           geometry  \\\n",
       "0       Odense  MULTIPOLYGON (((589115.578 6145014.850, 589126...   \n",
       "\n",
       "   urban_sample_point_count  pop_pct_access_500m_supermarkets  \\\n",
       "0                     50707                         36.870572   \n",
       "\n",
       "   pop_pct_access_500m_convenience  pop_pct_access_500m_pt_any  \\\n",
       "0                        36.216761                   62.426846   \n",
       "\n",
       "   pop_pct_access_500m_public_open_space  pop_nh_pop_density  \\\n",
       "0                              96.633922         2483.269751   \n",
       "\n",
       "   pop_nh_intersection_density  pop_daily_living  pop_walkability  \n",
       "0                   121.900978          2.321481         0.376287  "
      ]
     },
     "execution_count": 14,
     "metadata": {},
     "output_type": "execute_result"
    }
   ],
   "source": [
    "gdf_study_region\n"
   ]
  },
  {
   "cell_type": "code",
   "execution_count": null,
   "metadata": {},
   "outputs": [],
   "source": []
  }
 ],
 "metadata": {
  "kernelspec": {
   "display_name": "Python 3",
   "language": "python",
   "name": "python3"
  },
  "language_info": {
   "codemirror_mode": {
    "name": "ipython",
    "version": 3
   },
   "file_extension": ".py",
   "mimetype": "text/x-python",
   "name": "python",
   "nbconvert_exporter": "python",
   "pygments_lexer": "ipython3",
   "version": "3.7.3"
  }
 },
 "nbformat": 4,
 "nbformat_minor": 4
}
