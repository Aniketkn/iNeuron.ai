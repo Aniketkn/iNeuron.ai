{
 "cells": [
  {
   "cell_type": "code",
   "execution_count": 8,
   "metadata": {},
   "outputs": [
    {
     "name": "stdout",
     "output_type": "stream",
     "text": [
      "Null layer: 'melbourne'\n",
      "Null layer: 'hex_temp'\n"
     ]
    }
   ],
   "source": [
    "\"\"\"\n",
    "now it works on all cities together, calculate all_cities_zscore for each study region\n",
    "\"\"\"\n",
    "\n",
    "import geopandas as gpd\n",
    "import pandas as pd\n",
    "import os\n",
    "import time\n",
    "import sv_config as sc\n",
    "import sv_setup_hexes_allCities as ssh\n",
    "\n",
    "startTime = time.time()\n",
    "dirname = os.path.abspath('')\n",
    "gpkg_input = os.path.join(dirname, sc.output_cities)\n",
    "gdf_layers = []\n",
    "layers = []\n",
    "for i in list(sc.layerNames.values()):\n",
    "    try:\n",
    "        gdf = gpd.read_file(gpkg_input, layer=i)\n",
    "        gdf = gdf.reindex(columns=sorted(gdf.columns))\n",
    "        gdf_layers.append(gdf)\n",
    "        layers.append(i)\n",
    "    except ValueError as e:\n",
    "        print(e)\n",
    "\n",
    "# create a big dataframe(all_cities_hex_df) according to gdf_layers\n",
    "all_cities_hex_df = pd.concat(gdf_layers, ignore_index=True)"
   ]
  },
  {
   "cell_type": "code",
   "execution_count": 9,
   "metadata": {},
   "outputs": [
    {
     "data": {
      "text/html": [
       "<div>\n",
       "<style scoped>\n",
       "    .dataframe tbody tr th:only-of-type {\n",
       "        vertical-align: middle;\n",
       "    }\n",
       "\n",
       "    .dataframe tbody tr th {\n",
       "        vertical-align: top;\n",
       "    }\n",
       "\n",
       "    .dataframe thead th {\n",
       "        text-align: right;\n",
       "    }\n",
       "</style>\n",
       "<table border=\"1\" class=\"dataframe\">\n",
       "  <thead>\n",
       "    <tr style=\"text-align: right;\">\n",
       "      <th></th>\n",
       "      <th>Study region</th>\n",
       "      <th>geometry</th>\n",
       "      <th>pop_daily_living</th>\n",
       "      <th>pop_nh_intersection_density</th>\n",
       "      <th>pop_nh_pop_density</th>\n",
       "      <th>pop_pct_access_500m_convenience</th>\n",
       "      <th>pop_pct_access_500m_pt_any</th>\n",
       "      <th>pop_pct_access_500m_public_open_space</th>\n",
       "      <th>pop_pct_access_500m_supermarkets</th>\n",
       "      <th>pop_walkability</th>\n",
       "      <th>urban_sample_point_count</th>\n",
       "    </tr>\n",
       "  </thead>\n",
       "  <tbody>\n",
       "    <tr>\n",
       "      <th>0</th>\n",
       "      <td>Odense</td>\n",
       "      <td>MULTIPOLYGON (((589115.578 6145014.850, 589126...</td>\n",
       "      <td>2.321481</td>\n",
       "      <td>121.900978</td>\n",
       "      <td>2483.269751</td>\n",
       "      <td>36.216761</td>\n",
       "      <td>62.426846</td>\n",
       "      <td>96.633922</td>\n",
       "      <td>36.870572</td>\n",
       "      <td>0.376287</td>\n",
       "      <td>50707</td>\n",
       "    </tr>\n",
       "    <tr>\n",
       "      <th>1</th>\n",
       "      <td>odense_sample</td>\n",
       "      <td>POLYGON ((587615.233 6140232.460, 587659.042 6...</td>\n",
       "      <td>3.735216</td>\n",
       "      <td>219.704253</td>\n",
       "      <td>4961.054066</td>\n",
       "      <td>87.140845</td>\n",
       "      <td>99.260063</td>\n",
       "      <td>99.925679</td>\n",
       "      <td>87.195040</td>\n",
       "      <td>-0.174561</td>\n",
       "      <td>708</td>\n",
       "    </tr>\n",
       "  </tbody>\n",
       "</table>\n",
       "</div>"
      ],
      "text/plain": [
       "    Study region                                           geometry  \\\n",
       "0         Odense  MULTIPOLYGON (((589115.578 6145014.850, 589126...   \n",
       "1  odense_sample  POLYGON ((587615.233 6140232.460, 587659.042 6...   \n",
       "\n",
       "   pop_daily_living  pop_nh_intersection_density  pop_nh_pop_density  \\\n",
       "0          2.321481                   121.900978         2483.269751   \n",
       "1          3.735216                   219.704253         4961.054066   \n",
       "\n",
       "   pop_pct_access_500m_convenience  pop_pct_access_500m_pt_any  \\\n",
       "0                        36.216761                   62.426846   \n",
       "1                        87.140845                   99.260063   \n",
       "\n",
       "   pop_pct_access_500m_public_open_space  pop_pct_access_500m_supermarkets  \\\n",
       "0                              96.633922                         36.870572   \n",
       "1                              99.925679                         87.195040   \n",
       "\n",
       "   pop_walkability  urban_sample_point_count  \n",
       "0         0.376287                     50707  \n",
       "1        -0.174561                       708  "
      ]
     },
     "execution_count": 9,
     "metadata": {},
     "output_type": "execute_result"
    }
   ],
   "source": [
    "all_cities_hex_df"
   ]
  },
  {
   "cell_type": "code",
   "execution_count": 10,
   "metadata": {},
   "outputs": [],
   "source": [
    "fieldNames = [\n",
    "    sc.city_fieldNames['pop_nh_pop_density'],\n",
    "    sc.city_fieldNames['pop_nh_intersection_density'],\n",
    "    sc.city_fieldNames['pop_daily_living']\n",
    "]\n",
    "\n",
    "fieldNames_new = [\n",
    "    sc.city_fieldNames['all_cities_pop_z_nh_population_density'],\n",
    "    sc.city_fieldNames['all_cities_pop_z_nh_intersection_density'],\n",
    "    sc.city_fieldNames['all_cities_pop_z_daily_living']\n",
    "]\n",
    "\n",
    "fieldNames_zip = list(zip(fieldNames, fieldNames_new))\n",
    "\n",
    "for index, layer in enumerate(gdf_layers):\n",
    "    for field_zip in fieldNames_zip:\n",
    "        mean, std = ssh.getMeanStd(all_cities_hex_df, field_zip[0])\n",
    "        layer[field_zip[1]] = (layer[field_zip[0]] - mean) / std\n",
    "    # sum all three new fields\n",
    "    layer[sc.hex_fieldNames['all_cities_walkability']] = layer[fieldNames_new].sum(axis=1)\n",
    "    layer.to_file(gpkg_input, layer=layers[index], driver='GPKG')"
   ]
  },
  {
   "cell_type": "code",
   "execution_count": 13,
   "metadata": {},
   "outputs": [
    {
     "data": {
      "text/plain": [
       "Index(['Study region', 'geometry', 'pop_daily_living',\n",
       "       'pop_nh_intersection_density', 'pop_nh_pop_density',\n",
       "       'pop_pct_access_500m_convenience', 'pop_pct_access_500m_pt_any',\n",
       "       'pop_pct_access_500m_public_open_space',\n",
       "       'pop_pct_access_500m_supermarkets', 'pop_walkability',\n",
       "       'urban_sample_point_count', 'all_cities_pop_z_nh_population_density',\n",
       "       'all_cities_pop_z_nh_intersection_density',\n",
       "       'all_cities_pop_z_daily_living', 'all_cities_walkability'],\n",
       "      dtype='object')"
      ]
     },
     "execution_count": 13,
     "metadata": {},
     "output_type": "execute_result"
    }
   ],
   "source": [
    "gdf_layers[0].columns"
   ]
  },
  {
   "cell_type": "code",
   "execution_count": 14,
   "metadata": {},
   "outputs": [
    {
     "data": {
      "text/plain": [
       "Index(['Study region', 'geometry', 'pop_daily_living',\n",
       "       'pop_nh_intersection_density', 'pop_nh_pop_density',\n",
       "       'pop_pct_access_500m_convenience', 'pop_pct_access_500m_pt_any',\n",
       "       'pop_pct_access_500m_public_open_space',\n",
       "       'pop_pct_access_500m_supermarkets', 'pop_walkability',\n",
       "       'urban_sample_point_count', 'all_cities_pop_z_nh_population_density',\n",
       "       'all_cities_pop_z_nh_intersection_density',\n",
       "       'all_cities_pop_z_daily_living', 'all_cities_walkability'],\n",
       "      dtype='object')"
      ]
     },
     "execution_count": 14,
     "metadata": {},
     "output_type": "execute_result"
    }
   ],
   "source": [
    "gdf_layers[1].columns"
   ]
  },
  {
   "cell_type": "code",
   "execution_count": null,
   "metadata": {},
   "outputs": [],
   "source": []
  }
 ],
 "metadata": {
  "kernelspec": {
   "display_name": "Python 3",
   "language": "python",
   "name": "python3"
  },
  "language_info": {
   "codemirror_mode": {
    "name": "ipython",
    "version": 3
   },
   "file_extension": ".py",
   "mimetype": "text/x-python",
   "name": "python",
   "nbconvert_exporter": "python",
   "pygments_lexer": "ipython3",
   "version": "3.7.3"
  }
 },
 "nbformat": 4,
 "nbformat_minor": 4
}
