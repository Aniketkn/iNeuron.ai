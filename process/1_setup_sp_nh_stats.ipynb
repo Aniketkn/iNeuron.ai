{
 "cells": [
  {
   "cell_type": "markdown",
   "metadata": {},
   "source": [
    "# Prepare sample point neighborhood stats within each study region\n",
    "### *use odense as an example in this notebook\n",
    "Description: This script is for preparing all sample points indicators/stats.  \n",
    "All the cities should run this script first to get the pre-prepared sample points before running the aggregation scripts (aggr.py)\n",
    "\n",
    "**City-specific input data**  \n",
    "\n",
    "| Input data | Geometry | Description |\n",
    "| --- | --- | --- |\n",
    "| aos_nodes_30m_line | point | Public open space pseudo entry points (points on boundary of park every 20m within 30m of road) |\n",
    "| clean_intersections_12m |\tpoint |\tClean intersections (not required; counts are associated with pop_ghs_2015) |\n",
    "| dest_type\t| NA (non-spatial) |\tSummary of destinations and counts |\n",
    "| destinations |\tpoint\t| OSM destinations retrieved using specified definitions (only require: supermarkets, convenience,  pt_any --- use dest_name_full to determine, will need to combine convenience destinations) |\n",
    "| pop_ghs_2015\t| polygon\t| 250m hex grid, associated with area_sqkm (fixed), population estimate (2015), population per sq km, intersection count, intersections per sq km |\n",
    "| urban_sample_points |\tpoint |\tSample points in urban region (every 30m along pedestrian network) |\n",
    "| urban_study_region | polygon | Urban study region (intersection of city boundary and GHS 2015 urban centre layer) |\n",
    "\n",
    "\n",
    "**Two outputs:**\n",
    "1. average poplulation and intersection density per sample point\n",
    "2. accessibility, daily living and walkability score per sample point\n",
    "\n",
    "notice: must close the geopackage connection in QGIS.Otherwise, an error occurred when reading"
   ]
  },
  {
   "cell_type": "code",
   "execution_count": 21,
   "metadata": {},
   "outputs": [],
   "source": [
    "import geopandas as gpd\n",
    "import pandas as pd\n",
    "import osmnx as ox\n",
    "import numpy as np\n",
    "import os\n",
    "import setup_sp as ssp # functions for setting up sample point stats used in this notebook\n",
    "import setup_config as sc # import project config parameters\n",
    "\n",
    "import time\n",
    "from multiprocessing import Pool, cpu_count, Value, Manager, Process\n",
    "from functools import partial\n",
    "import json\n",
    "import fiona\n",
    "import sys\n",
    "import matplotlib.pyplot as plt\n",
    "\n",
    "%matplotlib inline"
   ]
  },
  {
   "cell_type": "code",
   "execution_count": 11,
   "metadata": {},
   "outputs": [],
   "source": [
    "# get the work directory\n",
    "dirname = os.path.abspath('')\n",
    "\n",
    "# the configuration file should put in the \"/configuration\" folder located at the same folder as scripts\n",
    "jsonFile = 'configuration/' + sys.argv[1]\n",
    "jsonPath = os.path.join(dirname, jsonFile)\n",
    "\n",
    "# load city-specific configeration file (e.g. Odense)\n",
    "with open('configuration/odense.json') as json_file:\n",
    "    config = json.load(json_file)"
   ]
  },
  {
   "cell_type": "code",
   "execution_count": 12,
   "metadata": {},
   "outputs": [
    {
     "name": "stdout",
     "output_type": "stream",
     "text": [
      "Read network from disk.\n"
     ]
    }
   ],
   "source": [
    "# read projected graphml filepath\n",
    "graphmlProj_path = os.path.join(dirname, config['folder'],\n",
    "                                    config['graphmlProj_name'])\n",
    "\n",
    "# define original graphml filepath\n",
    "graphml_path = os.path.join(dirname, config['folder'],\n",
    "                            config['graphmlName'])\n",
    "\n",
    "G_proj = ssp.read_proj_graphml(graphmlProj_path, graphml_path, config['to_crs'])"
   ]
  },
  {
   "cell_type": "code",
   "execution_count": 13,
   "metadata": {},
   "outputs": [
    {
     "name": "stdout",
     "output_type": "stream",
     "text": [
      "Study region sample point output file exists\n"
     ]
    },
    {
     "name": "stderr",
     "output_type": "stream",
     "text": [
      "/opt/conda/lib/python3.7/site-packages/pyproj/crs/crs.py:280: FutureWarning: '+init=<authority>:<code>' syntax is deprecated. '<authority>:<code>' is the preferred initialization method. When making the change, be mindful of axis order changes: https://pyproj4.github.io/pyproj/stable/gotchas.html#axis-order-changes-in-proj-6\n",
      "  projstring = _prepare_from_string(projparams)\n"
     ]
    }
   ],
   "source": [
    "#  geopackage path where to read all the required layers and save processing layers to it\n",
    "gpkgPath = os.path.join(dirname, config['folder'], config['geopackagePath'])\n",
    "   \n",
    "# geopackage path where to save processing layers\n",
    "gpkgPath_output = os.path.join(dirname, config['folder'], config['geopackagePath_output'])\n",
    "\n",
    "# copy input geopackage to output geopackage, if not already exist\n",
    "if not os.path.isfile(gpkgPath_output):\n",
    "    print('Create study region sample point output file')\n",
    "    for layer in fiona.listlayers(gpkgPath):\n",
    "        gpkgPath_input = gpd.read_file(gpkgPath, layer=layer)\n",
    "        gpkgPath_input.to_file(gpkgPath_output, layer=layer, driver='GPKG')\n",
    "else:\n",
    "    print('Study region sample point output file exists')\n",
    "        \n",
    "# read hexes in memory, hex layer in city-specific geopackage contain population and intersection info.\n",
    "hex250 = gpd.read_file(gpkgPath_output, layer=sc.parameters['hex250'])\n",
    "\n",
    "# get nodes from the city projected graphml\n",
    "gdf_nodes = ox.graph_to_gdfs(G_proj, nodes=True, edges=False)\n",
    "gdf_nodes.osmid = gdf_nodes.osmid.astype(int)\n",
    "gdf_nodes = gdf_nodes.drop_duplicates(subset='osmid')\n",
    "# keep only the unique node id column\n",
    "gdf_nodes_simple = gdf_nodes[['osmid']].copy()\n",
    "del gdf_nodes"
   ]
  },
  {
   "cell_type": "markdown",
   "metadata": {},
   "source": [
    "## 1. Calculate average poplulation and intersection density for each sample point in study regions\n",
    "**The steps are as follows:**\n",
    "1. use the OSM pedestrain network (graphml in disk) to generate local 1600m neighborhood per urban sample points (sample point in disk)\n",
    "2. load 250m hex grid from disk with population and network intersections density data\n",
    "3. then calculate population and intersection density within each local walkable neighborhood (1600m) by averaging the hex level pop and intersection density data; final result is urban sample point dataframe with osmid, pop density, and intersection density."
   ]
  },
  {
   "cell_type": "code",
   "execution_count": 14,
   "metadata": {},
   "outputs": [
    {
     "name": "stdout",
     "output_type": "stream",
     "text": [
      "Read poplulation and intersection density from local file.\n",
      "The time to finish average pop and intersection density is: 0.14991164207458496\n",
      "Create hex_id for sample points\n"
     ]
    }
   ],
   "source": [
    "startTime = time.time()\n",
    "# read from disk if exist\n",
    "if os.path.isfile(os.path.join(dirname, config['folder'],\n",
    "                     config['tempCSV'])):\n",
    "    print('Read poplulation and intersection density from local file.')\n",
    "    gdf_nodes_simple = pd.read_csv(os.path.join(dirname, config['folder'],\n",
    "                     config['tempCSV']))\n",
    "\n",
    "# otherwise,calculate using single thred or multiprocessing\n",
    "else:\n",
    "    print('Calculate average poplulation and intersection density.')\n",
    "    \n",
    "    # read search distance from json file, the default should be 1600m\n",
    "    # the search distance is used to defined the radius of a sample point as a local neighborhood\n",
    "    distance = sc.parameters['search_distance']\n",
    "\n",
    "    # read pop density and intersection density filed names from the  city-specific configeration file\n",
    "    pop_density = sc.samplePoint_fieldNames[\n",
    "        'sp_local_nh_avg_pop_density']\n",
    "    intersection_density = sc.samplePoint_fieldNames[\n",
    "        'sp_local_nh_avg_intersection_density']\n",
    "\n",
    "    # get the nodes GeoDataFrame row length for use in later iteration\n",
    "    rows = gdf_nodes_simple.shape[0]\n",
    "\n",
    "    # using single thread approach\n",
    "    # create counter for loop\n",
    "    val = Value('i', 0)\n",
    "    df_result = gdf_nodes_simple['osmid'].apply(\n",
    "        ssp.calc_sp_pop_intect_density,\n",
    "        args=(G_proj, hex250, pop_density, intersection_density, distance,\n",
    "              val, rows))\n",
    "    # Concatenate the average of population and intersections back to the df of sample points\n",
    "    gdf_nodes_simple = pd.concat([gdf_nodes_simple, df_result], axis=1)\n",
    "\n",
    "    # save the pop and intersection density to a CSV file\n",
    "    gdf_nodes_simple.to_csv(\n",
    "            os.path.join(dirname, config['folder'],\n",
    "                         config['tempCSV']))\n",
    "\n",
    "# set osmid as index\n",
    "gdf_nodes_simple.set_index('osmid', inplace=True, drop=False)\n",
    "print('The time to finish average pop and intersection density is: {}'.\n",
    "          format(time.time() - startTime))\n",
    "\n",
    "# read sample points from disk (in city-specific geopackage)\n",
    "samplePointsData = gpd.read_file(\n",
    "    gpkgPath_output, layer=sc.parameters['samplePoints'])\n",
    "\n",
    "# create 'hex_id' for sample point, if it not exists\n",
    "if 'hex_id' not in samplePointsData.columns.tolist():\n",
    "    samplePointsData = ssp.createHexid(samplePointsData, hex250)"
   ]
  },
  {
   "cell_type": "code",
   "execution_count": 15,
   "metadata": {},
   "outputs": [
    {
     "data": {
      "text/html": [
       "<div>\n",
       "<style scoped>\n",
       "    .dataframe tbody tr th:only-of-type {\n",
       "        vertical-align: middle;\n",
       "    }\n",
       "\n",
       "    .dataframe tbody tr th {\n",
       "        vertical-align: top;\n",
       "    }\n",
       "\n",
       "    .dataframe thead th {\n",
       "        text-align: right;\n",
       "    }\n",
       "</style>\n",
       "<table border=\"1\" class=\"dataframe\">\n",
       "  <thead>\n",
       "    <tr style=\"text-align: right;\">\n",
       "      <th></th>\n",
       "      <th>Unnamed: 0</th>\n",
       "      <th>osmid</th>\n",
       "      <th>sp_local_nh_avg_pop_density</th>\n",
       "      <th>sp_local_nh_avg_intersection_density</th>\n",
       "    </tr>\n",
       "    <tr>\n",
       "      <th>osmid</th>\n",
       "      <th></th>\n",
       "      <th></th>\n",
       "      <th></th>\n",
       "      <th></th>\n",
       "    </tr>\n",
       "  </thead>\n",
       "  <tbody>\n",
       "    <tr>\n",
       "      <th>2740715523</th>\n",
       "      <td>2740715523</td>\n",
       "      <td>2740715523</td>\n",
       "      <td>3392.689414</td>\n",
       "      <td>147.561738</td>\n",
       "    </tr>\n",
       "    <tr>\n",
       "      <th>2740715526</th>\n",
       "      <td>2740715526</td>\n",
       "      <td>2740715526</td>\n",
       "      <td>3305.036650</td>\n",
       "      <td>145.387227</td>\n",
       "    </tr>\n",
       "    <tr>\n",
       "      <th>2740715529</th>\n",
       "      <td>2740715529</td>\n",
       "      <td>2740715529</td>\n",
       "      <td>3285.157335</td>\n",
       "      <td>150.178329</td>\n",
       "    </tr>\n",
       "    <tr>\n",
       "      <th>2740715531</th>\n",
       "      <td>2740715531</td>\n",
       "      <td>2740715531</td>\n",
       "      <td>3303.762301</td>\n",
       "      <td>150.311423</td>\n",
       "    </tr>\n",
       "    <tr>\n",
       "      <th>1732902925</th>\n",
       "      <td>1732902925</td>\n",
       "      <td>1732902925</td>\n",
       "      <td>1354.224757</td>\n",
       "      <td>98.928767</td>\n",
       "    </tr>\n",
       "  </tbody>\n",
       "</table>\n",
       "</div>"
      ],
      "text/plain": [
       "            Unnamed: 0       osmid  sp_local_nh_avg_pop_density  \\\n",
       "osmid                                                             \n",
       "2740715523  2740715523  2740715523                  3392.689414   \n",
       "2740715526  2740715526  2740715526                  3305.036650   \n",
       "2740715529  2740715529  2740715529                  3285.157335   \n",
       "2740715531  2740715531  2740715531                  3303.762301   \n",
       "1732902925  1732902925  1732902925                  1354.224757   \n",
       "\n",
       "            sp_local_nh_avg_intersection_density  \n",
       "osmid                                             \n",
       "2740715523                            147.561738  \n",
       "2740715526                            145.387227  \n",
       "2740715529                            150.178329  \n",
       "2740715531                            150.311423  \n",
       "1732902925                             98.928767  "
      ]
     },
     "execution_count": 15,
     "metadata": {},
     "output_type": "execute_result"
    }
   ],
   "source": [
    "# show sample point pop and intersection density data\n",
    "gdf_nodes_simple.head()"
   ]
  },
  {
   "cell_type": "markdown",
   "metadata": {},
   "source": [
    "## Calculate accessibility to POI (supermarket,convenience,pt,pso), daily living and walkability for sample points\n",
    "**steps as follow:**\n",
    "   1. using pandana packadge to calculate distance to access from sample points to destinations (daily living destinations, public open space)\n",
    "   2. calculate accessibiity score per sample point: transform accessibility distance to binary measure: 1 if access <= 500m, 0 otherwise\n",
    "   3. calculate daily living score by summing the accessibiity scores to all POIs (excluding pos)\n",
    "   4. calculate walkability score per sample point: get zscores for daily living accessibility, populaiton density and intersections pop_density; sum these three zscores at sample point level\n"
   ]
  },
  {
   "cell_type": "code",
   "execution_count": 16,
   "metadata": {},
   "outputs": [
    {
     "name": "stdout",
     "output_type": "stream",
     "text": [
      "Calculate assessbility to POIs.\n"
     ]
    },
    {
     "name": "stderr",
     "output_type": "stream",
     "text": [
      "/opt/conda/lib/python3.7/site-packages/pyproj/crs/crs.py:280: FutureWarning: '+init=<authority>:<code>' syntax is deprecated. '<authority>:<code>' is the preferred initialization method. When making the change, be mindful of axis order changes: https://pyproj4.github.io/pyproj/stable/gotchas.html#axis-order-changes-in-proj-6\n",
      "  projstring = _prepare_from_string(projparams)\n"
     ]
    }
   ],
   "source": [
    "print('Calculate assessbility to POIs.')\n",
    "\n",
    "# create the pandana network, use network nodes and edges\n",
    "gdf_nodes, gdf_edges = ox.graph_to_gdfs(G_proj)\n",
    "net = ssp.create_pdna_net(gdf_nodes, gdf_edges)\n",
    "\n",
    "# read \"daily living destinations\" point layer (supermarket,convenience,pt) from disk\n",
    "gdf_poi1 = gpd.read_file(gpkgPath_output,\n",
    "                         layer=sc.parameters['destinations'])\n",
    "\n",
    "# read field names from json file\n",
    "poi_names = [\n",
    "    sc.parameters['supermarket'],\n",
    "    sc.parameters['convenience'], sc.parameters['PT']\n",
    "]\n",
    "\n",
    "# read accessibility distance from configuration file, which is 500m\n",
    "distance = sc.parameters['accessibility_distance']\n",
    "\n",
    "# read output field names from json file\n",
    "output_fieldNames1 = [\n",
    "    sc.samplePoint_fieldNames['sp_nearest_node_supermarket_dist'],\n",
    "    sc.samplePoint_fieldNames['sp_nearest_node_convenience_dist'],\n",
    "    sc.samplePoint_fieldNames['sp_nearest_node_pt_dist']\n",
    "]\n",
    "\n",
    "# zip the input and output field names\n",
    "names1 = list(zip(poi_names, output_fieldNames1))\n",
    "\n",
    "# calculate the distance from each node to POI\n",
    "gdf_poi_dist1 = ssp.cal_dist_node_to_nearest_pois(gdf_poi1, distance, net, *(names1))\n",
    "\n",
    "# read open space \"aos_nodes_30m_line\" layer from geopackage\n",
    "gdf_poi2 = gpd.read_file(gpkgPath_output, layer=parameters['pos'])\n",
    "\n",
    "# read field names from json file\n",
    "names2 = [(sc.parameters['pos'],\n",
    "           sc.samplePoint_fieldNames['sp_nearest_node_pos_dist'])]\n",
    "\n",
    "# calculate the distance from each node to public open space,\n",
    "# filterattr=False to indicate the layer is \"aos_nodes_30m_line\"\n",
    "gdf_poi_dist2 = ssp.cal_dist_node_to_nearest_pois(gdf_poi2,\n",
    "                                 distance,\n",
    "                                 net,\n",
    "                                 *names2,\n",
    "                                 filterattr=False)\n",
    "\n",
    "# concatenate two dataframes into one\n",
    "gdf_nodes_poi_dist = pd.concat([gdf_nodes, gdf_poi_dist1, gdf_poi_dist2],\n",
    "                               axis=1)\n",
    "\n",
    "# convert distance of each nodes to binary index\n",
    "output_fieldNames1.append(\n",
    "    sc.samplePoint_fieldNames['sp_nearest_node_pos_dist'])\n",
    "output_fieldNames2 = [\n",
    "    sc.samplePoint_fieldNames['sp_nearest_node_supermarket_binary'],\n",
    "    sc.samplePoint_fieldNames['sp_nearest_node_convenience_binary'],\n",
    "    sc.samplePoint_fieldNames['sp_nearest_node_pt_binary'],\n",
    "    sc.samplePoint_fieldNames['sp_nearest_node_pos_binary']\n",
    "]\n",
    "names3 = list(zip(output_fieldNames1, output_fieldNames2))\n",
    "gdf_nodes_poi_dist = ssp.convert_dist_to_binary(gdf_nodes_poi_dist, *names3)\n",
    "\n",
    "# set index of gdf_nodes_poi_dist, using 'osmid' as the index\n",
    "gdf_nodes_poi_dist.set_index('osmid', inplace=True, drop=False)\n",
    "\n",
    "# drop unuseful columns\n",
    "gdf_nodes_poi_dist.drop(\n",
    "    ['geometry', 'id', 'lat', 'lon', 'y', 'x', 'highway', 'ref'],\n",
    "    axis=1,\n",
    "    inplace=True)\n",
    "\n",
    "# for each sample point, create a new field to save the osmid of the closest nodes,\n",
    "# which is used for joining to nodes\n",
    "samplePointsData['closest_node_id'] = np.where(\n",
    "    samplePointsData.n1_distance <= samplePointsData.n2_distance,\n",
    "    samplePointsData.n1, samplePointsData.n2)\n",
    "\n",
    "# join the two tables (sample point pop and intersection density + node to POIs accessibility distance)\n",
    "# based on node id (link sample points to nearest nodes)\n",
    "samplePointsData['closest_node_id'] = samplePointsData[\n",
    "    'closest_node_id'].astype(int)\n",
    "\n",
    "# first, join accessibility to POIs results from nodes to sample points based on node id\n",
    "samplePointsData = samplePointsData.join(gdf_nodes_poi_dist,\n",
    "                                         on='closest_node_id',\n",
    "                                         how='left',\n",
    "                                         rsuffix='_nodes1')\n",
    "\n",
    "# second, join pop and intersection density from nodes to sample points based on node id\n",
    "samplePointsData = samplePointsData.join(gdf_nodes_simple,\n",
    "                                         on='closest_node_id',\n",
    "                                         how='left',\n",
    "                                         rsuffix='_nodes2')\n",
    "\n",
    "# drop the nan rows samplePointsData, and deep copy to a new variable\n",
    "samplePointsData_withoutNan = samplePointsData.dropna().copy()\n",
    "nanData = samplePointsData[~samplePointsData.index.\n",
    "                           isin(samplePointsData_withoutNan.index)]\n",
    "\n",
    "# save the nan rows to a new layer in geopackage, in case someone will check it\n",
    "nanData.to_file(gpkgPath_output,\n",
    "                layer=sc.parameters['dropNan'],\n",
    "                driver='GPKG')\n",
    "del nanData\n"
   ]
  },
  {
   "cell_type": "code",
   "execution_count": 17,
   "metadata": {},
   "outputs": [],
   "source": [
    "# create new field for daily living score,sum accessibility to POIs to get the daily living scores \n",
    "#(e.g. supermarket, public transport, and convenience store, exclude public open space)\n",
    "output_fieldNames2.pop()\n",
    "samplePointsData_withoutNan[\n",
    "    'sp_daily_living_score'] = samplePointsData_withoutNan[\n",
    "        output_fieldNames2].sum(axis=1)\n",
    "\n",
    "oriFieldNames = [\n",
    "    sc.samplePoint_fieldNames['sp_local_nh_avg_pop_density'],\n",
    "    sc.samplePoint_fieldNames['sp_local_nh_avg_intersection_density'],\n",
    "    sc.samplePoint_fieldNames['sp_daily_living_score']\n",
    "]\n",
    "newFieldNames = [\n",
    "    sc.samplePoint_fieldNames['sp_zscore_local_nh_avgpopdensity'],\n",
    "    sc.samplePoint_fieldNames['sp_zscore_local_nh_avgintdensity'],\n",
    "    sc.samplePoint_fieldNames['sp_zscore_daily_living_score']\n",
    "]\n",
    "\n",
    "# zip the old and new field names together as input, and calculate zscore\n",
    "samplePointsData_withoutNan = ssp.cal_zscores(samplePointsData_withoutNan,\n",
    "                                              oriFieldNames, newFieldNames)\n",
    "\n",
    "# sum these three zscores for walkability index\n",
    "samplePointsData_withoutNan[\n",
    "    'sp_walkability_index'] = samplePointsData_withoutNan[\n",
    "        newFieldNames].sum(axis=1)\n",
    "\n",
    "# save the sample points with all the desired results to a new layer in geopackage\n",
    "samplePointsData_withoutNan.to_file(\n",
    "    gpkgPath_output,\n",
    "    layer=sc.parameters['samplepointResult'],\n",
    "    driver='GPKG')\n"
   ]
  },
  {
   "cell_type": "code",
   "execution_count": 18,
   "metadata": {},
   "outputs": [
    {
     "data": {
      "text/plain": [
       "50717"
      ]
     },
     "execution_count": 18,
     "metadata": {},
     "output_type": "execute_result"
    }
   ],
   "source": [
    "len(samplePointsData_withoutNan)"
   ]
  },
  {
   "cell_type": "code",
   "execution_count": 19,
   "metadata": {},
   "outputs": [
    {
     "data": {
      "text/plain": [
       "Index(['point_id', 'edge_ogc_fid', 'metres', 'n1', 'n2', 'n1_distance',\n",
       "       'n2_distance', 'geometry', 'hex_id', 'closest_node_id', 'osmid',\n",
       "       'sp_nearest_node_supermarket_dist', 'sp_nearest_node_convenience_dist',\n",
       "       'sp_nearest_node_pt_dist', 'sp_nearest_node_pos_dist',\n",
       "       'sp_nearest_node_supermarket_binary',\n",
       "       'sp_nearest_node_convenience_binary', 'sp_nearest_node_pt_binary',\n",
       "       'sp_nearest_node_pos_binary', 'Unnamed: 0', 'osmid_nodes2',\n",
       "       'sp_local_nh_avg_pop_density', 'sp_local_nh_avg_intersection_density',\n",
       "       'sp_daily_living_score', 'sp_zscore_local_nh_avgpopdensity',\n",
       "       'sp_zscore_local_nh_avgintdensity', 'sp_zscore_daily_living_score',\n",
       "       'sp_walkability_index'],\n",
       "      dtype='object')"
      ]
     },
     "execution_count": 19,
     "metadata": {},
     "output_type": "execute_result"
    }
   ],
   "source": [
    "samplePointsData_withoutNan.columns"
   ]
  },
  {
   "cell_type": "code",
   "execution_count": 20,
   "metadata": {},
   "outputs": [
    {
     "data": {
      "text/plain": [
       "Text(0.5, 0.95, 'Local Sample Point walkability')"
      ]
     },
     "execution_count": 20,
     "metadata": {},
     "output_type": "execute_result"
    },
    {
     "data": {
      "image/png": "[encoded data removed]",
      "text/plain": [
       "<Figure size 360x360 with 1 Axes>"
      ]
     },
     "metadata": {
      "needs_background": "light"
     },
     "output_type": "display_data"
    }
   ],
   "source": [
    "col='sp_walkability_index'\n",
    "\n",
    "fig, ax = plt.subplots(figsize=(5, 5))\n",
    "\n",
    "#plot indicators\n",
    "ax = samplePointsData_withoutNan.plot(ax=ax, column=col, scheme='NaturalBreaks', k=6, cmap='inferno_r', edgecolor='none')\n",
    "\n",
    "ax.set_title(config['study_region'], fontsize=9)\n",
    "ax.set_axis_off()\n",
    "\n",
    "# add a title to the figure\n",
    "fig.suptitle('Local Sample Point walkability', y=0.95, fontsize=10, weight='bold')"
   ]
  },
  {
   "cell_type": "code",
   "execution_count": null,
   "metadata": {},
   "outputs": [],
   "source": []
  }
 ],
 "metadata": {
  "kernelspec": {
   "display_name": "Python 3",
   "language": "python",
   "name": "python3"
  },
  "language_info": {
   "codemirror_mode": {
    "name": "ipython",
    "version": 3
   },
   "file_extension": ".py",
   "mimetype": "text/x-python",
   "name": "python",
   "nbconvert_exporter": "python",
   "pygments_lexer": "ipython3",
   "version": "3.7.6"
  }
 },
 "nbformat": 4,
 "nbformat_minor": 4
}
