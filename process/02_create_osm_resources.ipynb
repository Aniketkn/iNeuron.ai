{
 "cells": [
  {
   "cell_type": "markdown",
   "metadata": {},
   "source": [
    "# Global indicator project\n",
    "## Get and save study region walkable street network, load OSM basic network stats\n",
    "\n",
    "This notebook describes the process to get street networks from OpenStreetMap using OSMnx, a Python library that lets you download spatial geometries and construct, project, and visualize street networks from OpenStreetMap's API. This process obtains OpenStreetMap network from study region buffer polygon. The network data are saved to local data folder."
   ]
  },
  {
   "cell_type": "code",
   "execution_count": 1,
   "metadata": {},
   "outputs": [
    {
     "data": {
      "text/plain": [
       "'0.9'"
      ]
     },
     "execution_count": 1,
     "metadata": {},
     "output_type": "execute_result"
    }
   ],
   "source": [
    "# Libraries used for OSMnx analyses and output\n",
    "import networkx as nx\n",
    "import time \n",
    "import osmnx as ox\n",
    "import matplotlib.pyplot as plt\n",
    "import numpy as np\n",
    "import requests\n",
    "import pandas as pd\n",
    "import geopandas as gpd\n",
    "\n",
    "from shapely.geometry import shape,Point, LineString, Polygon\n",
    "\n",
    "\n",
    "ox.config(use_cache=True, log_console=True)\n",
    "ox.__version__"
   ]
  },
  {
   "cell_type": "markdown",
   "metadata": {},
   "source": [
    "### Set up project config"
   ]
  },
  {
   "cell_type": "code",
   "execution_count": 2,
   "metadata": {},
   "outputs": [],
   "source": [
    "place = 'phoenix' \n",
    "\n",
    "region = 'Arizona, USA' # study region name\n",
    "\n",
    "suffix = '_201905' # output data time\n",
    "\n",
    "buffer_dist = 1e4 #study region buffer 10km\n",
    "\n",
    "data_folder = '../data/Maricopa_County'\n",
    "\n",
    "OSM_folder = '../data/OSM'\n",
    "\n",
    "shape_filename = 'MC_Boundary.shp'\n",
    "\n",
    "filepath = data_folder + '/' + shape_filename"
   ]
  },
  {
   "cell_type": "markdown",
   "metadata": {},
   "source": [
    "## Get pedestrain street network and save to local folder"
   ]
  },
  {
   "cell_type": "code",
   "execution_count": 5,
   "metadata": {},
   "outputs": [],
   "source": [
    "# Extract complete OSM network and save local graph and edge shapefile: \"all (non-private) OSM streets and paths\"\n",
    "def Save_OSM_G_gdf(polygon, network_type= 'walk', place=place, suffix=suffix, folder=OSM_folder):    \n",
    "    \"\"\"\n",
    "    save a graphml and GeoDataFrame from a single polygon.\n",
    "    Parameters\n",
    "    ----------\n",
    "    polygon : shapely Polygon or MultiPolygon\n",
    "        the shape to get network data within. coordinates should be in units of\n",
    "        latitude-longitude degrees.\n",
    "    network_type : string\n",
    "        what type of street network to get. Default type is pedestrain network\n",
    "    place: string\n",
    "        place name\n",
    "    suffix: string\n",
    "        output data date\n",
    "    folder : string\n",
    "        where to save the shapefile, specify local folder path for OSM resource\n",
    "    Returns\n",
    "    -------\n",
    "    none\n",
    "\n",
    "    \"\"\"\n",
    "    G = ox.graph_from_polygon(polygon, network_type=network_type, retain_all = True)\n",
    "    #save network as graphml\n",
    "    ox.save_graphml(G, filename='{studyregion}_{network_type}{suffix}.graphml'.format(\n",
    "        studyregion = place, network_type=network_type, suffix = suffix), folder=folder)\n",
    "    \n",
    "    #set up project projection\n",
    "    G_proj = ox.project_graph(G)\n",
    "    edges_proj_gdfs = ox.graph_to_gdfs(G_proj, nodes=False, edges=True, fill_edge_geometry=True)\n",
    "    \n",
    "    #save projected network geodataframe as shapefile (project to UTM so we can use metres as a unit when buffering)\n",
    "    ox.save_gdf_shapefile(edges_proj_gdfs, filename='{studyregion}_{network_type}{suffix}'.format(\n",
    "        studyregion = place, network_type=network_type, suffix = suffix), folder=folder)\n",
    "    \n",
    "    #show network figure\n",
    "    fig, ax = plt.subplots(figsize=(5, 5))\n",
    "    ax = edges_proj_gdfs.plot(ax=ax)\n",
    "    ax.set_title(address)\n",
    "    ax.set_axis_off()\n",
    "    fig.suptitle('{} OSM {} street network'.format(place, network_type), fontsize=14, fontweight='bold')\n",
    "    plt.show()\n",
    "\n"
   ]
  },
  {
   "cell_type": "markdown",
   "metadata": {},
   "source": [
    "## Load pedestrain street network from local folder"
   ]
  },
  {
   "cell_type": "code",
   "execution_count": 6,
   "metadata": {},
   "outputs": [],
   "source": [
    "def load_OSM_G(G_filename, OSM_folder):\n",
    "    \"\"\"\n",
    "    Load a GraphML file from disk and convert the node/edge attributes to correct data types.\n",
    "\n",
    "    Parameters\n",
    "    ----------\n",
    "    G_filename : string\n",
    "        the name of the graphml file (including file extension)\n",
    "    OSM_folder : string\n",
    "        the folder containing the OSM file, if None, use default data folder\n",
    "\n",
    "    Returns\n",
    "    -------\n",
    "    networkx multidigraph\n",
    "    \"\"\"\n",
    "    G = ox.load_graphml(filename=G_filename, folder=OSM_folder)\n",
    "    return G\n",
    "\n"
   ]
  },
  {
   "cell_type": "code",
   "execution_count": 9,
   "metadata": {},
   "outputs": [],
   "source": [
    "def load_OSM_edges(shape_filepath):\n",
    "    \"\"\"\n",
    "    Load a (projected) edge shapefile from disk \n",
    "\n",
    "    Parameters\n",
    "    ----------\n",
    "    shape_filepath : string\n",
    "        the location of the shapefile\n",
    "    \n",
    "    Returns\n",
    "    -------\n",
    "    GeoDataFrame\n",
    "    \"\"\"\n",
    "        \n",
    "    edges = gpd.GeoDataFrame.from_file(shape_filepath)\n",
    "    return edges"
   ]
  },
  {
   "cell_type": "markdown",
   "metadata": {},
   "source": [
    "### Load OSM network stats\n",
    "This function retains all the basic stats for all streets, pedestrain network, and cycle network within 10km buffered study regions. The OSM street network data are loaded from local data folder. "
   ]
  },
  {
   "cell_type": "code",
   "execution_count": 8,
   "metadata": {},
   "outputs": [],
   "source": [
    "def load_OSM_stats(G_filename, folder=OSM_folder):\n",
    "    \"\"\"\n",
    "    retains all the basic stats for all streets, pedestrain network, and \n",
    "    cycle network within 10km buffered study regions from a local folder for OSM resource\n",
    "    \n",
    "    Parameters\n",
    "    ----------\n",
    "    polygon : shapely Polygon or MultiPolygon\n",
    "        the shape to get network data within. coordinates should be in units of\n",
    "        latitude-longitude degrees.\n",
    "    network_type : string\n",
    "        what type of street network to get. Default type is pedestrain network\n",
    "    place: string\n",
    "        place name\n",
    "    suffix: string\n",
    "        output data date\n",
    "    folder : string\n",
    "        where to save the shapefile, specify local folder path for OSM resource\n",
    "    -------\n",
    "\n",
    "    \"\"\"\n",
    "    df = pd.DataFrame()\n",
    "    #load street network data from local directory\n",
    "    for networktype in ['all', 'walk', 'bike']:\n",
    "        G = ox.load_graphml(G_filename, folder=folder)\n",
    "        \n",
    "        gdf_nodes_proj = ox.graph_to_gdfs(G_proj, edges=False)\n",
    "        graph_area_m = gdf_nodes_proj.unary_union.convex_hull.area\n",
    "        \n",
    "        stats = ox.basic_stats(G_proj, area=graph_area_m, clean_intersects=True, circuity_dist='euclidean', tolerance=15)\n",
    "        df1 = pd.DataFrame.from_dict(stats, orient='index', columns=[networktype + '_' + place])\n",
    "        df = pd.concat([df, df1], axis=1)\n",
    "    return df\n",
    "    "
   ]
  },
  {
   "cell_type": "code",
   "execution_count": null,
   "metadata": {},
   "outputs": [],
   "source": []
  }
 ],
 "metadata": {
  "kernelspec": {
   "display_name": "Python 3",
   "language": "python",
   "name": "python3"
  },
  "language_info": {
   "codemirror_mode": {
    "name": "ipython",
    "version": 3
   },
   "file_extension": ".py",
   "mimetype": "text/x-python",
   "name": "python",
   "nbconvert_exporter": "python",
   "pygments_lexer": "ipython3",
   "version": "3.7.3"
  }
 },
 "nbformat": 4,
 "nbformat_minor": 2
}
