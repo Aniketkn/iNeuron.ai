{
 "cells": [
  {
   "cell_type": "code",
   "execution_count": null,
   "metadata": {},
   "outputs": [
    {
     "name": "stdout",
     "output_type": "stream",
     "text": [
      "The line_profiler extension is already loaded. To reload it, use:\n",
      "  %reload_ext line_profiler\n",
      "there is no network: 1563\n",
      "there is no network: 1585\n",
      "there is no network: 1651\n",
      "there is no network: 1722\n",
      "there is no network: 1723\n",
      "there is no network: 1909\n"
     ]
    }
   ],
   "source": [
    "\"\"\"\n",
    "For the network within 1600m of each sample point, calculate the average \n",
    "densities for poplulation and intersections using the 250m hex \n",
    "\n",
    "# notice: must close the geopackage connection in QGIS.Otherwise, \n",
    "# an error occurred when reading\n",
    "\"\"\"\n",
    "\n",
    "import geopandas as gpd\n",
    "import pandas as pd\n",
    "import osmnx as ox\n",
    "import networkx as nx\n",
    "import sv_config as sc\n",
    "import os\n",
    "import sv_setup_local_analysis as ssl\n",
    "import time\n",
    "startTime = time.time()\n",
    "# read projected graphml\n",
    "dirname = os.path.abspath('')\n",
    "graphmlProj_path = os.path.join(dirname, sc.folder, sc.graphmlProj_name)\n",
    "if os.path.isfile(graphmlProj_path):\n",
    "    G_proj = ox.load_graphml(graphmlProj_path)\n",
    "else:\n",
    "    # else read original graphml and reproject it\n",
    "    graphml_path = os.path.join(dirname, sc.graphmlName)\n",
    "    G = ox.load_graphml(graphml_path)\n",
    "    G_proj = ox.project_graph(G, to_crs=sc.to_crs)\n",
    "    ox.save_graphml(G_proj,\n",
    "                    filename=sc.graphmlProj_name,\n",
    "                    folder=os.path.join(dirname, sc.folder))\n",
    "\n",
    "# load projected nodes and edges from geopackage, and convert them to a graph\n",
    "# gpkgPath = os.path.join(dirname, sc.geopackagePath)\n",
    "# gdf_nodes = gpd.read_file(gpkgPath,layer=sc.nodes)\n",
    "# gdf_nodes['x'] = gdf_nodes['geometry'].apply(lambda x: x.x)\n",
    "# gdf_nodes['y'] =gdf_nodes['geometry'].apply(lambda x: x.y)\n",
    "# gdf_edges = gpd.read_file(gpkgPath,layer=sc.edges)\n",
    "# gdf_edges['u'] = gdf_edges['from']\n",
    "# gdf_edges['v'] = gdf_edges['to']\n",
    "# #!! an error occurred at this step, tried to fix that but failed.\n",
    "# # Read original graphml file and reprojected it.\n",
    "# G = ox.gdfs_to_graph(gdf_nodes,gdf_edges)\n",
    "\n",
    "gpkgPath = os.path.join(dirname, sc.geopackagePath)\n",
    "hex250 = gpd.read_file(gpkgPath, layer=sc.hex250)\n",
    "samplePointsData = gpd.read_file(gpkgPath, layer=sc.samplePoints)\n",
    "\n",
    "# method 1: apply method took 520s to process 530 sample points\n",
    "df_result = samplePointsData['geometry'].apply(ssl.neigh_stats_apply,args=(G_proj,hex250,200,))\n",
    "\n",
    "# method2: iterrows took 540s to process 530 sample points\n",
    "# df_result = ssl.neigh_stats_iterrows(samplePointsData, G_proj, hex250, 1600)\n",
    "\n",
    "# method3: try to use vetorize in pandas(failed, may be not suitable)\n",
    "# https://engineering.upside.com/a-beginners-guide-to-optimizing-pandas-code-for-speed-c09ef2c6a4d6\n",
    "# df_result = ssl.neigh_stats_apply(samplePointsData['geometry'],G_proj,hex250,200)\n",
    "\n",
    "# method4: try to use rtree method in shapely to intersect\n",
    "# https://stackoverflow.com/questions/14697442/faster-way-of-polygon-intersection-with-shapely\n",
    "\n",
    "# Concatenate the average of population and intersections back to the df of sample points\n",
    "samplePointsData = pd.concat([samplePointsData, df_result], axis=1)\n",
    "print('Time is: {}'.format(time.time() - startTime))\n",
    "\n",
    "\n",
    "\n",
    "\n",
    "\n",
    "# save output to a new geopackage\n",
    "# output_gpkgPath = os.path.join(dirname, sc.output_gpkgPath)\n",
    "# gdf.to_file(output_gpkgPath, layer='sampelpoints',driver='GPKG')\n"
   ]
  },
  {
   "cell_type": "code",
   "execution_count": null,
   "metadata": {},
   "outputs": [],
   "source": []
  },
  {
   "cell_type": "code",
   "execution_count": null,
   "metadata": {},
   "outputs": [],
   "source": []
  }
 ],
 "metadata": {
  "kernelspec": {
   "display_name": "Python 3",
   "language": "python",
   "name": "python3"
  },
  "language_info": {
   "codemirror_mode": {
    "name": "ipython",
    "version": 3
   },
   "file_extension": ".py",
   "mimetype": "text/x-python",
   "name": "python",
   "nbconvert_exporter": "python",
   "pygments_lexer": "ipython3",
   "version": "3.7.3"
  }
 },
 "nbformat": 4,
 "nbformat_minor": 4
}
