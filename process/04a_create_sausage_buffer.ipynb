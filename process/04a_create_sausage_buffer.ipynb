{
 "cells": [
  {
   "cell_type": "markdown",
   "metadata": {},
   "source": [
    "# Global indicator project\n",
    "## Create a sausage buffer for each sample point to identify walkable local neighborhood\n",
    "\n",
    "This notebook creates sausage buffer to determine local walkable neighborhood (1600m distance of sample points + 50m walkable street network buffer). This is used to calculate local neighborhood/location based indicators. This notebook should run after ```04_create_sample_points```. Indicators are calculated per sample point basis and save in sample point stats dataframe.  \n",
    "\n",
    "Process: \n",
    "1. Load pedestrain street network and sample points from local folder\n",
    "2. Create sausage buffer:\n",
    "    - locate closest node to each sample point on network, \n",
    "    - create network subgraph with 1600m distance around sample point-nodes and 50m walkable street network buffer\n",
    "    - iterate over all sample points to obtain all local neighborhood graph\n",
    "3. Get local neighborhood basic stats using OSMnx: \n",
    "    - area in km; intersection density; clean intersection count; distance to nearest node\n",
    "    - save indicators for each local neighborhood in sample point stats dataframe\n",
    "  \n",
    "\n",
    "\n",
    "See [this pull request comment discussion](https://github.com/shiqin-liu/global-indicators/pull/1/commits/9b1b1d524894646c26b8c4120e5cc0d9d8eb490f)\n",
    "\n",
    "** Buffering technique referring to Forsyth et al [here](https://ij-healthgeographics.biomedcentral.com/articles/10.1186/1476-072X-11-14). Mavoa et al 2018, see [here](https://www.jtlu.org/index.php/jtlu/article/view/1132)   \n",
    "** load the projected graph, using the projected graph to get network stats so that the ouput unit is m/km"
   ]
  },
  {
   "cell_type": "code",
   "execution_count": 81,
   "metadata": {},
   "outputs": [],
   "source": [
    "from setup_OSMnetwork import *\n",
    "from setup_local_analysis import *\n",
    "from config import *"
   ]
  },
  {
   "cell_type": "markdown",
   "metadata": {},
   "source": [
    "## 1. Load pedestrain street network and sample points from local folder"
   ]
  },
  {
   "cell_type": "code",
   "execution_count": 2,
   "metadata": {},
   "outputs": [],
   "source": [
    "## Load pedestrain street network graphml and edge shapefile from local folder\n",
    "G_proj = get_OSM_G(G_proj_filename, OSM_folder)"
   ]
  },
  {
   "cell_type": "code",
   "execution_count": 3,
   "metadata": {},
   "outputs": [
    {
     "data": {
      "text/plain": [
       "2331492"
      ]
     },
     "execution_count": 3,
     "metadata": {},
     "output_type": "execute_result"
    }
   ],
   "source": [
    "# load sample point shapefile\n",
    "sample_points_gdf = gpd.GeoDataFrame.from_file(samplepoint_filepath)\n",
    "len(sample_points_gdf)"
   ]
  },
  {
   "cell_type": "code",
   "execution_count": 4,
   "metadata": {},
   "outputs": [
    {
     "name": "stdout",
     "output_type": "stream",
     "text": [
      "Completed task \"create list of urban sample points location for phoenix\" with 600 points in 0.85 seconds\n"
     ]
    }
   ],
   "source": [
    "#here, I just take 600 points as sample (due to the memory deficiency) to test the scripts \n",
    "sample_points = sample_points_gdf.sample(n=600, replace=True, random_state=1)\n",
    "\n",
    "start = time.time()\n",
    "task = \"create list of urban sample points location for {}\".format(placename)\n",
    "# create list of sample points to iterate over\n",
    "point_locations = []\n",
    "\n",
    "for point in sample_points.geometry: \n",
    "    point = (point.x, point.y)\n",
    "    point_locations = point_locations + [point]\n",
    "    \n",
    "print('Completed task \"{}\" with {} points in {:,.2f} seconds'.format(\n",
    "    task, len(point_locations), time.time() - start)) \n"
   ]
  },
  {
   "cell_type": "markdown",
   "metadata": {},
   "source": [
    "## 2. Create sausage buffer"
   ]
  },
  {
   "cell_type": "markdown",
   "metadata": {},
   "source": [
    "```\n",
    "#run create buffer analysis\n",
    "start = time.time()\n",
    "task = 'Buffer network for {} sample points'.format(len(point_locations))\n",
    "sausagebuffers = []\n",
    "for point in point_locations:\n",
    "    sausagebuffers.append(create_sausage_buffer_gdf(G_proj, point))\n",
    "print('Completed task \"{}\" in {:,.2f} seconds'.format(task,time.time() - start)) \n",
    "```"
   ]
  },
  {
   "cell_type": "markdown",
   "metadata": {},
   "source": [
    "## 3. Get sample point neighborhood stats using OSMnx"
   ]
  },
  {
   "cell_type": "code",
   "execution_count": 70,
   "metadata": {},
   "outputs": [],
   "source": [
    "# initialise a list\n",
    "start = time.time()\n",
    "task = \"Calculate local neighbourhood measures for {} points\".format(len(point_locations))\n",
    "nh_estimates = []\n",
    "for point in point_locations:\n",
    "    nh_estimates.append(analyse_local_nh(G_proj, point))\n",
    "    "
   ]
  },
  {
   "cell_type": "code",
   "execution_count": 71,
   "metadata": {},
   "outputs": [
    {
     "name": "stdout",
     "output_type": "stream",
     "text": [
      "Completed task \"Calculate local neighbourhood measures for 600 points\" in 24,061.89 seconds\n"
     ]
    }
   ],
   "source": [
    "# area in sqkm\n",
    "area_km = [x['area_sqkm'] for x in nh_estimates]\n",
    "# clean intersection density per sqkm\n",
    "clean_intersection_count = [x['stats']['clean_intersection_count'] for x in nh_estimates]\n",
    "# clean intersection density\n",
    "clean_intersection_density_km = [x['stats']['clean_intersection_density_km'] for x in nh_estimates]\n",
    "# dist to the nodes\n",
    "origin_node_snap_dist = [x['origin_node_snap_dist'] for x in nh_estimates]\n",
    "# nearest node id\n",
    "origin_node_id = [x['origin_node_id'] for x in nh_estimates]\n",
    "\n",
    "#load sample point dataframe and record new stats\n",
    "sample_points['area_km'] = area_km\n",
    "sample_points['intct_count'] = clean_intersection_count\n",
    "sample_points['intct_den']= clean_intersection_density_km\n",
    "sample_points['node_dist']= origin_node_snap_dist\n",
    "sample_points['node_id']= origin_node_id\n",
    "\n",
    "\n",
    "print('Completed task \"{}\" in {:,.2f} seconds'.format(task,time.time() - start))"
   ]
  },
  {
   "cell_type": "code",
   "execution_count": null,
   "metadata": {},
   "outputs": [],
   "source": [
    "ox.save_gdf_shapefile(sample_points, filename='{studyregion}_urban_sample_points_stats{suffix}'.format(\n",
    "        studyregion = placename, suffix = suffix), folder=OSM_folder)"
   ]
  },
  {
   "cell_type": "code",
   "execution_count": null,
   "metadata": {},
   "outputs": [],
   "source": []
  }
 ],
 "metadata": {
  "kernelspec": {
   "display_name": "Python 3",
   "language": "python",
   "name": "python3"
  },
  "language_info": {
   "codemirror_mode": {
    "name": "ipython",
    "version": 3
   },
   "file_extension": ".py",
   "mimetype": "text/x-python",
   "name": "python",
   "nbconvert_exporter": "python",
   "pygments_lexer": "ipython3",
   "version": "3.7.3"
  }
 },
 "nbformat": 4,
 "nbformat_minor": 2
}
