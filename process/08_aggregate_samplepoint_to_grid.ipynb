{
 "cells": [
  {
   "cell_type": "markdown",
   "metadata": {},
   "source": [
    "# Global indicator project\n",
    "## Calculate z scores and Aggregate sample point indicators to 250m grid-level analysis\n",
    "\n",
    "Process:\n",
    "- Evaluate local variables/indicators for sample points  \n",
    "- Take average of sample point variables to 250m grid. \n",
    "    - Then we have population density (pop/area in hectares of 250m grid cell), street connectivity (average connectivity per square km of local road networks in grid cell), and daily living access (average score from 0 to 3 for access to daily living amenities in grid cell) \n",
    "- Calculate respective z-scores of pop (or dwelling) density, street connectivity and daily living  \n",
    "- Sum z-scores for a walkability index calculated for 250m grid cells\n"
   ]
  },
  {
   "cell_type": "code",
   "execution_count": 18,
   "metadata": {},
   "outputs": [],
   "source": [
    "from setup_OSMnetwork import *\n",
    "from setup_local_analysis import *\n",
    "from config import *\n",
    "\n",
    "from scipy.stats import zscore\n",
    "import folium\n",
    "\n",
    "%matplotlib inline\n",
    "import warnings\n",
    "warnings.filterwarnings('ignore')"
   ]
  },
  {
   "cell_type": "markdown",
   "metadata": {},
   "source": [
    "## 1. Load pedestrain street network, pop grid and sample points stats from local folder"
   ]
  },
  {
   "cell_type": "code",
   "execution_count": 3,
   "metadata": {},
   "outputs": [],
   "source": [
    "## Load pedestrain street network graphml and edge shapefile from local folder\n",
    "G_proj = get_OSM_G(G_filename, OSM_folder)"
   ]
  },
  {
   "cell_type": "code",
   "execution_count": 43,
   "metadata": {},
   "outputs": [],
   "source": [
    "# load sample point shapefile\n",
    "sample_points_gdf = gpd.GeoDataFrame.from_file(samplepoint_stats_shapefile_path, geometry='geometry')\n",
    "\n",
    "# change variables to float type\n",
    "sample_points_gdf[['intct_den', 'Paces_bus', 'Paces_shop', 'Baces_bus', 'Baces_shop']] = sample_points_gdf[['intct_den', 'Paces_bus', 'Paces_shop', 'Baces_bus', 'Baces_shop']].astype(float)"
   ]
  },
  {
   "cell_type": "code",
   "execution_count": 44,
   "metadata": {},
   "outputs": [],
   "source": [
    "# load population grid\n",
    "pop_gdf = gpd.GeoDataFrame.from_file(GHS_pop_filepath, geometry='geometry')\n",
    "pop_gdf['raster_val'] = pop_gdf['raster_val'].astype(float)"
   ]
  },
  {
   "cell_type": "code",
   "execution_count": 45,
   "metadata": {},
   "outputs": [
    {
     "data": {
      "text/plain": [
       "True"
      ]
     },
     "execution_count": 45,
     "metadata": {},
     "output_type": "execute_result"
    }
   ],
   "source": [
    "# make sure the same projection, latlong\n",
    "sample_points_gdf.crs = crs\n",
    "sample_points_gdf = sample_points_gdf.to_crs(pop_gdf.crs)\n",
    "\n",
    "sample_points_gdf.crs == pop_gdf.crs"
   ]
  },
  {
   "cell_type": "code",
   "execution_count": 94,
   "metadata": {},
   "outputs": [
    {
     "data": {
      "image/png": "[encoded data removed]",
      "text/plain": [
       "<Figure size 432x288 with 1 Axes>"
      ]
     },
     "metadata": {
      "needs_background": "light"
     },
     "output_type": "display_data"
    }
   ],
   "source": [
    "ax = sample_points_gdf.plot(marker='*', color='red', markersize=5)\n",
    "ax = pop_gdf.plot(ax=ax, column='raster_val', scheme='quantiles', k=6, cmap='YlOrBr')\n",
    "\n",
    "plt.show()"
   ]
  },
  {
   "cell_type": "markdown",
   "metadata": {},
   "source": [
    "## 2. Aggregate sample point stats to 250m pop grid"
   ]
  },
  {
   "cell_type": "code",
   "execution_count": 84,
   "metadata": {},
   "outputs": [],
   "source": [
    "df_columns = ['intct_den', 'Paces_bus', 'Paces_shop', 'Baces_bus', 'Baces_shop'] \n",
    "\n",
    "start = time.time()\n",
    "task = \"Take average of sample point variables to 250m grid for {}\".format(placename)\n",
    "\n",
    "# associate analysis_area with aggregate population estimates\n",
    "for col in df_columns:\n",
    "    # create null field for stats values\n",
    "    pop_gdf[col] = np.nan \n",
    "    pop_gdf[col] = pop_gdf[col].astype('float')\n",
    "    for row in range(1, len(pop_gdf)):\n",
    "        area_id = pop_gdf[(row-1):row].index\n",
    "        grid_polygon = pop_gdf['geometry'].iloc[row-1]\n",
    "        mask = sample_points_gdf.centroid.within(grid_polygon)\n",
    "        grid_stats = np.average(sample_points_gdf[mask][col])\n",
    "        pop_gdf.loc[area_id, col] = grid_stats\n",
    "\n",
    "#drop null grid\n",
    "pop_gdf_notnull = pop_gdf.dropna()\n",
    "#make sure values as float type\n",
    "pop_gdf_notnull['raster_val'] = pop_gdf['raster_val'].astype('float')\n",
    "\n",
    "print('Completed task \"{}\" with total {} grids in {:,.2f} seconds'.format(\n",
    "    task, len(pop_gdf), time.time() - start)) \n"
   ]
  },
  {
   "cell_type": "markdown",
   "metadata": {},
   "source": [
    "## 3. Standardize gird stats to z scores\n",
    "https://stackoverflow.com/questions/24761998/pandas-compute-z-score-for-all-columns"
   ]
  },
  {
   "cell_type": "code",
   "execution_count": 87,
   "metadata": {},
   "outputs": [],
   "source": [
    "# claculate z-scores for variables in sample point dataframe columns\n",
    "def cal_zscores_df(df, df_columns):\n",
    "    for col in df_columns:\n",
    "        col_zscore = col + '_zscore'\n",
    "        df[col_zscore] = df[[col]].apply(zscore)\n",
    "    return df"
   ]
  },
  {
   "cell_type": "code",
   "execution_count": 88,
   "metadata": {},
   "outputs": [
    {
     "data": {
      "text/html": [
       "<div>\n",
       "<style scoped>\n",
       "    .dataframe tbody tr th:only-of-type {\n",
       "        vertical-align: middle;\n",
       "    }\n",
       "\n",
       "    .dataframe tbody tr th {\n",
       "        vertical-align: top;\n",
       "    }\n",
       "\n",
       "    .dataframe thead th {\n",
       "        text-align: right;\n",
       "    }\n",
       "</style>\n",
       "<table border=\"1\" class=\"dataframe\">\n",
       "  <thead>\n",
       "    <tr style=\"text-align: right;\">\n",
       "      <th></th>\n",
       "      <th>raster_val</th>\n",
       "      <th>geometry</th>\n",
       "      <th>intct_den</th>\n",
       "      <th>Paces_bus</th>\n",
       "      <th>Paces_shop</th>\n",
       "      <th>Baces_bus</th>\n",
       "      <th>Baces_shop</th>\n",
       "      <th>raster_val_zscore</th>\n",
       "      <th>intct_den_zscore</th>\n",
       "      <th>Paces_bus_zscore</th>\n",
       "      <th>Paces_shop_zscore</th>\n",
       "      <th>Baces_bus_zscore</th>\n",
       "      <th>Baces_shop_zscore</th>\n",
       "    </tr>\n",
       "  </thead>\n",
       "  <tbody>\n",
       "    <tr>\n",
       "      <th>227</th>\n",
       "      <td>55.552124</td>\n",
       "      <td>POLYGON ((-112.7755713368735 33.96208090051934...</td>\n",
       "      <td>73.022034</td>\n",
       "      <td>0.0</td>\n",
       "      <td>0.0</td>\n",
       "      <td>0.0</td>\n",
       "      <td>0.0</td>\n",
       "      <td>-0.546229</td>\n",
       "      <td>-0.226970</td>\n",
       "      <td>-1.006354</td>\n",
       "      <td>-1.036471</td>\n",
       "      <td>-0.823697</td>\n",
       "      <td>-1.045250</td>\n",
       "    </tr>\n",
       "    <tr>\n",
       "      <th>502</th>\n",
       "      <td>1.420686</td>\n",
       "      <td>POLYGON ((-112.6780199203052 33.92375712972463...</td>\n",
       "      <td>82.559822</td>\n",
       "      <td>0.0</td>\n",
       "      <td>0.0</td>\n",
       "      <td>0.0</td>\n",
       "      <td>0.0</td>\n",
       "      <td>-1.026411</td>\n",
       "      <td>0.148773</td>\n",
       "      <td>-1.006354</td>\n",
       "      <td>-1.036471</td>\n",
       "      <td>-0.823697</td>\n",
       "      <td>-1.045250</td>\n",
       "    </tr>\n",
       "    <tr>\n",
       "      <th>611</th>\n",
       "      <td>0.797012</td>\n",
       "      <td>POLYGON ((-112.1449711083425 33.90982121307201...</td>\n",
       "      <td>98.245763</td>\n",
       "      <td>1.0</td>\n",
       "      <td>1.0</td>\n",
       "      <td>1.0</td>\n",
       "      <td>1.0</td>\n",
       "      <td>-1.031943</td>\n",
       "      <td>0.766724</td>\n",
       "      <td>1.002125</td>\n",
       "      <td>0.973014</td>\n",
       "      <td>1.224764</td>\n",
       "      <td>0.964847</td>\n",
       "    </tr>\n",
       "    <tr>\n",
       "      <th>778</th>\n",
       "      <td>9.877358</td>\n",
       "      <td>POLYGON ((-112.0787755042426 33.88194937976678...</td>\n",
       "      <td>84.991121</td>\n",
       "      <td>1.0</td>\n",
       "      <td>0.0</td>\n",
       "      <td>1.0</td>\n",
       "      <td>0.0</td>\n",
       "      <td>-0.951395</td>\n",
       "      <td>0.244555</td>\n",
       "      <td>1.002125</td>\n",
       "      <td>-1.036471</td>\n",
       "      <td>1.224764</td>\n",
       "      <td>-1.045250</td>\n",
       "    </tr>\n",
       "    <tr>\n",
       "      <th>1114</th>\n",
       "      <td>3.410752</td>\n",
       "      <td>POLYGON ((-111.8453489003112 33.864529483951, ...</td>\n",
       "      <td>125.190765</td>\n",
       "      <td>1.0</td>\n",
       "      <td>0.0</td>\n",
       "      <td>1.0</td>\n",
       "      <td>0.0</td>\n",
       "      <td>-1.008758</td>\n",
       "      <td>1.828228</td>\n",
       "      <td>1.002125</td>\n",
       "      <td>-1.036471</td>\n",
       "      <td>1.224764</td>\n",
       "      <td>-1.045250</td>\n",
       "    </tr>\n",
       "  </tbody>\n",
       "</table>\n",
       "</div>"
      ],
      "text/plain": [
       "      raster_val                                           geometry  \\\n",
       "227    55.552124  POLYGON ((-112.7755713368735 33.96208090051934...   \n",
       "502     1.420686  POLYGON ((-112.6780199203052 33.92375712972463...   \n",
       "611     0.797012  POLYGON ((-112.1449711083425 33.90982121307201...   \n",
       "778     9.877358  POLYGON ((-112.0787755042426 33.88194937976678...   \n",
       "1114    3.410752  POLYGON ((-111.8453489003112 33.864529483951, ...   \n",
       "\n",
       "       intct_den  Paces_bus  Paces_shop  Baces_bus  Baces_shop  \\\n",
       "227    73.022034        0.0         0.0        0.0         0.0   \n",
       "502    82.559822        0.0         0.0        0.0         0.0   \n",
       "611    98.245763        1.0         1.0        1.0         1.0   \n",
       "778    84.991121        1.0         0.0        1.0         0.0   \n",
       "1114  125.190765        1.0         0.0        1.0         0.0   \n",
       "\n",
       "      raster_val_zscore  intct_den_zscore  Paces_bus_zscore  \\\n",
       "227           -0.546229         -0.226970         -1.006354   \n",
       "502           -1.026411          0.148773         -1.006354   \n",
       "611           -1.031943          0.766724          1.002125   \n",
       "778           -0.951395          0.244555          1.002125   \n",
       "1114          -1.008758          1.828228          1.002125   \n",
       "\n",
       "      Paces_shop_zscore  Baces_bus_zscore  Baces_shop_zscore  \n",
       "227           -1.036471         -0.823697          -1.045250  \n",
       "502           -1.036471         -0.823697          -1.045250  \n",
       "611            0.973014          1.224764           0.964847  \n",
       "778           -1.036471          1.224764          -1.045250  \n",
       "1114          -1.036471          1.224764          -1.045250  "
      ]
     },
     "execution_count": 88,
     "metadata": {},
     "output_type": "execute_result"
    }
   ],
   "source": [
    "df_columns = ['raster_val', 'intct_den', 'intct_den', 'Paces_bus', 'Paces_shop', 'Baces_bus', 'Baces_shop']\n",
    "pop_grid_zscore_df = cal_zscores_df(pop_gdf_notnull, df_columns)\n",
    "pop_grid_zscore_df.head()"
   ]
  },
  {
   "cell_type": "markdown",
   "metadata": {},
   "source": [
    "## 4. Sum z-scores for a walkability index"
   ]
  },
  {
   "cell_type": "code",
   "execution_count": 89,
   "metadata": {},
   "outputs": [],
   "source": [
    "# Sum z-scores for a walkability index calculated for 250m grid cells\n",
    "pop_grid_zscore_df['walk_index'] = pop_grid_zscore_df['raster_val_zscore'] + pop_grid_zscore_df['intct_den_zscore'] + pop_grid_zscore_df['Paces_bus_zscore'] + pop_grid_zscore_df['Paces_shop_zscore']"
   ]
  },
  {
   "cell_type": "markdown",
   "metadata": {},
   "source": [
    "## Walkability index webmap"
   ]
  },
  {
   "cell_type": "code",
   "execution_count": 90,
   "metadata": {},
   "outputs": [],
   "source": [
    "pop_grid_zscore_gdf = gpd.GeoDataFrame(pop_grid_zscore_df, geometry='geometry')"
   ]
  },
  {
   "cell_type": "code",
   "execution_count": 91,
   "metadata": {},
   "outputs": [
    {
     "data": {
      "image/png": "[encoded data removed]",
      "text/plain": [
       "<Figure size 432x288 with 1 Axes>"
      ]
     },
     "metadata": {
      "needs_background": "light"
     },
     "output_type": "display_data"
    }
   ],
   "source": [
    "ax = pop_grid_zscore_gdf.plot(column='walk_index', scheme='quantiles', k=6, cmap='YlOrBr')\n",
    "plt.show()"
   ]
  },
  {
   "cell_type": "code",
   "execution_count": 122,
   "metadata": {},
   "outputs": [],
   "source": [
    "# load study region boundary file and project to lat-long\n",
    "clipping_boundary = gpd.GeoDataFrame.from_file(boundary_filepath)\n",
    "clipping_boundary = clipping_boundary.to_crs(to_crs)\n",
    "\n",
    "pop_grid_zscore_gdf.crs = to_crs\n",
    "pop_grid_zscore_gdf_json = pop_grid_zscore_gdf.to_json()"
   ]
  },
  {
   "cell_type": "code",
   "execution_count": 132,
   "metadata": {},
   "outputs": [
    {
     "name": "stdout",
     "output_type": "stream",
     "text": [
      "\n",
      "Please inspect results using interactive map saved in project maps folder: 02_walk_index_phoenix.html\n",
      "\n"
     ]
    }
   ],
   "source": [
    "centroid = clipping_boundary.geometry.centroid\n",
    "bins = list(pop_grid_zscore_gdf['walk_index'].quantile([0, 0.2, 0.4, 0.6, 0.8, 1]))\n",
    "\n",
    "# initialise map\n",
    "m = folium.Map(location=[centroid.y.mean(), centroid.x.mean()], zoom_start=9, tiles=None, control_scale=True, prefer_canvas=True)\n",
    "\n",
    "m.add_tile_layer(tiles='OpenStreetMap', name='OpenStreetMap', overlay=True, active=True)\n",
    "\n",
    "# add data as choropleth\n",
    "b = folium.Choropleth(clipping_boundary.to_json(),\n",
    "                           name = 'study region boundary',\n",
    "                           fill_color = 'red',\n",
    "                           fill_opacity = 0,\n",
    "                           line_color = 'red', \n",
    "                           highlight = False).add_to(m)\n",
    "\n",
    "c = folium.Choropleth(pop_grid_zscore_gdf_json, data=pop_grid_zscore_gdf['walk_index'], bins=bins,\n",
    "                      columns=['geometry', 'walk_index'], \n",
    "                      key_on='feature.properties.geometry', \n",
    "                      highlight=True, fill_color='YlGnBu',\n",
    "                      fill_opacity = 0.5, line_color = 'green', line_opacity=0.5,\n",
    "                      legend_name='Walkability index per pixel',\n",
    "                      name='Walkability index, 250m grid', reset=True).add_to(m)\n",
    "\n",
    "\n",
    "# add mouseover tooltip to the countries\n",
    "c.geojson.add_child(folium.features.GeoJsonTooltip(['walk_index']))\n",
    "\n",
    "folium.LayerControl().add_to(m)\n",
    "\n",
    "# save map\n",
    "map_name = '02_walk_index_{}.html'.format(placename)\n",
    "m.save('../maps/{}'.format(map_name))\n",
    "print(\"\\nPlease inspect results using interactive map saved in project maps folder: {}\\n\".format(map_name)) "
   ]
  },
  {
   "cell_type": "code",
   "execution_count": null,
   "metadata": {},
   "outputs": [],
   "source": []
  }
 ],
 "metadata": {
  "kernelspec": {
   "display_name": "Python 3.6",
   "language": "python",
   "name": "ind_global"
  },
  "language_info": {
   "codemirror_mode": {
    "name": "ipython",
    "version": 3
   },
   "file_extension": ".py",
   "mimetype": "text/x-python",
   "name": "python",
   "nbconvert_exporter": "python",
   "pygments_lexer": "ipython3",
   "version": "3.6.7"
  }
 },
 "nbformat": 4,
 "nbformat_minor": 2
}
