{
 "cells": [
  {
   "cell_type": "markdown",
   "metadata": {},
   "source": [
    "# Global indicator project - Phoenix, Arizona\n",
    "\n",
    "## Pandana network accessibility - amenities\n",
    "This notebook uses [pandana](https://udst.github.io/pandana/network.html) to download points-of-interest data from OpenStreetMap.\n"
   ]
  },
  {
   "cell_type": "code",
   "execution_count": 3,
   "metadata": {},
   "outputs": [
    {
     "data": {
      "text/plain": [
       "['/Users/NGAU/miniconda3/envs/ind_global/lib/python3.6/site-packages/pandana']"
      ]
     },
     "execution_count": 3,
     "metadata": {},
     "output_type": "execute_result"
    }
   ],
   "source": [
    "import matplotlib.pyplot as plt\n",
    "import networkx as nx\n",
    "import osmnx as ox\n",
    "import numpy as np\n",
    "import requests\n",
    "import pandas as pd\n",
    "import geopandas as gpd\n",
    "import os\n",
    "import time \n",
    "\n",
    "import config\n",
    "\n",
    "import pandana\n",
    "from pandana.loaders import osm\n",
    "\n",
    "ox.config(use_cache=True, log_console=True)\n",
    "pandana.__path__"
   ]
  },
  {
   "cell_type": "markdown",
   "metadata": {},
   "source": [
    "## Set up configuration "
   ]
  },
  {
   "cell_type": "code",
   "execution_count": 16,
   "metadata": {},
   "outputs": [],
   "source": [
    "place = 'phoenix' \n",
    "\n",
    "region = 'Arizona, USA' # study region name\n",
    "\n",
    "studyregion = 'Phoenix, Arizona, USA'\n",
    "\n",
    "suffix = '_201905'\n",
    "\n",
    "# configure search at a max distance of 1 km for up to the 10 nearest points-of-interest\n",
    "shop = ['supermarket', 'convenience']\n",
    "\n",
    "# configure filenames to save/load POI and network datasets\n",
    "OSM_folder = '../data/OSM'\n",
    "\n",
    "G_filename = '{studyregion}_walk{suffix}.graphml'.format(studyregion = studyregion, suffix = suffix)\n",
    "poi_filename = '{}_pois_{}.csv'.format(place, '_'.join(shop))\n",
    "\n",
    "G_filepath = OSM_folder + \"/\" + G_filename\n",
    "poi_filepath = OSM_folder + \"/\" + poi_filename"
   ]
  },
  {
   "cell_type": "code",
   "execution_count": 32,
   "metadata": {},
   "outputs": [
    {
     "data": {
      "text/plain": [
       "[33.2903739, -112.3240289, 33.9183794, -111.9255201]"
      ]
     },
     "execution_count": 32,
     "metadata": {},
     "output_type": "execute_result"
    }
   ],
   "source": [
    "# get bounding box from study region boundary shapefile\n",
    "shape_filepath = '../data/OSM/Phoenix, Arizona, USA_buffered_201905/Phoenix, Arizona, USA_buffered_201905.shp'\n",
    "\n",
    "gdf_shape = gpd.GeoDataFrame.from_file(shape_filepath)\n",
    "bbox = [gdf_shape['bbox_south'].astype(float)[0], gdf_shape['bbox_west'].astype(float)[0], gdf_shape['bbox_north'].astype(float)[0], gdf_shape['bbox_east'].astype(float)[0]] #lat-long bounding box for Phx\n",
    "bbox"
   ]
  },
  {
   "cell_type": "markdown",
   "metadata": {},
   "source": [
    "## Download points of interest (POIs) from OSM\n",
    "What amenities are considered for daily living pois? - [OSMtag](https://taginfo.openstreetmap.org/keys/amenity): shop=supermarket, convenience"
   ]
  },
  {
   "cell_type": "code",
   "execution_count": 29,
   "metadata": {},
   "outputs": [],
   "source": [
    "def get_osm_pois(poi_filepath=poi_filepath, shop=shop, bbox=bbox):\n",
    "    if os.path.isfile(poi_filepath):\n",
    "        # if a points-of-interest file already exists, just load the dataset from that\n",
    "        pois = pd.read_csv(poi_filepath)\n",
    "        method = 'loaded from CSV'\n",
    "    else:   \n",
    "        # otherwise, query the OSM API for the specified amenities within the bounding box \n",
    "        osm_tags = '\"shop\"~\"{}\"'.format('|'.join(shop))\n",
    "        pois = osm.node_query(bbox[0], bbox[1], bbox[2], bbox[3], tags=osm_tags)\n",
    "\n",
    "        # drop any that aren't just 'shop' then save to CSV\n",
    "        pois = pois[pois['shop'].isin(shop)]\n",
    "        pois.to_csv(poi_filepath, index=False, encoding='utf-8')\n",
    "        method = 'downloaded from OSM'\n",
    "    pois_df = pois[['shop', 'name', 'lat', 'lon']]\n",
    "    return pois_df\n",
    "    "
   ]
  },
  {
   "cell_type": "code",
   "execution_count": 30,
   "metadata": {},
   "outputs": [
    {
     "name": "stdout",
     "output_type": "stream",
     "text": [
      "403 POIs downloaded from OSM in 0.99 seconds\n"
     ]
    },
    {
     "data": {
      "text/html": [
       "<div>\n",
       "<style scoped>\n",
       "    .dataframe tbody tr th:only-of-type {\n",
       "        vertical-align: middle;\n",
       "    }\n",
       "\n",
       "    .dataframe tbody tr th {\n",
       "        vertical-align: top;\n",
       "    }\n",
       "\n",
       "    .dataframe thead th {\n",
       "        text-align: right;\n",
       "    }\n",
       "</style>\n",
       "<table border=\"1\" class=\"dataframe\">\n",
       "  <thead>\n",
       "    <tr style=\"text-align: right;\">\n",
       "      <th></th>\n",
       "      <th>shop</th>\n",
       "      <th>name</th>\n",
       "      <th>lat</th>\n",
       "      <th>lon</th>\n",
       "    </tr>\n",
       "    <tr>\n",
       "      <th>id</th>\n",
       "      <th></th>\n",
       "      <th></th>\n",
       "      <th></th>\n",
       "      <th></th>\n",
       "    </tr>\n",
       "  </thead>\n",
       "  <tbody>\n",
       "    <tr>\n",
       "      <th>158170307</th>\n",
       "      <td>supermarket</td>\n",
       "      <td>Safeway</td>\n",
       "      <td>33.488551</td>\n",
       "      <td>-112.081794</td>\n",
       "    </tr>\n",
       "    <tr>\n",
       "      <th>194872171</th>\n",
       "      <td>convenience</td>\n",
       "      <td>7-Eleven</td>\n",
       "      <td>33.480013</td>\n",
       "      <td>-112.029747</td>\n",
       "    </tr>\n",
       "    <tr>\n",
       "      <th>315987032</th>\n",
       "      <td>supermarket</td>\n",
       "      <td>Fry's Marketplace</td>\n",
       "      <td>33.321899</td>\n",
       "      <td>-111.930303</td>\n",
       "    </tr>\n",
       "    <tr>\n",
       "      <th>316912138</th>\n",
       "      <td>supermarket</td>\n",
       "      <td>Fry's Food &amp; Drug</td>\n",
       "      <td>33.379098</td>\n",
       "      <td>-111.976857</td>\n",
       "    </tr>\n",
       "    <tr>\n",
       "      <th>319992591</th>\n",
       "      <td>convenience</td>\n",
       "      <td>NaN</td>\n",
       "      <td>33.348719</td>\n",
       "      <td>-111.953919</td>\n",
       "    </tr>\n",
       "  </tbody>\n",
       "</table>\n",
       "</div>"
      ],
      "text/plain": [
       "                  shop               name        lat         lon\n",
       "id                                                              \n",
       "158170307  supermarket            Safeway  33.488551 -112.081794\n",
       "194872171  convenience           7-Eleven  33.480013 -112.029747\n",
       "315987032  supermarket  Fry's Marketplace  33.321899 -111.930303\n",
       "316912138  supermarket  Fry's Food & Drug  33.379098 -111.976857\n",
       "319992591  convenience                NaN  33.348719 -111.953919"
      ]
     },
     "execution_count": 30,
     "metadata": {},
     "output_type": "execute_result"
    }
   ],
   "source": [
    "pois_df = get_osm_pois(poi_filepath=poi_filepath, shop=shop, bbox=bbox)\n",
    "pois_df.head()"
   ]
  }
 ],
 "metadata": {
  "kernelspec": {
   "display_name": "Python 3.6",
   "language": "python",
   "name": "ind_global"
  },
  "language_info": {
   "codemirror_mode": {
    "name": "ipython",
    "version": 3
   },
   "file_extension": ".py",
   "mimetype": "text/x-python",
   "name": "python",
   "nbconvert_exporter": "python",
   "pygments_lexer": "ipython3",
   "version": "3.6.7"
  }
 },
 "nbformat": 4,
 "nbformat_minor": 2
}
