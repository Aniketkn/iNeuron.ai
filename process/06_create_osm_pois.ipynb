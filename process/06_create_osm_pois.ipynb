{
 "cells": [
  {
   "cell_type": "markdown",
   "metadata": {},
   "source": [
    "# Global indicator project - Phoenix, Arizona\n",
    "\n",
    "## Accessibility analysis (Daily living score) - amenities/shops pois\n",
    "This notebook uses [pandana](https://udst.github.io/pandana/network.html) to download points-of-interests (Pois) data from OpenStreetMap within a defined study region bounding box. This is a varibale of daily living scores, which is the for access to three kinds of destinations for 'daily living' (supermarket, convenience, and public transport). We retrieve pois based on valid OSM tag for supermarket and convenience (i.e. \"shop\"~\"supermarket\"; \"shop\"~\"convenience\") which are considered as daily living destinations. Discussion remains for what should be considered as daily living destinations. \n"
   ]
  },
  {
   "cell_type": "code",
   "execution_count": 1,
   "metadata": {},
   "outputs": [
    {
     "data": {
      "text/plain": [
       "['/Users/NGAU/miniconda3/envs/ind_global/lib/python3.6/site-packages/pandana']"
      ]
     },
     "execution_count": 1,
     "metadata": {},
     "output_type": "execute_result"
    }
   ],
   "source": [
    "import pandana\n",
    "from pandana.loaders import osm\n",
    "\n",
    "from setup_OSMnetwork import *\n",
    "from config import *\n",
    "\n",
    "pandana.__path__"
   ]
  },
  {
   "cell_type": "code",
   "execution_count": 2,
   "metadata": {},
   "outputs": [
    {
     "data": {
      "text/plain": [
       "(-113.44197628074733,\n",
       " 32.414715167745996,\n",
       " -110.93231493458158,\n",
       " 34.13836571274371)"
      ]
     },
     "execution_count": 2,
     "metadata": {},
     "output_type": "execute_result"
    }
   ],
   "source": [
    "# get bounding box from study region boundary shapefile\n",
    "# get the 10 km buffered study region to consider the edge effects\n",
    "bbox = get_bufferedstudyregion_bbox(boundary_filepath, crs=crs, to_crs=to_crs, to_latlong=True)\n",
    "bbox"
   ]
  },
  {
   "cell_type": "code",
   "execution_count": 3,
   "metadata": {},
   "outputs": [
    {
     "name": "stdout",
     "output_type": "stream",
     "text": [
      "[32.414715167745996, -113.44197628074733, 34.13836571274371, -110.93231493458158]\n"
     ]
    }
   ],
   "source": [
    "# check the shapefile format, study region boundary shapefile should specify lat lon geometry\n",
    "# Bounding box should be formatted as a 4 element tuple: (lng_max, lat_min, lng_min, lat_max)\n",
    "bbox = [bbox[1], bbox[0], bbox[3], bbox[2]]\n",
    "print(bbox)"
   ]
  },
  {
   "cell_type": "markdown",
   "metadata": {},
   "source": [
    "## Download points of interest (POIs) from OSM\n",
    "What amenities are considered for daily living pois? - [OSMtag](https://taginfo.openstreetmap.org/keys/amenity): shop=supermarket, convenience"
   ]
  },
  {
   "cell_type": "code",
   "execution_count": 5,
   "metadata": {},
   "outputs": [
    {
     "data": {
      "text/html": [
       "<div>\n",
       "<style scoped>\n",
       "    .dataframe tbody tr th:only-of-type {\n",
       "        vertical-align: middle;\n",
       "    }\n",
       "\n",
       "    .dataframe tbody tr th {\n",
       "        vertical-align: top;\n",
       "    }\n",
       "\n",
       "    .dataframe thead th {\n",
       "        text-align: right;\n",
       "    }\n",
       "</style>\n",
       "<table border=\"1\" class=\"dataframe\">\n",
       "  <thead>\n",
       "    <tr style=\"text-align: right;\">\n",
       "      <th></th>\n",
       "      <th>shop</th>\n",
       "      <th>name</th>\n",
       "      <th>lat</th>\n",
       "      <th>lon</th>\n",
       "      <th>geometry</th>\n",
       "    </tr>\n",
       "  </thead>\n",
       "  <tbody>\n",
       "    <tr>\n",
       "      <th>0</th>\n",
       "      <td>supermarket</td>\n",
       "      <td>Safeway</td>\n",
       "      <td>33.488551</td>\n",
       "      <td>-112.081794</td>\n",
       "      <td>POINT (-112.0817935 33.4885505)</td>\n",
       "    </tr>\n",
       "    <tr>\n",
       "      <th>1</th>\n",
       "      <td>convenience</td>\n",
       "      <td>Circle K</td>\n",
       "      <td>33.334805</td>\n",
       "      <td>-111.806096</td>\n",
       "      <td>POINT (-111.8060957 33.3348051)</td>\n",
       "    </tr>\n",
       "    <tr>\n",
       "      <th>2</th>\n",
       "      <td>convenience</td>\n",
       "      <td>7-Eleven</td>\n",
       "      <td>33.480013</td>\n",
       "      <td>-112.029747</td>\n",
       "      <td>POINT (-112.0297471 33.4800128)</td>\n",
       "    </tr>\n",
       "    <tr>\n",
       "      <th>3</th>\n",
       "      <td>supermarket</td>\n",
       "      <td>Basha's</td>\n",
       "      <td>33.333295</td>\n",
       "      <td>-111.912173</td>\n",
       "      <td>POINT (-111.9121727 33.3332955)</td>\n",
       "    </tr>\n",
       "    <tr>\n",
       "      <th>4</th>\n",
       "      <td>supermarket</td>\n",
       "      <td>Fry's Marketplace</td>\n",
       "      <td>33.321899</td>\n",
       "      <td>-111.930303</td>\n",
       "      <td>POINT (-111.9303033 33.3218992)</td>\n",
       "    </tr>\n",
       "  </tbody>\n",
       "</table>\n",
       "</div>"
      ],
      "text/plain": [
       "          shop               name        lat         lon  \\\n",
       "0  supermarket            Safeway  33.488551 -112.081794   \n",
       "1  convenience           Circle K  33.334805 -111.806096   \n",
       "2  convenience           7-Eleven  33.480013 -112.029747   \n",
       "3  supermarket            Basha's  33.333295 -111.912173   \n",
       "4  supermarket  Fry's Marketplace  33.321899 -111.930303   \n",
       "\n",
       "                          geometry  \n",
       "0  POINT (-112.0817935 33.4885505)  \n",
       "1  POINT (-111.8060957 33.3348051)  \n",
       "2  POINT (-112.0297471 33.4800128)  \n",
       "3  POINT (-111.9121727 33.3332955)  \n",
       "4  POINT (-111.9303033 33.3218992)  "
      ]
     },
     "execution_count": 5,
     "metadata": {},
     "output_type": "execute_result"
    }
   ],
   "source": [
    "pois_df = get_osm_pois_gdf(poi_filepath=poi_filepath, shop=shop, bbox=bbox)\n",
    "pois_df.head()"
   ]
  },
  {
   "cell_type": "code",
   "execution_count": null,
   "metadata": {},
   "outputs": [],
   "source": []
  }
 ],
 "metadata": {
  "kernelspec": {
   "display_name": "Python 3.6",
   "language": "python",
   "name": "ind_global"
  },
  "language_info": {
   "codemirror_mode": {
    "name": "ipython",
    "version": 3
   },
   "file_extension": ".py",
   "mimetype": "text/x-python",
   "name": "python",
   "nbconvert_exporter": "python",
   "pygments_lexer": "ipython3",
   "version": "3.6.7"
  }
 },
 "nbformat": 4,
 "nbformat_minor": 2
}
