{
 "cells": [
  {
   "cell_type": "code",
   "execution_count": null,
   "metadata": {},
   "outputs": [],
   "source": [
    "# folder = '../data'\n",
    "folder = '../sample_data'\n",
    "to_crs = {'init': 'epsg:32632'}\n",
    "# graphmlName = '../data/odense_dk_2019_10000m_pedestrian_osm_20190902.graphml'\n",
    "graphmlName = '../ample_graphml'\n",
    "# graphmlProj_name = 'odense_dk_2019_10000m_pedestrian_osm_20190902_proj.graphml'\n",
    "graphmlProj_name = 'sample_graphml_proj'\n",
    "\n",
    "# geopackagePath = '../data/odense_dk_2019.gpkg'\n",
    "geopackagePath = '../sample_data/sample_odense.gpkg'\n",
    "samplePoints = 'urban_sample_points'\n",
    "destinations = 'destinations'\n",
    "hex250 = 'pop_ghs_2015'\n",
    "nodes = 'nodes'\n",
    "edges = 'edges'\n",
    "# output_gpkgPath = '../data/global_indicators_city.gpkg'\n",
    "output_gpkgPath = '../sample_data/global_indicators_city.gpkg'\n",
    "\n",
    "\n"
   ]
  }
 ],
 "metadata": {
  "kernelspec": {
   "display_name": "Python 3",
   "language": "python",
   "name": "python3"
  },
  "language_info": {
   "codemirror_mode": {
    "name": "ipython",
    "version": 3
   },
   "file_extension": ".py",
   "mimetype": "text/x-python",
   "name": "python",
   "nbconvert_exporter": "python",
   "pygments_lexer": "ipython3",
   "version": "3.7.3"
  }
 },
 "nbformat": 4,
 "nbformat_minor": 4
}
