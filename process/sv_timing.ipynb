{
 "cells": [
  {
   "cell_type": "markdown",
   "metadata": {},
   "source": [
    "## Running the script on the whole dataset of Odense:\n",
    "\n",
    "The time to calculate average pop and intersection density is *10485.88s (2.93 hours or 175.81 minutes).*\n",
    "\n",
    "The time to calculate accessibility to POIs(supermarket, convenience, public open space, pt) using pandana is *62.84s.*\n",
    "\n",
    "The time to calculate hex aggregation is *6.20s.*\n",
    "\n",
    "Total time is *10554.92s (2.93 hours or 175.92 minutes)*"
   ]
  },
  {
   "cell_type": "markdown",
   "metadata": {},
   "source": []
  }
 ],
 "metadata": {
  "kernelspec": {
   "display_name": "Python 3",
   "language": "python",
   "name": "python3"
  },
  "language_info": {
   "codemirror_mode": {
    "name": "ipython",
    "version": 3
   },
   "file_extension": ".py",
   "mimetype": "text/x-python",
   "name": "python",
   "nbconvert_exporter": "python",
   "pygments_lexer": "ipython3",
   "version": "3.7.3"
  }
 },
 "nbformat": 4,
 "nbformat_minor": 4
}
