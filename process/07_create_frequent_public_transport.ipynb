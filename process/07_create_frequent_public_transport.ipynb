{
 "cells": [
  {
   "cell_type": "markdown",
   "metadata": {},
   "source": [
    "# Global indicator project - Phoenix, Arizona\n",
    "## Create frequent stop analysis - with GTFS data\n"
   ]
  },
  {
   "cell_type": "markdown",
   "metadata": {},
   "source": [
    "This notebook describes the process to load GTFS files using UrbanAccess (from UrbanSim) and generalises GTFS analysis developed by the Healthy Liveable Cities group in work lead by Jonathan Arundel in 2017 through 2019 for Australian state transit agency GTFS feeds. The scripts in this notebook is built on work of Jonathan Arundel (2017-2018) SQL and Carl Higgs python scripts (2019).  \n",
    "A handy guide to the format of GTFS fields is [here](https://developers.google.com/transit/gtfs/reference/#tripstxt).\n",
    "\n",
    "\n",
    "### Process:  \n",
    "1. Download or load GTFS data into an UrbanAccess transit data frame  \n",
    "2. Set up GTFS files in SQL databases\n",
    "3. Create 30min_stops_analysis (SQL functions)\n",
    "    - Identify stops qualify on a daily basis : First service departs before 7.30am; Last service departs on or after 6.30pm;  \n",
    "    - Has a maximum inter-departure time less than or equal to 30 minutes    \n",
    "4. Calendar_setup to filter 30min stops operated more than 90% of normal weekdays (SQL)  \n",
    "    - Identify feeds start and end dates that that a stop is a 30-minute frequency stop\n",
    "    - Calculate the number of total normal weekdays during calendar start and end date\n",
    "    - Calculate the number of weekdays that the frequent stop is in operation\n",
    "    - Calculate the percentage of weekdays that each frequent stop is in operation, select those with 90%\n",
    "\n",
    "5. Create frequent transit stop analysis with specified criteria and mode of transit (SQL)\n",
    "\n"
   ]
  },
  {
   "cell_type": "code",
   "execution_count": 1,
   "metadata": {},
   "outputs": [],
   "source": [
    "import psycopg2\n",
    "\n",
    "import sys\n",
    "import datetime\n",
    "import itertools\n",
    "from sqlalchemy import create_engine\n",
    "\n",
    "#load urbanaccess library\n",
    "import urbanaccess as ua\n",
    "from urbanaccess.utils import log\n",
    "from urbanaccess.config import settings\n",
    "from urbanaccess.gtfsfeeds import feeds\n",
    "from urbanaccess import gtfsfeeds\n",
    "from urbanaccess.gtfs.gtfsfeeds_dataframe import gtfsfeeds_dfs\n",
    "from urbanaccess.network import ua_network, load_network\n",
    "\n",
    "from setup_OSMnetwork import *\n",
    "from config import *"
   ]
  },
  {
   "cell_type": "code",
   "execution_count": 2,
   "metadata": {},
   "outputs": [],
   "source": [
    "# configure filenames to save/load POI and network datasets\n",
    "gtfs_folder = '/Volumes/Transcend/Global livibility project/global-indicators/data/Transport/gtfs_phx_201907'"
   ]
  },
  {
   "cell_type": "code",
   "execution_count": 5,
   "metadata": {},
   "outputs": [
    {
     "name": "stdout",
     "output_type": "stream",
     "text": [
      "(-113.44197628074733, 32.414715167745996, -110.93231493458158, 34.13836571274371)\n"
     ]
    }
   ],
   "source": [
    "# get bounding box from study region boundary shapefile\n",
    "# get the 10 km buffered study region to consider the edge effects\n",
    "bbox = get_bufferedstudyregion_bbox(boundary_filepath, crs=crs, to_crs=to_crs, to_latlong=True)\n",
    "print(bbox)"
   ]
  },
  {
   "cell_type": "markdown",
   "metadata": {},
   "source": [
    "## 1. Download or load GTFS data into an UrbanAccess transit data frame"
   ]
  },
  {
   "cell_type": "markdown",
   "metadata": {},
   "source": [
    "### Using UrbanAccess as source for:\n",
    "- The settings object\n",
    "- The feeds object and searching for GTFS feeds\n",
    "- Downloading GTFS data\n",
    "- Loading GTFS data into a UrbanAccess transit data object\n",
    "\n",
    "For UrbanAccess installation instructions see: https://udst.github.io/urbanaccess/installation.html\n",
    "\n",
    "Load the GTFS feeds (currently a series of text files stored on disk) into a combined network of Pandas DataFrames.\n",
    "\n",
    "- You can specify one feed or multiple feeds that are inside a root folder using the `gtfsfeed_path` parameter. If you want to aggregate multiple transit networks together, all the GTFS feeds you want to aggregate must be inside of a single root folder.\n",
    "- Turn on `validation` and set a bounding box with the `remove_stops_outsidebbox` parameter turned on to ensure all your GTFS feed data are within a specified area.\n"
   ]
  },
  {
   "cell_type": "markdown",
   "metadata": {},
   "source": [
    "Phoenix GTFS data from transitfeed.com https://transitfeeds.com/p/valley-metro/68"
   ]
  },
  {
   "cell_type": "code",
   "execution_count": 50,
   "metadata": {},
   "outputs": [],
   "source": [
    "gtfs_url = 'https://www.phoenixopendata.com/dataset/3eae9a4a-98b9-40c8-8df7-8c00c1756235/resource/28ccc0a5-49c8-495c-b91f-193de5ce2cb7/download/googletransit.zip'\n",
    "gtfs_provider = 'Phx Valley metro'"
   ]
  },
  {
   "cell_type": "code",
   "execution_count": 55,
   "metadata": {},
   "outputs": [],
   "source": [
    "def get_gtfs_dfs(gtfs_filepath, bbox, gtfs_url, gtfs_provider):\n",
    "    if os.path.exists(gtfs_filepath):\n",
    "        loaded_feeds = ua.gtfs.load.gtfsfeed_to_df(gtfsfeed_path=gtfs_filepath + '/' + 'gtfsfeed_text',\n",
    "                                           validation=True,\n",
    "                                           bbox=bbox,\n",
    "                                           remove_stops_outsidebbox=True,\n",
    "                                           append_definitions=True)\n",
    "    \n",
    "    \n",
    "    else:\n",
    "        #feeds.add_feed(add_dict={gtfs_provider: gtfs_url})\n",
    "        #feeds.to_dict()\n",
    "        gtfsfeeds.download(data_folder=gtfs_filepath, feed_name=gtfs_provider, feed_url=gtfs_url)\n",
    "        \n",
    "        loaded_feeds = ua.gtfs.load.gtfsfeed_to_df(gtfsfeed_path=gtfs_filepath + '/' + 'gtfsfeed_text',\n",
    "                                           validation=True,\n",
    "                                           bbox=bbox,\n",
    "                                           remove_stops_outsidebbox=True,\n",
    "                                           append_definitions=True)\n",
    "        \n",
    "    return loaded_feeds"
   ]
  },
  {
   "cell_type": "code",
   "execution_count": 56,
   "metadata": {},
   "outputs": [
    {
     "name": "stdout",
     "output_type": "stream",
     "text": [
      "../data/Transport/gtfs_phx_201907/gtfsfeed_zips does not exist. Directory was created\n",
      "1 GTFS feeds will be downloaded here: ../data/Transport/gtfs_phx_201907/gtfsfeed_zips\n",
      "Phx Valley metro GTFS feed downloaded successfully. Took 8.48 seconds for 17,911,934.0KB\n",
      "GTFS feed download completed. Took 8.48 seconds\n",
      "../data/Transport/gtfs_phx_201907/gtfsfeed_text does not exist. Directory was created\n",
      "Phx Valley metro.zip successfully extracted to: ../data/Transport/gtfs_phx_201907/gtfsfeed_text/Phx Valley metro\n",
      "GTFS feed zipfile extraction completed. Took 3.21 seconds for 1 files\n",
      "GTFS text file header whitespace check completed. Took 7.77 seconds\n",
      "--------------------------------\n",
      "Processing GTFS feed: Phx Valley metro\n",
      "The agency.txt or agency_id column was not found. The unique agency id: phx_valley_metro was generated using the name of the folder containing the GTFS feed text files.\n",
      "Unique agency id operation complete. Took 0.17 seconds\n",
      "Unique GTFS feed id operation complete. Took 0.02 seconds\n",
      "WARNING: Phx Valley metro GTFS feed stops: 1 of 7,939 (0.01 percent of total) record(s) are outside the bounding box coordinates\n",
      "Records: {}\n",
      "     stop_id  stop_code        stop_name  stop_desc   stop_lat    stop_lon  \\\n",
      "7849    9730    17112.0  2nd Av & 5th St        NaN  32.382707 -112.872186   \n",
      "\n",
      "      zone_id  stop_url  location_type parent_station district  \\\n",
      "7849      NaN       NaN              0            NaN      AJO   \n",
      "\n",
      "      unique_agency_id      unique_feed_id  \n",
      "7849  phx_valley_metro  phx_valley_metro_1  \n",
      "Removed identified stops that are outside of bounding box.\n",
      "Phx Valley metro GTFS feed stops: coordinates are in northwest hemisphere. Latitude = North (90); Longitude = West (-90).\n",
      "Appended route type to stops\n",
      "Appended route type to stop_times\n",
      "--------------------------------\n",
      "Added descriptive definitions to stops, routes, stop_times, and trips tables\n",
      "Successfully converted ['departure_time'] to seconds past midnight and appended new columns to stop_times. Took 8.95 seconds\n",
      "1 GTFS feed file(s) successfully read as dataframes:\n",
      "     Phx Valley metro\n",
      "     Took 26.69 seconds\n"
     ]
    }
   ],
   "source": [
    "loaded_feeds = get_gtfs_dfs(gtfs_filepath=gtfs_folder, bbox=bbox, gtfs_url=gtfs_url, gtfs_provider=gtfs_provider)"
   ]
  },
  {
   "cell_type": "markdown",
   "metadata": {},
   "source": [
    "### The transit data object"
   ]
  },
  {
   "cell_type": "markdown",
   "metadata": {},
   "source": [
    "The output is a global `urbanaccess_gtfs_df` object that can be accessed with the specified variable `loaded_feeds`. This object holds all the individual GTFS feed files aggregated together with each GTFS feed file type in separate Pandas DataFrames to represent all the loaded transit feeds in a metropolitan area. "
   ]
  },
  {
   "cell_type": "code",
   "execution_count": 34,
   "metadata": {},
   "outputs": [
    {
     "data": {
      "text/html": [
       "<div>\n",
       "<style scoped>\n",
       "    .dataframe tbody tr th:only-of-type {\n",
       "        vertical-align: middle;\n",
       "    }\n",
       "\n",
       "    .dataframe tbody tr th {\n",
       "        vertical-align: top;\n",
       "    }\n",
       "\n",
       "    .dataframe thead th {\n",
       "        text-align: right;\n",
       "    }\n",
       "</style>\n",
       "<table border=\"1\" class=\"dataframe\">\n",
       "  <thead>\n",
       "    <tr style=\"text-align: right;\">\n",
       "      <th></th>\n",
       "      <th>stop_id</th>\n",
       "      <th>stop_code</th>\n",
       "      <th>stop_name</th>\n",
       "      <th>stop_desc</th>\n",
       "      <th>stop_lat</th>\n",
       "      <th>stop_lon</th>\n",
       "      <th>zone_id</th>\n",
       "      <th>stop_url</th>\n",
       "      <th>location_type</th>\n",
       "      <th>parent_station</th>\n",
       "      <th>district</th>\n",
       "      <th>unique_agency_id</th>\n",
       "      <th>unique_feed_id</th>\n",
       "      <th>route_type</th>\n",
       "      <th>location_type_desc</th>\n",
       "    </tr>\n",
       "  </thead>\n",
       "  <tbody>\n",
       "    <tr>\n",
       "      <th>0</th>\n",
       "      <td>100</td>\n",
       "      <td>16619.0</td>\n",
       "      <td>Bell Rd &amp; 44th St</td>\n",
       "      <td>NaN</td>\n",
       "      <td>33.640488</td>\n",
       "      <td>-111.986041</td>\n",
       "      <td>NaN</td>\n",
       "      <td>NaN</td>\n",
       "      <td>0</td>\n",
       "      <td>NaN</td>\n",
       "      <td>PH</td>\n",
       "      <td>phx_valley_metro</td>\n",
       "      <td>phx_valley_metro_1</td>\n",
       "      <td>3.0</td>\n",
       "      <td>stop</td>\n",
       "    </tr>\n",
       "    <tr>\n",
       "      <th>1</th>\n",
       "      <td>1002</td>\n",
       "      <td>15234.0</td>\n",
       "      <td>Alice Av &amp; 66th Dr</td>\n",
       "      <td>NaN</td>\n",
       "      <td>33.563533</td>\n",
       "      <td>-112.200947</td>\n",
       "      <td>NaN</td>\n",
       "      <td>NaN</td>\n",
       "      <td>0</td>\n",
       "      <td>NaN</td>\n",
       "      <td>GL</td>\n",
       "      <td>phx_valley_metro</td>\n",
       "      <td>phx_valley_metro_1</td>\n",
       "      <td>3.0</td>\n",
       "      <td>stop</td>\n",
       "    </tr>\n",
       "    <tr>\n",
       "      <th>2</th>\n",
       "      <td>10021</td>\n",
       "      <td>16877.0</td>\n",
       "      <td>3rd St &amp; Taylor St</td>\n",
       "      <td>NaN</td>\n",
       "      <td>33.453121</td>\n",
       "      <td>-112.070083</td>\n",
       "      <td>NaN</td>\n",
       "      <td>NaN</td>\n",
       "      <td>0</td>\n",
       "      <td>NaN</td>\n",
       "      <td>PH</td>\n",
       "      <td>phx_valley_metro</td>\n",
       "      <td>phx_valley_metro_1</td>\n",
       "      <td>3.0</td>\n",
       "      <td>stop</td>\n",
       "    </tr>\n",
       "    <tr>\n",
       "      <th>3</th>\n",
       "      <td>1003</td>\n",
       "      <td>13532.0</td>\n",
       "      <td>Atlanta Av &amp; 11th Av</td>\n",
       "      <td>NaN</td>\n",
       "      <td>33.400036</td>\n",
       "      <td>-112.085804</td>\n",
       "      <td>NaN</td>\n",
       "      <td>NaN</td>\n",
       "      <td>0</td>\n",
       "      <td>NaN</td>\n",
       "      <td>PH</td>\n",
       "      <td>phx_valley_metro</td>\n",
       "      <td>phx_valley_metro_1</td>\n",
       "      <td>3.0</td>\n",
       "      <td>stop</td>\n",
       "    </tr>\n",
       "    <tr>\n",
       "      <th>4</th>\n",
       "      <td>1004</td>\n",
       "      <td>14926.0</td>\n",
       "      <td>Baseline Rd &amp; 19th Av</td>\n",
       "      <td>NaN</td>\n",
       "      <td>33.377644</td>\n",
       "      <td>-112.098529</td>\n",
       "      <td>NaN</td>\n",
       "      <td>NaN</td>\n",
       "      <td>0</td>\n",
       "      <td>NaN</td>\n",
       "      <td>PH</td>\n",
       "      <td>phx_valley_metro</td>\n",
       "      <td>phx_valley_metro_1</td>\n",
       "      <td>3.0</td>\n",
       "      <td>stop</td>\n",
       "    </tr>\n",
       "  </tbody>\n",
       "</table>\n",
       "</div>"
      ],
      "text/plain": [
       "  stop_id  stop_code              stop_name  stop_desc   stop_lat    stop_lon  \\\n",
       "0     100    16619.0      Bell Rd & 44th St        NaN  33.640488 -111.986041   \n",
       "1    1002    15234.0     Alice Av & 66th Dr        NaN  33.563533 -112.200947   \n",
       "2   10021    16877.0     3rd St & Taylor St        NaN  33.453121 -112.070083   \n",
       "3    1003    13532.0   Atlanta Av & 11th Av        NaN  33.400036 -112.085804   \n",
       "4    1004    14926.0  Baseline Rd & 19th Av        NaN  33.377644 -112.098529   \n",
       "\n",
       "   zone_id  stop_url  location_type parent_station district  unique_agency_id  \\\n",
       "0      NaN       NaN              0            NaN       PH  phx_valley_metro   \n",
       "1      NaN       NaN              0            NaN       GL  phx_valley_metro   \n",
       "2      NaN       NaN              0            NaN       PH  phx_valley_metro   \n",
       "3      NaN       NaN              0            NaN       PH  phx_valley_metro   \n",
       "4      NaN       NaN              0            NaN       PH  phx_valley_metro   \n",
       "\n",
       "       unique_feed_id  route_type location_type_desc  \n",
       "0  phx_valley_metro_1         3.0               stop  \n",
       "1  phx_valley_metro_1         3.0               stop  \n",
       "2  phx_valley_metro_1         3.0               stop  \n",
       "3  phx_valley_metro_1         3.0               stop  \n",
       "4  phx_valley_metro_1         3.0               stop  "
      ]
     },
     "execution_count": 34,
     "metadata": {},
     "output_type": "execute_result"
    }
   ],
   "source": [
    "loaded_feeds.stops.head()"
   ]
  },
  {
   "cell_type": "markdown",
   "metadata": {},
   "source": [
    "Quickly view the transit stop locations"
   ]
  },
  {
   "cell_type": "code",
   "execution_count": 35,
   "metadata": {},
   "outputs": [
    {
     "data": {
      "text/plain": [
       "<matplotlib.axes._subplots.AxesSubplot at 0x1213aa160>"
      ]
     },
     "execution_count": 35,
     "metadata": {},
     "output_type": "execute_result"
    },
    {
     "data": {
      "image/png": "[encoded data removed]",
      "text/plain": [
       "<Figure size 432x288 with 1 Axes>"
      ]
     },
     "metadata": {
      "needs_background": "light"
     },
     "output_type": "display_data"
    }
   ],
   "source": [
    "loaded_feeds.stops.plot(kind='scatter', x='stop_lon', y='stop_lat', s=0.1)"
   ]
  },
  {
   "cell_type": "code",
   "execution_count": 36,
   "metadata": {},
   "outputs": [
    {
     "data": {
      "text/plain": [
       "7938"
      ]
     },
     "execution_count": 36,
     "metadata": {},
     "output_type": "execute_result"
    }
   ],
   "source": [
    "len(loaded_feeds.stops)"
   ]
  },
  {
   "cell_type": "markdown",
   "metadata": {},
   "source": [
    "## 2. Run public transit frequency analysis with pre-specified SQL file"
   ]
  },
  {
   "cell_type": "markdown",
   "metadata": {},
   "source": [
    "First, install postgres, postgis, sqlalchemy, and psycopg2. Then create the database from command prompt if it doesn't already exist:\n",
    "\n",
    "```\n",
    "createdb -U postgres gtfs_phx_201907\n",
    "psql -U postgres -d gtfs_phx_201907 -c \"CREATE EXTENSION postgis;\"\n",
    "```\n",
    "More info in the psycopg2 docs: http://initd.org/psycopg/docs/usage.html\n",
    "\n",
    "This part connect to a postgres database and execute three pre-specified .SQL scripts: 'setup_gtfs_tables.sql'; 'parameterised_mode_freq_functions.sql'; 'frequent_stop_analysis.sql' to set up gtfs tables in the database, create functions for analysis, and analyse for frequent transport.  \n",
    "\n",
    "Note to work around SQL scripts:\n",
    "- Input data format, including which tables, which columns, which order and handling of nulls - you'll need to customise this for each city.  \n",
    "- Work out how stops for a mode can be identified; i.e. by agency_id (e.g. in Melbourne the bus, train and tram modes have different agencies, by route_type.  Update stop_analysis for stop identification.\n",
    "- Check if train stations are whole stations or platforms with a parent station and modify scripts accordingly.\n",
    "- For each mode and state check the number of frequent stops by date, sometimes the number will drop off because data is not yet loaded into the timetable, modify the end date accordingly."
   ]
  },
  {
   "cell_type": "markdown",
   "metadata": {},
   "source": [
    "### Set up configuration and SQL parameters"
   ]
  },
  {
   "cell_type": "code",
   "execution_count": 93,
   "metadata": {},
   "outputs": [],
   "source": [
    "# specify required GTFS files\n",
    "required_gtfs_files = ['agency.txt', 'calendar.txt', 'calendar_dates.txt', 'routes.txt', \n",
    "                  'shapes.txt', 'stop_times.txt', 'stops.txt', 'trips.txt'] \n",
    "\n",
    "# specify complete path for each file\n",
    "agency = gtfs_folder + '/' + 'gtfsfeed_text' + '/' + gtfs_provider + '/' + required_gtfs_files[0]\n",
    "calendar = gtfs_folder + '/' + 'gtfsfeed_text' + '/' + gtfs_provider + '/' + required_gtfs_files[1]\n",
    "calendar_dates = gtfs_folder + '/' + 'gtfsfeed_text' + '/' + gtfs_provider + '/' + required_gtfs_files[2]\n",
    "routes = gtfs_folder + '/' + 'gtfsfeed_text' + '/' + gtfs_provider + '/' + required_gtfs_files[3]\n",
    "shapes = gtfs_folder + '/' + 'gtfsfeed_text' + '/' + gtfs_provider + '/' + required_gtfs_files[4] \n",
    "stop_times = gtfs_folder + '/' + 'gtfsfeed_text' + '/' + gtfs_provider + '/' + required_gtfs_files[5]\n",
    "stops = gtfs_folder + '/' + 'gtfsfeed_text' + '/' + gtfs_provider + '/' + required_gtfs_files[6]\n",
    "trips = gtfs_folder + '/' + 'gtfsfeed_text' + '/' + gtfs_provider + '/' + required_gtfs_files[7]"
   ]
  },
  {
   "cell_type": "code",
   "execution_count": 94,
   "metadata": {},
   "outputs": [],
   "source": [
    "# define modes for GTFS feed(s) as per agency_id codes in agency.txt below\n",
    "modes = {\n",
    "         'rail':{'route_types':[0],'custom_mode':'', 'start_times':['07:00:00'],'end_times':['19:00:00'],'intervals':['00:30:00']},\n",
    "         'bus'  :{'route_types':[3],'custom_mode':'', 'start_times':['07:00:00'],'end_times':['19:00:00'],'intervals':['00:30:00']}\n",
    "         }\n",
    "\n",
    "# define month and day for \"representative period\" ie. not in school time; here example is July 15 to August 15\n",
    "# start_date_mmdd = 0715\n",
    "# end_date_mmdd = 0815\n",
    "start_date_mmdd = '0701'\n",
    "end_date_mmdd = '1027'"
   ]
  },
  {
   "cell_type": "code",
   "execution_count": 95,
   "metadata": {},
   "outputs": [],
   "source": [
    "#open and read SQL files\n",
    "with open('setup_gtfs_tables.sql', 'r') as myfile:\n",
    "    setup_sql = myfile.read()\n",
    "\n",
    "with open('parameterised_mode_freq_functions.sql', 'r') as myfile:\n",
    "    freq_analysis_function = myfile.read()\n",
    "\n",
    "with open('frequent_stop_analysis.sql', 'r') as myfile:\n",
    "    freq_analysis = myfile.read()\n",
    " "
   ]
  },
  {
   "cell_type": "code",
   "execution_count": 96,
   "metadata": {},
   "outputs": [],
   "source": [
    "#specify pgadmin user info\n",
    "pg_db = 'gtfs_phx_201907'\n",
    "pg_user = 'postgres'\n",
    "pg_host = 'localhost'\n",
    "pg_port = '5432'\n",
    "pg_pass = 'lsq00000'"
   ]
  },
  {
   "cell_type": "code",
   "execution_count": 97,
   "metadata": {},
   "outputs": [],
   "source": [
    "# specify modes parameters\n",
    "mode = 'bus'\n",
    "\n",
    "time_format  ='%H:%M:%S'\n",
    "short_time   = '%H%M'\n",
    "durations = list(itertools.product(modes[mode]['start_times'], modes[mode]['end_times']))\n",
    "for duration in durations:\n",
    "    start_time = duration[0]\n",
    "    end_time   = duration[1]\n",
    "    for interval in modes[mode]['intervals']:\n",
    "        interval  = datetime.datetime.strptime(interval,time_format)\n",
    "        interval_time  = datetime.timedelta(hours=interval.hour, minutes=interval.minute, seconds=interval.second)\n",
    "        buffer_start = (datetime.datetime.strptime(start_time, time_format) + interval_time)\n",
    "        buffer_end   = (datetime.datetime.strptime(end_time, time_format) - interval_time)"
   ]
  },
  {
   "cell_type": "code",
   "execution_count": 98,
   "metadata": {},
   "outputs": [],
   "source": [
    "#set up SQL with pre-specified modes parameters\n",
    "setup_gtfs_tables = ''\n",
    "setup_gtfs_tables = '{}\\n{}'.format(setup_gtfs_tables,\n",
    "                                    setup_sql.format(\n",
    "                                        agency         = agency,\n",
    "                                        calendar       = calendar,\n",
    "                                        calendar_dates = calendar_dates,\n",
    "                                        routes         = routes,\n",
    "                                        shapes         = shapes,\n",
    "                                        stop_times     = stop_times,\n",
    "                                        stops          = stops,\n",
    "                                        trips          = trips))\n",
    "                                        \n",
    "create_gtfs_analysis_functions = ''\n",
    "create_gtfs_analysis_functions = '{}\\n{}'.format(create_gtfs_analysis_functions,\n",
    "                                                 freq_analysis_function.format(\n",
    "                     mode               = mode                                     ,\n",
    "                     start_time         = start_time                               ,\n",
    "                     end_time           = end_time                                 ,\n",
    "                     buffer_start       = buffer_start.strftime(time_format)       ,\n",
    "                     buffer_end         = buffer_end.strftime(time_format)         ,\n",
    "                     buffer_start_short = buffer_start.strftime(short_time)        ,\n",
    "                     buffer_end_short   = buffer_end.strftime(short_time)          ,\n",
    "                     interval           = interval.strftime(time_format)            ,\n",
    "                     interval_short     = interval.strftime(short_time)            ,\n",
    "                     route_types        = \",\".join(['{}'.format(x) for x in modes[mode]['route_types']]),\n",
    "                     custom_mode        = modes[mode]['custom_mode']))\n",
    "\n",
    "\n",
    "gtfs_analysis = ''\n",
    "# deriving year, based on assumption suffix is _yyyymmdd\n",
    "year = 2019\n",
    "analysis_start_date = '{}{}'.format(year,start_date_mmdd)\n",
    "analysis_end_date   = '{}{}'.format(year,end_date_mmdd)\n",
    "gtfs_analysis = '{}\\n{}'.format(gtfs_analysis, \n",
    "                                freq_analysis.format(\n",
    "                     mode               = mode                                     ,\n",
    "                     start_date         = analysis_start_date                      ,\n",
    "                     end_date           = analysis_end_date                        ,\n",
    "                     start_time         = start_time                               ,\n",
    "                     end_time           = end_time                                 ,\n",
    "                     buffer_start       = buffer_start.strftime(time_format)       ,\n",
    "                     buffer_end         = buffer_end.strftime(time_format)         ,\n",
    "                     buffer_start_short = buffer_start.strftime(short_time)        ,\n",
    "                     buffer_end_short   = buffer_end.strftime(short_time)          ,\n",
    "                     interval           = interval.strftime(time_format)            ,\n",
    "                     interval_short     = interval.strftime(short_time)            ,\n",
    "                     route_types        = \",\".join(['{}'.format(x) for x in modes[mode]['route_types']]),\n",
    "                     custom_mode        = modes[mode]['custom_mode']))\n",
    "                                                                                           \n"
   ]
  },
  {
   "cell_type": "markdown",
   "metadata": {},
   "source": [
    "### execute SQL freqency analysis"
   ]
  },
  {
   "cell_type": "code",
   "execution_count": 99,
   "metadata": {},
   "outputs": [],
   "source": [
    "# define functions for executing the SQL commend\n",
    "def execute_ScriptsFromSQL(SQL_analysis):\n",
    "    # connect to the database\n",
    "    connection = psycopg2.connect(database=pg_db,\n",
    "                              user=pg_user,\n",
    "                              password=pg_pass,\n",
    "                              host=pg_host,\n",
    "                              port=pg_port)\n",
    "    \n",
    "    cursor = connection.cursor()\n",
    "    \n",
    "    \n",
    "    cursor.execute(SQL_analysis)\n",
    "    connection.commit()\n",
    "    connection.close()"
   ]
  },
  {
   "cell_type": "code",
   "execution_count": null,
   "metadata": {},
   "outputs": [],
   "source": [
    "# execute the SQL analyses files\n",
    "execute_ScriptsFromSQL(setup_gtfs_tables)\n",
    "execute_ScriptsFromSQL(create_gtfs_analysis_functions)\n",
    "execute_ScriptsFromSQL(gtfs_analysis)"
   ]
  },
  {
   "cell_type": "code",
   "execution_count": 101,
   "metadata": {},
   "outputs": [],
   "source": [
    "def get_gdf_fromSQLtable(SQL_tablename):\n",
    "    engine = create_engine(\"postgresql://{user}:{pwd}@{host}/{db}\".format(user = pg_user,\n",
    "                                                                      pwd  = pg_pass,\n",
    "                                                                      host = pg_host,\n",
    "                                                                      db   = pg_db))\n",
    "    df = pd.read_sql_table(SQL_tablename, con=engine)\n",
    "    df['geometry'] = df.apply(lambda row: Point(row['stop_lon'], row['stop_lat']), axis=1)\n",
    "    gdf = gpd.GeoDataFrame(df, geometry='geometry')\n",
    "    return gdf\n"
   ]
  },
  {
   "cell_type": "code",
   "execution_count": 102,
   "metadata": {},
   "outputs": [
    {
     "data": {
      "text/html": [
       "<div>\n",
       "<style scoped>\n",
       "    .dataframe tbody tr th:only-of-type {\n",
       "        vertical-align: middle;\n",
       "    }\n",
       "\n",
       "    .dataframe tbody tr th {\n",
       "        vertical-align: top;\n",
       "    }\n",
       "\n",
       "    .dataframe thead th {\n",
       "        text-align: right;\n",
       "    }\n",
       "</style>\n",
       "<table border=\"1\" class=\"dataframe\">\n",
       "  <thead>\n",
       "    <tr style=\"text-align: right;\">\n",
       "      <th></th>\n",
       "      <th>route_type</th>\n",
       "      <th>stop_id</th>\n",
       "      <th>stop_name</th>\n",
       "      <th>stop_lat</th>\n",
       "      <th>stop_lon</th>\n",
       "      <th>geometry</th>\n",
       "    </tr>\n",
       "  </thead>\n",
       "  <tbody>\n",
       "    <tr>\n",
       "      <th>0</th>\n",
       "      <td>3</td>\n",
       "      <td>7125</td>\n",
       "      <td>Van Buren St &amp; 21st Av</td>\n",
       "      <td>33.451319</td>\n",
       "      <td>-112.105049</td>\n",
       "      <td>POINT (-112.1050493 33.45131936)</td>\n",
       "    </tr>\n",
       "    <tr>\n",
       "      <th>1</th>\n",
       "      <td>3</td>\n",
       "      <td>20011</td>\n",
       "      <td>40th St &amp; Elwood St</td>\n",
       "      <td>33.414488</td>\n",
       "      <td>-111.995519</td>\n",
       "      <td>POINT (-111.9955192 33.41448848)</td>\n",
       "    </tr>\n",
       "    <tr>\n",
       "      <th>2</th>\n",
       "      <td>3</td>\n",
       "      <td>9384</td>\n",
       "      <td>40th St &amp; Cholla St</td>\n",
       "      <td>33.589620</td>\n",
       "      <td>-111.995879</td>\n",
       "      <td>POINT (-111.9958789 33.58961953)</td>\n",
       "    </tr>\n",
       "    <tr>\n",
       "      <th>3</th>\n",
       "      <td>3</td>\n",
       "      <td>3797</td>\n",
       "      <td>24th St &amp; Campbell Av</td>\n",
       "      <td>33.501490</td>\n",
       "      <td>-112.030343</td>\n",
       "      <td>POINT (-112.0303433 33.50149027)</td>\n",
       "    </tr>\n",
       "    <tr>\n",
       "      <th>4</th>\n",
       "      <td>3</td>\n",
       "      <td>30139</td>\n",
       "      <td>Ray Rd &amp; Hamilton St</td>\n",
       "      <td>33.320840</td>\n",
       "      <td>-111.833390</td>\n",
       "      <td>POINT (-111.83339 33.32084)</td>\n",
       "    </tr>\n",
       "  </tbody>\n",
       "</table>\n",
       "</div>"
      ],
      "text/plain": [
       "   route_type stop_id               stop_name   stop_lat    stop_lon  \\\n",
       "0           3    7125  Van Buren St & 21st Av  33.451319 -112.105049   \n",
       "1           3   20011     40th St & Elwood St  33.414488 -111.995519   \n",
       "2           3    9384     40th St & Cholla St  33.589620 -111.995879   \n",
       "3           3    3797   24th St & Campbell Av  33.501490 -112.030343   \n",
       "4           3   30139    Ray Rd & Hamilton St  33.320840 -111.833390   \n",
       "\n",
       "                           geometry  \n",
       "0  POINT (-112.1050493 33.45131936)  \n",
       "1  POINT (-111.9955192 33.41448848)  \n",
       "2  POINT (-111.9958789 33.58961953)  \n",
       "3  POINT (-112.0303433 33.50149027)  \n",
       "4       POINT (-111.83339 33.32084)  "
      ]
     },
     "execution_count": 102,
     "metadata": {},
     "output_type": "execute_result"
    }
   ],
   "source": [
    "stop_30_mins_bus_final = get_gdf_fromSQLtable('bus_0030_stop_final')\n",
    "stop_30_mins_bus_final.head()"
   ]
  },
  {
   "cell_type": "code",
   "execution_count": 103,
   "metadata": {},
   "outputs": [
    {
     "data": {
      "text/html": [
       "<div>\n",
       "<style scoped>\n",
       "    .dataframe tbody tr th:only-of-type {\n",
       "        vertical-align: middle;\n",
       "    }\n",
       "\n",
       "    .dataframe tbody tr th {\n",
       "        vertical-align: top;\n",
       "    }\n",
       "\n",
       "    .dataframe thead th {\n",
       "        text-align: right;\n",
       "    }\n",
       "</style>\n",
       "<table border=\"1\" class=\"dataframe\">\n",
       "  <thead>\n",
       "    <tr style=\"text-align: right;\">\n",
       "      <th></th>\n",
       "      <th>route_type</th>\n",
       "      <th>stop_id</th>\n",
       "      <th>stop_name</th>\n",
       "      <th>stop_lat</th>\n",
       "      <th>stop_lon</th>\n",
       "      <th>geometry</th>\n",
       "    </tr>\n",
       "  </thead>\n",
       "  <tbody>\n",
       "    <tr>\n",
       "      <th>0</th>\n",
       "      <td>0</td>\n",
       "      <td>9022</td>\n",
       "      <td>Smith-Martin/Apache Blvd</td>\n",
       "      <td>33.414792</td>\n",
       "      <td>-111.900800</td>\n",
       "      <td>POINT (-111.9008 33.414792)</td>\n",
       "    </tr>\n",
       "    <tr>\n",
       "      <th>1</th>\n",
       "      <td>0</td>\n",
       "      <td>9043</td>\n",
       "      <td>Mill Ave/3rd St</td>\n",
       "      <td>33.427543</td>\n",
       "      <td>-111.940178</td>\n",
       "      <td>POINT (-111.940178 33.427543)</td>\n",
       "    </tr>\n",
       "    <tr>\n",
       "      <th>2</th>\n",
       "      <td>0</td>\n",
       "      <td>9032</td>\n",
       "      <td>3rd St/Washington</td>\n",
       "      <td>33.448360</td>\n",
       "      <td>-112.070662</td>\n",
       "      <td>POINT (-112.070662 33.44836)</td>\n",
       "    </tr>\n",
       "    <tr>\n",
       "      <th>3</th>\n",
       "      <td>0</td>\n",
       "      <td>6655</td>\n",
       "      <td>Glendale/19th Ave</td>\n",
       "      <td>33.537453</td>\n",
       "      <td>-112.099685</td>\n",
       "      <td>POINT (-112.099685 33.537453)</td>\n",
       "    </tr>\n",
       "    <tr>\n",
       "      <th>4</th>\n",
       "      <td>0</td>\n",
       "      <td>9502</td>\n",
       "      <td>Mesa Dr/Main St</td>\n",
       "      <td>33.415066</td>\n",
       "      <td>-111.822135</td>\n",
       "      <td>POINT (-111.822135 33.415066)</td>\n",
       "    </tr>\n",
       "  </tbody>\n",
       "</table>\n",
       "</div>"
      ],
      "text/plain": [
       "   route_type stop_id                 stop_name   stop_lat    stop_lon  \\\n",
       "0           0    9022  Smith-Martin/Apache Blvd  33.414792 -111.900800   \n",
       "1           0    9043           Mill Ave/3rd St  33.427543 -111.940178   \n",
       "2           0    9032         3rd St/Washington  33.448360 -112.070662   \n",
       "3           0    6655         Glendale/19th Ave  33.537453 -112.099685   \n",
       "4           0    9502           Mesa Dr/Main St  33.415066 -111.822135   \n",
       "\n",
       "                        geometry  \n",
       "0    POINT (-111.9008 33.414792)  \n",
       "1  POINT (-111.940178 33.427543)  \n",
       "2   POINT (-112.070662 33.44836)  \n",
       "3  POINT (-112.099685 33.537453)  \n",
       "4  POINT (-111.822135 33.415066)  "
      ]
     },
     "execution_count": 103,
     "metadata": {},
     "output_type": "execute_result"
    }
   ],
   "source": [
    "stop_30_mins_rail_final = get_gdf_fromSQLtable('rail_0030_stop_final')\n",
    "stop_30_mins_rail_final.head()"
   ]
  },
  {
   "cell_type": "code",
   "execution_count": 104,
   "metadata": {},
   "outputs": [],
   "source": [
    "# save frequent transport dataframe\n",
    "frequent_busstop_filepath = \"../data/Transport/gtfs_phx/stop_30_mins_bus_final.csv\"\n",
    "frequent_railstop_filepath = \"../data/Transport/gtfs_phx/stop_30_mins_rail_final.csv\"\n",
    "\n",
    "stop_30_mins_bus_final.to_csv(frequent_busstop_filepath)\n",
    "stop_30_mins_rail_final.to_csv(frequent_railstop_filepath)\n"
   ]
  },
  {
   "cell_type": "markdown",
   "metadata": {},
   "source": [
    "### transit mode freqeuncy analysis"
   ]
  },
  {
   "cell_type": "code",
   "execution_count": 17,
   "metadata": {},
   "outputs": [],
   "source": [
    "union_tables_by_mode = []\n",
    "summarise_tables_by_mode = []\n",
    "from_tables_by_mode = []\n",
    "\n",
    "for mode in modes:\n",
    "    text = '''SELECT * FROM {mode}_0030_stop_final'''.format(mode = mode)\n",
    "    union_tables_by_mode.append(text)\n",
    "    text = '''\n",
    "    {mode}_freq, \n",
    "    {mode},\n",
    "    round(100*({mode}_freq /NULLIF({mode}::float,0))::numeric,2) AS {mode}_freq_pct'''.format(mode = mode)\n",
    "    summarise_tables_by_mode.append(text)\n",
    "    text = '''\n",
    "    (SELECT COUNT(*) FROM {mode}_0030_stop_final) AS {mode}_freq,\n",
    "    (SELECT COUNT(*) FROM stop_{mode}) AS {mode}'''.format(mode = mode)\n",
    "    from_tables_by_mode.append(text)\n",
    "    \n",
    "union_tables_by_mode = '\\nUNION ALL\\n'.join(union_tables_by_mode)\n",
    "summarise_tables_by_mode = ','.join(summarise_tables_by_mode)\n",
    "from_tables_by_mode = ','.join(from_tables_by_mode)"
   ]
  },
  {
   "cell_type": "code",
   "execution_count": 104,
   "metadata": {},
   "outputs": [
    {
     "data": {
      "text/html": [
       "<div>\n",
       "<style scoped>\n",
       "    .dataframe tbody tr th:only-of-type {\n",
       "        vertical-align: middle;\n",
       "    }\n",
       "\n",
       "    .dataframe tbody tr th {\n",
       "        vertical-align: top;\n",
       "    }\n",
       "\n",
       "    .dataframe thead th {\n",
       "        text-align: right;\n",
       "    }\n",
       "</style>\n",
       "<table border=\"1\" class=\"dataframe\">\n",
       "  <thead>\n",
       "    <tr style=\"text-align: right;\">\n",
       "      <th></th>\n",
       "      <th>rail_freq</th>\n",
       "      <th>rail</th>\n",
       "      <th>rail_freq_pct</th>\n",
       "      <th>bus_freq</th>\n",
       "      <th>bus</th>\n",
       "      <th>bus_freq_pct</th>\n",
       "    </tr>\n",
       "  </thead>\n",
       "  <tbody>\n",
       "    <tr>\n",
       "      <th>0</th>\n",
       "      <td>76</td>\n",
       "      <td>80</td>\n",
       "      <td>95.0</td>\n",
       "      <td>3574</td>\n",
       "      <td>7818</td>\n",
       "      <td>45.72</td>\n",
       "    </tr>\n",
       "  </tbody>\n",
       "</table>\n",
       "</div>"
      ],
      "text/plain": [
       "   rail_freq  rail  rail_freq_pct  bus_freq   bus  bus_freq_pct\n",
       "0         76    80           95.0      3574  7818         45.72"
      ]
     },
     "execution_count": 104,
     "metadata": {},
     "output_type": "execute_result"
    }
   ],
   "source": [
    "create_combined_analysis_results = '''\n",
    "        ------------------------------\n",
    "        -- Combine 30 minutes stops -- \n",
    "        ------------------------------\n",
    "        DROP TABLE IF EXISTS stop_0030_final;\n",
    "        CREATE TABLE stop_0030_final AS\n",
    "        SELECT\n",
    "          *\n",
    "        FROM (\n",
    "          {union_tables_by_mode}\n",
    "        ) s\n",
    "        ;\n",
    "        DROP TABLE IF EXISTS mode_freq_comparison;\n",
    "        CREATE TABLE mode_freq_comparison AS\n",
    "        SELECT {summarise_tables_by_mode}\n",
    "        FROM (SELECT \n",
    "              {from_tables_by_mode}\n",
    "              ) t;\n",
    "        '''.format(union_tables_by_mode = union_tables_by_mode,\n",
    "                   summarise_tables_by_mode = summarise_tables_by_mode,\n",
    "                   from_tables_by_mode = from_tables_by_mode)\n",
    "\n",
    "execute_ScriptsFromSQL(create_combined_analysis_results)\n",
    "        \n",
    "mode_freq_comparison = get_df_fromSQLtables('mode_freq_comparison')\n",
    "mode_freq_comparison"
   ]
  },
  {
   "cell_type": "markdown",
   "metadata": {},
   "source": [
    "### plot bus stop and freqent bus stop"
   ]
  },
  {
   "cell_type": "code",
   "execution_count": 18,
   "metadata": {},
   "outputs": [],
   "source": [
    "all_stops_gdf = get_gdf_fromSQLtable('stops')"
   ]
  },
  {
   "cell_type": "code",
   "execution_count": 25,
   "metadata": {},
   "outputs": [
    {
     "data": {
      "image/png": "[encoded data removed]",
      "text/plain": [
       "<Figure size 720x720 with 1 Axes>"
      ]
     },
     "metadata": {
      "needs_background": "light"
     },
     "output_type": "display_data"
    }
   ],
   "source": [
    "fig, ax = plt.subplots(figsize=(10, 10))\n",
    "ax = all_stops_gdf.plot(ax=ax, color='green', marker='+', markersize=5, alpha=0.6)\n",
    "ax = stop_30_mins_bus_final.plot(ax=ax, color='blue', marker='o', markersize=5, alpha=0.8)\n",
    "ax = stop_30_mins_rail_final.plot(ax=ax, color='red', marker='o', markersize=5, alpha=0.9)\n",
    "ax.set_xlim(-112.4, -111.6)\n",
    "ax.set_ylim(33.2, 33.8)\n",
    "#ax.set_axis_off()\n",
    "\n",
    "plt.show()"
   ]
  },
  {
   "cell_type": "code",
   "execution_count": null,
   "metadata": {},
   "outputs": [],
   "source": []
  }
 ],
 "metadata": {
  "kernelspec": {
   "display_name": "Python 3.6",
   "language": "python",
   "name": "ind_global"
  },
  "language_info": {
   "codemirror_mode": {
    "name": "ipython",
    "version": 3
   },
   "file_extension": ".py",
   "mimetype": "text/x-python",
   "name": "python",
   "nbconvert_exporter": "python",
   "pygments_lexer": "ipython3",
   "version": "3.6.7"
  }
 },
 "nbformat": 4,
 "nbformat_minor": 2
}
