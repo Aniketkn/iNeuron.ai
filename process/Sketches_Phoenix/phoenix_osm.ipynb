{
 "cells": [
  {
   "cell_type": "markdown",
   "metadata": {},
   "source": [
    "# Global indicator project - Phoenix, Arizona"
   ]
  },
  {
   "cell_type": "markdown",
   "metadata": {},
   "source": [
    "This notebook descript the process to get street networks from OpenStreetMap using OSMnx, a Python library that lets you download spatial geometries and construct, project, and visualize street networks from OpenStreetMap's API. Functions used in this notebook are drawn from 'OSM_streetnetwork.py' module in the data process folder. Project parameters are retained from the 'config.py'. Output files from this notebook will be saved in the data folder."
   ]
  },
  {
   "cell_type": "markdown",
   "metadata": {},
   "source": [
    "## OSM street network\n",
    "Using OpenStreetMap as a source for \n",
    "* place boundary\n",
    "* complete road network\n",
    "* a pedestrian 'walk' network\n",
    "* a cycle lane 'bike' network\n",
    "* calculating street network stats\n",
    "* calculating intersection density for the pedestrian network"
   ]
  },
  {
   "cell_type": "code",
   "execution_count": 1,
   "metadata": {},
   "outputs": [],
   "source": [
    "#project data process library\n",
    "import config\n",
    "\n",
    "from OSM_streetnetwork import studyregion, studyregion_buffered\n",
    "from OSM_streetnetwork import OSM_all, OSM_walk, OSM_bike\n",
    "from OSM_streetnetwork import OSM_basicstats\n",
    "from OSM_streetnetwork import OSM_clean_intersection"
   ]
  },
  {
   "cell_type": "code",
   "execution_count": 2,
   "metadata": {},
   "outputs": [
    {
     "data": {
      "text/plain": [
       "'0.9'"
      ]
     },
     "execution_count": 2,
     "metadata": {},
     "output_type": "execute_result"
    }
   ],
   "source": [
    "# Libraries used for OSMnx analyses and output\n",
    "import networkx as nx\n",
    "import time \n",
    "import osmnx as ox\n",
    "import matplotlib.pyplot as plt\n",
    "import numpy as np\n",
    "import requests\n",
    "import fiona\n",
    "import pandas as pd\n",
    "\n",
    "ox.config(use_cache=True, log_console=True)\n",
    "ox.__version__\n"
   ]
  },
  {
   "cell_type": "markdown",
   "metadata": {},
   "source": [
    "## Study region boundaries\n",
    "\n",
    "This process downloads spatial \"place boundary\" geometries from OpenStreetMap, save them to shapefiles format in the data folder. Places are defined in 'config.py' (in this case is Phoenix), and functions are defined in the 'OSM_streetnetwork.py' "
   ]
  },
  {
   "cell_type": "code",
   "execution_count": 4,
   "metadata": {},
   "outputs": [],
   "source": [
    "for place in config.places.values():\n",
    "    studyregion(place)"
   ]
  },
  {
   "cell_type": "code",
   "execution_count": 5,
   "metadata": {},
   "outputs": [],
   "source": [
    "for place in config.places.values():\n",
    "    studyregion_buffered(place)"
   ]
  },
  {
   "cell_type": "markdown",
   "metadata": {},
   "source": [
    "## Study region street network\n",
    "\n",
    "This process retains spatial network from OpenStreetMap for places (study regions with 10km buffer), project, and visualize them. The outputs are saved as graphml format in the data folder."
   ]
  },
  {
   "cell_type": "code",
   "execution_count": null,
   "metadata": {},
   "outputs": [],
   "source": [
    "# all (non-private) OSM streets and paths\n",
    "for place in config.places.values():\n",
    "    OSM_all(place)"
   ]
  },
  {
   "cell_type": "code",
   "execution_count": null,
   "metadata": {},
   "outputs": [],
   "source": [
    "# pedestrain OSM network\n",
    "for place in config.places.values():\n",
    "    OSM_walk(place)"
   ]
  },
  {
   "cell_type": "code",
   "execution_count": null,
   "metadata": {},
   "outputs": [],
   "source": [
    "# cycle OSM network\n",
    "for place in config.places.values():\n",
    "    OSM_bike(place)"
   ]
  },
  {
   "cell_type": "markdown",
   "metadata": {},
   "source": [
    "## Study region street network basic stats\n",
    "This step retains all the basic stats for all streets, pedestrain network, and cycle network within 10km buffered study regions. "
   ]
  },
  {
   "cell_type": "code",
   "execution_count": null,
   "metadata": {},
   "outputs": [],
   "source": [
    "for place in config.places.values():\n",
    "    OSM_basicstats(place)"
   ]
  },
  {
   "cell_type": "markdown",
   "metadata": {},
   "source": [
    "## Study region clean intersection\n",
    "This step retains clean intersection within study regions and visualize them in different tolerance level"
   ]
  },
  {
   "cell_type": "code",
   "execution_count": null,
   "metadata": {},
   "outputs": [],
   "source": [
    "for place in config.places.values():\n",
    "    OSM_clean_intersection(place)"
   ]
  }
 ],
 "metadata": {
  "kernelspec": {
   "display_name": "Python 3",
   "language": "python",
   "name": "python3"
  },
  "language_info": {
   "codemirror_mode": {
    "name": "ipython",
    "version": 3
   },
   "file_extension": ".py",
   "mimetype": "text/x-python",
   "name": "python",
   "nbconvert_exporter": "python",
   "pygments_lexer": "ipython3",
   "version": "3.7.3"
  }
 },
 "nbformat": 4,
 "nbformat_minor": 2
}
