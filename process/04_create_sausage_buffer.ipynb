{
 "cells": [
  {
   "cell_type": "markdown",
   "metadata": {},
   "source": [
    "# Global indicator project\n",
    "## Create sausage buffer \n",
    "\n",
    "This notebook creates sausage buffer to determine local walkable neighborhood (1600m sample points + 50m walkable netowrk buffer)\n",
    "\n"
   ]
  },
  {
   "cell_type": "code",
   "execution_count": 8,
   "metadata": {},
   "outputs": [],
   "source": [
    "# Libraries used for OSMnx analyses and output\n",
    "import networkx as nx\n",
    "import time \n",
    "import osmnx as ox\n",
    "import matplotlib.pyplot as plt\n",
    "import numpy as np\n",
    "import requests\n",
    "import pandas as pd\n",
    "import geopandas as gpd\n",
    "import fiona\n",
    "\n",
    "from descartes import PolygonPatch\n",
    "from shapely.geometry import shape,Point, LineString, Polygon\n",
    "\n",
    "\n",
    "ox.config(use_cache=True, log_console=True)"
   ]
  },
  {
   "cell_type": "markdown",
   "metadata": {},
   "source": [
    "### Set up project config"
   ]
  },
  {
   "cell_type": "code",
   "execution_count": 9,
   "metadata": {},
   "outputs": [],
   "source": [
    "place = 'phoenix' \n",
    "\n",
    "region = 'Arizona, USA' # study region name\n",
    "\n",
    "studyregion = 'Phoenix, Arizona, USA'\n",
    "\n",
    "suffix = '_201905' # output data time\n",
    "\n",
    "buffer_dist = 1e4 #study region buffer 10km\n",
    "\n",
    "point_dist = 30 #sample point interval distance\n",
    "\n",
    "network_type='walk'\n",
    "\n",
    "OSM_folder = '../data/OSM'\n",
    "\n",
    "G_filename = 'Phoenix, Arizona, USA_walk_201905.graphml'\n",
    "\n",
    "point_filepath = '../data/OSM/phoenix_testing_sample_points_201905/phoenix_testing_sample_points_201905.shp'"
   ]
  },
  {
   "cell_type": "markdown",
   "metadata": {},
   "source": [
    "## Load pedestrain street network and sample points from local folder"
   ]
  },
  {
   "cell_type": "code",
   "execution_count": 15,
   "metadata": {},
   "outputs": [],
   "source": [
    "G = ox.load_graphml(filename=G_filename, folder=OSM_folder)"
   ]
  },
  {
   "cell_type": "code",
   "execution_count": 7,
   "metadata": {},
   "outputs": [],
   "source": [
    "G_proj = ox.project_graph(G)\n",
    "ox.save_graphml(G_proj, filename='{studyregion}_proj_{network_type}{suffix}.graphml'.format(\n",
    "        studyregion = place, network_type=network_type, suffix = suffix), folder=OSM_folder)"
   ]
  },
  {
   "cell_type": "code",
   "execution_count": 10,
   "metadata": {},
   "outputs": [],
   "source": [
    "G_proj = ox.load_graphml(filename='{studyregion}_proj_{network_type}{suffix}.graphml'.format(\n",
    "        studyregion = place, network_type=network_type, suffix = suffix), folder=OSM_folder)"
   ]
  },
  {
   "cell_type": "code",
   "execution_count": 11,
   "metadata": {},
   "outputs": [],
   "source": [
    "# load sample point dataframe\n",
    "sample_points = gpd.GeoDataFrame.from_file(point_filepath)"
   ]
  },
  {
   "cell_type": "code",
   "execution_count": 12,
   "metadata": {},
   "outputs": [],
   "source": [
    "# create list of sample points to iterate over\n",
    "point_locations = []\n",
    "\n",
    "for point in sample_points.geometry: \n",
    "    point = (point.x, point.y)\n",
    "    point_locations = point_locations + [point]"
   ]
  },
  {
   "cell_type": "markdown",
   "metadata": {},
   "source": [
    "## Create sausage buffer"
   ]
  },
  {
   "cell_type": "code",
   "execution_count": 13,
   "metadata": {},
   "outputs": [],
   "source": [
    "# create sausage buffer local neighborhood\n",
    "def create_sausage_buffer(G_proj, orig_point, buffer=50, length = 1600, intersection_tolerance = 15):\n",
    "    # locate closest node on network to \n",
    "    orig_node = ox.get_nearest_node(G_proj, orig_point, return_dist=True)\n",
    "    subgraph_proj = nx.ego_graph(G_proj, orig_node[0], radius=length, distance='length')\n",
    "    # create buffer\n",
    "    subgraph_gdf = ox.graph_to_gdfs(subgraph_proj, nodes=False, edges=True, fill_edge_geometry=True)\n",
    "    buffer = subgraph_gdf.geometry.buffer(buffer)\n",
    "    buffer_uu = buffer.geometry.unary_union\n",
    "    return([subgraph_proj, buffer_uu]) #output is list of a sample point graph (1600m), and buffer polygon"
   ]
  },
  {
   "cell_type": "code",
   "execution_count": 26,
   "metadata": {},
   "outputs": [
    {
     "name": "stdout",
     "output_type": "stream",
     "text": [
      "Completed task \"Buffer network for 100 sample points\" in 441.73 seconds\n"
     ]
    }
   ],
   "source": [
    "start = time.time()\n",
    "task = 'Buffer network for {} sample points'.format(len(point_locations))\n",
    "sausagebuffers = []\n",
    "for point in point_locations:\n",
    "    sausagebuffers.append(create_sausage_buffer(G_proj, point))\n",
    "print('Completed task \"{}\" in {:,.2f} seconds'.format(task,time.time() - start)) "
   ]
  },
  {
   "cell_type": "markdown",
   "metadata": {},
   "source": [
    "## Get sample point neighborhood stats"
   ]
  },
  {
   "cell_type": "code",
   "execution_count": 32,
   "metadata": {},
   "outputs": [],
   "source": [
    "# Local neighbourhood analysis\n",
    "def analyse_local_nh(G_proj, orig_point):\n",
    "    buffer = create_sausage_buffer(G_proj, orig_point)\n",
    "    orig_node = ox.get_nearest_node(G_proj, orig_point, return_dist=True)\n",
    "    #get stats\n",
    "    area_sqm = buffer[1].area\n",
    "    area_sqkm = area_sqm*1e-06\n",
    "    stats = ox.basic_stats(buffer[0], area=area_sqm, clean_intersects=True, circuity_dist='euclidean')\n",
    "    return({ 'origin_node_id': orig_node[0],\n",
    "             'area_sqkm': area_sqkm,\n",
    "             'stats': stats,\n",
    "             'origin_node_snap_dist': orig_node[1]})\n",
    "     "
   ]
  },
  {
   "cell_type": "code",
   "execution_count": 36,
   "metadata": {},
   "outputs": [
    {
     "name": "stdout",
     "output_type": "stream",
     "text": [
      "Completed task \"Calculate local neighbourhood measures for 100 points\" in 614.79 seconds\n"
     ]
    }
   ],
   "source": [
    "# initialise a list\n",
    "start = time.time()\n",
    "task = \"Calculate local neighbourhood measures for {} points\".format(len(point_locations))\n",
    "nh_estimates = []\n",
    "for point in point_locations:\n",
    "    nh_estimates.append(analyse_local_nh(G_proj, point))\n",
    "    \n",
    "# area in sqkm\n",
    "area_km = [x['area_sqkm'] for x in nh_estimates]\n",
    "# clean intersection density per sqkm\n",
    "clean_intersection_count = [x['stats']['clean_intersection_count'] for x in nh_estimates]\n",
    "# clean intersection density\n",
    "clean_intersection_density_km = [x['stats']['clean_intersection_density_km'] for x in nh_estimates]\n",
    "# dist to the nodes\n",
    "origin_node_snap_dist = [x['origin_node_snap_dist'] for x in nh_estimates]\n",
    "# nearest node id\n",
    "origin_node_id = [x['origin_node_id'] for x in nh_estimates]\n",
    "\n",
    "#load sample point dataframe and record new stats\n",
    "sample_points['area_km'] = area_km\n",
    "sample_points['inters_count'] = clean_intersection_count\n",
    "sample_points['inters_den']= clean_intersection_density_km\n",
    "sample_points['node_dist']= origin_node_snap_dist\n",
    "sample_points['node_id']= origin_node_id\n",
    "\n",
    "\n",
    "print('Completed task \"{}\" in {:,.2f} seconds'.format(task,time.time() - start)) \n",
    "  "
   ]
  },
  {
   "cell_type": "code",
   "execution_count": 37,
   "metadata": {},
   "outputs": [
    {
     "data": {
      "text/plain": [
       "Index(['index', 'Series', 'access', 'area', 'bridge', 'highway', 'junction',\n",
       "       'key', 'lanes', 'length', 'maxspeed', 'name', 'oneway', 'osmid', 'ref',\n",
       "       'service', 'tunnel', 'u', 'v', 'width', 'points', 'geometry', 'area_km',\n",
       "       'clean_intersection_count', 'clean_intersection_density_km',\n",
       "       'origin_node_snap_dist', 'origin_node_id', 'inters_count', 'inters_den',\n",
       "       'node_dist', 'node_id'],\n",
       "      dtype='object')"
      ]
     },
     "execution_count": 37,
     "metadata": {},
     "output_type": "execute_result"
    }
   ],
   "source": [
    "sample_points.columns"
   ]
  },
  {
   "cell_type": "code",
   "execution_count": 48,
   "metadata": {},
   "outputs": [
    {
     "name": "stderr",
     "output_type": "stream",
     "text": [
      "ERROR:root:Internal Python error in the inspect module.\n",
      "Below is the traceback from this internal error.\n",
      "\n"
     ]
    },
    {
     "name": "stdout",
     "output_type": "stream",
     "text": [
      "Traceback (most recent call last):\n",
      "  File \"/Users/NGAU/miniconda3/envs/asa/lib/python3.7/site-packages/IPython/core/interactiveshell.py\", line 3291, in run_code\n",
      "    exec(code_obj, self.user_global_ns, self.user_ns)\n",
      "  File \"<ipython-input-48-ee5fd49776a7>\", line 2, in <module>\n",
      "    studyregion = place, suffix = suffix), folder=OSM_folder)\n",
      "  File \"/Users/NGAU/miniconda3/envs/asa/lib/python3.7/site-packages/osmnx/save_load.py\", line 61, in save_gdf_shapefile\n",
      "    os.makedirs(folder_path)\n",
      "  File \"/Users/NGAU/miniconda3/envs/asa/lib/python3.7/os.py\", line 211, in makedirs\n",
      "    makedirs(head, exist_ok=exist_ok)\n",
      "  File \"/Users/NGAU/miniconda3/envs/asa/lib/python3.7/os.py\", line 211, in makedirs\n",
      "    makedirs(head, exist_ok=exist_ok)\n",
      "  File \"/Users/NGAU/miniconda3/envs/asa/lib/python3.7/os.py\", line 211, in makedirs\n",
      "    makedirs(head, exist_ok=exist_ok)\n",
      "  File \"/Users/NGAU/miniconda3/envs/asa/lib/python3.7/os.py\", line 221, in makedirs\n",
      "    mkdir(name, mode)\n",
      "FileNotFoundError: [Errno 2] No such file or directory: '..'\n",
      "\n",
      "During handling of the above exception, another exception occurred:\n",
      "\n",
      "Traceback (most recent call last):\n",
      "  File \"/Users/NGAU/miniconda3/envs/asa/lib/python3.7/site-packages/IPython/core/interactiveshell.py\", line 2033, in showtraceback\n",
      "    stb = value._render_traceback_()\n",
      "AttributeError: 'FileNotFoundError' object has no attribute '_render_traceback_'\n",
      "\n",
      "During handling of the above exception, another exception occurred:\n",
      "\n",
      "Traceback (most recent call last):\n",
      "  File \"/Users/NGAU/miniconda3/envs/asa/lib/python3.7/site-packages/IPython/core/ultratb.py\", line 1095, in get_records\n",
      "    return _fixed_getinnerframes(etb, number_of_lines_of_context, tb_offset)\n",
      "  File \"/Users/NGAU/miniconda3/envs/asa/lib/python3.7/site-packages/IPython/core/ultratb.py\", line 313, in wrapped\n",
      "    return f(*args, **kwargs)\n",
      "  File \"/Users/NGAU/miniconda3/envs/asa/lib/python3.7/site-packages/IPython/core/ultratb.py\", line 347, in _fixed_getinnerframes\n",
      "    records = fix_frame_records_filenames(inspect.getinnerframes(etb, context))\n",
      "  File \"/Users/NGAU/miniconda3/envs/asa/lib/python3.7/inspect.py\", line 1502, in getinnerframes\n",
      "    frameinfo = (tb.tb_frame,) + getframeinfo(tb, context)\n",
      "  File \"/Users/NGAU/miniconda3/envs/asa/lib/python3.7/inspect.py\", line 1460, in getframeinfo\n",
      "    filename = getsourcefile(frame) or getfile(frame)\n",
      "  File \"/Users/NGAU/miniconda3/envs/asa/lib/python3.7/inspect.py\", line 696, in getsourcefile\n",
      "    if getattr(getmodule(object, filename), '__loader__', None) is not None:\n",
      "  File \"/Users/NGAU/miniconda3/envs/asa/lib/python3.7/inspect.py\", line 725, in getmodule\n",
      "    file = getabsfile(object, _filename)\n",
      "  File \"/Users/NGAU/miniconda3/envs/asa/lib/python3.7/inspect.py\", line 709, in getabsfile\n",
      "    return os.path.normcase(os.path.abspath(_filename))\n",
      "  File \"/Users/NGAU/miniconda3/envs/asa/lib/python3.7/posixpath.py\", line 383, in abspath\n",
      "    cwd = os.getcwd()\n",
      "FileNotFoundError: [Errno 2] No such file or directory\n"
     ]
    },
    {
     "ename": "FileNotFoundError",
     "evalue": "[Errno 2] No such file or directory: '..'",
     "output_type": "error",
     "traceback": [
      "\u001b[0;31m---------------------------------------------------------------------------\u001b[0m"
     ]
    }
   ],
   "source": [
    "ox.save_gdf_shapefile(sample_points, filename='{studyregion}_sample_points_stats{suffix}'.format(\n",
    "        studyregion = place, suffix = suffix), folder=OSM_folder)"
   ]
  },
  {
   "cell_type": "code",
   "execution_count": null,
   "metadata": {},
   "outputs": [],
   "source": []
  }
 ],
 "metadata": {
  "kernelspec": {
   "display_name": "Python 3",
   "language": "python",
   "name": "python3"
  },
  "language_info": {
   "codemirror_mode": {
    "name": "ipython",
    "version": 3
   },
   "file_extension": ".py",
   "mimetype": "text/x-python",
   "name": "python",
   "nbconvert_exporter": "python",
   "pygments_lexer": "ipython3",
   "version": "3.7.3"
  }
 },
 "nbformat": 4,
 "nbformat_minor": 2
}
