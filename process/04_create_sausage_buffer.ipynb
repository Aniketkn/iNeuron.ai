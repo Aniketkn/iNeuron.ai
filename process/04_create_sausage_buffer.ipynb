{
 "cells": [
  {
   "cell_type": "markdown",
   "metadata": {},
   "source": [
    "# Global indicator project\n",
    "## Create a sausage buffer for each sample point to identify walkable local neighborhood\n",
    "\n",
    "This notebook creates sausage buffer to determine local walkable neighborhood (1600m sample points + 50m walkable street network buffer).\n",
    "\n",
    "** Buffering technique referring to Forsyth et al [here](https://ij-healthgeographics.biomedcentral.com/articles/10.1186/1476-072X-11-14). Mavoa et al 2018, see [here](https://www.jtlu.org/index.php/jtlu/article/view/1132)   \n",
    "** load the projected graph, using the projected graph to get network stats so that the ouput unit is m/km"
   ]
  },
  {
   "cell_type": "code",
   "execution_count": 1,
   "metadata": {},
   "outputs": [],
   "source": [
    "# Libraries used for OSMnx analyses and output\n",
    "import networkx as nx\n",
    "import time \n",
    "import osmnx as ox\n",
    "import matplotlib.pyplot as plt\n",
    "import numpy as np\n",
    "import requests\n",
    "import pandas as pd\n",
    "import geopandas as gpd\n",
    "import fiona\n",
    "\n",
    "from descartes import PolygonPatch\n",
    "from shapely.geometry import shape,Point, LineString, Polygon\n",
    "\n",
    "\n",
    "ox.config(use_cache=True, log_console=True)"
   ]
  },
  {
   "cell_type": "markdown",
   "metadata": {},
   "source": [
    "### Set up project config"
   ]
  },
  {
   "cell_type": "code",
   "execution_count": 2,
   "metadata": {},
   "outputs": [],
   "source": [
    "place = 'phoenix' \n",
    "\n",
    "region = 'Arizona, USA' # study region name\n",
    "\n",
    "studyregion = 'Phoenix, Arizona, USA'\n",
    "\n",
    "suffix = '_201905' # output data time\n",
    "\n",
    "buffer_dist = 1e4 #study region buffer 10km\n",
    "\n",
    "point_dist = 30 #sample point interval distance\n",
    "\n",
    "network_type='walk'\n",
    "\n",
    "OSM_folder = '../data/OSM'\n",
    "\n",
    "G_filename = 'Phoenix, Arizona, USA_walk_201905.graphml'\n",
    "\n",
    "point_filepath = '../data/OSM/phoenix_testing_sample_points_201905/phoenix_testing_sample_points_201905.shp'"
   ]
  },
  {
   "cell_type": "markdown",
   "metadata": {},
   "source": [
    "## Load pedestrain street network and sample points from local folder"
   ]
  },
  {
   "cell_type": "code",
   "execution_count": 15,
   "metadata": {},
   "outputs": [],
   "source": [
    "G = ox.load_graphml(filename=G_filename, folder=OSM_folder)"
   ]
  },
  {
   "cell_type": "code",
   "execution_count": 7,
   "metadata": {},
   "outputs": [],
   "source": [
    "G_proj = ox.project_graph(G)\n",
    "ox.save_graphml(G_proj, filename='{studyregion}_proj_{network_type}{suffix}.graphml'.format(\n",
    "        studyregion = place, network_type=network_type, suffix = suffix), folder=OSM_folder)"
   ]
  },
  {
   "cell_type": "code",
   "execution_count": 3,
   "metadata": {},
   "outputs": [],
   "source": [
    "# load the projected network graph\n",
    "G_proj = ox.load_graphml(filename='phoenix_proj_walk_201905.graphml', folder=OSM_folder)"
   ]
  },
  {
   "cell_type": "code",
   "execution_count": 5,
   "metadata": {},
   "outputs": [],
   "source": [
    "# load sample point shapefile\n",
    "sample_points = gpd.GeoDataFrame.from_file(point_filepath)\n",
    "\n",
    "# create list of sample points to iterate over\n",
    "point_locations = []\n",
    "\n",
    "for point in sample_points.geometry: \n",
    "    point = (point.x, point.y)\n",
    "    point_locations = point_locations + [point]"
   ]
  },
  {
   "cell_type": "markdown",
   "metadata": {},
   "source": [
    "## Create sausage buffer"
   ]
  },
  {
   "cell_type": "code",
   "execution_count": 6,
   "metadata": {},
   "outputs": [],
   "source": [
    "# create sausage buffer local neighborhood graph\n",
    "def create_sausage_buffer_G(G_proj, orig_point, buffer=50, length = 1600, intersection_tolerance = 15):\n",
    "    # locate closest node on network to \n",
    "    orig_node = ox.get_nearest_node(G_proj, orig_point, return_dist=True)\n",
    "    subgraph_proj = nx.ego_graph(G_proj, orig_node[0], radius=length, distance='length')\n",
    "    # create buffer\n",
    "    subgraph_gdf = ox.graph_to_gdfs(subgraph_proj, nodes=False, edges=True, fill_edge_geometry=True)\n",
    "    buffer = subgraph_gdf.geometry.buffer(buffer)\n",
    "    buffer_uu = buffer.geometry.unary_union\n",
    "    return([subgraph_proj, buffer_uu]) #output is a list of sample point graphs (1600m), and buffer polygons"
   ]
  },
  {
   "cell_type": "code",
   "execution_count": null,
   "metadata": {},
   "outputs": [],
   "source": [
    "# create sausage buffer local neighborhood geodataframe\n",
    "def create_sausage_buffer_gdf(G_proj, orig_point, buffer=50, length = 1600, intersection_tolerance = 15):\n",
    "    # locate closest node on network to \n",
    "    orig_node = ox.get_nearest_node(G_proj, orig_point, return_dist=True)\n",
    "    subgraph_proj = nx.ego_graph(G_proj, orig_node[0], radius=length, distance='length')\n",
    "    subgraph_gdf = ox.graph_to_gdfs(subgraph_proj, nodes=False, edges=True, fill_edge_geometry=True)\n",
    "    # create buffer polygon geometry to dataframe\n",
    "    subgraph_gdf['geometry'] = subgraph_gdf.geometry.buffer(buffer) \n",
    "    #link original node id reference\n",
    "    subgraph_gdf['node_id'] = orig_node[0]\n",
    "    return(subgraph_gdf) #output is smaple point subgraph with buffer polygon geometry and original node id reference"
   ]
  },
  {
   "cell_type": "code",
   "execution_count": 7,
   "metadata": {},
   "outputs": [
    {
     "name": "stdout",
     "output_type": "stream",
     "text": [
      "Completed task \"Buffer network for 100 sample points\" in 245.65 seconds\n"
     ]
    }
   ],
   "source": [
    "start = time.time()\n",
    "task = 'Buffer network for {} sample points'.format(len(point_locations))\n",
    "sausagebuffers = []\n",
    "for point in point_locations:\n",
    "    sausagebuffers.append(create_sausage_buffer_G(G_proj, point))\n",
    "print('Completed task \"{}\" in {:,.2f} seconds'.format(task,time.time() - start)) "
   ]
  },
  {
   "cell_type": "markdown",
   "metadata": {},
   "source": [
    "## Get sample point neighborhood stats using OSMnx"
   ]
  },
  {
   "cell_type": "code",
   "execution_count": 10,
   "metadata": {},
   "outputs": [],
   "source": [
    "# Local neighbourhood analysis\n",
    "def analyse_local_nh(G_proj, orig_point):\n",
    "    buffer = create_sausage_buffer_G(G_proj, orig_point)\n",
    "    orig_node = ox.get_nearest_node(G_proj, orig_point, return_dist=True)\n",
    "    #get stats\n",
    "    area_sqm = buffer[1].area\n",
    "    area_sqkm = area_sqm*1e-06\n",
    "    stats = ox.basic_stats(buffer[0], area=area_sqm, clean_intersects=True, circuity_dist='euclidean')\n",
    "    return({ 'origin_node_id': orig_node[0],\n",
    "             'area_sqkm': area_sqkm,\n",
    "             'stats': stats,\n",
    "             'origin_node_snap_dist': orig_node[1]})\n",
    "     "
   ]
  },
  {
   "cell_type": "code",
   "execution_count": 11,
   "metadata": {},
   "outputs": [
    {
     "name": "stdout",
     "output_type": "stream",
     "text": [
      "Completed task \"Calculate local neighbourhood measures for 100 points\" in 403.41 seconds\n"
     ]
    }
   ],
   "source": [
    "# initialise a list\n",
    "start = time.time()\n",
    "task = \"Calculate local neighbourhood measures for {} points\".format(len(point_locations))\n",
    "nh_estimates = []\n",
    "for point in point_locations:\n",
    "    nh_estimates.append(analyse_local_nh(G_proj, point))\n",
    "    \n",
    "# area in sqkm\n",
    "area_km = [x['area_sqkm'] for x in nh_estimates]\n",
    "# clean intersection density per sqkm\n",
    "clean_intersection_count = [x['stats']['clean_intersection_count'] for x in nh_estimates]\n",
    "# clean intersection density\n",
    "clean_intersection_density_km = [x['stats']['clean_intersection_density_km'] for x in nh_estimates]\n",
    "# dist to the nodes\n",
    "origin_node_snap_dist = [x['origin_node_snap_dist'] for x in nh_estimates]\n",
    "# nearest node id\n",
    "origin_node_id = [x['origin_node_id'] for x in nh_estimates]\n",
    "\n",
    "#load sample point dataframe and record new stats\n",
    "sample_points['area_km'] = area_km\n",
    "sample_points['intct_count'] = clean_intersection_count\n",
    "sample_points['intct_den']= clean_intersection_density_km\n",
    "sample_points['node_dist']= origin_node_snap_dist\n",
    "sample_points['node_id']= origin_node_id\n",
    "\n",
    "\n",
    "print('Completed task \"{}\" in {:,.2f} seconds'.format(task,time.time() - start)) \n",
    "  "
   ]
  },
  {
   "cell_type": "code",
   "execution_count": 14,
   "metadata": {},
   "outputs": [
    {
     "data": {
      "text/plain": [
       "Index(['index', 'Series', 'access', 'area', 'bridge', 'highway', 'junction',\n",
       "       'key', 'lanes', 'length', 'maxspeed', 'name', 'oneway', 'osmid', 'ref',\n",
       "       'service', 'tunnel', 'u', 'v', 'width', 'points', 'geometry', 'area_km',\n",
       "       'intct_count', 'intct_den', 'node_dist', 'node_id'],\n",
       "      dtype='object')"
      ]
     },
     "execution_count": 14,
     "metadata": {},
     "output_type": "execute_result"
    }
   ],
   "source": [
    "sample_points.columns"
   ]
  },
  {
   "cell_type": "code",
   "execution_count": 15,
   "metadata": {},
   "outputs": [],
   "source": [
    "# save sample point stats dataframe\n",
    "sample_points.to_csv('../data/OSM/phoenix_sample_points_stats_201905.csv')"
   ]
  },
  {
   "cell_type": "code",
   "execution_count": null,
   "metadata": {},
   "outputs": [],
   "source": []
  }
 ],
 "metadata": {
  "kernelspec": {
   "display_name": "Python 3",
   "language": "python",
   "name": "python3"
  },
  "language_info": {
   "codemirror_mode": {
    "name": "ipython",
    "version": 3
   },
   "file_extension": ".py",
   "mimetype": "text/x-python",
   "name": "python",
   "nbconvert_exporter": "python",
   "pygments_lexer": "ipython3",
   "version": "3.7.3"
  }
 },
 "nbformat": 4,
 "nbformat_minor": 2
}
