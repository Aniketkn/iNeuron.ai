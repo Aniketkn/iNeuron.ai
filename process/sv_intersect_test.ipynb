{
 "cells": [
  {
   "cell_type": "code",
   "execution_count": 6,
   "metadata": {},
   "outputs": [
    {
     "name": "stdout",
     "output_type": "stream",
     "text": [
      "1.48 s ± 63.5 ms per loop (mean ± std. dev. of 7 runs, 1 loop each)\n",
      "694 ms ± 23.2 ms per loop (mean ± std. dev. of 7 runs, 1 loop each)\n"
     ]
    },
    {
     "data": {
      "text/plain": [
       "'\\nselect count(*) from \"pop_ghs_2015\" a, \"1600mnetwork\" b\\nwhere st_intersects(a.geom,b.geom)\\n\\nor \\n\\nselect count(*) \\nfrom \"pop_ghs_2015\" as a\\njoin \"1600mnetwork\" as b\\non st_intersects(a.geom,b.geom)\\n\\n\\nall takes about 1s 830ms\\n'"
      ]
     },
     "execution_count": 6,
     "metadata": {},
     "output_type": "execute_result"
    }
   ],
   "source": [
    "import geopandas as gpd\n",
    "# load hex data\n",
    "hex=gpd.read_file('../data/odense_dk_2019.gpkg',layer=\"pop_ghs_2015\")\n",
    "# load network for test\n",
    "network=gpd.read_file('../data/1600mnetwork.shp')\n",
    "# test method1\n",
    "# http://geopandas.org/indexing.html\n",
    "bbox = network.geometry.total_bounds\n",
    "%timeit hex.cx[bbox[0]:bbox[2],bbox[1]:bbox[3]]\n",
    "\n",
    "#test spatial join\n",
    "%timeit gpd.sjoin(hex,network,how='inner',op='intersects').drop_duplicates(subset=['index'])\n",
    "\n",
    "\n",
    "# test PostGIS \n",
    "\"\"\"\n",
    "select count(*) from \"pop_ghs_2015\" a, \"1600mnetwork\" b\n",
    "where st_intersects(a.geom,b.geom)\n",
    "\n",
    "or \n",
    "\n",
    "select count(*) \n",
    "from \"pop_ghs_2015\" as a\n",
    "join \"1600mnetwork\" as b\n",
    "on st_intersects(a.geom,b.geom)\n",
    "\n",
    "\n",
    "all takes about 1s 830ms\n",
    "\"\"\""
   ]
  },
  {
   "cell_type": "code",
   "execution_count": null,
   "metadata": {},
   "outputs": [],
   "source": []
  }
 ],
 "metadata": {
  "kernelspec": {
   "display_name": "Python 3",
   "language": "python",
   "name": "python3"
  },
  "language_info": {
   "codemirror_mode": {
    "name": "ipython",
    "version": 3
   },
   "file_extension": ".py",
   "mimetype": "text/x-python",
   "name": "python",
   "nbconvert_exporter": "python",
   "pygments_lexer": "ipython3",
   "version": "3.7.3"
  }
 },
 "nbformat": 4,
 "nbformat_minor": 4
}
