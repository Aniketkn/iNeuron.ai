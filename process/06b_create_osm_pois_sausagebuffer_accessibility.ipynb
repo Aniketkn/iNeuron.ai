{
 "cells": [
  {
   "cell_type": "markdown",
   "metadata": {},
   "source": [
    "# Global indicator project - Phoenix, Arizona\n",
    "\n",
    "## local neighborhood network accessibility analysis - amenities pois\n",
    "This notebook uses sausage buffer intersection approach to calculate the accessibility score of sample point local neighborhood. This process use hard threshold distance to count whether any pois (in this case, it is shops with supermarket and convenience stores) located within the local walkable neighborhoods.\n",
    "\n",
    "### Process:\n",
    "1. Download or load points of interest (POIs) from OSM\n",
    "2. Get sample point local neighborhood (sausage buffer)\n",
    "3. Local neighbothood with at least one amenity pois intersecting\n",
    "    - the output results are geoseries of local neighborhood buffer polygon\n",
    "4. Connect the result to sample point dataframe\n",
    "    - accessibility score is calculated as 1=at least one amenity pois is within the local walkable neighborhood; 0=none of the pois is within the local walkable neighborhood.\n",
    "\n",
    "\n"
   ]
  },
  {
   "cell_type": "code",
   "execution_count": 2,
   "metadata": {},
   "outputs": [
    {
     "data": {
      "text/plain": [
       "['/Users/NGAU/miniconda3/envs/ind_global/lib/python3.6/site-packages/pandana']"
      ]
     },
     "execution_count": 2,
     "metadata": {},
     "output_type": "execute_result"
    }
   ],
   "source": [
    "import matplotlib.pyplot as plt\n",
    "import networkx as nx\n",
    "import osmnx as ox\n",
    "import numpy as np\n",
    "import requests\n",
    "import pandas as pd\n",
    "import geopandas as gpd\n",
    "import os\n",
    "import time \n",
    "from shapely.geometry import shape,Point, LineString, Polygon\n",
    "\n",
    "\n",
    "import pandana\n",
    "from pandana.loaders import osm\n",
    "\n",
    "ox.config(use_cache=True, log_console=True)\n",
    "pandana.__path__ #pandana runs on python 3.6 kernel"
   ]
  },
  {
   "cell_type": "markdown",
   "metadata": {},
   "source": [
    "## Set up configuration "
   ]
  },
  {
   "cell_type": "code",
   "execution_count": 3,
   "metadata": {},
   "outputs": [],
   "source": [
    "place = 'phoenix' \n",
    "\n",
    "region = 'Arizona, USA' # study region name\n",
    "\n",
    "studyregion = 'Phoenix, Arizona, USA'\n",
    "\n",
    "suffix = '_201905'\n",
    "\n",
    "# configure search at a max distance of 1 km for up to the 10 nearest points-of-interest\n",
    "shop = ['supermarket', 'convenience']\n",
    "\n",
    "# configure filenames to save/load POI and network datasets\n",
    "OSM_folder = '../data/OSM'\n",
    "\n",
    "G_filename = '{studyregion}_walk{suffix}.graphml'.format(studyregion = studyregion, suffix = suffix)\n",
    "G_proj_filename='{studyregion}_proj_walk{suffix}.graphml'.format(studyregion = place, suffix = suffix)\n",
    "poi_filename = '{}_pois_{}.csv'.format(place, '_'.join(shop))\n",
    "\n",
    "G_filepath = OSM_folder + \"/\" + G_filename\n",
    "poi_filepath = OSM_folder + \"/\" + poi_filename\n",
    "sample_points_filepath = '../data/OSM/phoenix_sample_points_stats_201905/phoenix_sample_points_stats_201905.shp'"
   ]
  },
  {
   "cell_type": "code",
   "execution_count": 4,
   "metadata": {},
   "outputs": [
    {
     "data": {
      "text/plain": [
       "[33.2903739, -112.3240289, 33.9183794, -111.9255201]"
      ]
     },
     "execution_count": 4,
     "metadata": {},
     "output_type": "execute_result"
    }
   ],
   "source": [
    "# get bounding box from study region boundary shapefile\n",
    "shape_filepath = '../data/OSM/Phoenix, Arizona, USA_buffered_201905/Phoenix, Arizona, USA_buffered_201905.shp'\n",
    "\n",
    "gdf_shape = gpd.GeoDataFrame.from_file(shape_filepath)\n",
    "bbox = [gdf_shape['bbox_south'].astype(float)[0], gdf_shape['bbox_west'].astype(float)[0], gdf_shape['bbox_north'].astype(float)[0], gdf_shape['bbox_east'].astype(float)[0]] #lat-long bounding box for Phx\n",
    "bbox"
   ]
  },
  {
   "cell_type": "markdown",
   "metadata": {},
   "source": [
    "## Download points of interest (POIs) from OSM\n",
    "What amenities are considered for daily living pois? - [OSMtag](https://taginfo.openstreetmap.org/keys/amenity): shop=supermarket, convenience"
   ]
  },
  {
   "cell_type": "code",
   "execution_count": 5,
   "metadata": {},
   "outputs": [],
   "source": [
    "def get_osm_pois_gdf(poi_filepath=poi_filepath, shop=shop, bbox=bbox):\n",
    "    if os.path.isfile(poi_filepath):\n",
    "        # if a points-of-interest file already exists, just load the dataset from that\n",
    "        pois = pd.read_csv(poi_filepath)\n",
    "        method = 'loaded from CSV'\n",
    "    else:   \n",
    "        # otherwise, query the OSM API for the specified amenities within the bounding box \n",
    "        osm_tags = '\"shop\"~\"{}\"'.format('|'.join(shop))\n",
    "        pois = osm.node_query(bbox[0], bbox[1], bbox[2], bbox[3], tags=osm_tags)\n",
    "\n",
    "        # drop any that aren't just 'shop' then save to CSV\n",
    "        pois = pois[pois['shop'].isin(shop)]\n",
    "        pois.to_csv(poi_filepath, index=False, encoding='utf-8')\n",
    "        method = 'downloaded from OSM'\n",
    "    pois_df = pois[['shop', 'name', 'lat', 'lon']]\n",
    "    pois_df['geometry'] = pois_df.apply(lambda row: Point(row['lon'], row['lat']), axis=1)\n",
    "    pois_gdf = gpd.GeoDataFrame(pois_df)\n",
    "    return pois_gdf\n",
    "    "
   ]
  },
  {
   "cell_type": "code",
   "execution_count": 6,
   "metadata": {},
   "outputs": [
    {
     "name": "stderr",
     "output_type": "stream",
     "text": [
      "/Users/NGAU/miniconda3/envs/ind_global/lib/python3.6/site-packages/ipykernel_launcher.py:16: SettingWithCopyWarning: \n",
      "A value is trying to be set on a copy of a slice from a DataFrame.\n",
      "Try using .loc[row_indexer,col_indexer] = value instead\n",
      "\n",
      "See the caveats in the documentation: http://pandas.pydata.org/pandas-docs/stable/indexing.html#indexing-view-versus-copy\n",
      "  app.launch_new_instance()\n"
     ]
    },
    {
     "data": {
      "text/html": [
       "<div>\n",
       "<style scoped>\n",
       "    .dataframe tbody tr th:only-of-type {\n",
       "        vertical-align: middle;\n",
       "    }\n",
       "\n",
       "    .dataframe tbody tr th {\n",
       "        vertical-align: top;\n",
       "    }\n",
       "\n",
       "    .dataframe thead th {\n",
       "        text-align: right;\n",
       "    }\n",
       "</style>\n",
       "<table border=\"1\" class=\"dataframe\">\n",
       "  <thead>\n",
       "    <tr style=\"text-align: right;\">\n",
       "      <th></th>\n",
       "      <th>shop</th>\n",
       "      <th>name</th>\n",
       "      <th>lat</th>\n",
       "      <th>lon</th>\n",
       "      <th>geometry</th>\n",
       "    </tr>\n",
       "  </thead>\n",
       "  <tbody>\n",
       "    <tr>\n",
       "      <th>0</th>\n",
       "      <td>supermarket</td>\n",
       "      <td>Safeway</td>\n",
       "      <td>33.488551</td>\n",
       "      <td>-112.081794</td>\n",
       "      <td>POINT (-112.0817935 33.4885505)</td>\n",
       "    </tr>\n",
       "    <tr>\n",
       "      <th>1</th>\n",
       "      <td>convenience</td>\n",
       "      <td>7-Eleven</td>\n",
       "      <td>33.480013</td>\n",
       "      <td>-112.029747</td>\n",
       "      <td>POINT (-112.0297471 33.4800128)</td>\n",
       "    </tr>\n",
       "    <tr>\n",
       "      <th>2</th>\n",
       "      <td>supermarket</td>\n",
       "      <td>Fry's Marketplace</td>\n",
       "      <td>33.321899</td>\n",
       "      <td>-111.930303</td>\n",
       "      <td>POINT (-111.9303033 33.3218992)</td>\n",
       "    </tr>\n",
       "    <tr>\n",
       "      <th>3</th>\n",
       "      <td>supermarket</td>\n",
       "      <td>Fry's Food &amp; Drug</td>\n",
       "      <td>33.379098</td>\n",
       "      <td>-111.976857</td>\n",
       "      <td>POINT (-111.9768574 33.3790977)</td>\n",
       "    </tr>\n",
       "    <tr>\n",
       "      <th>4</th>\n",
       "      <td>convenience</td>\n",
       "      <td>NaN</td>\n",
       "      <td>33.348719</td>\n",
       "      <td>-111.953919</td>\n",
       "      <td>POINT (-111.9539185 33.3487189)</td>\n",
       "    </tr>\n",
       "  </tbody>\n",
       "</table>\n",
       "</div>"
      ],
      "text/plain": [
       "          shop               name        lat         lon  \\\n",
       "0  supermarket            Safeway  33.488551 -112.081794   \n",
       "1  convenience           7-Eleven  33.480013 -112.029747   \n",
       "2  supermarket  Fry's Marketplace  33.321899 -111.930303   \n",
       "3  supermarket  Fry's Food & Drug  33.379098 -111.976857   \n",
       "4  convenience                NaN  33.348719 -111.953919   \n",
       "\n",
       "                          geometry  \n",
       "0  POINT (-112.0817935 33.4885505)  \n",
       "1  POINT (-112.0297471 33.4800128)  \n",
       "2  POINT (-111.9303033 33.3218992)  \n",
       "3  POINT (-111.9768574 33.3790977)  \n",
       "4  POINT (-111.9539185 33.3487189)  "
      ]
     },
     "execution_count": 6,
     "metadata": {},
     "output_type": "execute_result"
    }
   ],
   "source": [
    "pois_gdf = get_osm_pois_gdf(poi_filepath=poi_filepath, shop=shop, bbox=bbox)\n",
    "pois_gdf.head()"
   ]
  },
  {
   "cell_type": "code",
   "execution_count": 44,
   "metadata": {},
   "outputs": [],
   "source": [
    "#define pois points projection\n",
    "pois_gdf.crs = {'init' :'epsg:4326'}\n",
    "pois_gdf_proj = ox.project_gdf(pois_gdf)"
   ]
  },
  {
   "cell_type": "markdown",
   "metadata": {},
   "source": [
    "## Get sample point local neighborhood (sausage buffer)"
   ]
  },
  {
   "cell_type": "code",
   "execution_count": 7,
   "metadata": {},
   "outputs": [
    {
     "data": {
      "text/plain": [
       "(100, 27)"
      ]
     },
     "execution_count": 7,
     "metadata": {},
     "output_type": "execute_result"
    }
   ],
   "source": [
    "# load sample point dataframe\n",
    "sample_points = gpd.GeoDataFrame.from_file(sample_points_filepath)\n",
    "sample_points.shape"
   ]
  },
  {
   "cell_type": "code",
   "execution_count": 8,
   "metadata": {},
   "outputs": [],
   "source": [
    "# load study region projected graph\n",
    "G_proj = ox.load_graphml(G_proj_filename, folder=OSM_folder)"
   ]
  },
  {
   "cell_type": "code",
   "execution_count": 45,
   "metadata": {},
   "outputs": [],
   "source": [
    "# create list of sample points to iterate over\n",
    "point_locations = []\n",
    "\n",
    "for point in sample_points.geometry: \n",
    "    point = (point.x, point.y)\n",
    "    point_locations = point_locations + [point]"
   ]
  },
  {
   "cell_type": "code",
   "execution_count": 46,
   "metadata": {},
   "outputs": [],
   "source": [
    "# create sausage buffer local neighborhood\n",
    "def create_sausage_buffer(G_proj, orig_point, buffer=50, length = 1600, intersection_tolerance = 15):\n",
    "    # locate closest node on network to \n",
    "    orig_node = ox.get_nearest_node(G_proj, orig_point, return_dist=True)\n",
    "    subgraph_proj = nx.ego_graph(G_proj, orig_node[0], radius=length, distance='length')\n",
    "    # create buffer\n",
    "    subgraph_gdf = ox.graph_to_gdfs(subgraph_proj, nodes=False, edges=True, fill_edge_geometry=True)\n",
    "    buffer = subgraph_gdf.geometry.buffer(buffer) # create buffer \n",
    "    buffer_uu = buffer.geometry.unary_union\n",
    "    return([orig_node, buffer]) #output is list of nearest origin nodes to sample points, and buffer polygon geoseries"
   ]
  },
  {
   "cell_type": "code",
   "execution_count": 47,
   "metadata": {},
   "outputs": [
    {
     "name": "stdout",
     "output_type": "stream",
     "text": [
      "Completed task \"Buffer network for 100 sample points\" in 251.17 seconds\n"
     ]
    }
   ],
   "source": [
    "start = time.time()\n",
    "task = 'Buffer network for {} sample points'.format(len(point_locations))\n",
    "sausagebuffers = []\n",
    "for point in point_locations:\n",
    "    sausagebuffers.append(create_sausage_buffer(G_proj, point))\n",
    "print('Completed task \"{}\" in {:,.2f} seconds'.format(task,time.time() - start)) "
   ]
  },
  {
   "cell_type": "code",
   "execution_count": 48,
   "metadata": {},
   "outputs": [],
   "source": [
    "# create a dictionary and dataframe with node id as the key and buffer geoseries as values\n",
    "dic_buffer_nodeid = {}\n",
    "for i in range(0, len(sausagebuffers)):\n",
    "    dic_buffer_nodeid[sausagebuffers[i][0][0]] = sausagebuffers[i][1]\n",
    "    #buffer_nodeid_df = pd.DataFrame(dic_buffer_nodeid.items(), columns=['node_id', 'buffer_series'])"
   ]
  },
  {
   "cell_type": "code",
   "execution_count": 49,
   "metadata": {},
   "outputs": [],
   "source": [
    "# create an empty list\n",
    "buffer_list = []\n",
    "# loop through sausage buffer intersection with pois\n",
    "for x in range(0, len(sausagebuffers)):\n",
    "    #Returns a Series of dtype('bool') with value True for each polygon geometry that intersects other.\n",
    "    pois_intersect = sausagebuffers[x][1].intersects(pois_gdf_proj['geometry'].unary_union) \n",
    "    # append series in dataframe, return a dataframe of buffer polygon geoseries with pois intersecting\n",
    "    buffer_list.append(sausagebuffers[x][1][pois_intersect])"
   ]
  },
  {
   "cell_type": "code",
   "execution_count": 70,
   "metadata": {},
   "outputs": [
    {
     "data": {
      "text/plain": [
       "766     POLYGON ((397466.005966094 3705914.451375541, ...\n",
       "767     POLYGON ((397789.1916660971 3705911.16747281, ...\n",
       "768     POLYGON ((397691.1035665049 3706011.960077627,...\n",
       "772     POLYGON ((397739.0669513491 3706014.524117851,...\n",
       "793     POLYGON ((397689.1946118103 3705910.530563731,...\n",
       "962     POLYGON ((397789.0326896691 3705962.343335763,...\n",
       "965     POLYGON ((397789.8455853814 3705849.956560066,...\n",
       "966     POLYGON ((397689.080379246 3705964.419834015, ...\n",
       "967     POLYGON ((397627.9350196733 3705861.189311151,...\n",
       "968     POLYGON ((397748.5001011192 3705960.922289006,...\n",
       "1415    POLYGON ((396661.5111668655 3704792.968526291,...\n",
       "1456    POLYGON ((397798.3118310186 3705860.124228009,...\n",
       "1482    POLYGON ((397628.0899950577 3705961.18919971, ...\n",
       "1754    POLYGON ((396790.3931290578 3705114.17843892, ...\n",
       "dtype: object"
      ]
     },
     "execution_count": 70,
     "metadata": {},
     "output_type": "execute_result"
    }
   ],
   "source": [
    "pois_intersect = sausagebuffers[0][1].intersects(pois_gdf_proj['geometry'].unary_union)\n",
    "sausagebuffers[0][1][pois_intersect]"
   ]
  },
  {
   "cell_type": "code",
   "execution_count": 69,
   "metadata": {},
   "outputs": [
    {
     "data": {
      "text/plain": [
       "dict_keys([41797604, 1604511752, 5634577087, 2926772436, 41696680, 311167952, 1006063370, 2308625982, 795324463, 41663588, 42335982, 5773311682, 2617600069, 41884724, 5757731080, 3425015758, 3219913511, 1420663969, 356574019, 4300706048, 2915600833, 5258398824, 1924517950, 42627831, 5237362151, 41871665, 3712430301, 4600582582, 2340116750, 41496862, 4403125495, 3643509510, 3118833900, 4516480461, 4399487886, 5657807203, 1680943142, 2225727194, 6250079997, 3928557377, 42585206, 5634076538, 5656668566, 5529515849, 5646108477, 5716466625, 2328005445, 3706324835, 2030604950, 4638640560, 5683836414, 1837869136, 2892569090, 6077879130, 41570283, 1664082374, 2401950075, 5063549460, 5686534929, 41949584, 3079669227, 2294261993, 3150147376, 311169694, 41784150, 4717338673, 1509442937, 41603546, 316086812, 2293311446, 41875510, 41773025, 1895509714, 1513713005, 5280491795, 3454169480, 3911954937, 1444920885])"
      ]
     },
     "execution_count": 69,
     "metadata": {},
     "output_type": "execute_result"
    }
   ],
   "source": [
    "dic_buffer_nodeid.keys()"
   ]
  },
  {
   "cell_type": "code",
   "execution_count": null,
   "metadata": {},
   "outputs": [],
   "source": []
  }
 ],
 "metadata": {
  "kernelspec": {
   "display_name": "Python 3.6",
   "language": "python",
   "name": "ind_global"
  },
  "language_info": {
   "codemirror_mode": {
    "name": "ipython",
    "version": 3
   },
   "file_extension": ".py",
   "mimetype": "text/x-python",
   "name": "python",
   "nbconvert_exporter": "python",
   "pygments_lexer": "ipython3",
   "version": "3.6.7"
  }
 },
 "nbformat": 4,
 "nbformat_minor": 2
}
