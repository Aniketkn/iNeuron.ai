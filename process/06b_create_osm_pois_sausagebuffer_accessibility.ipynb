{
 "cells": [
  {
   "cell_type": "markdown",
   "metadata": {},
   "source": [
    "# Global indicator project - Phoenix, Arizona\n",
    "\n",
    "## local neighborhood network accessibility analysis - amenities pois\n",
    "This notebook uses sausage buffer intersection approach to calculate the accessibility score of sample point local neighborhood. This process use hard threshold distance to count whether any pois (in this case, it is shops with supermarket and convenience stores) located within the local walkable neighborhoods.\n",
    "\n",
    "### Process:\n",
    "1. Download or load points of interest (POIs) from OSM\n",
    "2. Get sample point local neighborhood (sausage buffer)\n",
    "3. Local neighbothood with at least one amenity pois intersecting\n",
    "    - the output results are geoseries of local neighborhood buffer polygon\n",
    "4. Connect the result to sample point dataframe\n",
    "    - accessibility score is calculated as 1=at least one amenity pois is within the local walkable neighborhood; 0=none of the pois is within the local walkable neighborhood.\n",
    "\n",
    "\n"
   ]
  },
  {
   "cell_type": "code",
   "execution_count": 2,
   "metadata": {},
   "outputs": [],
   "source": [
    "from setup_OSMnetwork import *\n",
    "from setup_local_analysis import *\n",
    "from config import *\n",
    "\n",
    "%matplotlib inline\n",
    "import warnings\n",
    "warnings.filterwarnings('ignore')"
   ]
  },
  {
   "cell_type": "code",
   "execution_count": 3,
   "metadata": {},
   "outputs": [
    {
     "name": "stdout",
     "output_type": "stream",
     "text": [
      "[32.414715167745996, -113.44197628074733, 34.13836571274371, -110.93231493458158]\n"
     ]
    }
   ],
   "source": [
    "# get bounding box from study region boundary shapefile\n",
    "# get the 10 km buffered study region to consider the edge effects\n",
    "bbox = get_bufferedstudyregion_bbox(boundary_filepath, crs=crs, to_crs=to_crs, to_latlong=True)\n",
    "\n",
    "# check the shapefile format, study region boundary shapefile should specify lat lon geometry\n",
    "# Bounding box should be formatted as a 4 element tuple: (lng_max, lat_min, lng_min, lat_max)\n",
    "bbox = [bbox[1], bbox[0], bbox[3], bbox[2]]\n",
    "print(bbox)"
   ]
  },
  {
   "cell_type": "markdown",
   "metadata": {},
   "source": [
    "## 1. Download points of interest (POIs) from OSM\n",
    "What amenities are considered for daily living pois? - [OSMtag](https://taginfo.openstreetmap.org/keys/amenity): shop=supermarket, convenience"
   ]
  },
  {
   "cell_type": "code",
   "execution_count": 4,
   "metadata": {},
   "outputs": [
    {
     "data": {
      "text/html": [
       "<div>\n",
       "<style scoped>\n",
       "    .dataframe tbody tr th:only-of-type {\n",
       "        vertical-align: middle;\n",
       "    }\n",
       "\n",
       "    .dataframe tbody tr th {\n",
       "        vertical-align: top;\n",
       "    }\n",
       "\n",
       "    .dataframe thead th {\n",
       "        text-align: right;\n",
       "    }\n",
       "</style>\n",
       "<table border=\"1\" class=\"dataframe\">\n",
       "  <thead>\n",
       "    <tr style=\"text-align: right;\">\n",
       "      <th></th>\n",
       "      <th>shop</th>\n",
       "      <th>name</th>\n",
       "      <th>lat</th>\n",
       "      <th>lon</th>\n",
       "      <th>geometry</th>\n",
       "    </tr>\n",
       "  </thead>\n",
       "  <tbody>\n",
       "    <tr>\n",
       "      <th>0</th>\n",
       "      <td>supermarket</td>\n",
       "      <td>Safeway</td>\n",
       "      <td>33.488551</td>\n",
       "      <td>-112.081794</td>\n",
       "      <td>POINT (-112.0817935 33.4885505)</td>\n",
       "    </tr>\n",
       "    <tr>\n",
       "      <th>1</th>\n",
       "      <td>convenience</td>\n",
       "      <td>Circle K</td>\n",
       "      <td>33.334805</td>\n",
       "      <td>-111.806096</td>\n",
       "      <td>POINT (-111.8060957 33.3348051)</td>\n",
       "    </tr>\n",
       "    <tr>\n",
       "      <th>2</th>\n",
       "      <td>convenience</td>\n",
       "      <td>7-Eleven</td>\n",
       "      <td>33.480013</td>\n",
       "      <td>-112.029747</td>\n",
       "      <td>POINT (-112.0297471 33.4800128)</td>\n",
       "    </tr>\n",
       "    <tr>\n",
       "      <th>3</th>\n",
       "      <td>supermarket</td>\n",
       "      <td>Basha's</td>\n",
       "      <td>33.333295</td>\n",
       "      <td>-111.912173</td>\n",
       "      <td>POINT (-111.9121727 33.3332955)</td>\n",
       "    </tr>\n",
       "    <tr>\n",
       "      <th>4</th>\n",
       "      <td>supermarket</td>\n",
       "      <td>Fry's Marketplace</td>\n",
       "      <td>33.321899</td>\n",
       "      <td>-111.930303</td>\n",
       "      <td>POINT (-111.9303033 33.3218992)</td>\n",
       "    </tr>\n",
       "  </tbody>\n",
       "</table>\n",
       "</div>"
      ],
      "text/plain": [
       "          shop               name        lat         lon  \\\n",
       "0  supermarket            Safeway  33.488551 -112.081794   \n",
       "1  convenience           Circle K  33.334805 -111.806096   \n",
       "2  convenience           7-Eleven  33.480013 -112.029747   \n",
       "3  supermarket            Basha's  33.333295 -111.912173   \n",
       "4  supermarket  Fry's Marketplace  33.321899 -111.930303   \n",
       "\n",
       "                          geometry  \n",
       "0  POINT (-112.0817935 33.4885505)  \n",
       "1  POINT (-111.8060957 33.3348051)  \n",
       "2  POINT (-112.0297471 33.4800128)  \n",
       "3  POINT (-111.9121727 33.3332955)  \n",
       "4  POINT (-111.9303033 33.3218992)  "
      ]
     },
     "execution_count": 4,
     "metadata": {},
     "output_type": "execute_result"
    }
   ],
   "source": [
    "pois_gdf = get_osm_pois_gdf(poi_filepath=poi_filepath, shop=shop, bbox=bbox)\n",
    "pois_gdf.head()"
   ]
  },
  {
   "cell_type": "code",
   "execution_count": 5,
   "metadata": {},
   "outputs": [],
   "source": [
    "# define pois points projection\n",
    "pois_gdf.crs = to_crs\n",
    "pois_gdf_proj = ox.project_gdf(pois_gdf) # project to UTM for meter measure"
   ]
  },
  {
   "cell_type": "markdown",
   "metadata": {},
   "source": [
    "## 2. Get sample point local neighborhood (sausage buffer)"
   ]
  },
  {
   "cell_type": "code",
   "execution_count": 6,
   "metadata": {},
   "outputs": [
    {
     "data": {
      "text/plain": [
       "(600, 33)"
      ]
     },
     "execution_count": 6,
     "metadata": {},
     "output_type": "execute_result"
    }
   ],
   "source": [
    "# load sample point geodataframe\n",
    "sample_points = gpd.GeoDataFrame.from_file(samplepoint_stats_shapefile_path)\n",
    "sample_points.shape"
   ]
  },
  {
   "cell_type": "code",
   "execution_count": 6,
   "metadata": {},
   "outputs": [],
   "source": [
    "# load study region projected graph\n",
    "# we load the projected graph because the sample point geometry is in a projected coordinate system\n",
    "G_proj = ox.load_graphml(G_proj_filename, folder=OSM_folder)"
   ]
  },
  {
   "cell_type": "code",
   "execution_count": 7,
   "metadata": {},
   "outputs": [],
   "source": [
    "# create list of sample points to iterate over\n",
    "point_locations = []\n",
    "\n",
    "for point in sample_points.geometry: \n",
    "    point = (point.x, point.y)\n",
    "    point_locations = point_locations + [point]"
   ]
  },
  {
   "cell_type": "code",
   "execution_count": null,
   "metadata": {},
   "outputs": [],
   "source": [
    "# iterate over a list of sample points to create sausage buffer as local walkable neighborhood\n",
    "start = time.time()\n",
    "task = 'Buffer network for {} sample points'.format(len(point_locations))\n",
    "sausagebuffers = []\n",
    "for point in point_locations:\n",
    "    sausagebuffers.append(create_sausage_buffer_gdf(G_proj, point))\n",
    "print('Completed task \"{}\" in {:,.2f} seconds'.format(task,time.time() - start)) "
   ]
  },
  {
   "cell_type": "markdown",
   "metadata": {},
   "source": [
    "## 3. POIs point and sausage buffer intersection"
   ]
  },
  {
   "cell_type": "code",
   "execution_count": null,
   "metadata": {},
   "outputs": [],
   "source": [
    "# make sure pois geometry is in the same projection as the sausage buffer geometry\n",
    "pois_gdf_proj = pois_gdf_proj.to_crs(sausagebuffers[0].crs)\n",
    "pois_gdf_proj.crs == sausagebuffers[0].crs"
   ]
  },
  {
   "cell_type": "code",
   "execution_count": null,
   "metadata": {},
   "outputs": [],
   "source": [
    "#get pois within distance threshold of sausage buffer\n",
    "intersection_node_id = get_nodeid_pois_sausagebuffer_intersection(sausagebuffer_gdf=sausagebuffers, pois_gdf=pois_gdf_proj)\n",
    "intersection_node_id.head()"
   ]
  },
  {
   "cell_type": "markdown",
   "metadata": {},
   "source": [
    "## 4. Connect the result in sample point dataframe"
   ]
  },
  {
   "cell_type": "code",
   "execution_count": null,
   "metadata": {},
   "outputs": [],
   "source": [
    "# load previously saved sample point dataframe\n",
    "sample_points_stats = gpd.GeoDataFrame.from_file(samplepoint_stats_shapefile_path)\n",
    "sample_points_stats.columns"
   ]
  },
  {
   "cell_type": "code",
   "execution_count": null,
   "metadata": {},
   "outputs": [],
   "source": [
    "# merge sample point dataframe and buffer with pois intersection based on node id to get the accessibility distance\n",
    "sample_points_stats.node_id = sample_points_stats.node_id.astype(int)\n",
    "sample_points_stats = pd.merge(left=sample_points_stats, right=intersection_node_id, how='left', left_on='node_id', right_on='pois_walkable_node_id', validate=\"many_to_one\")"
   ]
  },
  {
   "cell_type": "code",
   "execution_count": null,
   "metadata": {},
   "outputs": [],
   "source": [
    "sample_points_stats = sample_points_stats.rename(columns={'pois_walkable_node_id':'Baces_shop'})\n",
    "#fill none value as 0 indicating that the nearest shop is not within walkable network buffer of the nodes/sample point\n",
    "#fill values more than 0 as 1 indicating that the nearest shop is within walkable network buffer of the nodes/sample point\n",
    "sample_points_stats['Baces_shop'] = sample_points_stats['Baces_shop'].fillna(0) \n",
    "sample_points_stats.loc[sample_points_stats['Baces_shop'] > 0, 'Baces_shop'] = 1\n",
    "sample_points_stats.columns"
   ]
  },
  {
   "cell_type": "code",
   "execution_count": null,
   "metadata": {},
   "outputs": [],
   "source": [
    "# save sample point stats dataframe\n",
    "ox.save_gdf_shapefile(sample_points_stats, filename='{studyregion}_urban_sample_points_stats{suffix}'.format(\n",
    "        studyregion = placename, suffix = suffix), folder=OSM_folder)"
   ]
  },
  {
   "cell_type": "code",
   "execution_count": null,
   "metadata": {},
   "outputs": [],
   "source": []
  }
 ],
 "metadata": {
  "kernelspec": {
   "display_name": "Python 3.6",
   "language": "python",
   "name": "ind_global"
  },
  "language_info": {
   "codemirror_mode": {
    "name": "ipython",
    "version": 3
   },
   "file_extension": ".py",
   "mimetype": "text/x-python",
   "name": "python",
   "nbconvert_exporter": "python",
   "pygments_lexer": "ipython3",
   "version": "3.6.7"
  }
 },
 "nbformat": 4,
 "nbformat_minor": 2
}
