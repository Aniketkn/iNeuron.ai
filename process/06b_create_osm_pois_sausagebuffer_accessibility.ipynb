{
 "cells": [
  {
   "cell_type": "markdown",
   "metadata": {},
   "source": [
    "# Global indicator project - Phoenix, Arizona\n",
    "\n",
    "## local neighborhood network accessibility analysis - amenities pois\n",
    "This notebook uses sausage buffer intersection approach to calculate the accessibility score of sample point local neighborhood. This process use hard threshold distance to count whether any pois (in this case, it is shops with supermarket and convenience stores) located within the local walkable neighborhoods.\n",
    "\n",
    "### Process:\n",
    "1. Download or load points of interest (POIs) from OSM\n",
    "2. Get sample point local neighborhood (sausage buffer)\n",
    "3. Local neighbothood with at least one amenity pois intersecting\n",
    "    - the output results are geoseries of local neighborhood buffer polygon\n",
    "4. Connect the result to sample point dataframe\n",
    "    - accessibility score is calculated as 1=at least one amenity pois is within the local walkable neighborhood; 0=none of the pois is within the local walkable neighborhood.\n",
    "\n",
    "\n"
   ]
  },
  {
   "cell_type": "code",
   "execution_count": 2,
   "metadata": {},
   "outputs": [
    {
     "data": {
      "text/plain": [
       "['/Users/NGAU/miniconda3/envs/ind_global/lib/python3.6/site-packages/pandana']"
      ]
     },
     "execution_count": 2,
     "metadata": {},
     "output_type": "execute_result"
    }
   ],
   "source": [
    "import matplotlib.pyplot as plt\n",
    "import networkx as nx\n",
    "import osmnx as ox\n",
    "import numpy as np\n",
    "import requests\n",
    "import pandas as pd\n",
    "import geopandas as gpd\n",
    "import os\n",
    "import time \n",
    "from shapely.geometry import shape,Point, LineString, Polygon\n",
    "\n",
    "\n",
    "import pandana\n",
    "from pandana.loaders import osm\n",
    "\n",
    "ox.config(use_cache=True, log_console=True)\n",
    "pandana.__path__ #pandana runs on python 3.6 kernel"
   ]
  },
  {
   "cell_type": "markdown",
   "metadata": {},
   "source": [
    "## Set up configuration "
   ]
  },
  {
   "cell_type": "code",
   "execution_count": 4,
   "metadata": {},
   "outputs": [],
   "source": [
    "place = 'phoenix' \n",
    "\n",
    "region = 'Arizona, USA' # study region name\n",
    "\n",
    "studyregion = 'Phoenix, Arizona, USA'\n",
    "\n",
    "suffix = '_201905'\n",
    "\n",
    "# configure search at a max distance of 1 km for up to the 10 nearest points-of-interest\n",
    "shop = ['supermarket', 'convenience']\n",
    "\n",
    "# configure filenames to save/load POI and network datasets\n",
    "OSM_folder = '../data/OSM'\n",
    "\n",
    "G_filename = '{studyregion}_walk{suffix}.graphml'.format(studyregion = studyregion, suffix = suffix)\n",
    "G_proj_filename='{studyregion}_proj_walk{suffix}.graphml'.format(studyregion = place, suffix = suffix)\n",
    "poi_filename = '{}_pois_{}.csv'.format(place, '_'.join(shop))\n",
    "\n",
    "G_filepath = OSM_folder + \"/\" + G_filename\n",
    "poi_filepath = OSM_folder + \"/\" + poi_filename\n",
    "sample_points_filepath = '../data/OSM/phoenix_sample_points_stats_201905/phoenix_sample_points_stats_201905.shp'"
   ]
  },
  {
   "cell_type": "code",
   "execution_count": 5,
   "metadata": {},
   "outputs": [
    {
     "data": {
      "text/plain": [
       "[33.2903739, -112.3240289, 33.9183794, -111.9255201]"
      ]
     },
     "execution_count": 5,
     "metadata": {},
     "output_type": "execute_result"
    }
   ],
   "source": [
    "# get bounding box from study region boundary shapefile\n",
    "shape_filepath = '../data/OSM/Phoenix, Arizona, USA_buffered_201905/Phoenix, Arizona, USA_buffered_201905.shp'\n",
    "\n",
    "gdf_shape = gpd.GeoDataFrame.from_file(shape_filepath)\n",
    "bbox = [gdf_shape['bbox_south'].astype(float)[0], gdf_shape['bbox_west'].astype(float)[0], gdf_shape['bbox_north'].astype(float)[0], gdf_shape['bbox_east'].astype(float)[0]] #lat-long bounding box for Phx\n",
    "bbox"
   ]
  },
  {
   "cell_type": "markdown",
   "metadata": {},
   "source": [
    "## Download points of interest (POIs) from OSM\n",
    "What amenities are considered for daily living pois? - [OSMtag](https://taginfo.openstreetmap.org/keys/amenity): shop=supermarket, convenience"
   ]
  },
  {
   "cell_type": "code",
   "execution_count": 6,
   "metadata": {},
   "outputs": [],
   "source": [
    "def get_osm_pois_gdf(poi_filepath=poi_filepath, shop=shop, bbox=bbox):\n",
    "    if os.path.isfile(poi_filepath):\n",
    "        # if a points-of-interest file already exists, just load the dataset from that\n",
    "        pois = pd.read_csv(poi_filepath)\n",
    "        method = 'loaded from CSV'\n",
    "    else:   \n",
    "        # otherwise, query the OSM API for the specified amenities within the bounding box \n",
    "        osm_tags = '\"shop\"~\"{}\"'.format('|'.join(shop))\n",
    "        pois = osm.node_query(bbox[0], bbox[1], bbox[2], bbox[3], tags=osm_tags)\n",
    "\n",
    "        # drop any that aren't just 'shop' then save to CSV\n",
    "        pois = pois[pois['shop'].isin(shop)]\n",
    "        pois.to_csv(poi_filepath, index=False, encoding='utf-8')\n",
    "        method = 'downloaded from OSM'\n",
    "    pois_df = pois[['shop', 'name', 'lat', 'lon']]\n",
    "    pois_df['geometry'] = pois_df.apply(lambda row: Point(row['lon'], row['lat']), axis=1)\n",
    "    pois_gdf = gpd.GeoDataFrame(pois_df)\n",
    "    return pois_gdf\n",
    "    "
   ]
  },
  {
   "cell_type": "code",
   "execution_count": 7,
   "metadata": {},
   "outputs": [
    {
     "name": "stderr",
     "output_type": "stream",
     "text": [
      "/Users/NGAU/miniconda3/envs/ind_global/lib/python3.6/site-packages/ipykernel_launcher.py:16: SettingWithCopyWarning: \n",
      "A value is trying to be set on a copy of a slice from a DataFrame.\n",
      "Try using .loc[row_indexer,col_indexer] = value instead\n",
      "\n",
      "See the caveats in the documentation: http://pandas.pydata.org/pandas-docs/stable/indexing.html#indexing-view-versus-copy\n",
      "  app.launch_new_instance()\n"
     ]
    },
    {
     "data": {
      "text/html": [
       "<div>\n",
       "<style scoped>\n",
       "    .dataframe tbody tr th:only-of-type {\n",
       "        vertical-align: middle;\n",
       "    }\n",
       "\n",
       "    .dataframe tbody tr th {\n",
       "        vertical-align: top;\n",
       "    }\n",
       "\n",
       "    .dataframe thead th {\n",
       "        text-align: right;\n",
       "    }\n",
       "</style>\n",
       "<table border=\"1\" class=\"dataframe\">\n",
       "  <thead>\n",
       "    <tr style=\"text-align: right;\">\n",
       "      <th></th>\n",
       "      <th>shop</th>\n",
       "      <th>name</th>\n",
       "      <th>lat</th>\n",
       "      <th>lon</th>\n",
       "      <th>geometry</th>\n",
       "    </tr>\n",
       "  </thead>\n",
       "  <tbody>\n",
       "    <tr>\n",
       "      <th>0</th>\n",
       "      <td>supermarket</td>\n",
       "      <td>Safeway</td>\n",
       "      <td>33.488551</td>\n",
       "      <td>-112.081794</td>\n",
       "      <td>POINT (-112.0817935 33.4885505)</td>\n",
       "    </tr>\n",
       "    <tr>\n",
       "      <th>1</th>\n",
       "      <td>convenience</td>\n",
       "      <td>7-Eleven</td>\n",
       "      <td>33.480013</td>\n",
       "      <td>-112.029747</td>\n",
       "      <td>POINT (-112.0297471 33.4800128)</td>\n",
       "    </tr>\n",
       "    <tr>\n",
       "      <th>2</th>\n",
       "      <td>supermarket</td>\n",
       "      <td>Fry's Marketplace</td>\n",
       "      <td>33.321899</td>\n",
       "      <td>-111.930303</td>\n",
       "      <td>POINT (-111.9303033 33.3218992)</td>\n",
       "    </tr>\n",
       "    <tr>\n",
       "      <th>3</th>\n",
       "      <td>supermarket</td>\n",
       "      <td>Fry's Food &amp; Drug</td>\n",
       "      <td>33.379098</td>\n",
       "      <td>-111.976857</td>\n",
       "      <td>POINT (-111.9768574 33.3790977)</td>\n",
       "    </tr>\n",
       "    <tr>\n",
       "      <th>4</th>\n",
       "      <td>convenience</td>\n",
       "      <td>NaN</td>\n",
       "      <td>33.348719</td>\n",
       "      <td>-111.953919</td>\n",
       "      <td>POINT (-111.9539185 33.3487189)</td>\n",
       "    </tr>\n",
       "  </tbody>\n",
       "</table>\n",
       "</div>"
      ],
      "text/plain": [
       "          shop               name        lat         lon  \\\n",
       "0  supermarket            Safeway  33.488551 -112.081794   \n",
       "1  convenience           7-Eleven  33.480013 -112.029747   \n",
       "2  supermarket  Fry's Marketplace  33.321899 -111.930303   \n",
       "3  supermarket  Fry's Food & Drug  33.379098 -111.976857   \n",
       "4  convenience                NaN  33.348719 -111.953919   \n",
       "\n",
       "                          geometry  \n",
       "0  POINT (-112.0817935 33.4885505)  \n",
       "1  POINT (-112.0297471 33.4800128)  \n",
       "2  POINT (-111.9303033 33.3218992)  \n",
       "3  POINT (-111.9768574 33.3790977)  \n",
       "4  POINT (-111.9539185 33.3487189)  "
      ]
     },
     "execution_count": 7,
     "metadata": {},
     "output_type": "execute_result"
    }
   ],
   "source": [
    "pois_gdf = get_osm_pois_gdf(poi_filepath=poi_filepath, shop=shop, bbox=bbox)\n",
    "pois_gdf.head()"
   ]
  },
  {
   "cell_type": "code",
   "execution_count": 8,
   "metadata": {},
   "outputs": [],
   "source": [
    "#define pois points projection\n",
    "pois_gdf.crs = {'init' :'epsg:4326'}\n",
    "pois_gdf_proj = ox.project_gdf(pois_gdf)"
   ]
  },
  {
   "cell_type": "markdown",
   "metadata": {},
   "source": [
    "## Get sample point local neighborhood (sausage buffer)"
   ]
  },
  {
   "cell_type": "code",
   "execution_count": 9,
   "metadata": {},
   "outputs": [
    {
     "data": {
      "text/plain": [
       "(100, 27)"
      ]
     },
     "execution_count": 9,
     "metadata": {},
     "output_type": "execute_result"
    }
   ],
   "source": [
    "# load sample point dataframe\n",
    "sample_points = gpd.GeoDataFrame.from_file(sample_points_filepath)\n",
    "sample_points.shape"
   ]
  },
  {
   "cell_type": "code",
   "execution_count": 10,
   "metadata": {},
   "outputs": [],
   "source": [
    "# load study region projected graph\n",
    "G_proj = ox.load_graphml(G_proj_filename, folder=OSM_folder)"
   ]
  },
  {
   "cell_type": "code",
   "execution_count": 11,
   "metadata": {},
   "outputs": [],
   "source": [
    "# create list of sample points to iterate over\n",
    "point_locations = []\n",
    "\n",
    "for point in sample_points.geometry: \n",
    "    point = (point.x, point.y)\n",
    "    point_locations = point_locations + [point]"
   ]
  },
  {
   "cell_type": "code",
   "execution_count": 14,
   "metadata": {},
   "outputs": [],
   "source": [
    "# create sausage buffer local neighborhood\n",
    "def create_sausage_buffer_gdf(G_proj, orig_point, buffer=50, length = 1600, intersection_tolerance = 15):\n",
    "    # locate closest node on network to \n",
    "    orig_node = ox.get_nearest_node(G_proj, orig_point, return_dist=True)\n",
    "    subgraph_proj = nx.ego_graph(G_proj, orig_node[0], radius=length, distance='length')\n",
    "    subgraph_gdf = ox.graph_to_gdfs(subgraph_proj, nodes=False, edges=True, fill_edge_geometry=True)\n",
    "    # create buffer polygon geometry to dataframe\n",
    "    subgraph_gdf['geometry'] = subgraph_gdf.geometry.buffer(buffer) \n",
    "    #link original node id reference\n",
    "    subgraph_gdf['node_id'] = orig_node[0]\n",
    "    return(subgraph_gdf) #output is smaple point subgraph with buffer polygon geometry and original node id reference"
   ]
  },
  {
   "cell_type": "code",
   "execution_count": 15,
   "metadata": {},
   "outputs": [
    {
     "name": "stdout",
     "output_type": "stream",
     "text": [
      "Completed task \"Buffer network for 100 sample points\" in 95.92 seconds\n"
     ]
    }
   ],
   "source": [
    "# iterate over a list of sample points to create sausage buffer as local walkable neighborhood\n",
    "start = time.time()\n",
    "task = 'Buffer network for {} sample points'.format(len(point_locations))\n",
    "sausagebuffers = []\n",
    "for point in point_locations:\n",
    "    sausagebuffers.append(create_sausage_buffer_gdf(G_proj, point))\n",
    "print('Completed task \"{}\" in {:,.2f} seconds'.format(task,time.time() - start)) "
   ]
  },
  {
   "cell_type": "markdown",
   "metadata": {},
   "source": [
    "## POIs point and sausage buffer intersection"
   ]
  },
  {
   "cell_type": "code",
   "execution_count": 25,
   "metadata": {},
   "outputs": [
    {
     "data": {
      "text/plain": [
       "True"
      ]
     },
     "execution_count": 25,
     "metadata": {},
     "output_type": "execute_result"
    }
   ],
   "source": [
    "# make sure pois geometry is in the same projection as the sausage buffer geometry\n",
    "pois_gdf_proj = pois_gdf_proj.to_crs(sausagebuffers[0].crs)\n",
    "pois_gdf_proj.crs == sausagebuffers[0].crs"
   ]
  },
  {
   "cell_type": "code",
   "execution_count": 26,
   "metadata": {},
   "outputs": [],
   "source": [
    "# create an empty list\n",
    "buffer_node_id = pd.DataFrame()\n",
    "# loop through sausage buffer intersection with pois\n",
    "for x in range(0, len(sausagebuffers)):\n",
    "    buffer_node_id1 = pd.DataFrame()\n",
    "    #Returns a Series of dtype('bool') with value True for each polygon geometry that intersects other.\n",
    "    pois_intersect = sausagebuffers[x].geometry.intersects(pois_gdf_proj['geometry'].unary_union) \n",
    "    # return a dataframe with pois within local walkable neighborhood (pois intersecting buffer), \n",
    "    # retain orignal node id for reference in sample point neighborhood\n",
    "    buffer_node_id1['pois_walkable_node_id'] = [sausagebuffers[x][pois_intersect]['node_id'].max()]\n",
    "    buffer_node_id = buffer_node_id.append(buffer_node_id1, ignore_index=True).dropna().astype(int)"
   ]
  },
  {
   "cell_type": "markdown",
   "metadata": {},
   "source": [
    "## Connect the result in sample point dataframe"
   ]
  },
  {
   "cell_type": "code",
   "execution_count": 28,
   "metadata": {},
   "outputs": [
    {
     "data": {
      "text/plain": [
       "Index(['index', 'Series', 'access', 'area', 'bridge', 'highway', 'junction',\n",
       "       'key', 'lanes', 'length', 'maxspeed', 'name', 'oneway', 'osmid', 'ref',\n",
       "       'service', 'tunnel', 'u', 'v', 'width', 'points', 'area_km',\n",
       "       'clean_inte', 'clean_in_1', 'origin_nod', 'origin_n_1', 'geometry'],\n",
       "      dtype='object')"
      ]
     },
     "execution_count": 28,
     "metadata": {},
     "output_type": "execute_result"
    }
   ],
   "source": [
    "# load previously saved sample point dataframe\n",
    "sample_points.columns"
   ]
  },
  {
   "cell_type": "code",
   "execution_count": 66,
   "metadata": {},
   "outputs": [],
   "source": [
    "buffer_node_id = buffer_node_id.drop_duplicates('pois_walkable_node_id')"
   ]
  },
  {
   "cell_type": "code",
   "execution_count": 71,
   "metadata": {},
   "outputs": [],
   "source": [
    "# merge sample point datafram and buffer with pois intersection based on node id to get the accessibility distance\n",
    "sample_points.origin_n_1 = sample_points.origin_n_1.astype(int)\n",
    "sample_points_stats = pd.merge(left=sample_points, right=buffer_node_id, how='left', left_on='origin_n_1', right_on='pois_walkable_node_id', validate=\"many_to_one\")"
   ]
  },
  {
   "cell_type": "code",
   "execution_count": 73,
   "metadata": {},
   "outputs": [
    {
     "data": {
      "text/html": [
       "<div>\n",
       "<style scoped>\n",
       "    .dataframe tbody tr th:only-of-type {\n",
       "        vertical-align: middle;\n",
       "    }\n",
       "\n",
       "    .dataframe tbody tr th {\n",
       "        vertical-align: top;\n",
       "    }\n",
       "\n",
       "    .dataframe thead th {\n",
       "        text-align: right;\n",
       "    }\n",
       "</style>\n",
       "<table border=\"1\" class=\"dataframe\">\n",
       "  <thead>\n",
       "    <tr style=\"text-align: right;\">\n",
       "      <th></th>\n",
       "      <th>index</th>\n",
       "      <th>Series</th>\n",
       "      <th>access</th>\n",
       "      <th>area</th>\n",
       "      <th>bridge</th>\n",
       "      <th>highway</th>\n",
       "      <th>junction</th>\n",
       "      <th>key</th>\n",
       "      <th>lanes</th>\n",
       "      <th>length</th>\n",
       "      <th>...</th>\n",
       "      <th>v</th>\n",
       "      <th>width</th>\n",
       "      <th>points</th>\n",
       "      <th>area_km</th>\n",
       "      <th>clean_inte</th>\n",
       "      <th>clean_in_1</th>\n",
       "      <th>origin_nod</th>\n",
       "      <th>origin_n_1</th>\n",
       "      <th>geometry</th>\n",
       "      <th>nearest_shop_walkable</th>\n",
       "    </tr>\n",
       "  </thead>\n",
       "  <tbody>\n",
       "    <tr>\n",
       "      <th>0</th>\n",
       "      <td>0</td>\n",
       "      <td>POINT (399320.4111184602 3704054.876976978)</td>\n",
       "      <td>None</td>\n",
       "      <td>None</td>\n",
       "      <td>None</td>\n",
       "      <td>residential</td>\n",
       "      <td>None</td>\n",
       "      <td>0</td>\n",
       "      <td>2</td>\n",
       "      <td>50.876</td>\n",
       "      <td>...</td>\n",
       "      <td>1515772851</td>\n",
       "      <td>None</td>\n",
       "      <td>[&lt;shapely.geometry.point.Point object at 0x1a2...</td>\n",
       "      <td>3.776544590718806</td>\n",
       "      <td>406</td>\n",
       "      <td>107.5056815157912</td>\n",
       "      <td>18094.224675152538</td>\n",
       "      <td>41797604</td>\n",
       "      <td>POINT (399320.4111184602 3704054.876976978)</td>\n",
       "      <td>1.0</td>\n",
       "    </tr>\n",
       "    <tr>\n",
       "      <th>1</th>\n",
       "      <td>0</td>\n",
       "      <td>POINT (399294.9269077833 3704055.126239192)</td>\n",
       "      <td>None</td>\n",
       "      <td>None</td>\n",
       "      <td>None</td>\n",
       "      <td>residential</td>\n",
       "      <td>None</td>\n",
       "      <td>0</td>\n",
       "      <td>2</td>\n",
       "      <td>50.876</td>\n",
       "      <td>...</td>\n",
       "      <td>1515772851</td>\n",
       "      <td>None</td>\n",
       "      <td>[&lt;shapely.geometry.point.Point object at 0x1a2...</td>\n",
       "      <td>4.653264340395821</td>\n",
       "      <td>544</td>\n",
       "      <td>116.90717745764809</td>\n",
       "      <td>35275.866266879544</td>\n",
       "      <td>1604511752</td>\n",
       "      <td>POINT (399294.9269077833 3704055.126239192)</td>\n",
       "      <td>1.0</td>\n",
       "    </tr>\n",
       "    <tr>\n",
       "      <th>2</th>\n",
       "      <td>0</td>\n",
       "      <td>POINT (399269.4426971063 3704055.375501406)</td>\n",
       "      <td>None</td>\n",
       "      <td>None</td>\n",
       "      <td>None</td>\n",
       "      <td>residential</td>\n",
       "      <td>None</td>\n",
       "      <td>0</td>\n",
       "      <td>2</td>\n",
       "      <td>50.876</td>\n",
       "      <td>...</td>\n",
       "      <td>1515772851</td>\n",
       "      <td>None</td>\n",
       "      <td>[&lt;shapely.geometry.point.Point object at 0x1a2...</td>\n",
       "      <td>3.349992218481829</td>\n",
       "      <td>319</td>\n",
       "      <td>95.22410178748609</td>\n",
       "      <td>24521.116301322858</td>\n",
       "      <td>5634577087</td>\n",
       "      <td>POINT (399269.4426971063 3704055.375501406)</td>\n",
       "      <td>1.0</td>\n",
       "    </tr>\n",
       "    <tr>\n",
       "      <th>3</th>\n",
       "      <td>1</td>\n",
       "      <td>POINT (399320.4111184602 3704054.876976978)</td>\n",
       "      <td>None</td>\n",
       "      <td>None</td>\n",
       "      <td>None</td>\n",
       "      <td>residential</td>\n",
       "      <td>None</td>\n",
       "      <td>0</td>\n",
       "      <td>2</td>\n",
       "      <td>17.429</td>\n",
       "      <td>...</td>\n",
       "      <td>1515772854</td>\n",
       "      <td>None</td>\n",
       "      <td>[&lt;shapely.geometry.point.Point object at 0x1a2...</td>\n",
       "      <td>3.776544590718806</td>\n",
       "      <td>406</td>\n",
       "      <td>107.5056815157912</td>\n",
       "      <td>18094.224675152538</td>\n",
       "      <td>41797604</td>\n",
       "      <td>POINT (399320.4111184602 3704054.876976978)</td>\n",
       "      <td>1.0</td>\n",
       "    </tr>\n",
       "    <tr>\n",
       "      <th>4</th>\n",
       "      <td>1</td>\n",
       "      <td>POINT (399337.8713994289 3704054.705951796)</td>\n",
       "      <td>None</td>\n",
       "      <td>None</td>\n",
       "      <td>None</td>\n",
       "      <td>residential</td>\n",
       "      <td>None</td>\n",
       "      <td>0</td>\n",
       "      <td>2</td>\n",
       "      <td>17.429</td>\n",
       "      <td>...</td>\n",
       "      <td>1515772854</td>\n",
       "      <td>None</td>\n",
       "      <td>[&lt;shapely.geometry.point.Point object at 0x1a2...</td>\n",
       "      <td>3.556235791929595</td>\n",
       "      <td>349</td>\n",
       "      <td>98.13747468376792</td>\n",
       "      <td>4233.820518541409</td>\n",
       "      <td>2926772436</td>\n",
       "      <td>POINT (399337.8713994289 3704054.705951796)</td>\n",
       "      <td>1.0</td>\n",
       "    </tr>\n",
       "  </tbody>\n",
       "</table>\n",
       "<p>5 rows × 28 columns</p>\n",
       "</div>"
      ],
      "text/plain": [
       "  index                                       Series access  area bridge  \\\n",
       "0     0  POINT (399320.4111184602 3704054.876976978)   None  None   None   \n",
       "1     0  POINT (399294.9269077833 3704055.126239192)   None  None   None   \n",
       "2     0  POINT (399269.4426971063 3704055.375501406)   None  None   None   \n",
       "3     1  POINT (399320.4111184602 3704054.876976978)   None  None   None   \n",
       "4     1  POINT (399337.8713994289 3704054.705951796)   None  None   None   \n",
       "\n",
       "       highway junction key lanes  length  ...           v width  \\\n",
       "0  residential     None   0     2  50.876  ...  1515772851  None   \n",
       "1  residential     None   0     2  50.876  ...  1515772851  None   \n",
       "2  residential     None   0     2  50.876  ...  1515772851  None   \n",
       "3  residential     None   0     2  17.429  ...  1515772854  None   \n",
       "4  residential     None   0     2  17.429  ...  1515772854  None   \n",
       "\n",
       "                                              points            area_km  \\\n",
       "0  [<shapely.geometry.point.Point object at 0x1a2...  3.776544590718806   \n",
       "1  [<shapely.geometry.point.Point object at 0x1a2...  4.653264340395821   \n",
       "2  [<shapely.geometry.point.Point object at 0x1a2...  3.349992218481829   \n",
       "3  [<shapely.geometry.point.Point object at 0x1a2...  3.776544590718806   \n",
       "4  [<shapely.geometry.point.Point object at 0x1a2...  3.556235791929595   \n",
       "\n",
       "  clean_inte          clean_in_1          origin_nod  origin_n_1  \\\n",
       "0        406   107.5056815157912  18094.224675152538    41797604   \n",
       "1        544  116.90717745764809  35275.866266879544  1604511752   \n",
       "2        319   95.22410178748609  24521.116301322858  5634577087   \n",
       "3        406   107.5056815157912  18094.224675152538    41797604   \n",
       "4        349   98.13747468376792   4233.820518541409  2926772436   \n",
       "\n",
       "                                      geometry nearest_shop_walkable  \n",
       "0  POINT (399320.4111184602 3704054.876976978)                   1.0  \n",
       "1  POINT (399294.9269077833 3704055.126239192)                   1.0  \n",
       "2  POINT (399269.4426971063 3704055.375501406)                   1.0  \n",
       "3  POINT (399320.4111184602 3704054.876976978)                   1.0  \n",
       "4  POINT (399337.8713994289 3704054.705951796)                   1.0  \n",
       "\n",
       "[5 rows x 28 columns]"
      ]
     },
     "execution_count": 73,
     "metadata": {},
     "output_type": "execute_result"
    }
   ],
   "source": [
    "sample_points_stats = sample_points_stats.rename(columns={'pois_walkable_node_id':'nearest_shop_walkable'})\n",
    "#fill none value as 0 indicating that the nearest shop is not within walkable network buffer of the nodes/sample point\n",
    "#fill values more than 0 as 1 indicating that the nearest shop is within walkable network buffer of the nodes/sample point\n",
    "sample_points_stats['nearest_shop_walkable'] = sample_points_stats['nearest_shop_walkable'].fillna(0) \n",
    "sample_points_stats.loc[sample_points_stats['nearest_shop_walkable'] > 0, 'nearest_shop_walkable'] = 1\n",
    "sample_points_stats.head()"
   ]
  },
  {
   "cell_type": "code",
   "execution_count": 74,
   "metadata": {},
   "outputs": [
    {
     "data": {
      "text/plain": [
       "(100, 28)"
      ]
     },
     "execution_count": 74,
     "metadata": {},
     "output_type": "execute_result"
    }
   ],
   "source": [
    "sample_points_stats.shape"
   ]
  },
  {
   "cell_type": "code",
   "execution_count": null,
   "metadata": {},
   "outputs": [],
   "source": []
  }
 ],
 "metadata": {
  "kernelspec": {
   "display_name": "Python 3.6",
   "language": "python",
   "name": "ind_global"
  },
  "language_info": {
   "codemirror_mode": {
    "name": "ipython",
    "version": 3
   },
   "file_extension": ".py",
   "mimetype": "text/x-python",
   "name": "python",
   "nbconvert_exporter": "python",
   "pygments_lexer": "ipython3",
   "version": "3.6.7"
  }
 },
 "nbformat": 4,
 "nbformat_minor": 2
}
