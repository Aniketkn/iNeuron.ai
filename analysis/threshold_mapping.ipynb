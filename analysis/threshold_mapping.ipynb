{
 "cells": [
  {
   "cell_type": "code",
   "execution_count": 1,
   "metadata": {},
   "outputs": [],
   "source": [
    "import os\n",
    "import numpy as np\n",
    "import fiona\n",
    "import pandas as pd\n",
    "import geopandas as gpd\n",
    "import argparse\n",
    "import matplotlib.pyplot as plt\n",
    "from mpl_toolkits.axes_grid1 import make_axes_locatable\n",
    "from mpl_toolkits.axes_grid1.anchored_artists import AnchoredSizeBar\n",
    "import matplotlib.font_manager as fm\n",
    "from textwrap import wrap\n",
    "from matplotlib.backends.backend_pdf import PdfPages\n",
    "\n",
    "\n",
    "def valid_path(arg):\n",
    "    arg = os.path.abspath(arg)\n",
    "    if not os.path.exists(arg):\n",
    "        msg = f\"The path {arg} does not exist!\"\n",
    "        raise argparse.ArgumentTypeError(msg)\n",
    "    else:\n",
    "        return arg\n"
   ]
  },
  {
   "cell_type": "code",
   "execution_count": 2,
   "metadata": {},
   "outputs": [],
   "source": [
    "# Parse input arguments\n",
    "# parser = argparse.ArgumentParser(description='Generate origin destination matrix')\n",
    "# parser.add_argument('-gpkg_cities',\n",
    "#                     help='path to all cities summary results geopackage',\n",
    "#                     default='./data/output/November 2020/global_indicators_city_2020-11-24.gpkg',\n",
    "#                     type=valid_path)\n",
    "# parser.add_argument('-gpkg_hexes',\n",
    "#                     help='path to all cities hexagon grid results geopackage',\n",
    "#                     default='./data/output/November 2020/global_indicators_hex_250m_2020-11-24.gpkg',\n",
    "#                     type=valid_path)\n",
    "# args = parser.parse_args()\n",
    "\n",
    "# dummy parsing for interactive debugging\n",
    "class Object(object):\n",
    "    pass\n",
    "\n",
    "args = Object()\n",
    "args.gpkg_cities = os.path.abspath('../process/data/output/global_indicators_city_2020-11-24.gpkg')\n",
    "args.gpkg_hexes = os.path.abspath('../process/data/output/global_indicators_hex_250m_2020-11-24.gpkg')\n",
    "\n",
    "cities = gpd.read_file(args.gpkg_cities, layer='all_cities_combined')\n",
    "\n",
    "# cities"
   ]
  },
  {
   "cell_type": "code",
   "execution_count": 3,
   "metadata": {},
   "outputs": [],
   "source": [
    "hexes={}\n",
    "for city in cities.City:\n",
    "    hexes[city] = gpd.read_file(args.gpkg_hexes, layer=city.lower().replace(' ','_'))"
   ]
  },
  {
   "cell_type": "code",
   "execution_count": 4,
   "metadata": {},
   "outputs": [
    {
     "data": {
      "text/plain": [
       "dict_keys(['Maiduguri', 'Mexico City', 'Baltimore', 'Phoenix', 'Seattle', 'Sao Paulo', 'Hong Kong', 'Chennai', 'Bangkok', 'Hanoi', 'Adelaide', 'Melbourne', 'Sydney', 'Auckland', 'Graz', 'Ghent', 'Olomouc', 'Odense', 'Cologne', 'Lisbon', 'Barcelona', 'Valencia', 'Vic', 'Bern', 'Belfast'])"
      ]
     },
     "execution_count": 4,
     "metadata": {},
     "output_type": "execute_result"
    }
   ],
   "source": [
    "hexes.keys()"
   ]
  },
  {
   "cell_type": "code",
   "execution_count": 5,
   "metadata": {},
   "outputs": [
    {
     "name": "stdout",
     "output_type": "stream",
     "text": [
      "\n",
      "Global Indicators project, 2020\n",
      "\n",
      "Analysis and mapping of threshold values for urban design and transport planning features associated with\n",
      "  - (A) ≥80% probability of engaging in walking for transport and \n",
      "  - (B) reaching the WHO’s target of a ≥15% relative reduction in insufficient physical activity through walking\n",
      "\n",
      "\n"
     ]
    }
   ],
   "source": [
    "print(\"\"\"\n",
    "Global Indicators project, 2020\n",
    "\n",
    "Analysis and mapping of threshold values for urban design and transport planning features associated with\n",
    "  - (A) ≥80% probability of engaging in walking for transport and \n",
    "  - (B) reaching the WHO’s target of a ≥15% relative reduction in insufficient physical activity through walking\n",
    "\n",
    "\"\"\")\n",
    "\n",
    "\n"
   ]
  },
  {
   "cell_type": "code",
   "execution_count": 6,
   "metadata": {},
   "outputs": [],
   "source": [
    "# Analysis set up\n",
    "scenarios={\n",
    "  'A':'≥80% probability of engaging in walking for transport', \n",
    "  'B':'reaching the WHO’s target of a ≥15% relative reduction in insufficient physical activity through walking'\n",
    "}\n",
    "greq = '≥'\n",
    "thresholds = {\n",
    "'Mean 1000 m neighbourhood population per km²':{\n",
    "  'variable':'local_nh_population_density',\n",
    "  'A':{\n",
    "    'threshold':5665,\n",
    "    'interval':(4790, 6750),\n",
    "    'interval_type':'95% CrI'\n",
    "    },\n",
    "  'B':{\n",
    "    'threshold':6491,\n",
    "    'interval':(5677, 7823),\n",
    "    'interval_type':'95% CrI' \n",
    "    }\n",
    "},\n",
    "'Mean 1000 m neighbourhood street intersections per km²':{\n",
    "  'variable':'local_nh_intersection_density',\n",
    "  'A':{\n",
    "    'threshold':98,\n",
    "    'interval':(90, 110),\n",
    "    'interval_type':'95% CrI'\n",
    "    },\n",
    "  'B':{\n",
    "    'threshold':122,\n",
    "    'interval':(106, 156),\n",
    "    'interval_type':'95% CrI'\n",
    "    }\n",
    "},\n",
    "# 'Public transport density (stops/km2)':{\n",
    "#   'variable':'',\n",
    "#   'A':{\n",
    "#     'threshold':28,\n",
    "#     'interval':(23, max),\n",
    "#     'interval_type':'95% CrI'\n",
    "#     },\n",
    "#   'B':{\n",
    "#     'notes':'Not a significant correlate'\n",
    "#     }\n",
    "# },\n",
    "'Mean distance to nearest public transport stops (m)':{\n",
    "  'variable':'pct_access_500m_pt_any_binary',\n",
    "  'A':{\n",
    "    'threshold':702,\n",
    "    'interval':(553, 1254),\n",
    "    'interval_type':'95% CrI',\n",
    "    'notes':'threshold for above average prevalence'\n",
    "    },\n",
    "  'B':{\n",
    "    'notes':'Not a significant correlate'\n",
    "    }\n",
    "},\n",
    "'Mean distance to nearest park (m)':{\n",
    "  'variable':'pct_access_500m_public_open_space_any_binary',\n",
    "  'A':{\n",
    "    'threshold':953,\n",
    "    'interval':(705, 1220),\n",
    "    'interval_type':'95% CrI',\n",
    "    'notes':'threshold for above average prevalence'\n",
    "    },\n",
    "  'B':{\n",
    "    'threshold':322,\n",
    "    'interval': (0, 667),\n",
    "    'interval_type':'95% CrI',\n",
    "    'notes':'threshold for less than average inactivity'\n",
    "    }\n",
    "}}\n",
    "\n"
   ]
  },
  {
   "cell_type": "code",
   "execution_count": null,
   "metadata": {},
   "outputs": [
    {
     "name": "stdout",
     "output_type": "stream",
     "text": [
      "Maiduguri\n",
      "Mexico City\n"
     ]
    },
    {
     "name": "stderr",
     "output_type": "stream",
     "text": [
      "/opt/conda/lib/python3.7/site-packages/ipykernel_launcher.py:60: RuntimeWarning: More than 20 figures have been opened. Figures created through the pyplot interface (`matplotlib.pyplot.figure`) are retained until explicitly closed and may consume too much memory. (To control this warning, see the rcParam `figure.max_open_warning`).\n"
     ]
    },
    {
     "name": "stdout",
     "output_type": "stream",
     "text": [
      "Baltimore\n"
     ]
    }
   ],
   "source": [
    "fontprops = fm.FontProperties(size=8)\n",
    "for city in hexes.keys():\n",
    "    print(city)\n",
    "    # create a PdfPages object\n",
    "    with PdfPages(f'reports/{city}_threshold_summary.pdf') as pdf:\n",
    "        for indicator in thresholds.keys():\n",
    "            variable = thresholds[indicator]['variable']\n",
    "            var_min = min(hexes[city][variable])        \n",
    "            var_max = max(hexes[city][variable])\n",
    "            # limits = (min(thresholds[indicator]['A']['interval'][0],thresholds[indicator]['B']['interval'][0],var_min),\n",
    "            #          max(thresholds[indicator]['A']['interval'][0],thresholds[indicator]['B']['interval'][0],var_max))\n",
    "\n",
    "            # map main indicator\n",
    "            fig, ax = plt.subplots(1, 1, figsize=(11.69,8.27))\n",
    "            divider = make_axes_locatable(ax)\n",
    "            cax = divider.append_axes(\"right\", size=\"5%\", pad=0.1)\n",
    "            ax.set_xticks([])\n",
    "            ax.set_yticks([])\n",
    "\n",
    "            scalebar = AnchoredSizeBar(ax.transData,\n",
    "                                       1000, '1000 m', 'lower right', \n",
    "                                       pad= .01,\n",
    "                                       color='black',\n",
    "                                       frameon=False,\n",
    "                                       fontproperties=fontprops)\n",
    "\n",
    "            ax.add_artist(scalebar)\n",
    "            fig.suptitle(\"\\n\".join(wrap(indicator, 120 )))\n",
    "            hexes[city].plot(column = variable,\n",
    "                ax=ax,\n",
    "                legend=True,\n",
    "                cax=cax,\n",
    "                cmap='viridis_r')\n",
    "            pdf.savefig(fig)\n",
    "            plt.clf()\n",
    "\n",
    "            # map scenarios using custom splits\n",
    "            interval_splits ={}\n",
    "            splits = {}\n",
    "            for scenario in scenarios.keys():\n",
    "                attributes = list(thresholds[indicator][scenario].keys())\n",
    "                if ('interval' in attributes):\n",
    "                    splits[scenario] = thresholds[indicator][scenario]['interval']\n",
    "                    interval_type = thresholds[indicator][scenario]['interval_type']\n",
    "                    if max in splits:\n",
    "                        splits[scenario] = [x if x!=max else var_max for x in splits[scenario]]\n",
    "                    if min in splits:\n",
    "                        splits[scenario] = [x if x!=min else min(hexes[city][variable]) for x in splits[scenario]]\n",
    "                    interval_splits[scenario] = list(splits[scenario]).copy()\n",
    "                    split_labels = [f'within {interval_type} {splits[scenario]}']\n",
    "                    if var_min < splits[scenario][0]:\n",
    "                        splits[scenario] = [var_min]+list(splits[scenario])\n",
    "                        split_labels = [f'below {interval_type} lower bound ({splits[scenario][1]})']+split_labels\n",
    "                    if var_max > splits[scenario][-1]:\n",
    "                        splits[scenario] = list(splits[scenario])+[var_max]\n",
    "                        split_labels = split_labels+[f'exceeds {interval_type} upper bound ({splits[scenario][-1]})']\n",
    "                    #print(splits)\n",
    "                    hexes[city][f'{variable}_{scenario}'] = pd.cut(hexes[city][variable], bins=splits[scenario], labels=split_labels)\n",
    "                    hexes[city][f'{variable}_{scenario}']\n",
    "                    fig, ax = plt.subplots(figsize=(11.69,8.27))\n",
    "                    ax.set_xticks([])\n",
    "                    ax.set_yticks([])\n",
    "\n",
    "                    scalebar = AnchoredSizeBar(ax.transData,\n",
    "                                               1000, '1000 m', 'lower right', \n",
    "                                               pad= .01,\n",
    "                                               color='black',\n",
    "                                               frameon=False,\n",
    "                                               fontproperties=fontprops)\n",
    "\n",
    "                    ax.add_artist(scalebar)\n",
    "                    fig.suptitle(\"\\n\".join(wrap(f'Estimated {indicator} requirement for {scenarios[scenario]}', 120 )))\n",
    "                    if 'notes' in attributes:\n",
    "                        ax.set_title(f\"{thresholds[indicator][scenario]['notes']}\")\n",
    "                    hexes[city].plot(column = f'{variable}_{scenario}',\n",
    "                        ax=ax,\n",
    "                        legend=True,\n",
    "                        cmap='viridis_r')\n",
    "                    pdf.savefig(fig)\n",
    "                    plt.clf()\n",
    "\n",
    "            hexes[city][f'{variable}'].hist(grid=False)\n",
    "\n",
    "            plt.suptitle(\"\\n\".join(wrap(f'Histogram of {indicator}.',120)))\n",
    "\n",
    "            subtitle = ''\n",
    "            scenario_style = {'A':{'colour':'lightcyan','line':'dashed'},'B':{'colour':'palegreen','line':'solid'}}\n",
    "            for scenario in scenarios.keys():\n",
    "                attributes = list(thresholds[indicator][scenario].keys())\n",
    "                if ('interval' in attributes):\n",
    "                    subtitle = subtitle+(f'Target threshold of {thresholds[indicator][scenario][\"threshold\"]} '\n",
    "                                         f'({interval_type} {thresholds[indicator][scenario][\"interval\"]};{scenario_style[scenario][\"colour\"]}, {scenario_style[scenario][\"line\"]}).')\n",
    "                    for line in splits[scenario][1:]:\n",
    "                        plt.axvline(line, color='k', linestyle=scenario_style[scenario][\"line\"], linewidth=1)\n",
    "                    plt.axvspan(*interval_splits[scenario], color=scenario_style[scenario][\"colour\"],alpha=0.6, zorder=0)\n",
    "            if subtitle!='':\n",
    "                plt.title(\"\\n\".join(wrap(subtitle,120)))\n",
    "\n",
    "            pdf.savefig(fig)\n",
    "            plt.clf()\n"
   ]
  },
  {
   "cell_type": "code",
   "execution_count": 30,
   "metadata": {},
   "outputs": [
    {
     "data": {
      "text/plain": [
       "count    2176.000000\n",
       "mean       60.551672\n",
       "std        43.516081\n",
       "min         0.000000\n",
       "25%         0.000000\n",
       "50%        87.878788\n",
       "75%       100.000000\n",
       "max       100.000000\n",
       "Name: pct_access_500m_public_open_space_any_binary, dtype: float64"
      ]
     },
     "execution_count": 30,
     "metadata": {},
     "output_type": "execute_result"
    }
   ],
   "source": [
    "hexes[city][f'{variable}'].describe()"
   ]
  },
  {
   "cell_type": "code",
   "execution_count": null,
   "metadata": {},
   "outputs": [],
   "source": []
  },
  {
   "cell_type": "code",
   "execution_count": null,
   "metadata": {},
   "outputs": [],
   "source": []
  }
 ],
 "metadata": {
  "kernelspec": {
   "display_name": "Python (GlobalInd)",
   "language": "python",
   "name": "globalind"
  },
  "language_info": {
   "codemirror_mode": {
    "name": "ipython",
    "version": 3
   },
   "file_extension": ".py",
   "mimetype": "text/x-python",
   "name": "python",
   "nbconvert_exporter": "python",
   "pygments_lexer": "ipython3",
   "version": "3.7.8"
  }
 },
 "nbformat": 4,
 "nbformat_minor": 4
}
