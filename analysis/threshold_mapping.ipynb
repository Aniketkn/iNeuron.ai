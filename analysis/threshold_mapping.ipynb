{
 "cells": [
  {
   "cell_type": "code",
   "execution_count": 106,
   "metadata": {},
   "outputs": [],
   "source": [
    "import os\n",
    "import numpy as np\n",
    "import fiona\n",
    "import pandas as pd\n",
    "import geopandas as gpd\n",
    "import argparse\n",
    "import matplotlib.pyplot as plt\n",
    "from mpl_toolkits.axes_grid1 import make_axes_locatable\n",
    "from mpl_toolkits.axes_grid1.anchored_artists import AnchoredSizeBar\n",
    "import matplotlib.font_manager as fm\n",
    "from textwrap import wrap\n",
    "from matplotlib.backends.backend_pdf import PdfPages\n",
    "import json\n",
    "with open('../process/configuration/cities.json') as f:\n",
    "  city_data = json.load(f)\n",
    "\n",
    "\n",
    "def valid_path(arg):\n",
    "    arg = os.path.abspath(arg)\n",
    "    if not os.path.exists(arg):\n",
    "        msg = f\"The path {arg} does not exist!\"\n",
    "        raise argparse.ArgumentTypeError(msg)\n",
    "    else:\n",
    "        return arg\n"
   ]
  },
  {
   "cell_type": "code",
   "execution_count": 216,
   "metadata": {},
   "outputs": [],
   "source": [
    "# Parse input arguments\n",
    "# parser = argparse.ArgumentParser(description='Generate origin destination matrix')\n",
    "# parser.add_argument('-gpkg_cities',\n",
    "#                     help='path to all cities summary results geopackage',\n",
    "#                     default='./data/output/November 2020/global_indicators_city_2020-11-24.gpkg',\n",
    "#                     type=valid_path)\n",
    "# parser.add_argument('-gpkg_hexes',\n",
    "#                     help='path to all cities hexagon grid results geopackage',\n",
    "#                     default='./data/output/November 2020/global_indicators_hex_250m_2020-11-24.gpkg',\n",
    "#                     type=valid_path)\n",
    "# args = parser.parse_args()\n",
    "\n",
    "# dummy parsing for interactive debugging\n",
    "class Object(object):\n",
    "    pass\n",
    "\n",
    "args = Object()\n",
    "args.gpkg_cities = os.path.abspath('../process/data/output/global_indicators_city_2020-11-24.gpkg')\n",
    "args.gpkg_hexes = os.path.abspath('../process/data/output/global_indicators_hex_250m_2020-11-24.gpkg')\n",
    "\n",
    "cities = gpd.read_file(args.gpkg_cities, layer='all_cities_combined')\n",
    "cities.set_index('City',inplace=True)\n",
    "# cities"
   ]
  },
  {
   "cell_type": "code",
   "execution_count": 217,
   "metadata": {},
   "outputs": [],
   "source": [
    "hexes={}\n",
    "for city in cities.index:\n",
    "    hexes[city] = gpd.read_file(args.gpkg_hexes, layer=city.lower().replace(' ','_'))"
   ]
  },
  {
   "cell_type": "code",
   "execution_count": 218,
   "metadata": {},
   "outputs": [
    {
     "data": {
      "text/plain": [
       "dict_keys(['Maiduguri', 'Mexico City', 'Baltimore', 'Phoenix', 'Seattle', 'Sao Paulo', 'Hong Kong', 'Chennai', 'Bangkok', 'Hanoi', 'Adelaide', 'Melbourne', 'Sydney', 'Auckland', 'Graz', 'Ghent', 'Olomouc', 'Odense', 'Cologne', 'Lisbon', 'Barcelona', 'Valencia', 'Vic', 'Bern', 'Belfast'])"
      ]
     },
     "execution_count": 218,
     "metadata": {},
     "output_type": "execute_result"
    }
   ],
   "source": [
    "hexes.keys()"
   ]
  },
  {
   "cell_type": "code",
   "execution_count": 219,
   "metadata": {},
   "outputs": [
    {
     "name": "stdout",
     "output_type": "stream",
     "text": [
      "\n",
      "Global Indicators project, 2020\n",
      "\n",
      "Analysis and mapping of threshold values for urban design and transport planning features associated with\n",
      "  - (A) ≥80% probability of engaging in walking for transport and \n",
      "  - (B) reaching the WHO’s target of a ≥15% relative reduction in insufficient physical activity through walking\n",
      "\n",
      "\n"
     ]
    }
   ],
   "source": [
    "print(\"\"\"\n",
    "Global Indicators project, 2020\n",
    "\n",
    "Analysis and mapping of threshold values for urban design and transport planning features associated with\n",
    "  - (A) ≥80% probability of engaging in walking for transport and \n",
    "  - (B) reaching the WHO’s target of a ≥15% relative reduction in insufficient physical activity through walking\n",
    "\n",
    "\"\"\")\n",
    "\n",
    "\n"
   ]
  },
  {
   "cell_type": "code",
   "execution_count": 220,
   "metadata": {},
   "outputs": [],
   "source": [
    "# Analysis set up\n",
    "scenarios={\n",
    "  'A':'≥80% probability of engaging in walking for transport', \n",
    "  'B':'reaching the WHO’s target of a ≥15% relative reduction in insufficient physical activity through walking',\n",
    "  'distances':'distances to destinations, measured up to a maximum distance target threshold of 500 metres'\n",
    "}\n",
    "scenario_style = {\n",
    "    'A':{'colour':'lightcyan','line':'dashed'},\n",
    "    'B':{'colour':'palegreen','line':'solid'},\n",
    "    }\n",
    "greq = '≥'\n",
    "thresholds = {\n",
    "'Mean 1000 m neighbourhood population per km²':{\n",
    "  'data':'hexes', # the geopackage (hexes or points)\n",
    "  'function':None, # optional function of multiple variables (row operation, ie. axis=1)\n",
    "  'variable':'local_nh_population_density', # variable; a list is required if a function is specified\n",
    "  'truncate_at_maximum':False, # distance measures are only formally measured up to 500m, however truncation at 500 is required for neatness due to full distance measurement method\n",
    "  'polarity':'positive', # which is better: more (positive)? or less (negative)?\n",
    "  'scenarios':{\n",
    "      'A':{\n",
    "        'threshold':5665, # not used; we plot the interval\n",
    "        'comparison':'>', # direction in which to evaluate success (e.g. is the aim to be greater than or less than the threshold?)\n",
    "        'interval':(4790, 6750),\n",
    "        'interval_type':'95% CrI'\n",
    "        },\n",
    "      'B':{\n",
    "        'threshold':6491,\n",
    "        'comparison':'>',\n",
    "        'interval':(5677, 7823),\n",
    "        'interval_type':'95% CrI' \n",
    "        }\n",
    "  }\n",
    "},\n",
    "'Mean 1000 m neighbourhood street intersections per km²':{\n",
    "  'data':'hexes',\n",
    "  'function':None, \n",
    "  'variable':'local_nh_intersection_density',\n",
    "  'truncate_at_maximum':False,\n",
    "  'polarity':'positive',\n",
    "  'scenarios':{\n",
    "      'A':{\n",
    "        'threshold':98,\n",
    "        'comparison':'>',\n",
    "        'interval':(90, 110),\n",
    "        'interval_type':'95% CrI'\n",
    "        },\n",
    "      'B':{\n",
    "        'threshold':122,\n",
    "        'comparison':'>',\n",
    "        'interval':(106, 156),\n",
    "        'interval_type':'95% CrI'\n",
    "        }\n",
    "  }\n",
    "},\n",
    "# 'Public transport density (stops/km2)':{\n",
    "#   'data':'points',\n",
    "#   'layer':'samplePointsData',\n",
    "#   'function':none,\n",
    "#   'variable':'',\n",
    "#   'polarity':'positive',\n",
    "#   'custom_density':{\n",
    "#     'point_layer':'clean_intersections_12m',\n",
    "#     'polygon_layer':'pop_ghs_2015',\n",
    "#     'threshold':28,\n",
    "#       'comparison':'>',\n",
    "#     'interval':(23, max),\n",
    "#     'interval_type':'95% CrI'\n",
    "#     },\n",
    "#   'B':{\n",
    "#     'notes':'Not a significant correlate'\n",
    "#     }\n",
    "# },\n",
    "'Distance to nearest public transport stops (m; up to 500m)':{\n",
    "  'data':'points',\n",
    "  'layer':'samplePointsData',\n",
    "  'function':min, # take the minimum of the OSM and GTFS pt data sources\n",
    "  'variable':['sp_nearest_node_pt_osm_any','sp_nearest_node_pt_gtfs_any'],\n",
    "  'truncate_at_maximum':500,\n",
    "  'polarity':'negative', # shorter distance is assumed to be better, so polarity is negative\n",
    "  'scenarios':{\n",
    "      'distances':{\n",
    "        'interval':(0,150,200,300,400,500),\n",
    "        'interval_type':'distance (m)',\n",
    "        }\n",
    "  }\n",
    "},\n",
    "'Distance to nearest park (m; up to 500m)':{\n",
    "  'data':'points',\n",
    "  'layer':'samplePointsData',\n",
    "  'function':None,\n",
    "  'variable':'sp_nearest_node_public_open_space_any',\n",
    "  'truncate_at_maximum':500,\n",
    "  'polarity':'negative',\n",
    "  'scenarios':{\n",
    "      'distances':{\n",
    "        'interval':(0,150,200,300,400,500),\n",
    "        'interval_type':'distance (m)',\n",
    "        }\n",
    "  }\n",
    "}}\n",
    "\n"
   ]
  },
  {
   "cell_type": "code",
   "execution_count": 235,
   "metadata": {},
   "outputs": [
    {
     "name": "stdout",
     "output_type": "stream",
     "text": [
      "Maiduguri\n"
     ]
    },
    {
     "data": {
      "text/plain": [
       "<Figure size 841.68x595.44 with 0 Axes>"
      ]
     },
     "metadata": {},
     "output_type": "display_data"
    },
    {
     "data": {
      "text/plain": [
       "<Figure size 841.68x595.44 with 0 Axes>"
      ]
     },
     "metadata": {},
     "output_type": "display_data"
    },
    {
     "data": {
      "text/plain": [
       "<Figure size 841.68x595.44 with 0 Axes>"
      ]
     },
     "metadata": {},
     "output_type": "display_data"
    },
    {
     "data": {
      "text/plain": [
       "<Figure size 841.68x595.44 with 0 Axes>"
      ]
     },
     "metadata": {},
     "output_type": "display_data"
    },
    {
     "data": {
      "text/plain": [
       "<Figure size 841.68x595.44 with 0 Axes>"
      ]
     },
     "metadata": {},
     "output_type": "display_data"
    },
    {
     "data": {
      "text/plain": [
       "<Figure size 841.68x595.44 with 0 Axes>"
      ]
     },
     "metadata": {},
     "output_type": "display_data"
    },
    {
     "data": {
      "text/plain": [
       "<Figure size 841.68x595.44 with 0 Axes>"
      ]
     },
     "metadata": {},
     "output_type": "display_data"
    },
    {
     "data": {
      "text/plain": [
       "<Figure size 841.68x595.44 with 0 Axes>"
      ]
     },
     "metadata": {},
     "output_type": "display_data"
    }
   ],
   "source": [
    "fontprops = fm.FontProperties(size=8)\n",
    "for city in ['Maiduguri']:\n",
    "# for city in hexes.keys():\n",
    "    print(city)\n",
    "    study_region = cities.query(f'index==\"{city}\"').to_crs(hexes[city].crs).copy()\n",
    "    # create a PdfPages object\n",
    "    with PdfPages(f'reports/{city}_threshold_summary.pdf') as pdf:\n",
    "        for indicator in thresholds.keys():\n",
    "            data = thresholds[indicator]['data']\n",
    "            variable = thresholds[indicator]['variable']\n",
    "            indicator_scenarios = list(thresholds[indicator]['scenarios'].keys())\n",
    "            polarity = thresholds[indicator]['polarity']\n",
    "            # adjust colour scales for indicator polarities (more blue is better, or meeting achievements)\n",
    "            if polarity == 'negative':\n",
    "                cmap = 'viridis'\n",
    "                cmap_r = 'virids_r'\n",
    "            else:\n",
    "                cmap = 'viridis_r'\n",
    "                cmap_r = 'viridis'\n",
    "            \n",
    "            # Process maps for indicators using the hex data\n",
    "            if data == 'hexes':\n",
    "                if thresholds[indicator]['function'] != None:\n",
    "                    hexes[city]['derived']=hexes[city][variable].apply(lambda x: thresholds[indicator]['function'](x),axis=1)\n",
    "                    variable = 'derived'\n",
    "                \n",
    "                if thresholds[indicator]['truncate_at_maximum']!=False:\n",
    "                    cutoff = thresholds[indicator]['truncate_at_maximum']\n",
    "                    hexes[city].loc[hexes[city][variable]>cutoff,variable] = np.nan\n",
    "                \n",
    "                var_min = min(hexes[city][variable])        \n",
    "                var_max = max(hexes[city][variable])\n",
    "                \n",
    "                # map main indicator\n",
    "                fig, ax = plt.subplots(1, 1, figsize=(11.69,8.27))\n",
    "                ax.set_aspect('equal')\n",
    "                study_region.plot(ax=ax, color='none', edgecolor='black',zorder=2)\n",
    "                divider = make_axes_locatable(ax)\n",
    "                cax = divider.append_axes(\"right\", size=\"5%\", pad=0.1)\n",
    "                ax.set_xticks([])\n",
    "                ax.set_yticks([])\n",
    "\n",
    "                scalebar = AnchoredSizeBar(ax.transData,\n",
    "                                           1000, '1000 m', 'lower right', \n",
    "                                           pad= .01,\n",
    "                                           color='black',\n",
    "                                           frameon=False,\n",
    "                                           fontproperties=fontprops)\n",
    "\n",
    "                ax.add_artist(scalebar)\n",
    "                ax.set_rasterized(True)\n",
    "                fig.suptitle(\"\\n\".join(wrap(indicator, 120 )))\n",
    "                hexes[city].plot(column=variable, ax=ax, legend=True, cax=cax, cmap=cmap, zorder=1)\n",
    "                pdf.savefig(fig,dpi=200)\n",
    "                plt.clf()\n",
    "\n",
    "                # map scenarios using custom splits\n",
    "                interval_splits ={}\n",
    "                splits = {}\n",
    "                for scenario in [s for s in scenarios.keys() if s in indicator_scenarios]:\n",
    "                    attributes = list(thresholds[indicator]['scenarios'][scenario].keys())\n",
    "                    if ('interval' in attributes):\n",
    "                        splits[scenario] = thresholds[indicator]['scenarios'][scenario]['interval']\n",
    "                        interval_type = thresholds[indicator]['scenarios'][scenario]['interval_type']\n",
    "                        if max in splits:\n",
    "                            splits[scenario] = [x if x!=max else var_max for x in splits[scenario]]\n",
    "                        if min in splits:\n",
    "                            splits[scenario] = [x if x!=min else min(hexes[city][variable]) for x in splits[scenario]]\n",
    "                        interval_splits[scenario] = list(splits[scenario]).copy()\n",
    "                        split_labels = [f'within {interval_type} {splits[scenario]}']\n",
    "                        if var_min < splits[scenario][0]:\n",
    "                            splits[scenario] = [var_min]+list(splits[scenario])\n",
    "                            split_labels = [f'below {interval_type} lower bound']+split_labels\n",
    "                        if var_max > splits[scenario][-1]:\n",
    "                            splits[scenario] = list(splits[scenario])+[var_max]\n",
    "                            split_labels = split_labels+[f'exceeds {interval_type} upper bound']\n",
    "                        #print(splits)\n",
    "                        hexes[city][f'{variable}_{scenario}'] = pd.cut(hexes[city][variable], bins=splits[scenario], labels=split_labels)\n",
    "                        hexes[city][f'{variable}_{scenario}']\n",
    "                        fig, ax = plt.subplots(figsize=(11.69,8.27))\n",
    "                        ax.set_aspect('equal')\n",
    "                        study_region.plot(ax=ax, color='none', edgecolor='black', zorder=2)\n",
    "                        ax.set_xticks([])\n",
    "                        ax.set_yticks([])\n",
    "                        scalebar = AnchoredSizeBar(ax.transData,\n",
    "                                                   1000, '1000 m', 'lower right', \n",
    "                                                   pad= .01,\n",
    "                                                   color='black',\n",
    "                                                   frameon=False,\n",
    "                                                   fontproperties=fontprops)\n",
    "                        ax.add_artist(scalebar)\n",
    "                        ax.set_rasterized(True)\n",
    "                        fig.suptitle(\"\\n\".join(wrap(f'Estimated {indicator} requirement for {scenarios[scenario]}', 120 )))\n",
    "                        if 'notes' in attributes:\n",
    "                            ax.set_title(f\"{thresholds[indicator]['scenarios'][scenario]['notes']}\")\n",
    "                        \n",
    "                        hexes[city].plot(column = f'{variable}_{scenario}',ax=ax,legend=True,cmap=cmap, zorder=1)\n",
    "                        pdf.savefig(fig, dpi=200)\n",
    "                        plt.clf()\n",
    "                \n",
    "                hexes[city][f'{variable}'].hist(grid=False)\n",
    "                plt.suptitle(\"\\n\".join(wrap(f'Histogram of {indicator}.',120)))\n",
    "                \n",
    "                subtitle = ''\n",
    "                \n",
    "                for scenario in [s for s in scenarios.keys() if s in indicator_scenarios]:\n",
    "                    attributes = list(thresholds[indicator]['scenarios'][scenario].keys())\n",
    "                    if ('interval' in attributes):\n",
    "                        subtitle = subtitle+(f'Target threshold of {thresholds[indicator][\"scenarios\"][scenario][\"threshold\"]} '\n",
    "                                             f'({interval_type} {thresholds[indicator][\"scenarios\"][scenario][\"interval\"]};{scenario_style[scenario][\"colour\"]}, {scenario_style[scenario][\"line\"]}).')\n",
    "                        for line in splits[scenario][1:]:\n",
    "                            plt.axvline(line, color='k', linestyle=scenario_style[scenario][\"line\"], linewidth=1)\n",
    "                        plt.axvspan(*interval_splits[scenario], color=scenario_style[scenario][\"colour\"],alpha=0.6, zorder=0)\n",
    "                if subtitle!='':\n",
    "                    plt.title(\"\\n\".join(wrap(subtitle,120)))\n",
    "                \n",
    "                pdf.savefig(fig)\n",
    "                plt.clf()\n",
    "            \n",
    "            # Process maps for indicators using the point data (e.g. distances)\n",
    "            if data == 'points':\n",
    "                layer = thresholds[indicator]['layer']\n",
    "                points = gpd.read_file(f\"../process/data/output/{city_data['gpkgNames'][city.lower().replace(' ','_')]}\",layer=layer)\n",
    "                if thresholds[indicator]['function'] != None:\n",
    "                    points['derived']=points[variable].apply(lambda x: thresholds[indicator]['function'](x.fillna(value=np.nan)),axis=1)\n",
    "                    variable = 'derived'\n",
    "                \n",
    "                if thresholds[indicator]['truncate_at_maximum']!=False:\n",
    "                    cutoff = thresholds[indicator]['truncate_at_maximum']\n",
    "                    points.loc[points[variable]>cutoff,variable] = np.nan\n",
    "                \n",
    "                var_min = min(points[variable])        \n",
    "                var_max = max(points[variable])\n",
    "                \n",
    "                # map main indicator\n",
    "                fig, ax = plt.subplots(1, 1, figsize=(11.69,8.27))\n",
    "                ax.set_aspect('equal')\n",
    "                study_region.plot(ax=ax, color='none', edgecolor='black',zorder=2)\n",
    "                divider = make_axes_locatable(ax)\n",
    "                cax = divider.append_axes(\"right\", size=\"5%\", pad=0.1)\n",
    "                ax.set_xticks([])\n",
    "                ax.set_yticks([])\n",
    "\n",
    "                scalebar = AnchoredSizeBar(ax.transData,\n",
    "                                           1000, '1000 m', 'lower right', \n",
    "                                           pad= .01,\n",
    "                                           color='black',\n",
    "                                           frameon=False,\n",
    "                                           fontproperties=fontprops)\n",
    "\n",
    "                ax.add_artist(scalebar)\n",
    "                ax.set_rasterized(True)\n",
    "                fig.suptitle(\"\\n\".join(wrap(indicator, 120 )))\n",
    "                points.plot(column=variable, ax=ax, legend=True, cax=cax, cmap=cmap,markersize=0.5, zorder=1)\n",
    "                pdf.savefig(fig, dpi=200)\n",
    "                plt.clf()\n",
    "\n",
    "                # map scenarios using custom splits\n",
    "                interval_splits ={}\n",
    "                splits = {}\n",
    "                for scenario in [s for s in scenarios.keys() if s in indicator_scenarios and s!='distances']:\n",
    "                    attributes = list(thresholds[indicator]['scenarios'][scenario].keys())\n",
    "                    threshold = thresholds[indicator]['scenarios'][scenario]['threshold']\n",
    "                    comparison = thresholds[indicator]['scenarios'][scenario]['comparison']\n",
    "                    if ('interval' in attributes):\n",
    "                        splits[scenario] = thresholds[indicator]['scenarios'][scenario]['interval']\n",
    "                        interval_type = thresholds[indicator]['scenarios'][scenario]['interval_type']\n",
    "                        if max in splits:\n",
    "                            splits[scenario] = [x if x!=max else var_max for x in splits[scenario]]\n",
    "                        if min in splits:\n",
    "                            splits[scenario] = [x if x!=min else min(points[variable]) for x in splits[scenario]]\n",
    "                        interval_splits[scenario] = list(splits[scenario]).copy()\n",
    "                        if scenario == 'custom density':\n",
    "                            split_labels = [f'within {interval_type} {splits[scenario]}']\n",
    "                            if var_min < splits[scenario][0]:\n",
    "                                splits[scenario] = [var_min]+list(splits[scenario])\n",
    "                                split_labels = [f'below {interval_type} lower bound']+split_labels\n",
    "                            if var_max > splits[scenario][-1]:\n",
    "                                splits[scenario] = list(splits[scenario])+[var_max]\n",
    "                                split_labels = split_labels+[f'exceeds {interval_type} upper bound']\n",
    "                        else:\n",
    "                            split_labels = None\n",
    "                        #print(splits)\n",
    "                        points[f'{variable}_{scenario}'] = pd.cut(points[variable], bins=splits[scenario], labels=split_labels)\n",
    "                        points[f'{variable}_{scenario}']\n",
    "                        fig, ax = plt.subplots(figsize=(11.69,8.27))\n",
    "                        ax.set_aspect('equal')\n",
    "                        study_region.plot(ax=ax, color='none', edgecolor='black', zorder=2)\n",
    "                        ax.set_xticks([])\n",
    "                        ax.set_yticks([])\n",
    "                        scalebar = AnchoredSizeBar(ax.transData,\n",
    "                                                   1000, '1000 m', 'lower right', \n",
    "                                                   pad= .01,\n",
    "                                                   color='black',\n",
    "                                                   frameon=False,\n",
    "                                                   fontproperties=fontprops)\n",
    "                        ax.add_artist(scalebar)\n",
    "                        fig.suptitle(\"\\n\".join(wrap(f'Estimated {indicator} requirement for {scenarios[scenario]}', 120 )))\n",
    "                        if 'notes' in attributes:\n",
    "                            ax.set_title(f\"{thresholds[indicator]['scenarios'][scenario]['notes']}\")\n",
    "                        \n",
    "                        points.plot(column = f'{variable}_{scenario}',ax=ax,legend=True,cmap=cmap, zorder=1)\n",
    "                        pdf.savefig(fig)\n",
    "                        plt.clf()\n",
    "                \n",
    "                # Plot histogram (not for distances, as truncation at 500m with otherwise nans is misleading in basic histogram)\n",
    "                if 'distances' not in list(thresholds[indicator][\"scenarios\"].keys()):\n",
    "                    points[f'{variable}'].hist(grid=False)\n",
    "                    plt.suptitle(\"\\n\".join(wrap(f'Histogram of {indicator}.',120)))\n",
    "\n",
    "                    subtitle = ''\n",
    "                    scenario_style = {'A':{'colour':'lightcyan','line':'dashed'},'B':{'colour':'palegreen','line':'solid'}}\n",
    "                    for scenario in [s for s in scenarios.keys() if s in indicator_scenarios]:\n",
    "                        attributes = list(thresholds[indicator]['scenarios'][scenario].keys())\n",
    "                        if ('interval' in attributes):\n",
    "                            subtitle = subtitle+(f'\\r\\n{interval_type} {thresholds[indicator][\"scenarios\"][scenario][\"interval\"]};{scenario_style[scenario][\"colour\"]}, {scenario_style[scenario][\"line\"]}')\n",
    "                            for line in splits[scenario][1:]:\n",
    "                                plt.axvline(line, color='k', linestyle=scenario_style[scenario][\"line\"], linewidth=1)\n",
    "                            plt.axvspan(*interval_splits[scenario], color=scenario_style[scenario][\"colour\"],alpha=0.6, zorder=0)\n",
    "                    if subtitle!='':\n",
    "                        plt.title(\"\\n\".join(wrap(subtitle,120)))\n",
    "\n",
    "                    pdf.savefig(fig)\n",
    "                    plt.clf()\n"
   ]
  },
  {
   "cell_type": "code",
   "execution_count": null,
   "metadata": {},
   "outputs": [],
   "source": [
    "# Non-working sketch attempt to increase map size by 10% to allow more space for legend\n",
    "study_region = cities.query(f'index==\"{city}\"').to_crs(hexes['Maiduguri'].crs).copy()\n",
    "bounds = study_region.bounds\n",
    "width = (bounds['maxx'].values[0]-bounds['minx'].values[0])/2.0\n",
    "height = (bounds['maxy'].values[0]-bounds['miny'].values[0])/2.0\n",
    "fig, ax = plt.subplots(figsize=(11.69,8.27))\n",
    "ax.set_aspect('equal')\n",
    "study_region.plot(ax=ax, color='none', edgecolor='black', zorder=2)\n",
    "ax.set_xticks([])\n",
    "ax.set_yticks([])\n",
    "#ax.set(xlim=(bounds['minx']-width/20.0,bounds['maxx']+width/20.0), ylim=(bounds['miny']-height/20.0,bounds['maxy']+height/20.0)) \n",
    "hexes['Maiduguri'].plot(column = f'local_nh_intersection_density',ax=ax,legend=False,cmap='viridis_r', zorder=1)\n",
    "ax.set_xlim(bounds['minx'].values[0]-width,bounds['maxx'].values[0]+width)\n",
    "ax.set_ylim(bounds['miny'].values[0]-height,bounds['maxy'].values[0]+height)\n",
    "# plt.subplots_adjust(hspace=100000)\n",
    "plt.show()\n",
    "plt.clf()"
   ]
  },
  {
   "cell_type": "code",
   "execution_count": 208,
   "metadata": {},
   "outputs": [
    {
     "data": {
      "text/plain": [
       "95.92969419026657"
      ]
     },
     "execution_count": 208,
     "metadata": {},
     "output_type": "execute_result"
    }
   ],
   "source": [
    "# Estimated percentage of population meeting indicator threshold\n",
    "indicator = 'Mean 1000 m neighbourhood population per km²'\n",
    "variable = thresholds[indicator]['variable']\n",
    "for scenario in thresholds[indicator]['scenarios']:\n",
    "threshold = thresholds[indicator]['scenarios'][scenario]['threshold']\n",
    "comparison = thresholds[indicator]['scenarios'][scenario]['comparison']\n",
    "100*hexes['Maiduguri'].groupby([hexes['Maiduguri'].eval(f\"{variable}{comparison}{threshold}\")])['pop_est'].sum().loc[True]/hexes['Maiduguri']['pop_est'].sum()"
   ]
  },
  {
   "cell_type": "code",
   "execution_count": 242,
   "metadata": {},
   "outputs": [
    {
     "data": {
      "text/plain": [
       "289006.75122632046"
      ]
     },
     "execution_count": 242,
     "metadata": {},
     "output_type": "execute_result"
    }
   ],
   "source": [
    "bounds['minx'].values[0]"
   ]
  },
  {
   "cell_type": "code",
   "execution_count": 178,
   "metadata": {},
   "outputs": [
    {
     "data": {
      "text/html": [
       "<div>\n",
       "<style scoped>\n",
       "    .dataframe tbody tr th:only-of-type {\n",
       "        vertical-align: middle;\n",
       "    }\n",
       "\n",
       "    .dataframe tbody tr th {\n",
       "        vertical-align: top;\n",
       "    }\n",
       "\n",
       "    .dataframe thead th {\n",
       "        text-align: right;\n",
       "    }\n",
       "</style>\n",
       "<table border=\"1\" class=\"dataframe\">\n",
       "  <thead>\n",
       "    <tr style=\"text-align: right;\">\n",
       "      <th></th>\n",
       "      <th>0</th>\n",
       "    </tr>\n",
       "  </thead>\n",
       "  <tbody>\n",
       "    <tr>\n",
       "      <th>pop_pct_access_500m_public_open_space_any_binary</th>\n",
       "      <td>1.913278</td>\n",
       "    </tr>\n",
       "    <tr>\n",
       "      <th>pop_pct_access_500m_pt_any_binary</th>\n",
       "      <td>9.571100</td>\n",
       "    </tr>\n",
       "  </tbody>\n",
       "</table>\n",
       "</div>"
      ],
      "text/plain": [
       "                                                         0\n",
       "pop_pct_access_500m_public_open_space_any_binary  1.913278\n",
       "pop_pct_access_500m_pt_any_binary                 9.571100"
      ]
     },
     "execution_count": 178,
     "metadata": {},
     "output_type": "execute_result"
    }
   ],
   "source": [
    "# Estimated percentage of population with access within 500 metres estimates\n",
    "cities.query('City==\"Maiduguri\"')[['pop_pct_access_500m_public_open_space_any_binary','pop_pct_access_500m_pt_any_binary']].transpose()"
   ]
  }
 ],
 "metadata": {
  "kernelspec": {
   "display_name": "Python (GlobalInd)",
   "language": "python",
   "name": "globalind"
  },
  "language_info": {
   "codemirror_mode": {
    "name": "ipython",
    "version": 3
   },
   "file_extension": ".py",
   "mimetype": "text/x-python",
   "name": "python",
   "nbconvert_exporter": "python",
   "pygments_lexer": "ipython3",
   "version": "3.7.8"
  }
 },
 "nbformat": 4,
 "nbformat_minor": 4
}
