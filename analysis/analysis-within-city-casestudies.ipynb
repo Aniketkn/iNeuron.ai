{
 "cells": [
  {
   "cell_type": "markdown",
   "metadata": {},
   "source": [
    "# Visualization and data analysis of output indicators \n",
    "\n",
    "This notebook presents data visualization and analysis for output indicators from the Global indicator project.   \n",
    "    - Uses 4 sample cities, plots different indicators and compare, interpret the within-city variations and how that may or may not represent the real-world situation\n",
    "\n",
    "**Note: Refer to the [workflow documentation](https://github.com/gboeing/global-indicators/blob/master/documentation/workflow.md) for indicators tables and description**"
   ]
  },
  {
   "cell_type": "code",
   "execution_count": 1,
   "metadata": {},
   "outputs": [],
   "source": [
    "import geopandas as gpd\n",
    "import json\n",
    "import os\n",
    "import matplotlib.pyplot as plt\n",
    "import osmnx as ox\n",
    "\n",
    "%matplotlib inline"
   ]
  },
  {
   "cell_type": "code",
   "execution_count": 2,
   "metadata": {},
   "outputs": [],
   "source": [
    "image_path = './images'\n",
    "dpi = 300\n",
    "\n",
    "process_folder = '../process'\n",
    "process_config_path = '../process/configuration/cities.json'"
   ]
  },
  {
   "cell_type": "code",
   "execution_count": 3,
   "metadata": {},
   "outputs": [],
   "source": [
    "with open(process_config_path) as json_file:\n",
    "    config = json.load(json_file)\n",
    "\n",
    "output_folder = os.path.join(process_folder, config['folder'])\n",
    "input_folder = os.path.join(process_folder, config['input_folder'])\n",
    "\n",
    "# the path of \"global_indicators_hex_250m.gpkg\"\n",
    "gpkgOutput_hex250 = os.path.join(output_folder, config['output_hex_250m'])\n",
    "\n",
    "# create the path of \"global_indicators_city.gpkg\"\n",
    "gpkgOutput_cities = os.path.join(output_folder, config['global_indicators_city'])\n",
    "        "
   ]
  },
  {
   "cell_type": "code",
   "execution_count": 4,
   "metadata": {},
   "outputs": [],
   "source": [
    "cities = ['adelaide',\n",
    " 'auckland',\n",
    " 'baltimore',\n",
    " 'bangkok',\n",
    " 'barcelona',\n",
    " 'belfast',\n",
    " 'bern',\n",
    " 'chennai',\n",
    " 'mexico_city',\n",
    " 'cologne',\n",
    " 'ghent',\n",
    " 'graz',\n",
    " 'hanoi',\n",
    " 'hong_kong',\n",
    " 'lisbon',\n",
    " 'melbourne',\n",
    " 'odense',\n",
    " 'olomouc',\n",
    " 'sao_paulo',\n",
    " 'phoenix',\n",
    " 'seattle',\n",
    " 'sydney',\n",
    " 'valencia',\n",
    " 'vic']"
   ]
  },
  {
   "cell_type": "markdown",
   "metadata": {},
   "source": [
    "### Plot Example Cities"
   ]
  },
  {
   "cell_type": "code",
   "execution_count": 5,
   "metadata": {},
   "outputs": [],
   "source": [
    "scheme = 'NaturalBreaks'\n",
    "k = 5\n",
    "cmap = 'plasma'\n",
    "edgecolor = 'none'\n",
    "city_color = 'none'\n",
    "city_edge = 'w'\n",
    "city_edge_lw = 0.2\n",
    "title_y = 1.02\n",
    "title_fontsize = 16\n",
    "title_weight = 'bold'\n",
    "\n",
    "fontcolor = 'w'\n",
    "params = {\"text.color\" : fontcolor,\n",
    "          \"ytick.color\" : fontcolor,\n",
    "          \"xtick.color\" : fontcolor}\n",
    "plt.rcParams.update(params)"
   ]
  },
  {
   "cell_type": "code",
   "execution_count": 6,
   "metadata": {},
   "outputs": [],
   "source": [
    "def plot_within(gpkgOutput_hex250, gpkgOutput_cities, filepath, figsize=(14, 8), facecolor=\"k\", nrows=2, ncols=3, projected=True):\n",
    "\n",
    "    cols=['all_cities_walkability', \n",
    "          'pct_access_500m_public_open_space_any_binary',\n",
    "          'pct_access_500m_public_open_space_large_binary',\n",
    "          'pct_access_500m_pt_gtfs_any_binary',\n",
    "          'pct_access_500m_pt_gtfs_freq_20_binary',\n",
    "          'pct_access_500m_pt_gtfs_freq_30_binary']\n",
    "\n",
    "    fig, axes = plt.subplots(figsize=figsize, facecolor=facecolor, nrows=nrows, ncols=ncols,)\n",
    "\n",
    "    for ax, col in zip(axes.flatten(), cols):\n",
    "        # the path of \"global_indicators_hex_250m.gpkg\"\n",
    "        gpkgOutput_hex250 = os.path.join(output_folder, config['output_hex_250m'])\n",
    "\n",
    "        # create the path of \"global_indicators_city.gpkg\"\n",
    "        gpkgOutput_cities = os.path.join(output_folder, config['global_indicators_city'])\n",
    "        \n",
    "        # from filepaths, extract city-level data\n",
    "        hex250 = gpd.read_file(gpkgOutput_hex250, layer=city)\n",
    "        city_bound = gpd.read_file(gpkgOutput_cities, layer=city)\n",
    "        \n",
    "        # plot hexplot and city boundaries\n",
    "        _ = hex250.plot(ax=ax, column=col, scheme=scheme, k=k, cmap=cmap, edgecolor=edgecolor,\n",
    "                        label=city, legend=False, legend_kwds=None)\n",
    "        _ = city_bound.plot(ax=ax, color=city_color, edgecolor=city_edge, linewidth=city_edge_lw)\n",
    "\n",
    "        # add titles\n",
    "        fig.suptitle(f\"{city} Within-city Indicators\", color=fontcolor, fontsize=20, weight='bold')\n",
    "        ax.set_title(col, color=fontcolor, fontsize=10)\n",
    "        ax.set_axis_off()\n",
    "\n",
    "        # save to disk\n",
    "        save_path = os.path.join(image_path, f\"{city}-within-maps.png\")\n",
    "        fig.savefig(save_path, dpi=dpi, bbox_inches='tight', facecolor=fig.get_facecolor())\n",
    "        plt.close()\n",
    "        \n",
    "        print(ox.ts(), f'figures saved to disk at \"{filepath}\"')\n",
    "\n",
    "    return fig, axes"
   ]
  },
  {
   "cell_type": "code",
   "execution_count": 7,
   "metadata": {},
   "outputs": [
    {
     "name": "stdout",
     "output_type": "stream",
     "text": [
      "2020-10-05 06:57:54 begin mapping adelaide\n",
      "2020-10-05 06:58:07 figures saved to disk at \"./images\"\n",
      "2020-10-05 06:58:17 figures saved to disk at \"./images\"\n",
      "2020-10-05 06:58:27 figures saved to disk at \"./images\"\n",
      "2020-10-05 06:58:37 figures saved to disk at \"./images\"\n",
      "2020-10-05 06:58:47 figures saved to disk at \"./images\"\n",
      "2020-10-05 06:58:57 figures saved to disk at \"./images\"\n",
      "2020-10-05 06:58:57 begin mapping auckland\n",
      "2020-10-05 06:59:06 figures saved to disk at \"./images\"\n",
      "2020-10-05 06:59:17 figures saved to disk at \"./images\"\n",
      "2020-10-05 06:59:27 figures saved to disk at \"./images\"\n",
      "2020-10-05 06:59:37 figures saved to disk at \"./images\"\n",
      "2020-10-05 06:59:48 figures saved to disk at \"./images\"\n",
      "2020-10-05 06:59:58 figures saved to disk at \"./images\"\n",
      "2020-10-05 06:59:58 begin mapping baltimore\n",
      "2020-10-05 07:00:11 figures saved to disk at \"./images\"\n",
      "2020-10-05 07:00:24 figures saved to disk at \"./images\"\n",
      "2020-10-05 07:00:36 figures saved to disk at \"./images\"\n",
      "2020-10-05 07:00:48 figures saved to disk at \"./images\"\n",
      "2020-10-05 07:01:02 figures saved to disk at \"./images\"\n",
      "2020-10-05 07:01:16 figures saved to disk at \"./images\"\n",
      "2020-10-05 07:01:16 begin mapping bangkok\n",
      "2020-10-05 07:01:37 figures saved to disk at \"./images\"\n",
      "2020-10-05 07:01:58 figures saved to disk at \"./images\"\n",
      "2020-10-05 07:02:21 figures saved to disk at \"./images\"\n"
     ]
    },
    {
     "name": "stderr",
     "output_type": "stream",
     "text": [
      "/opt/conda/lib/python3.7/site-packages/mapclassify/classifiers.py:1718: UserWarning: Warning: Not enough unique values in array to form k classes\n",
      "  Warn(ms, UserWarning)\n",
      "/opt/conda/lib/python3.7/site-packages/mapclassify/classifiers.py:1719: UserWarning: Warning: setting k to 1\n",
      "  Warn(\"Warning: setting k to %d\" % uvk, UserWarning)\n",
      "/opt/conda/lib/python3.7/site-packages/mapclassify/classifiers.py:890: RuntimeWarning: invalid value encountered in double_scalars\n",
      "  gadf = 1 - self.adcm / adam\n"
     ]
    },
    {
     "name": "stdout",
     "output_type": "stream",
     "text": [
      "2020-10-05 07:02:43 figures saved to disk at \"./images\"\n"
     ]
    },
    {
     "name": "stderr",
     "output_type": "stream",
     "text": [
      "/opt/conda/lib/python3.7/site-packages/mapclassify/classifiers.py:1718: UserWarning: Warning: Not enough unique values in array to form k classes\n",
      "  Warn(ms, UserWarning)\n",
      "/opt/conda/lib/python3.7/site-packages/mapclassify/classifiers.py:1719: UserWarning: Warning: setting k to 1\n",
      "  Warn(\"Warning: setting k to %d\" % uvk, UserWarning)\n",
      "/opt/conda/lib/python3.7/site-packages/mapclassify/classifiers.py:890: RuntimeWarning: invalid value encountered in double_scalars\n",
      "  gadf = 1 - self.adcm / adam\n"
     ]
    },
    {
     "name": "stdout",
     "output_type": "stream",
     "text": [
      "2020-10-05 07:03:06 figures saved to disk at \"./images\"\n"
     ]
    },
    {
     "name": "stderr",
     "output_type": "stream",
     "text": [
      "/opt/conda/lib/python3.7/site-packages/mapclassify/classifiers.py:1718: UserWarning: Warning: Not enough unique values in array to form k classes\n",
      "  Warn(ms, UserWarning)\n",
      "/opt/conda/lib/python3.7/site-packages/mapclassify/classifiers.py:1719: UserWarning: Warning: setting k to 1\n",
      "  Warn(\"Warning: setting k to %d\" % uvk, UserWarning)\n",
      "/opt/conda/lib/python3.7/site-packages/mapclassify/classifiers.py:890: RuntimeWarning: invalid value encountered in double_scalars\n",
      "  gadf = 1 - self.adcm / adam\n"
     ]
    },
    {
     "name": "stdout",
     "output_type": "stream",
     "text": [
      "2020-10-05 07:03:26 figures saved to disk at \"./images\"\n",
      "2020-10-05 07:03:27 begin mapping barcelona\n",
      "2020-10-05 07:03:38 figures saved to disk at \"./images\"\n",
      "2020-10-05 07:03:48 figures saved to disk at \"./images\"\n",
      "2020-10-05 07:03:58 figures saved to disk at \"./images\"\n",
      "2020-10-05 07:04:08 figures saved to disk at \"./images\"\n",
      "2020-10-05 07:04:16 figures saved to disk at \"./images\"\n",
      "2020-10-05 07:04:27 figures saved to disk at \"./images\"\n",
      "2020-10-05 07:04:27 begin mapping belfast\n",
      "2020-10-05 07:04:32 figures saved to disk at \"./images\"\n",
      "2020-10-05 07:04:36 figures saved to disk at \"./images\"\n",
      "2020-10-05 07:04:40 figures saved to disk at \"./images\"\n",
      "2020-10-05 07:04:43 figures saved to disk at \"./images\"\n",
      "2020-10-05 07:04:47 figures saved to disk at \"./images\"\n",
      "2020-10-05 07:04:51 figures saved to disk at \"./images\"\n",
      "2020-10-05 07:04:51 begin mapping bern\n",
      "2020-10-05 07:04:55 figures saved to disk at \"./images\"\n",
      "2020-10-05 07:04:57 figures saved to disk at \"./images\"\n",
      "2020-10-05 07:05:00 figures saved to disk at \"./images\"\n",
      "2020-10-05 07:05:02 figures saved to disk at \"./images\"\n",
      "2020-10-05 07:05:05 figures saved to disk at \"./images\"\n",
      "2020-10-05 07:05:07 figures saved to disk at \"./images\"\n",
      "2020-10-05 07:05:07 begin mapping chennai\n",
      "2020-10-05 07:05:17 figures saved to disk at \"./images\"\n",
      "2020-10-05 07:05:27 figures saved to disk at \"./images\"\n",
      "2020-10-05 07:05:35 figures saved to disk at \"./images\"\n",
      "2020-10-05 07:05:46 figures saved to disk at \"./images\"\n",
      "2020-10-05 07:05:55 figures saved to disk at \"./images\"\n",
      "2020-10-05 07:06:05 figures saved to disk at \"./images\"\n",
      "2020-10-05 07:06:05 begin mapping mexico_city\n",
      "2020-10-05 07:06:56 figures saved to disk at \"./images\"\n",
      "2020-10-05 07:07:46 figures saved to disk at \"./images\"\n",
      "2020-10-05 07:08:40 figures saved to disk at \"./images\"\n",
      "2020-10-05 07:09:27 figures saved to disk at \"./images\"\n",
      "2020-10-05 07:10:16 figures saved to disk at \"./images\"\n",
      "2020-10-05 07:10:57 figures saved to disk at \"./images\"\n",
      "2020-10-05 07:10:57 begin mapping cologne\n",
      "2020-10-05 07:11:07 figures saved to disk at \"./images\"\n",
      "2020-10-05 07:11:17 figures saved to disk at \"./images\"\n",
      "2020-10-05 07:11:26 figures saved to disk at \"./images\"\n",
      "2020-10-05 07:11:35 figures saved to disk at \"./images\"\n",
      "2020-10-05 07:11:43 figures saved to disk at \"./images\"\n",
      "2020-10-05 07:11:54 figures saved to disk at \"./images\"\n",
      "2020-10-05 07:11:54 begin mapping ghent\n",
      "2020-10-05 07:11:59 figures saved to disk at \"./images\"\n",
      "2020-10-05 07:12:03 figures saved to disk at \"./images\"\n",
      "2020-10-05 07:12:06 figures saved to disk at \"./images\"\n"
     ]
    },
    {
     "name": "stderr",
     "output_type": "stream",
     "text": [
      "/opt/conda/lib/python3.7/site-packages/mapclassify/classifiers.py:1718: UserWarning: Warning: Not enough unique values in array to form k classes\n",
      "  Warn(ms, UserWarning)\n",
      "/opt/conda/lib/python3.7/site-packages/mapclassify/classifiers.py:1719: UserWarning: Warning: setting k to 1\n",
      "  Warn(\"Warning: setting k to %d\" % uvk, UserWarning)\n",
      "/opt/conda/lib/python3.7/site-packages/mapclassify/classifiers.py:890: RuntimeWarning: invalid value encountered in double_scalars\n",
      "  gadf = 1 - self.adcm / adam\n"
     ]
    },
    {
     "name": "stdout",
     "output_type": "stream",
     "text": [
      "2020-10-05 07:12:10 figures saved to disk at \"./images\"\n"
     ]
    },
    {
     "name": "stderr",
     "output_type": "stream",
     "text": [
      "/opt/conda/lib/python3.7/site-packages/mapclassify/classifiers.py:1718: UserWarning: Warning: Not enough unique values in array to form k classes\n",
      "  Warn(ms, UserWarning)\n",
      "/opt/conda/lib/python3.7/site-packages/mapclassify/classifiers.py:1719: UserWarning: Warning: setting k to 1\n",
      "  Warn(\"Warning: setting k to %d\" % uvk, UserWarning)\n",
      "/opt/conda/lib/python3.7/site-packages/mapclassify/classifiers.py:890: RuntimeWarning: invalid value encountered in double_scalars\n",
      "  gadf = 1 - self.adcm / adam\n"
     ]
    },
    {
     "name": "stdout",
     "output_type": "stream",
     "text": [
      "2020-10-05 07:12:13 figures saved to disk at \"./images\"\n"
     ]
    },
    {
     "name": "stderr",
     "output_type": "stream",
     "text": [
      "/opt/conda/lib/python3.7/site-packages/mapclassify/classifiers.py:1718: UserWarning: Warning: Not enough unique values in array to form k classes\n",
      "  Warn(ms, UserWarning)\n",
      "/opt/conda/lib/python3.7/site-packages/mapclassify/classifiers.py:1719: UserWarning: Warning: setting k to 1\n",
      "  Warn(\"Warning: setting k to %d\" % uvk, UserWarning)\n",
      "/opt/conda/lib/python3.7/site-packages/mapclassify/classifiers.py:890: RuntimeWarning: invalid value encountered in double_scalars\n",
      "  gadf = 1 - self.adcm / adam\n"
     ]
    },
    {
     "name": "stdout",
     "output_type": "stream",
     "text": [
      "2020-10-05 07:12:17 figures saved to disk at \"./images\"\n",
      "2020-10-05 07:12:17 begin mapping graz\n",
      "2020-10-05 07:12:21 figures saved to disk at \"./images\"\n",
      "2020-10-05 07:12:25 figures saved to disk at \"./images\"\n",
      "2020-10-05 07:12:31 figures saved to disk at \"./images\"\n"
     ]
    },
    {
     "name": "stderr",
     "output_type": "stream",
     "text": [
      "/opt/conda/lib/python3.7/site-packages/mapclassify/classifiers.py:1718: UserWarning: Warning: Not enough unique values in array to form k classes\n",
      "  Warn(ms, UserWarning)\n",
      "/opt/conda/lib/python3.7/site-packages/mapclassify/classifiers.py:1719: UserWarning: Warning: setting k to 1\n",
      "  Warn(\"Warning: setting k to %d\" % uvk, UserWarning)\n",
      "/opt/conda/lib/python3.7/site-packages/mapclassify/classifiers.py:890: RuntimeWarning: invalid value encountered in double_scalars\n",
      "  gadf = 1 - self.adcm / adam\n"
     ]
    },
    {
     "name": "stdout",
     "output_type": "stream",
     "text": [
      "2020-10-05 07:12:35 figures saved to disk at \"./images\"\n"
     ]
    },
    {
     "name": "stderr",
     "output_type": "stream",
     "text": [
      "/opt/conda/lib/python3.7/site-packages/mapclassify/classifiers.py:1718: UserWarning: Warning: Not enough unique values in array to form k classes\n",
      "  Warn(ms, UserWarning)\n",
      "/opt/conda/lib/python3.7/site-packages/mapclassify/classifiers.py:1719: UserWarning: Warning: setting k to 1\n",
      "  Warn(\"Warning: setting k to %d\" % uvk, UserWarning)\n",
      "/opt/conda/lib/python3.7/site-packages/mapclassify/classifiers.py:890: RuntimeWarning: invalid value encountered in double_scalars\n",
      "  gadf = 1 - self.adcm / adam\n"
     ]
    },
    {
     "name": "stdout",
     "output_type": "stream",
     "text": [
      "2020-10-05 07:12:38 figures saved to disk at \"./images\"\n"
     ]
    },
    {
     "name": "stderr",
     "output_type": "stream",
     "text": [
      "/opt/conda/lib/python3.7/site-packages/mapclassify/classifiers.py:1718: UserWarning: Warning: Not enough unique values in array to form k classes\n",
      "  Warn(ms, UserWarning)\n",
      "/opt/conda/lib/python3.7/site-packages/mapclassify/classifiers.py:1719: UserWarning: Warning: setting k to 1\n",
      "  Warn(\"Warning: setting k to %d\" % uvk, UserWarning)\n",
      "/opt/conda/lib/python3.7/site-packages/mapclassify/classifiers.py:890: RuntimeWarning: invalid value encountered in double_scalars\n",
      "  gadf = 1 - self.adcm / adam\n"
     ]
    },
    {
     "name": "stdout",
     "output_type": "stream",
     "text": [
      "2020-10-05 07:12:41 figures saved to disk at \"./images\"\n",
      "2020-10-05 07:12:41 begin mapping hanoi\n",
      "2020-10-05 07:13:01 figures saved to disk at \"./images\"\n",
      "2020-10-05 07:13:24 figures saved to disk at \"./images\"\n",
      "2020-10-05 07:13:51 figures saved to disk at \"./images\"\n",
      "2020-10-05 07:14:10 figures saved to disk at \"./images\"\n",
      "2020-10-05 07:14:27 figures saved to disk at \"./images\"\n",
      "2020-10-05 07:14:42 figures saved to disk at \"./images\"\n",
      "2020-10-05 07:14:42 begin mapping hong_kong\n",
      "2020-10-05 07:14:52 figures saved to disk at \"./images\"\n",
      "2020-10-05 07:15:02 figures saved to disk at \"./images\"\n",
      "2020-10-05 07:15:09 figures saved to disk at \"./images\"\n",
      "2020-10-05 07:15:18 figures saved to disk at \"./images\"\n",
      "2020-10-05 07:15:27 figures saved to disk at \"./images\"\n",
      "2020-10-05 07:15:35 figures saved to disk at \"./images\"\n",
      "2020-10-05 07:15:35 begin mapping lisbon\n",
      "2020-10-05 07:15:40 figures saved to disk at \"./images\"\n",
      "2020-10-05 07:15:43 figures saved to disk at \"./images\"\n",
      "2020-10-05 07:15:48 figures saved to disk at \"./images\"\n",
      "2020-10-05 07:15:51 figures saved to disk at \"./images\"\n",
      "2020-10-05 07:15:55 figures saved to disk at \"./images\"\n",
      "2020-10-05 07:15:58 figures saved to disk at \"./images\"\n",
      "2020-10-05 07:15:58 begin mapping melbourne\n",
      "2020-10-05 07:16:40 figures saved to disk at \"./images\"\n",
      "2020-10-05 07:17:17 figures saved to disk at \"./images\"\n",
      "2020-10-05 07:17:54 figures saved to disk at \"./images\"\n",
      "2020-10-05 07:18:27 figures saved to disk at \"./images\"\n",
      "2020-10-05 07:19:02 figures saved to disk at \"./images\"\n",
      "2020-10-05 07:19:37 figures saved to disk at \"./images\"\n",
      "2020-10-05 07:19:37 begin mapping odense\n",
      "2020-10-05 07:19:41 figures saved to disk at \"./images\"\n",
      "2020-10-05 07:19:44 figures saved to disk at \"./images\"\n",
      "2020-10-05 07:19:49 figures saved to disk at \"./images\"\n",
      "2020-10-05 07:19:53 figures saved to disk at \"./images\"\n",
      "2020-10-05 07:19:58 figures saved to disk at \"./images\"\n",
      "2020-10-05 07:20:03 figures saved to disk at \"./images\"\n",
      "2020-10-05 07:20:03 begin mapping olomouc\n",
      "2020-10-05 07:20:07 figures saved to disk at \"./images\"\n",
      "2020-10-05 07:20:09 figures saved to disk at \"./images\"\n",
      "2020-10-05 07:20:12 figures saved to disk at \"./images\"\n"
     ]
    },
    {
     "name": "stderr",
     "output_type": "stream",
     "text": [
      "/opt/conda/lib/python3.7/site-packages/mapclassify/classifiers.py:1718: UserWarning: Warning: Not enough unique values in array to form k classes\n",
      "  Warn(ms, UserWarning)\n",
      "/opt/conda/lib/python3.7/site-packages/mapclassify/classifiers.py:1719: UserWarning: Warning: setting k to 1\n",
      "  Warn(\"Warning: setting k to %d\" % uvk, UserWarning)\n",
      "/opt/conda/lib/python3.7/site-packages/mapclassify/classifiers.py:890: RuntimeWarning: invalid value encountered in double_scalars\n",
      "  gadf = 1 - self.adcm / adam\n"
     ]
    },
    {
     "name": "stdout",
     "output_type": "stream",
     "text": [
      "2020-10-05 07:20:15 figures saved to disk at \"./images\"\n"
     ]
    },
    {
     "name": "stderr",
     "output_type": "stream",
     "text": [
      "/opt/conda/lib/python3.7/site-packages/mapclassify/classifiers.py:1718: UserWarning: Warning: Not enough unique values in array to form k classes\n",
      "  Warn(ms, UserWarning)\n",
      "/opt/conda/lib/python3.7/site-packages/mapclassify/classifiers.py:1719: UserWarning: Warning: setting k to 1\n",
      "  Warn(\"Warning: setting k to %d\" % uvk, UserWarning)\n",
      "/opt/conda/lib/python3.7/site-packages/mapclassify/classifiers.py:890: RuntimeWarning: invalid value encountered in double_scalars\n",
      "  gadf = 1 - self.adcm / adam\n"
     ]
    },
    {
     "name": "stdout",
     "output_type": "stream",
     "text": [
      "2020-10-05 07:20:17 figures saved to disk at \"./images\"\n"
     ]
    },
    {
     "name": "stderr",
     "output_type": "stream",
     "text": [
      "/opt/conda/lib/python3.7/site-packages/mapclassify/classifiers.py:1718: UserWarning: Warning: Not enough unique values in array to form k classes\n",
      "  Warn(ms, UserWarning)\n",
      "/opt/conda/lib/python3.7/site-packages/mapclassify/classifiers.py:1719: UserWarning: Warning: setting k to 1\n",
      "  Warn(\"Warning: setting k to %d\" % uvk, UserWarning)\n",
      "/opt/conda/lib/python3.7/site-packages/mapclassify/classifiers.py:890: RuntimeWarning: invalid value encountered in double_scalars\n",
      "  gadf = 1 - self.adcm / adam\n"
     ]
    },
    {
     "name": "stdout",
     "output_type": "stream",
     "text": [
      "2020-10-05 07:20:19 figures saved to disk at \"./images\"\n",
      "2020-10-05 07:20:19 begin mapping sao_paulo\n",
      "2020-10-05 07:20:45 figures saved to disk at \"./images\"\n",
      "2020-10-05 07:21:06 figures saved to disk at \"./images\"\n",
      "2020-10-05 07:21:29 figures saved to disk at \"./images\"\n",
      "2020-10-05 07:22:04 figures saved to disk at \"./images\"\n",
      "2020-10-05 07:22:32 figures saved to disk at \"./images\"\n",
      "2020-10-05 07:22:59 figures saved to disk at \"./images\"\n",
      "2020-10-05 07:22:59 begin mapping phoenix\n",
      "2020-10-05 07:23:20 figures saved to disk at \"./images\"\n",
      "2020-10-05 07:23:36 figures saved to disk at \"./images\"\n",
      "2020-10-05 07:23:55 figures saved to disk at \"./images\"\n",
      "2020-10-05 07:24:11 figures saved to disk at \"./images\"\n",
      "2020-10-05 07:24:28 figures saved to disk at \"./images\"\n",
      "2020-10-05 07:24:52 figures saved to disk at \"./images\"\n",
      "2020-10-05 07:24:52 begin mapping seattle\n",
      "2020-10-05 07:26:35 figures saved to disk at \"./images\"\n",
      "2020-10-05 07:27:47 figures saved to disk at \"./images\"\n",
      "2020-10-05 07:28:47 figures saved to disk at \"./images\"\n",
      "2020-10-05 07:29:31 figures saved to disk at \"./images\"\n",
      "2020-10-05 07:30:17 figures saved to disk at \"./images\"\n",
      "2020-10-05 07:31:09 figures saved to disk at \"./images\"\n",
      "2020-10-05 07:31:09 begin mapping sydney\n",
      "2020-10-05 07:31:52 figures saved to disk at \"./images\"\n",
      "2020-10-05 07:32:41 figures saved to disk at \"./images\"\n",
      "2020-10-05 07:33:57 figures saved to disk at \"./images\"\n",
      "2020-10-05 07:34:42 figures saved to disk at \"./images\"\n",
      "2020-10-05 07:35:20 figures saved to disk at \"./images\"\n",
      "2020-10-05 07:35:55 figures saved to disk at \"./images\"\n",
      "2020-10-05 07:35:55 begin mapping valencia\n",
      "2020-10-05 07:36:03 figures saved to disk at \"./images\"\n",
      "2020-10-05 07:36:09 figures saved to disk at \"./images\"\n",
      "2020-10-05 07:36:19 figures saved to disk at \"./images\"\n",
      "2020-10-05 07:36:25 figures saved to disk at \"./images\"\n",
      "2020-10-05 07:36:30 figures saved to disk at \"./images\"\n",
      "2020-10-05 07:36:35 figures saved to disk at \"./images\"\n",
      "2020-10-05 07:36:35 begin mapping vic\n",
      "2020-10-05 07:36:38 figures saved to disk at \"./images\"\n",
      "2020-10-05 07:36:41 figures saved to disk at \"./images\"\n",
      "2020-10-05 07:36:43 figures saved to disk at \"./images\"\n"
     ]
    },
    {
     "name": "stderr",
     "output_type": "stream",
     "text": [
      "/opt/conda/lib/python3.7/site-packages/mapclassify/classifiers.py:1718: UserWarning: Warning: Not enough unique values in array to form k classes\n",
      "  Warn(ms, UserWarning)\n",
      "/opt/conda/lib/python3.7/site-packages/mapclassify/classifiers.py:1719: UserWarning: Warning: setting k to 1\n",
      "  Warn(\"Warning: setting k to %d\" % uvk, UserWarning)\n",
      "/opt/conda/lib/python3.7/site-packages/mapclassify/classifiers.py:890: RuntimeWarning: invalid value encountered in double_scalars\n",
      "  gadf = 1 - self.adcm / adam\n"
     ]
    },
    {
     "name": "stdout",
     "output_type": "stream",
     "text": [
      "2020-10-05 07:36:46 figures saved to disk at \"./images\"\n"
     ]
    },
    {
     "name": "stderr",
     "output_type": "stream",
     "text": [
      "/opt/conda/lib/python3.7/site-packages/mapclassify/classifiers.py:1718: UserWarning: Warning: Not enough unique values in array to form k classes\n",
      "  Warn(ms, UserWarning)\n",
      "/opt/conda/lib/python3.7/site-packages/mapclassify/classifiers.py:1719: UserWarning: Warning: setting k to 1\n",
      "  Warn(\"Warning: setting k to %d\" % uvk, UserWarning)\n",
      "/opt/conda/lib/python3.7/site-packages/mapclassify/classifiers.py:890: RuntimeWarning: invalid value encountered in double_scalars\n",
      "  gadf = 1 - self.adcm / adam\n"
     ]
    },
    {
     "name": "stdout",
     "output_type": "stream",
     "text": [
      "2020-10-05 07:36:48 figures saved to disk at \"./images\"\n"
     ]
    },
    {
     "name": "stderr",
     "output_type": "stream",
     "text": [
      "/opt/conda/lib/python3.7/site-packages/mapclassify/classifiers.py:1718: UserWarning: Warning: Not enough unique values in array to form k classes\n",
      "  Warn(ms, UserWarning)\n",
      "/opt/conda/lib/python3.7/site-packages/mapclassify/classifiers.py:1719: UserWarning: Warning: setting k to 1\n",
      "  Warn(\"Warning: setting k to %d\" % uvk, UserWarning)\n",
      "/opt/conda/lib/python3.7/site-packages/mapclassify/classifiers.py:890: RuntimeWarning: invalid value encountered in double_scalars\n",
      "  gadf = 1 - self.adcm / adam\n"
     ]
    },
    {
     "name": "stdout",
     "output_type": "stream",
     "text": [
      "2020-10-05 07:36:50 figures saved to disk at \"./images\"\n",
      "2020-10-05 07:36:50 all done, saved figures\"\n"
     ]
    }
   ],
   "source": [
    "for city in cities:\n",
    "    print(ox.ts(), f\"begin mapping {city}\")\n",
    "    fp = image_path.format(city=city)\n",
    "    fig, axes = plot_within(gpkgOutput_hex250, gpkgOutput_cities, fp)\n",
    "\n",
    "print(ox.ts(), f'all done, saved figures\"')"
   ]
  },
  {
   "cell_type": "code",
   "execution_count": null,
   "metadata": {},
   "outputs": [],
   "source": []
  }
 ],
 "metadata": {
  "kernelspec": {
   "display_name": "Python (GlobalInd)",
   "language": "python",
   "name": "globalind"
  },
  "language_info": {
   "codemirror_mode": {
    "name": "ipython",
    "version": 3
   },
   "file_extension": ".py",
   "mimetype": "text/x-python",
   "name": "python",
   "nbconvert_exporter": "python",
   "pygments_lexer": "ipython3",
   "version": "3.7.6"
  }
 },
 "nbformat": 4,
 "nbformat_minor": 4
}
