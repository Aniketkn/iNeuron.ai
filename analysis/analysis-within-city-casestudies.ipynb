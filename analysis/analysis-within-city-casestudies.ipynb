{
 "cells": [
  {
   "cell_type": "markdown",
   "metadata": {},
   "source": [
    "# Visualization and data analysis of output indicators \n",
    "\n",
    "This notebook presents data visualization and analysis for output indicators from the Global indicator project.   \n",
    "    - Uses 4 sample cities, plots different indicators and compare, interpret the within-city variations and how that may or may not represent the real-world situation\n",
    "\n",
    "**Note: Refer to the [workflow documentation](https://github.com/gboeing/global-indicators/blob/master/documentation/workflow.md) for indicators tables and description**"
   ]
  },
  {
   "cell_type": "code",
   "execution_count": 1,
   "metadata": {},
   "outputs": [],
   "source": [
    "import geopandas as gpd\n",
    "import json\n",
    "import os\n",
    "import matplotlib.pyplot as plt\n",
    "import osmnx as ox\n",
    "\n",
    "%matplotlib inline"
   ]
  },
  {
   "cell_type": "code",
   "execution_count": 2,
   "metadata": {},
   "outputs": [],
   "source": [
    "image_path = './images'\n",
    "dpi = 300\n",
    "\n",
    "process_folder = '../process'\n",
    "process_config_path = '../process/configuration/cities.json'"
   ]
  },
  {
   "cell_type": "code",
   "execution_count": 3,
   "metadata": {},
   "outputs": [],
   "source": [
    "with open(process_config_path) as json_file:\n",
    "    config = json.load(json_file)\n",
    "\n",
    "output_folder = os.path.join(process_folder, config['folder'])\n",
    "input_folder = os.path.join(process_folder, config['input_folder'])\n",
    "\n",
    "# the path of \"global_indicators_hex_250m.gpkg\"\n",
    "gpkgOutput_hex250 = os.path.join(output_folder, config['output_hex_250m'])\n",
    "\n",
    "# create the path of \"global_indicators_city.gpkg\"\n",
    "gpkgOutput_cities = os.path.join(output_folder, config['global_indicators_city'])\n",
    "        "
   ]
  },
  {
   "cell_type": "markdown",
   "metadata": {},
   "source": [
    "### Plot Example Cities"
   ]
  },
  {
   "cell_type": "code",
   "execution_count": 4,
   "metadata": {},
   "outputs": [],
   "source": [
    "scheme = 'NaturalBreaks'\n",
    "k = 5\n",
    "cmap = 'plasma'\n",
    "edgecolor = 'none'\n",
    "city_color = 'none'\n",
    "city_edge = 'w'\n",
    "city_edge_lw = 0.2\n",
    "title_y = 1.02\n",
    "title_fontsize = 16\n",
    "title_weight = 'bold'\n",
    "\n",
    "fontcolor = 'w'\n",
    "params = {\"text.color\" : fontcolor,\n",
    "          \"ytick.color\" : fontcolor,\n",
    "          \"xtick.color\" : fontcolor}\n",
    "plt.rcParams.update(params)"
   ]
  },
  {
   "cell_type": "code",
   "execution_count": 5,
   "metadata": {},
   "outputs": [],
   "source": [
    "def plot_within(gpkgOutput_hex250, gpkgOutput_cities, filepath, figsize=(8, 8), facecolor=\"k\", nrows=2, ncols=2, projected=True):\n",
    "\n",
    "    cols=['all_cities_walkability', 'all_cities_z_nh_population_density', 'all_cities_z_nh_intersection_density', \n",
    "          'all_cities_z_daily_living']\n",
    "\n",
    "    fig, axes = plt.subplots(figsize=figsize, facecolor=facecolor, nrows=nrows, ncols=ncols,)\n",
    "\n",
    "    for ax, col in zip(axes.flatten(), cols):\n",
    "        # the path of \"global_indicators_hex_250m.gpkg\"\n",
    "        gpkgOutput_hex250 = os.path.join(output_folder, config['output_hex_250m'])\n",
    "\n",
    "        # create the path of \"global_indicators_city.gpkg\"\n",
    "        gpkgOutput_cities = os.path.join(output_folder, config['global_indicators_city'])\n",
    "        \n",
    "        # from filepaths, extract city-level data\n",
    "        hex250 = gpd.read_file(gpkgOutput_hex250, layer=city)\n",
    "        city_bound = gpd.read_file(gpkgOutput_cities, layer=city)\n",
    "        \n",
    "        # plot hexplot and city boundaries\n",
    "        _ = hex250.plot(ax=ax, column=col, scheme=scheme, k=k, cmap=cmap, edgecolor=edgecolor,\n",
    "                        label=city, legend=False, legend_kwds=None)\n",
    "        _ = city_bound.plot(ax=ax, color=city_color, edgecolor=city_edge, linewidth=city_edge_lw)\n",
    "\n",
    "        # add titles\n",
    "        fig.suptitle(f\"{city} Within-city Indicators\", color=fontcolor, fontsize=20, weight='bold')\n",
    "        ax.set_title(col, color=fontcolor, fontsize=10)\n",
    "        ax.set_axis_off()\n",
    "\n",
    "        # save to disk\n",
    "        save_path = os.path.join(image_path, f\"{city}-within-maps.png\")\n",
    "        fig.savefig(save_path, dpi=dpi, bbox_inches='tight', facecolor=fig.get_facecolor())\n",
    "        plt.close()\n",
    "        \n",
    "        print(ox.ts(), f'figures saved to disk at \"{filepath}\"')\n",
    "\n",
    "    return fig, axes"
   ]
  },
  {
   "cell_type": "code",
   "execution_count": 6,
   "metadata": {},
   "outputs": [
    {
     "name": "stdout",
     "output_type": "stream",
     "text": [
      "2020-09-12 06:34:50 begin mapping phoenix\n",
      "2020-09-12 06:35:08 figures saved to disk at \"./images\"\n",
      "2020-09-12 06:35:22 figures saved to disk at \"./images\"\n",
      "2020-09-12 06:35:37 figures saved to disk at \"./images\"\n",
      "2020-09-12 06:35:50 figures saved to disk at \"./images\"\n",
      "2020-09-12 06:35:50 begin mapping bern\n",
      "2020-09-12 06:35:53 figures saved to disk at \"./images\"\n",
      "2020-09-12 06:35:55 figures saved to disk at \"./images\"\n",
      "2020-09-12 06:35:56 figures saved to disk at \"./images\"\n",
      "2020-09-12 06:35:57 figures saved to disk at \"./images\"\n",
      "2020-09-12 06:35:57 begin mapping vic\n",
      "2020-09-12 06:35:59 figures saved to disk at \"./images\"\n",
      "2020-09-12 06:36:01 figures saved to disk at \"./images\"\n",
      "2020-09-12 06:36:02 figures saved to disk at \"./images\"\n",
      "2020-09-12 06:36:03 figures saved to disk at \"./images\"\n",
      "2020-09-12 06:36:03 begin mapping hong_kong\n",
      "2020-09-12 06:36:10 figures saved to disk at \"./images\"\n",
      "2020-09-12 06:36:15 figures saved to disk at \"./images\"\n",
      "2020-09-12 06:36:22 figures saved to disk at \"./images\"\n",
      "2020-09-12 06:36:28 figures saved to disk at \"./images\"\n",
      "2020-09-12 06:36:28 all done, saved figures\"\n"
     ]
    }
   ],
   "source": [
    "cities = [\"phoenix\", \"bern\", \"vic\", \"hong_kong\"]\n",
    "for city in cities:\n",
    "    print(ox.ts(), f\"begin mapping {city}\")\n",
    "    fp = image_path.format(city=city)\n",
    "    fig, axes = plot_within(gpkgOutput_hex250, gpkgOutput_cities, fp)\n",
    "\n",
    "print(ox.ts(), f'all done, saved figures\"')"
   ]
  }
 ],
 "metadata": {
  "kernelspec": {
   "display_name": "Python (GlobalInd)",
   "language": "python",
   "name": "globalind"
  },
  "language_info": {
   "codemirror_mode": {
    "name": "ipython",
    "version": 3
   },
   "file_extension": ".py",
   "mimetype": "text/x-python",
   "name": "python",
   "nbconvert_exporter": "python",
   "pygments_lexer": "ipython3",
   "version": "3.7.6"
  }
 },
 "nbformat": 4,
 "nbformat_minor": 4
}
