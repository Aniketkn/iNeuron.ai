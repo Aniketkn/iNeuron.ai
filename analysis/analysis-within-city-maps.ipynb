{
 "cells": [
  {
   "cell_type": "markdown",
   "metadata": {},
   "source": [
    "# Visualization and data analysis of output indicators \n",
    "\n",
    "This notebook presents data visualization and analysis for output indicators from the Global indicator project.   \n",
    "The analyses consist of two major components:  \n",
    "   1. Within-city variations\n",
    "    - Show maps of walkability indicators for all cities and do a visual sanity check to see if any issue occurs\n",
    "    - Interpret the within-city variation patterns\n",
    "    - Pick one or two cities as examples, plot different indicators and compare, interprete the within-city variations and how that may or may not represent the real-world situation\n",
    "\n",
    "   2. Between-city analysis\n",
    "    - Show tables for measurements and raw indicator number, rank cities from the highest to the lowest, and interprete the results\n",
    "    - Plot in a world map using graduated symbol or color to visualize and compare indicators across cities\n",
    "    - Create box plot to compare median statistics across cities\n",
    "    - We could may be do similar analyses like policy indicators analyses to color code cities based on the lancet study threshold?\n",
    "    \n",
    "\n",
    "**Note: Refer to the [workflow documentation](https://github.com/gboeing/global-indicators/blob/master/documentation/workflow.md) for indicators tables and description**\n",
    "    \n",
    "    "
   ]
  },
  {
   "cell_type": "code",
   "execution_count": 1,
   "metadata": {},
   "outputs": [],
   "source": [
    "import geopandas as gpd\n",
    "import os\n",
    "import json\n",
    "import matplotlib.pyplot as plt\n",
    "import pandas as pd\n",
    "import numpy as np\n",
    "\n",
    "%matplotlib inline"
   ]
  },
  {
   "cell_type": "code",
   "execution_count": 2,
   "metadata": {},
   "outputs": [],
   "source": [
    "image_path = './images'\n",
    "dpi = 300\n",
    "\n",
    "process_folder = '../process'\n",
    "process_config_path = '../process/configuration/cities.json'"
   ]
  },
  {
   "cell_type": "code",
   "execution_count": 3,
   "metadata": {},
   "outputs": [],
   "source": [
    "with open(process_config_path) as json_file:\n",
    "    config = json.load(json_file)\n",
    "\n",
    "output_folder = os.path.join(process_folder, config['folder'])\n",
    "input_folder = os.path.join(process_folder, config['input_folder'])\n",
    "\n",
    "# the path of \"global_indicators_hex_250m.gpkg\"\n",
    "gpkgOutput_hex250 = os.path.join(output_folder, config['output_hex_250m'])\n",
    "\n",
    "# create the path of \"global_indicators_city.gpkg\"\n",
    "gpkgOutput_cities = os.path.join(output_folder, config['global_indicators_city'])"
   ]
  },
  {
   "cell_type": "code",
   "execution_count": 4,
   "metadata": {},
   "outputs": [],
   "source": [
    "cities = ['adelaide',\n",
    " 'auckland',\n",
    " 'baltimore',\n",
    " 'bangkok',\n",
    " 'barcelona',\n",
    " 'belfast',\n",
    " 'bern',\n",
    " 'chennai',\n",
    " 'mexico_city',\n",
    " 'cologne',\n",
    " 'ghent',\n",
    " 'graz',\n",
    " 'hanoi',\n",
    " 'hong_kong',\n",
    " 'lisbon',\n",
    " 'melbourne',\n",
    " 'odense',\n",
    " 'olomouc',\n",
    " 'sao_paulo',\n",
    " 'phoenix',\n",
    " 'seattle',\n",
    " 'sydney',\n",
    " 'valencia',\n",
    " 'vic']"
   ]
  },
  {
   "cell_type": "code",
   "execution_count": 5,
   "metadata": {},
   "outputs": [],
   "source": [
    "scheme = 'NaturalBreaks'\n",
    "scheme2 = 'UserDefined'\n",
    "k = 5\n",
    "cmap = 'plasma'\n",
    "edgecolor = 'none'\n",
    "city_color = 'none'\n",
    "city_edge = 'w'\n",
    "city_edge_lw = 0.2\n",
    "title_y = 1.02\n",
    "title_fontsize = 16\n",
    "title_weight = 'bold'\n",
    "\n",
    "fontcolor = 'w'\n",
    "params = {\"text.color\" : fontcolor,\n",
    "          \"ytick.color\" : fontcolor,\n",
    "          \"xtick.color\" : fontcolor}\n",
    "plt.rcParams.update(params)"
   ]
  },
  {
   "cell_type": "markdown",
   "metadata": {},
   "source": [
    "## Master Dataframe"
   ]
  },
  {
   "cell_type": "code",
   "execution_count": 6,
   "metadata": {},
   "outputs": [],
   "source": [
    "hex250_adelaide = gpd.read_file(gpkgOutput_hex250,layer='adelaide')\n",
    "hex250_auckland = gpd.read_file(gpkgOutput_hex250,layer='auckland')\n",
    "hex250_baltimore = gpd.read_file(gpkgOutput_hex250,layer='baltimore')\n",
    "hex250_bangkok = gpd.read_file(gpkgOutput_hex250,layer='bangkok')\n",
    "hex250_barcelona = gpd.read_file(gpkgOutput_hex250,layer='barcelona')\n",
    "hex250_belfast = gpd.read_file(gpkgOutput_hex250,layer='belfast')\n",
    "hex250_bern = gpd.read_file(gpkgOutput_hex250,layer='bern')\n",
    "hex250_chennai = gpd.read_file(gpkgOutput_hex250,layer='chennai')\n",
    "hex250_mexico_city = gpd.read_file(gpkgOutput_hex250,layer='mexico_city')\n",
    "hex250_cologne = gpd.read_file(gpkgOutput_hex250,layer='cologne')\n",
    "hex250_ghent = gpd.read_file(gpkgOutput_hex250,layer='ghent')\n",
    "hex250_graz = gpd.read_file(gpkgOutput_hex250,layer='graz')\n",
    "hex250_hanoi = gpd.read_file(gpkgOutput_hex250,layer='hanoi')\n",
    "hex250_hong_kong = gpd.read_file(gpkgOutput_hex250,layer='hong_kong')\n",
    "hex250_lisbon = gpd.read_file(gpkgOutput_hex250,layer='lisbon')\n",
    "hex250_melbourne = gpd.read_file(gpkgOutput_hex250,layer='melbourne')\n",
    "hex250_odense = gpd.read_file(gpkgOutput_hex250,layer='odense')\n",
    "hex250_olomouc = gpd.read_file(gpkgOutput_hex250,layer='olomouc')\n",
    "hex250_sao_paulo = gpd.read_file(gpkgOutput_hex250,layer='sao_paulo')\n",
    "hex250_phoenix = gpd.read_file(gpkgOutput_hex250,layer='phoenix')\n",
    "hex250_seattle = gpd.read_file(gpkgOutput_hex250,layer='seattle')\n",
    "hex250_sydney = gpd.read_file(gpkgOutput_hex250,layer='sydney')\n",
    "hex250_valencia = gpd.read_file(gpkgOutput_hex250,layer='valencia')\n",
    "hex250_vic = gpd.read_file(gpkgOutput_hex250,layer='vic')"
   ]
  },
  {
   "cell_type": "code",
   "execution_count": 7,
   "metadata": {},
   "outputs": [],
   "source": [
    "hex250_bangkok = hex250_bangkok.drop(['pct_access_500m_pt_gtfs_any_binary', \n",
    "                                      'pct_access_500m_pt_gtfs_freq_20_binary', \n",
    "                                      'pct_access_500m_pt_gtfs_freq_30_binary'], axis=1)\n",
    "hex250_ghent = hex250_ghent.drop(['pct_access_500m_pt_gtfs_any_binary', \n",
    "                                      'pct_access_500m_pt_gtfs_freq_20_binary', \n",
    "                                      'pct_access_500m_pt_gtfs_freq_30_binary'], axis=1)\n",
    "hex250_graz = hex250_graz.drop(['pct_access_500m_pt_gtfs_any_binary', \n",
    "                                      'pct_access_500m_pt_gtfs_freq_20_binary', \n",
    "                                      'pct_access_500m_pt_gtfs_freq_30_binary'], axis=1)\n",
    "hex250_olomouc = hex250_olomouc.drop(['pct_access_500m_pt_gtfs_any_binary', \n",
    "                                      'pct_access_500m_pt_gtfs_freq_20_binary', \n",
    "                                      'pct_access_500m_pt_gtfs_freq_30_binary'], axis=1)\n",
    "hex250_vic = hex250_vic.drop(['pct_access_500m_pt_gtfs_any_binary', \n",
    "                                      'pct_access_500m_pt_gtfs_freq_20_binary', \n",
    "                                      'pct_access_500m_pt_gtfs_freq_30_binary'], axis=1)"
   ]
  },
  {
   "cell_type": "code",
   "execution_count": 8,
   "metadata": {},
   "outputs": [],
   "source": [
    "city_data_list = [hex250_adelaide, hex250_auckland, hex250_baltimore, hex250_bangkok,\n",
    "             hex250_barcelona, hex250_belfast, hex250_bern, hex250_chennai,\n",
    "             hex250_mexico_city, hex250_cologne, hex250_ghent, hex250_graz,\n",
    "             hex250_hanoi, hex250_hong_kong, hex250_lisbon, hex250_melbourne,\n",
    "             hex250_odense, hex250_olomouc, hex250_sao_paulo, hex250_phoenix, \n",
    "             hex250_seattle, hex250_sydney, hex250_valencia, hex250_vic]"
   ]
  },
  {
   "cell_type": "code",
   "execution_count": 9,
   "metadata": {},
   "outputs": [],
   "source": [
    "city_data = pd.concat(city_data_list)"
   ]
  },
  {
   "cell_type": "markdown",
   "metadata": {},
   "source": [
    "## Within-city hex-level walkability maps (weighted by natural breaks)"
   ]
  },
  {
   "cell_type": "code",
   "execution_count": 10,
   "metadata": {},
   "outputs": [
    {
     "name": "stdout",
     "output_type": "stream",
     "text": [
      "0 adelaide 1 auckland 2 baltimore 3 bangkok 4 barcelona 5 belfast 6 bern 7 chennai 8 mexico_city 9 cologne 10 ghent 11 graz 12 hanoi 13 hong_kong 14 lisbon 15 melbourne 16 odense 17 olomouc 18 sao_paulo 19 phoenix 20 seattle 21 sydney 22 valencia 23 vic CPU times: user 5min 44s, sys: 7.91 s, total: 5min 52s\n",
      "Wall time: 5min 52s\n"
     ]
    }
   ],
   "source": [
    "%%time\n",
    "col = 'all_cities_walkability'\n",
    "fig, axes = plt.subplots(nrows=6, ncols=4, figsize=(8, 8), facecolor='k')\n",
    "\n",
    "for count, (ax, city) in enumerate(zip(axes.flatten(), cities)):\n",
    "    print(count, city, end=' ')\n",
    "    hex250 = gpd.read_file(gpkgOutput_hex250, layer=city)\n",
    "    city_bound = gpd.read_file(gpkgOutput_cities, layer=city)\n",
    "\n",
    "    #plot indicators\n",
    "    if hex250[col].sum() == 0:\n",
    "        ax = city_bound.plot(ax=ax, color=city_color, edgecolor=city_edge, linewidth=city_edge_lw)\n",
    "    else:\n",
    "        ax = city_bound.plot(ax=ax, color=city_color, edgecolor=city_edge, linewidth=city_edge_lw)\n",
    "        ax = hex250.plot(ax=ax, column=col, scheme=scheme2, \n",
    "                         classification_kwds={'bins':[-4.34, -2, -1, 1, 4]},\n",
    "                         k=k, cmap=cmap, edgecolor=edgecolor, label=city, legend=False, legend_kwds=None)\n",
    "\n",
    "    ax.set_title(city, color=fontcolor, fontsize=10)\n",
    "    ax.set_axis_off()\n",
    "\n",
    "# add a title to the figure\n",
    "fig.suptitle('Within-City Walkability Index', y=title_y, fontsize=title_fontsize, weight=title_weight)\n",
    "fig.tight_layout()\n",
    "\n",
    "save_path = os.path.join(image_path, 'map-walkability.png')\n",
    "fig.savefig(save_path, dpi=dpi, bbox_inches='tight', facecolor=fig.get_facecolor())\n",
    "plt.close()"
   ]
  },
  {
   "cell_type": "code",
   "execution_count": 11,
   "metadata": {},
   "outputs": [
    {
     "name": "stdout",
     "output_type": "stream",
     "text": [
      "0 adelaide 1 auckland 2 baltimore 3 bangkok 4 barcelona 5 belfast 6 bern 7 chennai 8 mexico_city 9 cologne 10 ghent 11 graz 12 hanoi 13 hong_kong 14 lisbon 15 melbourne 16 odense 17 olomouc 18 sao_paulo 19 phoenix 20 seattle 21 sydney 22 valencia 23 vic CPU times: user 3min 50s, sys: 1.85 s, total: 3min 52s\n",
      "Wall time: 3min 49s\n"
     ]
    }
   ],
   "source": [
    "%%time\n",
    "col = 'pct_access_500m_public_open_space_any_binary'\n",
    "fig, axes = plt.subplots(nrows=6, ncols=4, figsize=(8, 8), facecolor='k')\n",
    "\n",
    "for count, (ax, city) in enumerate(zip(axes.flatten(), cities)):\n",
    "    print(count, city, end=' ')\n",
    "    hex250 = gpd.read_file(gpkgOutput_hex250, layer=city)\n",
    "    city_bound = gpd.read_file(gpkgOutput_cities, layer=city)\n",
    "    \n",
    "    #plot indicators\n",
    "    if hex250[col].sum() == 0:\n",
    "        ax = city_bound.plot(ax=ax, color=city_color, edgecolor=city_edge, linewidth=city_edge_lw)\n",
    "    else:\n",
    "        ax = city_bound.plot(ax=ax, color=city_color, edgecolor=city_edge, linewidth=city_edge_lw)\n",
    "        ax = hex250.plot(ax=ax, column=col, scheme=scheme2,\n",
    "                         classification_kwds={'bins':[0.00, 13.51, 40.62, 67.06, 89.47]}, \n",
    "                         k=k, cmap=cmap, edgecolor=edgecolor,\n",
    "                         label=city, legend=False, legend_kwds=None)\n",
    "\n",
    "    ax.set_title(city, color=fontcolor, fontsize=10)\n",
    "    ax.set_axis_off()\n",
    "\n",
    "# add a title to the figure\n",
    "fig.suptitle('Access to Any Public Open Space', y=title_y, fontsize=title_fontsize, weight=title_weight)\n",
    "fig.tight_layout()\n",
    "\n",
    "save_path = os.path.join(image_path, 'map-openspace-any.png')\n",
    "fig.savefig(save_path, dpi=dpi, bbox_inches='tight', facecolor=fig.get_facecolor())\n",
    "plt.close()"
   ]
  },
  {
   "cell_type": "code",
   "execution_count": 12,
   "metadata": {},
   "outputs": [
    {
     "name": "stdout",
     "output_type": "stream",
     "text": [
      "0 adelaide 1 auckland 2 baltimore 3 bangkok 4 barcelona 5 belfast 6 bern 7 chennai 8 mexico_city 9 cologne 10 ghent 11 graz 12 hanoi 13 hong_kong 14 lisbon 15 melbourne 16 odense 17 olomouc 18 sao_paulo 19 phoenix 20 seattle 21 sydney 22 valencia 23 vic CPU times: user 3min 41s, sys: 1.65 s, total: 3min 43s\n",
      "Wall time: 3min 40s\n"
     ]
    }
   ],
   "source": [
    "%%time\n",
    "col = 'pct_access_500m_public_open_space_large_binary'\n",
    "fig, axes = plt.subplots(nrows=6, ncols=4, figsize=(8, 8), facecolor='k')\n",
    "\n",
    "for count, (ax, city) in enumerate(zip(axes.flatten(), cities)):\n",
    "    print(count, city, end=' ')\n",
    "    hex250 = gpd.read_file(gpkgOutput_hex250, layer=city)\n",
    "    city_bound = gpd.read_file(gpkgOutput_cities, layer=city)\n",
    "    \n",
    "    #plot indicators\n",
    "    if hex250[col].sum() == 0:\n",
    "        ax = city_bound.plot(ax=ax, color=city_color, edgecolor=city_edge, linewidth=city_edge_lw)\n",
    "    else:\n",
    "        ax = city_bound.plot(ax=ax, color=city_color, edgecolor=city_edge, linewidth=city_edge_lw)\n",
    "        ax = hex250.plot(ax=ax, column=col, scheme=scheme2,\n",
    "                         classification_kwds={'bins':[0.00, 12.31, 37.50, 63.48, 87.62]}, \n",
    "                         k=k, cmap=cmap, edgecolor=edgecolor,\n",
    "                         label=city, legend=False, legend_kwds=None)\n",
    "\n",
    "    ax.set_title(city, color=fontcolor, fontsize=10)\n",
    "    ax.set_axis_off()\n",
    "\n",
    "# add a title to the figure\n",
    "fig.suptitle('Access to Large Public Open Space', y=title_y, fontsize=title_fontsize, weight=title_weight)\n",
    "fig.tight_layout()\n",
    "\n",
    "save_path = os.path.join(image_path, 'map-openspace-large.png')\n",
    "fig.savefig(save_path, dpi=dpi, bbox_inches='tight', facecolor=fig.get_facecolor())\n",
    "plt.close()"
   ]
  },
  {
   "cell_type": "code",
   "execution_count": 13,
   "metadata": {},
   "outputs": [
    {
     "name": "stdout",
     "output_type": "stream",
     "text": [
      "0 adelaide 1 auckland 2 baltimore 3 bangkok 4 barcelona 5 belfast 6 bern 7 chennai 8 mexico_city 9 cologne 10 ghent 11 graz 12 hanoi 13 hong_kong 14 lisbon 15 melbourne 16 odense 17 olomouc 18 sao_paulo 19 phoenix 20 seattle 21 sydney 22 valencia 23 vic CPU times: user 3min 19s, sys: 1.63 s, total: 3min 21s\n",
      "Wall time: 3min 18s\n"
     ]
    }
   ],
   "source": [
    "%%time\n",
    "col = 'pct_access_500m_pt_gtfs_any_binary'\n",
    "fig, axes = plt.subplots(nrows=6, ncols=4, figsize=(8, 8), facecolor='k')\n",
    "\n",
    "for count, (ax, city) in enumerate(zip(axes.flatten(), cities)):\n",
    "    print(count, city, end=' ')\n",
    "    hex250 = gpd.read_file(gpkgOutput_hex250, layer=city)\n",
    "    city_bound = gpd.read_file(gpkgOutput_cities, layer=city)\n",
    "    \n",
    "    #plot indicators\n",
    "    if hex250[col].sum() == 0:\n",
    "        ax = city_bound.plot(ax=ax, color=city_color, edgecolor=city_edge, linewidth=city_edge_lw)\n",
    "    else:\n",
    "        ax = city_bound.plot(ax=ax, color=city_color, edgecolor=city_edge, linewidth=city_edge_lw)\n",
    "        ax = hex250.plot(ax=ax, column=col, scheme=scheme2,\n",
    "                          classification_kwds={'bins':[0.00, 13.64, 40.48, 66.00, 88.79]}, \n",
    "                          k=k, cmap=cmap, edgecolor=edgecolor,\n",
    "                          label=city, legend=False, legend_kwds=None)\n",
    "\n",
    "    ax.set_title(city, color=fontcolor, fontsize=10)\n",
    "    ax.set_axis_off()\n",
    "\n",
    "# add a title to the figure\n",
    "fig.suptitle('Access to Any Transit', y=title_y, fontsize=title_fontsize, weight=title_weight)\n",
    "fig.tight_layout()\n",
    "\n",
    "save_path = os.path.join(image_path, 'map-transit-any.png')\n",
    "fig.savefig(save_path, dpi=dpi, bbox_inches='tight', facecolor=fig.get_facecolor())\n",
    "plt.close()"
   ]
  },
  {
   "cell_type": "code",
   "execution_count": 14,
   "metadata": {},
   "outputs": [
    {
     "name": "stdout",
     "output_type": "stream",
     "text": [
      "0 adelaide 1 auckland 2 baltimore 3 bangkok 4 barcelona 5 belfast 6 bern 7 chennai 8 mexico_city 9 cologne 10 ghent 11 graz 12 hanoi 13 hong_kong 14 lisbon 15 melbourne 16 odense 17 olomouc 18 sao_paulo 19 phoenix 20 seattle 21 sydney 22 valencia 23 vic CPU times: user 3min 19s, sys: 1.68 s, total: 3min 20s\n",
      "Wall time: 3min 18s\n"
     ]
    }
   ],
   "source": [
    "%%time\n",
    "col = 'pct_access_500m_pt_gtfs_freq_20_binary'\n",
    "fig, axes = plt.subplots(nrows=6, ncols=4, figsize=(8, 8), facecolor='k')\n",
    "\n",
    "for count, (ax, city) in enumerate(zip(axes.flatten(), cities)):\n",
    "    print(count, city, end=' ')\n",
    "    hex250 = gpd.read_file(gpkgOutput_hex250, layer=city)\n",
    "    city_bound = gpd.read_file(gpkgOutput_cities, layer=city)\n",
    "    \n",
    "    #plot indicators\n",
    "    if hex250[col].sum() == 0:\n",
    "        ax = city_bound.plot(ax=ax, color=city_color, edgecolor=city_edge, linewidth=city_edge_lw)\n",
    "    else:\n",
    "        ax = city_bound.plot(ax=ax, color=city_color, edgecolor=city_edge, linewidth=city_edge_lw)\n",
    "        ax = hex250.plot(ax=ax, column=col, scheme=scheme2,\n",
    "                          classification_kwds={'bins':[0.00, 13.04, 39.53, 65.45, 88.57]}, \n",
    "                          k=k, cmap=cmap, edgecolor=edgecolor,\n",
    "                          label=city, legend=False, legend_kwds=None)\n",
    " \n",
    "    ax.set_title(city, color=fontcolor, fontsize=10)\n",
    "    ax.set_axis_off()\n",
    "\n",
    "# add a title to the figure\n",
    "fig.suptitle('Access to Transit at 20 Minute Frequency', y=title_y, fontsize=title_fontsize, weight=title_weight)\n",
    "fig.tight_layout()\n",
    "\n",
    "save_path = os.path.join(image_path, 'map-transit-20.png')\n",
    "fig.savefig(save_path, dpi=dpi, bbox_inches='tight', facecolor=fig.get_facecolor())\n",
    "plt.close()"
   ]
  },
  {
   "cell_type": "code",
   "execution_count": 15,
   "metadata": {},
   "outputs": [
    {
     "name": "stdout",
     "output_type": "stream",
     "text": [
      "0 adelaide 1 auckland 2 baltimore 3 bangkok 4 barcelona 5 belfast 6 bern 7 chennai 8 mexico_city 9 cologne 10 ghent 11 graz 12 hanoi 13 hong_kong 14 lisbon 15 melbourne 16 odense 17 olomouc 18 sao_paulo 19 phoenix 20 seattle 21 sydney 22 valencia 23 vic CPU times: user 4min 23s, sys: 3.55 s, total: 4min 27s\n",
      "Wall time: 23min 50s\n"
     ]
    }
   ],
   "source": [
    "%%time\n",
    "col = 'pct_access_500m_pt_gtfs_freq_30_binary'\n",
    "fig, axes = plt.subplots(nrows=6, ncols=4, figsize=(8, 8), facecolor='k')\n",
    "\n",
    "for count, (ax, city) in enumerate(zip(axes.flatten(), cities)):\n",
    "    print(count, city, end=' ')\n",
    "    hex250 = gpd.read_file(gpkgOutput_hex250, layer=city)\n",
    "    city_bound = gpd.read_file(gpkgOutput_cities, layer=city)\n",
    "    \n",
    "    #plot indicators\n",
    "    if hex250[col].sum() == 0:\n",
    "        ax = city_bound.plot(ax=ax, color=city_color, edgecolor=city_edge, linewidth=city_edge_lw)\n",
    "    else:\n",
    "        ax = city_bound.plot(ax=ax, color=city_color, edgecolor=city_edge, linewidth=city_edge_lw)\n",
    "        ax = hex250.plot(ax=ax, column=col, scheme=scheme2,\n",
    "                          classification_kwds={'bins':[0.00, 13.64, 41.18, 67.50, 89.58]}, \n",
    "                          k=k, cmap=cmap, edgecolor=edgecolor,\n",
    "                          label=city, legend=False, legend_kwds=None)\n",
    "\n",
    "    ax.set_title(city, color=fontcolor, fontsize=10)\n",
    "    ax.set_axis_off()\n",
    "\n",
    "# add a title to the figure\n",
    "fig.suptitle('Access to Transit at 30 Minute Frequency', y=title_y, fontsize=title_fontsize, weight=title_weight)\n",
    "fig.tight_layout()\n",
    "\n",
    "save_path = os.path.join(image_path, 'map-transit-30.png')\n",
    "fig.savefig(save_path, dpi=dpi, bbox_inches='tight', facecolor=fig.get_facecolor())\n",
    "plt.close()"
   ]
  },
  {
   "cell_type": "code",
   "execution_count": null,
   "metadata": {},
   "outputs": [],
   "source": []
  }
 ],
 "metadata": {
  "kernelspec": {
   "display_name": "Python 3",
   "language": "python",
   "name": "python3"
  },
  "language_info": {
   "codemirror_mode": {
    "name": "ipython",
    "version": 3
   },
   "file_extension": ".py",
   "mimetype": "text/x-python",
   "name": "python",
   "nbconvert_exporter": "python",
   "pygments_lexer": "ipython3",
   "version": "3.7.6"
  }
 },
 "nbformat": 4,
 "nbformat_minor": 4
}
