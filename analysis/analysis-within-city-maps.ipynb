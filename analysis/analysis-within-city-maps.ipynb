{
 "cells": [
  {
   "cell_type": "markdown",
   "metadata": {},
   "source": [
    "# Visualization and data analysis of output indicators \n",
    "\n",
    "This notebook presents data visualization and analysis for output indicators from the Global indicator project.   \n",
    "The analyses consist of two major components:  \n",
    "   1. Within-city variations\n",
    "    - Show maps of walkability indicators for all cities and do a visual sanity check to see if any issue occurs\n",
    "    - Interpret the within-city variation patterns\n",
    "    - Pick one or two cities as examples, plot different indicators and compare, interprete the within-city variations and how that may or may not represent the real-world situation\n",
    "\n",
    "   2. Between-city analysis\n",
    "    - Show tables for measurements and raw indicator number, rank cities from the highest to the lowest, and interprete the results\n",
    "    - Plot in a world map using graduated symbol or color to visualize and compare indicators across cities\n",
    "    - Create box plot to compare median statistics across cities\n",
    "    - We could may be do similar analyses like policy indicators analyses to color code cities based on the lancet study threshold?\n",
    "    \n",
    "\n",
    "**Note: Refer to the [workflow documentation](https://github.com/gboeing/global-indicators/blob/master/documentation/workflow.md) for indicators tables and description**\n",
    "    \n",
    "    "
   ]
  },
  {
   "cell_type": "code",
   "execution_count": null,
   "metadata": {},
   "outputs": [],
   "source": [
    "import geopandas as gpd\n",
    "import os\n",
    "import json\n",
    "import matplotlib.pyplot as plt\n",
    "\n",
    "%matplotlib inline"
   ]
  },
  {
   "cell_type": "code",
   "execution_count": null,
   "metadata": {},
   "outputs": [],
   "source": [
    "image_path = './images'\n",
    "dpi = 300\n",
    "\n",
    "process_folder = '../process'\n",
    "process_config_path = '../process/configuration/cities.json'"
   ]
  },
  {
   "cell_type": "code",
   "execution_count": null,
   "metadata": {},
   "outputs": [],
   "source": [
    "with open(process_config_path) as json_file:\n",
    "    config = json.load(json_file)\n",
    "\n",
    "output_folder = os.path.join(process_folder, config['folder'])\n",
    "input_folder = os.path.join(process_folder, config['input_folder'])\n",
    "\n",
    "# the path of \"global_indicators_hex_250m.gpkg\"\n",
    "gpkgOutput_hex250 = os.path.join(output_folder, config['output_hex_250m'])\n",
    "\n",
    "# create the path of \"global_indicators_city.gpkg\"\n",
    "gpkgOutput_cities = os.path.join(output_folder, config['global_indicators_city'])"
   ]
  },
  {
   "cell_type": "code",
   "execution_count": null,
   "metadata": {},
   "outputs": [],
   "source": [
    "cities = ['adelaide',\n",
    " 'auckland',\n",
    " 'baltimore',\n",
    " 'bangkok',\n",
    " 'barcelona',\n",
    " 'belfast',\n",
    " 'bern',\n",
    " 'chennai',\n",
    " 'mexico_city',\n",
    " 'cologne',\n",
    " 'ghent',\n",
    " 'graz',\n",
    " 'hanoi',\n",
    " 'hong_kong',\n",
    " 'lisbon',\n",
    " 'melbourne',\n",
    " 'odense',\n",
    " 'olomouc',\n",
    " 'sao_paulo',\n",
    " 'phoenix',\n",
    " 'seattle',\n",
    " 'sydney',\n",
    " 'valencia',\n",
    " 'vic']"
   ]
  },
  {
   "cell_type": "markdown",
   "metadata": {},
   "source": [
    "## Within-city hex-level walkability maps (unweighted)"
   ]
  },
  {
   "cell_type": "code",
   "execution_count": null,
   "metadata": {},
   "outputs": [],
   "source": [
    "scheme = 'NaturalBreaks'\n",
    "k = 5\n",
    "cmap = 'plasma'\n",
    "edgecolor = 'none'\n",
    "city_color = 'none'\n",
    "city_edge = 'w'\n",
    "city_edge_lw = 0.2\n",
    "title_y = 1.02\n",
    "title_fontsize = 16\n",
    "title_weight = 'bold'\n",
    "\n",
    "fontcolor = 'w'\n",
    "params = {\"text.color\" : fontcolor,\n",
    "          \"ytick.color\" : fontcolor,\n",
    "          \"xtick.color\" : fontcolor}\n",
    "plt.rcParams.update(params)"
   ]
  },
  {
   "cell_type": "code",
   "execution_count": null,
   "metadata": {},
   "outputs": [],
   "source": [
    "%%time\n",
    "col = 'all_cities_walkability'\n",
    "fig, axes = plt.subplots(nrows=6, ncols=4, figsize=(8, 8), facecolor='k')\n",
    "\n",
    "for count, (ax, city) in enumerate(zip(axes.flatten(), cities)):\n",
    "    print(count, city, end=' ')\n",
    "    hex250 = gpd.read_file(gpkgOutput_hex250, layer=city)\n",
    "    city_bound = gpd.read_file(gpkgOutput_cities, layer=city)\n",
    "    \n",
    "    #plot indicators\n",
    "    ax = hex250.plot(ax=ax, column=col, scheme=scheme, k=k, cmap=cmap, edgecolor=edgecolor,\n",
    "                     label=city, legend=False, legend_kwds=None)\n",
    "    ax = city_bound.plot(ax=ax, color=city_color, edgecolor=city_edge, linewidth=city_edge_lw)\n",
    "\n",
    "    ax.set_title(city, color=fontcolor, fontsize=10)\n",
    "    ax.set_axis_off()\n",
    "\n",
    "# add a title to the figure\n",
    "fig.suptitle('Within-City Walkability Index (Unweighted)', y=title_y, fontsize=title_fontsize, weight=title_weight)\n",
    "fig.tight_layout()\n",
    "\n",
    "save_path = os.path.join(image_path, 'map-walkability_unweighted.png')\n",
    "fig.savefig(save_path, dpi=dpi, bbox_inches='tight', facecolor=fig.get_facecolor())\n",
    "plt.close()"
   ]
  },
  {
   "cell_type": "code",
   "execution_count": null,
   "metadata": {},
   "outputs": [],
   "source": []
  }
 ],
 "metadata": {
  "kernelspec": {
   "display_name": "Python 3",
   "language": "python",
   "name": "python3"
  },
  "language_info": {
   "codemirror_mode": {
    "name": "ipython",
    "version": 3
   },
   "file_extension": ".py",
   "mimetype": "text/x-python",
   "name": "python",
   "nbconvert_exporter": "python",
   "pygments_lexer": "ipython3",
   "version": "3.7.6"
  }
 },
 "nbformat": 4,
 "nbformat_minor": 4
}
