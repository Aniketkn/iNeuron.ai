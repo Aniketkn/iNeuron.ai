{
 "cells": [
  {
   "cell_type": "markdown",
   "metadata": {},
   "source": [
    "# Visualization and data analysis of output indicators \n",
    "\n",
    "This notebook presents data visualization and analysis for output indicators from the Global indicator project.   \n",
    "The analyses consist of two major components:  \n",
    "   1. Within-city variations\n",
    "    - Show maps of walkability indicators for all cities and do a visual sanity check to see if any issue occurs\n",
    "    - Interpret the within-city variation patterns\n",
    "    - Pick one or two cities as examples, plot different indicators and compare, interprete the within-city variations and how that may or may not represent the real-world situation\n",
    "\n",
    "   2. Between-city analysis\n",
    "    - Show tables for measurements and raw indicator number, rank cities from the highest to the lowest, and interprete the results\n",
    "    - Plot in a world map using graduated symbol or color to visualize and compare indicators across cities\n",
    "    - Create box plot to compare median statistics across cities\n",
    "    - We could may be do similar analyses like policy indicators analyses to color code cities based on the lancet study threshold?\n",
    "    \n",
    "\n",
    "**Note: Refer to the [workflow documentation](https://github.com/gboeing/global-indicators/blob/master/documentation/workflow.md) for indicators tables and description**\n",
    "    \n",
    "    "
   ]
  },
  {
   "cell_type": "code",
   "execution_count": null,
   "metadata": {},
   "outputs": [],
   "source": [
    "import geopandas as gpd\n",
    "import pandas as pd\n",
    "import osmnx as ox\n",
    "import numpy as np\n",
    "import os\n",
    "import time\n",
    "from multiprocessing import Pool, cpu_count, Value, Manager, Process\n",
    "from functools import partial\n",
    "import json\n",
    "import sys\n",
    "import matplotlib.pyplot as plt\n",
    "\n",
    "%matplotlib inline"
   ]
  },
  {
   "cell_type": "code",
   "execution_count": null,
   "metadata": {},
   "outputs": [],
   "source": [
    "# get the work directory\n",
    "dirname = os.path.abspath('../process/')\n",
    "\n",
    "# the configuration file should put in the \"/configuration\" folder located at the same folder as scripts\n",
    "jsonFile = 'configuration/' + sys.argv[1]"
   ]
  },
  {
   "cell_type": "code",
   "execution_count": null,
   "metadata": {},
   "outputs": [],
   "source": [
    "# read json file\n",
    "try:\n",
    "    jsonPath = os.path.join(dirname, jsonFile)\n",
    "    with open('../process/configuration/cities.json') as json_file:\n",
    "        config = json.load(json_file)\n",
    "except Exception as e:\n",
    "    print('Failed to read json file.')\n",
    "    print(e)\n",
    "\n",
    "folder = config['folder']\n",
    "input_folder = config['input_folder']\n",
    "\n",
    "# read city names from json\n",
    "cities = list(config[\"gpkgNames\"].keys())\n",
    "print(\"Cities:{}\".format(cities))\n",
    "\n",
    "# the path of \"global_indicators_hex_250m.gpkg\"\n",
    "gpkgOutput_hex250 = os.path.join(dirname, folder,\n",
    "                                 config['output_hex_250m'])\n",
    "\n",
    "# create the path of \"global_indicators_city.gpkg\"\n",
    "gpkgOutput_cities = os.path.join(dirname, folder,\n",
    "                                 config['global_indicators_city'])"
   ]
  },
  {
   "cell_type": "markdown",
   "metadata": {},
   "source": [
    "# 1. Within-city variations"
   ]
  },
  {
   "cell_type": "markdown",
   "metadata": {},
   "source": [
    "## All cities hex-level walkability maps"
   ]
  },
  {
   "cell_type": "code",
   "execution_count": null,
   "metadata": {},
   "outputs": [],
   "source": [
    "col='all_cities_walkability'\n",
    "\n",
    "fig, axes = plt.subplots(nrows=6, ncols=4, figsize=(20, 20))\n",
    "\n",
    "for ax, city in zip(axes.flatten(), cities):\n",
    "    #read file\n",
    "    hex250 = gpd.read_file(gpkgOutput_hex250, layer=city)\n",
    "    city_bound = gpd.read_file(gpkgOutput_cities, layer=city)\n",
    "    \n",
    "    #plot indicators\n",
    "    ax = hex250.plot(ax=ax, column=col, scheme='NaturalBreaks', k=6, cmap='inferno_r', edgecolor='none')\n",
    "    ax = city_bound.plot(ax=ax, color='none', edgecolor='blue')\n",
    "\n",
    "    ax.set_title(city, fontsize=12)\n",
    "    ax.set_axis_off()\n",
    "\n",
    "# add a title to the figure\n",
    "fig.suptitle('Walkability Index', y=0.95, fontsize=20, weight='bold')\n",
    "#fig.text(0.1, 0, 'Note: Walkability index relative to all cities - sum of the z-scores of pop and intersection density, and daily living generated at the hex level; ranked by median', \n",
    "  #       size=12, color='#555555')\n",
    "\n",
    "\n",
    "#fig.savefig('figure/walkability_maps_popunweighted.png', dpi=600)\n",
    "\n",
    "\n",
    "plt.show()"
   ]
  },
  {
   "cell_type": "markdown",
   "metadata": {},
   "source": [
    "## All cities hex-level indicators boxplot"
   ]
  },
  {
   "cell_type": "code",
   "execution_count": null,
   "metadata": {},
   "outputs": [],
   "source": [
    "# concat all hexes for all cities in one big dataframe\n",
    "all_hexes=pd.DataFrame()\n",
    "\n",
    "for city in cities:\n",
    "    #read file\n",
    "    hex250 = gpd.read_file(gpkgOutput_hex250, layer=city)\n",
    "    hex250['city'] = city\n",
    "    # append all hexes into one dataframe for analysis\n",
    "    all_hexes = pd.concat([all_hexes, hex250], ignore_index=True)\n",
    "\n",
    "len(all_hexes)"
   ]
  },
  {
   "cell_type": "code",
   "execution_count": null,
   "metadata": {},
   "outputs": [],
   "source": [
    "all_hexes.columns"
   ]
  },
  {
   "cell_type": "code",
   "execution_count": null,
   "metadata": {},
   "outputs": [],
   "source": [
    "col = 'all_cities_walkability'\n",
    "note = 'Note: Walkability index relative to all cities - sum of the z-scores of population and intersection density, and daily living generated at the hex level; ranked by median \\n'\n",
    "title = 'Walkability Index  \\n (place-based estimates, unweighted by population)'\n",
    "fig_path = 'figure/walkability_popunweighted.png'\n"
   ]
  },
  {
   "cell_type": "code",
   "execution_count": null,
   "metadata": {},
   "outputs": [],
   "source": [
    "col =  'local_daily_living'\n",
    "note = 'Note: Daily living scores - sum of the binary accessibility to all daily living destinations (i.e. supermarket, convience, and public transport); ranked by median \\n'\n",
    "title = 'Daily Living Scores'\n",
    "fig_path = 'figure/dailyliving.png'\n"
   ]
  },
  {
   "cell_type": "code",
   "execution_count": null,
   "metadata": {},
   "outputs": [],
   "source": [
    "col =  'local_nh_population_density'\n",
    "note = 'Note: local_nh_population_density - local neighbourhood population per square kilometre at the hex level; ranked by median \\n'\n",
    "title = 'Local population Density'\n",
    "fig_path = 'figure/population.png'\n"
   ]
  },
  {
   "cell_type": "code",
   "execution_count": null,
   "metadata": {},
   "outputs": [],
   "source": [
    "col =  'local_nh_intersection_density'\n",
    "note = 'Note: local_nh_intersection_density - local neighbourhood intersections per square kilometre at the hex level; ranked by median \\n'\n",
    "title = 'Local Intersection Density'\n",
    "fig_path = 'figure/intersection.png'\n"
   ]
  },
  {
   "cell_type": "code",
   "execution_count": null,
   "metadata": {},
   "outputs": [],
   "source": [
    "# library & dataset\n",
    "import seaborn as sns\n",
    "\n",
    "\n",
    "#order by median\n",
    "median_order = all_hexes.groupby(by=['study_region'])[col].median().sort_values().index\n",
    "\n",
    "fig, ax = plt.subplots(figsize=(20, 10))\n",
    "\n",
    "# Just switch x and y\n",
    "ax=sns.boxplot(ax=ax, y=all_hexes['study_region'], x=all_hexes[col], order=median_order, palette=\"Blues\", width=0.6)\n",
    "ax.tick_params(axis='both', which='major', labelsize=14)\n",
    "ax.set_xlabel(col, fontsize=16)\n",
    "ax.set_ylabel('Study region', fontsize=16)\n",
    "#ax.set(xlim=(all_hexes[col].min(), all_hexes[col].max()))\n",
    "\n",
    "# add a title to the figure\n",
    "fig.suptitle(title, y=0.95, fontsize=20, weight='bold')\n",
    "\n",
    "fig.text(0.1, 0, note, \n",
    "         fontsize=12, color='#555555')\n",
    "\n",
    "#fig.savefig(fig_path, dpi=600)\n",
    "\n",
    "plt.show()"
   ]
  },
  {
   "cell_type": "markdown",
   "metadata": {},
   "source": [
    "## All cities pop-weighted hex-level indicators boxplot (work-in-progress)\n",
    "\n",
    "Pop-weighted hex-level indicators are not currently in our processing scripts but we may want to include this for consistency with the city-level indicators"
   ]
  },
  {
   "cell_type": "code",
   "execution_count": null,
   "metadata": {},
   "outputs": [],
   "source": [
    "import setup_config as sc\n",
    "\n",
    "def aggregation_hexes_pop_weighted(input_gdf, out_gdf, fieldNames):\n",
    "    \"\"\"\n",
    "    Aggregating hexagon level indicators by weighted population\n",
    "    Parameters\n",
    "\n",
    "    \"\"\"\n",
    "    # loop over each indicators field names of input and output gdf\n",
    "    for field in fieldNames:\n",
    "        # calculate the population weighted indicators based on input hexagon layer\n",
    "        # sum to aggregate up to the city level\n",
    "        out_gdf[field[1]] = (input_gdf[sc.cities_parameters[\"pop_est\"]] * input_gdf[field[0]]) / (\n",
    "            input_gdf[sc.cities_parameters[\"pop_est\"]].sum())\n",
    "    return out_gdf\n",
    "\n",
    "\n",
    "def calc_hexes_pop_pct_indicators(gpkg_hex_250m, city, gpkg_input, gpkg_output):\n",
    "    \"\"\"\n",
    "    Calculate population-weighted hex-level indicators,\n",
    "    and save to output geopackage\n",
    "    \"\"\"\n",
    "    gdf_hex = gpd.read_file(gpkg_hex_250m, layer=city)\n",
    "\n",
    "    gdf_hex_origin = gpd.read_file(gpkg_input, layer=sc.cities_parameters[\"hex250\"])\n",
    "    # join pop_est from original hex to processed hex\n",
    "    gdf_hex = gdf_hex.join(gdf_hex_origin.set_index(\"index\"), on=\"index\", how=\"left\", rsuffix=\"_origin\")\n",
    "\n",
    "    # hex-level field names from city-specific hex indicators gpkg\n",
    "    fieldNames = sc.hex_fieldNames[3:-1]\n",
    "    \n",
    "    # new file names for population-weighted city-level indicators\n",
    "    fieldNames_new = sc.city_fieldNames[2:-1]\n",
    "    \n",
    "    # calculate the population weighted city-level indicators\n",
    "    gdf_hexes = aggregation_hexes_pop_weighted(gdf_hex, gdf_hex, list(zip(fieldNames, fieldNames_new)))\n",
    "    \n",
    "    #gdf_hexes.to_file(gpkg_output, layer=city, driver=\"GPKG\")\n",
    "    return gdf_hexes"
   ]
  },
  {
   "cell_type": "code",
   "execution_count": null,
   "metadata": {},
   "outputs": [],
   "source": [
    "# read pre-prepared sample point stats of each city from disk\n",
    "gpkgInput_ori = []\n",
    "for gpkg in list(config[\"gpkgNames\"].values()):\n",
    "    gpkgInput_ori.append(os.path.join(dirname, input_folder, gpkg))"
   ]
  },
  {
   "cell_type": "code",
   "execution_count": null,
   "metadata": {},
   "outputs": [],
   "source": [
    "all_hexes1=pd.DataFrame()\n",
    "cities = list(config[\"gpkgNames\"].keys())\n",
    "\n",
    "for index, gpkgInput in enumerate(gpkgInput_ori):\n",
    "    #print(index, gpkgInput)\n",
    "    gdf_hexes = calc_hexes_pop_pct_indicators(gpkgOutput_hex250, cities[index], \n",
    "                                      gpkgInput, gpkgOutput_hex250) \n",
    "    # append all hexes into one dataframe for analysis\n",
    "    all_hexes1 = pd.concat([all_hexes1, gdf_hexes], ignore_index=True)\n",
    "\n",
    "all_hexes1.columns"
   ]
  },
  {
   "cell_type": "code",
   "execution_count": null,
   "metadata": {},
   "outputs": [],
   "source": [
    "# check if the results are the same as city-level outputs\n",
    "all_hexes1[['study_region', 'all_cities_pop_walkability', 'all_cities_pop_z_daily_living',\n",
    "       'all_cities_pop_z_nh_intersection_density',\n",
    "       'all_cities_pop_z_nh_population_density']].groupby('study_region').sum()"
   ]
  },
  {
   "cell_type": "code",
   "execution_count": null,
   "metadata": {},
   "outputs": [],
   "source": [
    "# library & dataset\n",
    "import seaborn as sns\n",
    "\n",
    "col ='all_cities_pop_walkability'\n",
    "\n",
    "#order by median\n",
    "median_order = all_hexes1.groupby(by=['study_region'])[col].median().sort_values().index\n",
    "\n",
    "fig, ax = plt.subplots(figsize=(20, 10))\n",
    "\n",
    "# Just switch x and y\n",
    "ax=sns.boxplot(ax=ax, y=all_hexes1['study_region'], x=all_hexes1[col], order=median_order, palette=\"Blues\", width=0.6)\n",
    "ax.tick_params(axis='both', which='major', labelsize=14)\n",
    "ax.set_xlabel('Walkability index (Z Scores)', fontsize=16)\n",
    "ax.set_ylabel('Study region', fontsize=16)\n",
    "ax.set(xlim=(-0.005, 0.008))\n",
    "\n",
    "# add a title to the figure\n",
    "fig.suptitle('Walkability Index  \\n ( weighted by population)', y=0.95, fontsize=20, weight='bold')\n",
    "\n",
    "fig.text(0.1, 0, 'Note: Population-weighted walkability index relative to all cities - sum of the population-weighted z-scores of pop and intersection density, and daily living generated at the hex level; ranked by median \\n', \n",
    "         fontsize=12, color='#555555')\n",
    "\n",
    "#fig.savefig('figure/walkability_popweighted.png', dpi=600)\n",
    "\n",
    "plt.show()"
   ]
  },
  {
   "cell_type": "markdown",
   "metadata": {},
   "source": [
    "## 2. Between-city variations"
   ]
  },
  {
   "cell_type": "code",
   "execution_count": null,
   "metadata": {},
   "outputs": [],
   "source": [
    "cities_ind = gpd.GeoDataFrame()\n",
    "for city in cities:\n",
    "    #read file\n",
    "    city_ind = gpd.read_file(gpkgOutput_cities, layer=city)\n",
    "    cities_ind = cities_ind.append(city_ind, ignore_index=True)"
   ]
  },
  {
   "cell_type": "code",
   "execution_count": null,
   "metadata": {},
   "outputs": [],
   "source": [
    "#correct vic study region column\n",
    "cities_ind['Study region'] = cities_ind['Study region'].fillna('Vic')\n",
    "cities_ind.columns"
   ]
  },
  {
   "cell_type": "code",
   "execution_count": null,
   "metadata": {},
   "outputs": [],
   "source": [
    "# show pop-weighted walkability score ranking relative to all cities\n",
    "cities_ind[['Study region', 'all_cities_walkability', 'all_cities_pop_walkability'\n",
    "           ]].sort_values('all_cities_pop_walkability').reset_index().drop(columns=['index'])"
   ]
  },
  {
   "cell_type": "code",
   "execution_count": null,
   "metadata": {},
   "outputs": [],
   "source": [
    "# save these indicators in csv file\n",
    "cities_ind[['Study region', 'all_cities_pop_walkability',\n",
    "       'all_cities_pop_z_daily_living',\n",
    "       'all_cities_pop_z_nh_intersection_density',\n",
    "       'all_cities_pop_z_nh_population_density', \n",
    "        'pop_daily_living',  'pop_walkability',\n",
    "       'pop_nh_intersection_density', 'pop_nh_pop_density',\n",
    "       'pop_pct_access_500m_convenience_binary',\n",
    "       'pop_pct_access_500m_fresh_food_market_binary',\n",
    "       'pop_pct_access_500m_pt_any_binary',\n",
    "       'pop_pct_access_500m_pt_gtfs_any_binary',\n",
    "       'pop_pct_access_500m_pt_gtfs_freq_20_binary',\n",
    "       'pop_pct_access_500m_pt_gtfs_freq_30_binary',\n",
    "       'pop_pct_access_500m_pt_osm_any_binary',\n",
    "       'pop_pct_access_500m_public_open_space_any_binary',\n",
    "       'pop_pct_access_500m_public_open_space_large_binary', \n",
    "        'all_cities_walkability', 'all_cities_z_daily_living', \n",
    "        'all_cities_z_nh_intersection_density',\n",
    "       'all_cities_z_nh_population_density',\n",
    "       'local_daily_living', 'local_nh_intersection_density',\n",
    "       'local_nh_population_density', 'local_walkability', \n",
    "       'urban_sample_point_count']].to_csv('figure/globe_cities_results_Sept2020.csv')"
   ]
  },
  {
   "cell_type": "markdown",
   "metadata": {},
   "source": [
    "## Other visualization to consider (work-in-progress):\n",
    "1. global mapping to plot indicators: [this site](https://geopandas.org/mapping.html)"
   ]
  },
  {
   "cell_type": "code",
   "execution_count": null,
   "metadata": {},
   "outputs": [],
   "source": [
    "continents = pd.read_csv('cities_continents.csv')\n",
    "cities_point = pd.merge(cities_ind, continents, left_on='Study region', right_on='City', how='outer')\n",
    "cities_point.columns"
   ]
  },
  {
   "cell_type": "code",
   "execution_count": null,
   "metadata": {},
   "outputs": [],
   "source": [
    "# creat point geometry to plot in the map\n",
    "list_lat = []   # create empty lists\n",
    "list_long = []\n",
    "\n",
    "for index, row in cities_point.iterrows(): # iterate over rows in dataframe\n",
    "    City = row['City']\n",
    "    Country = row['Country']\n",
    "    query = str(City) +','+str(Country)\n",
    "\n",
    "    results = ox.geocode(query)   \n",
    "    lat = results[1]\n",
    "    long = results[0]\n",
    "\n",
    "    list_lat.append(lat)\n",
    "    list_long.append(long)\n",
    "\n",
    "# create new columns from lists   \n",
    "cities_point['lat'] = list_lat   \n",
    "cities_point['lon'] = list_long"
   ]
  },
  {
   "cell_type": "code",
   "execution_count": null,
   "metadata": {},
   "outputs": [],
   "source": [
    "# generate point geometry columns \n",
    "cities_point = cities_point.rename(columns={'geometry':'poly_geometry'})\n",
    "\n",
    "from shapely.geometry import Point\n",
    "cities_point['geometry'] = cities_point.apply(lambda row: Point(row['lat'], row['lon']), axis=1)"
   ]
  },
  {
   "cell_type": "code",
   "execution_count": null,
   "metadata": {},
   "outputs": [],
   "source": [
    "import mpl_toolkits\n",
    "import matplotlib\n",
    "from mpl_toolkits.basemap import Basemap\n",
    "#[A world map of #surf tweets](https://python-graph-gallery.com/315-a-world-map-of-surf-tweets/)\n",
    "#https://matplotlib.org/basemap/users/index.html\n",
    "\n",
    "# Set the dimension of the figure\n",
    "my_dpi=96\n",
    "plt.figure(figsize=(2600/my_dpi, 1800/my_dpi), dpi=my_dpi)\n",
    "\n",
    "# Make the background map\n",
    "m=Basemap(llcrnrlon=-150, llcrnrlat=-65,urcrnrlon=180,urcrnrlat=80)\n",
    "m.drawmapboundary(fill_color='#A6CAE0', linewidth=0)\n",
    "m.fillcontinents(color='grey', alpha=0.3)\n",
    "m.drawcoastlines(linewidth=0.1, color=\"white\")\n",
    " \n",
    "# prepare a color for each point depending on the continent.\n",
    "cities_point['labels_enc'] = pd.factorize(cities_point['Continents'])[0]\n",
    "\n",
    "m.scatter(cities_point['lat'], cities_point['lon'], marker='^', s=200,\n",
    "          c=cities_point['labels_enc'], cmap=\"Set1\", alpha=0.9)\n",
    " \n",
    "# copyright and source data info\n",
    "#plt.text( -170, -58,'walkability', ha='left', va='bottom', size=9, color='#555555' )\n",
    " "
   ]
  },
  {
   "cell_type": "markdown",
   "metadata": {},
   "source": [
    "Note: Cannot plot the negative z score bubble maps: If a variable takes negative values, then it cannot be directly assigned to point size as an encoding: after all, how can a shape have a negative area? Additional information needs to be encoded into shape size in order to indicate negative values. For example, you might have filled circles indicate positive values and unfilled circles indicate negative values. As another alternative, you might have positive points in one color, and negative points in a distinct, different color."
   ]
  },
  {
   "cell_type": "code",
   "execution_count": null,
   "metadata": {},
   "outputs": [],
   "source": []
  }
 ],
 "metadata": {
  "kernelspec": {
   "display_name": "Python 3",
   "language": "python",
   "name": "python3"
  },
  "language_info": {
   "codemirror_mode": {
    "name": "ipython",
    "version": 3
   },
   "file_extension": ".py",
   "mimetype": "text/x-python",
   "name": "python",
   "nbconvert_exporter": "python",
   "pygments_lexer": "ipython3",
   "version": "3.6.7"
  }
 },
 "nbformat": 4,
 "nbformat_minor": 4
}
