{
 "cells": [
  {
   "cell_type": "markdown",
   "metadata": {},
   "source": [
    "# Visualization and data analysis of output indicators \n",
    "\n",
    "This notebook presents data visualization and analysis for output indicators from the Global indicator project.   \n",
    "The analyses consist of two major components:  \n",
    "   1. Within-city variations\n",
    "    - Show maps of walkability indicators for all cities and do a visual sanity check to see if any issue occurs\n",
    "    - Interpret the within-city variation patterns\n",
    "    - Pick one or two cities as examples, plot different indicators and compare, interprete the within-city variations and how that may or may not represent the real-world situation\n",
    "\n",
    "   2. Between-city analysis\n",
    "    - Show tables for measurements and raw indicator number, rank cities from the highest to the lowest, and interprete the results\n",
    "    - Plot in a world map using graduated symbol or color to visualize and compare indicators across cities\n",
    "    - Create box plot to compare median statistics across cities\n",
    "    - We could may be do similar analyses like policy indicators analyses to color code cities based on the lancet study threshold?\n",
    "    \n",
    "\n",
    "**Note: Refer to the [workflow documentation](https://github.com/gboeing/global-indicators/blob/master/documentation/workflow.md) for indicators tables and description**\n",
    "    \n",
    "    "
   ]
  },
  {
   "cell_type": "code",
   "execution_count": 1,
   "metadata": {},
   "outputs": [],
   "source": [
    "import geopandas as gpd\n",
    "import os\n",
    "import pandas as pd\n",
    "import json\n",
    "import matplotlib.pyplot as plt\n",
    "\n",
    "%matplotlib inline"
   ]
  },
  {
   "cell_type": "code",
   "execution_count": 2,
   "metadata": {},
   "outputs": [],
   "source": [
    "image_path = './images'\n",
    "dpi = 300\n",
    "\n",
    "process_folder = '../process'\n",
    "process_config_path = '../process/configuration/cities.json'"
   ]
  },
  {
   "cell_type": "code",
   "execution_count": 3,
   "metadata": {},
   "outputs": [],
   "source": [
    "with open(process_config_path) as json_file:\n",
    "    config = json.load(json_file)\n",
    "\n",
    "output_folder = os.path.join(process_folder, config['folder'])\n",
    "input_folder = os.path.join(process_folder, config['input_folder'])\n",
    "\n",
    "# the path of \"global_indicators_hex_250m.gpkg\"\n",
    "gpkgOutput_hex250 = os.path.join(output_folder, config['output_hex_250m'])\n",
    "\n",
    "# create the path of \"global_indicators_city.gpkg\"\n",
    "gpkgOutput_cities = os.path.join(output_folder, config['global_indicators_city'])"
   ]
  },
  {
   "cell_type": "code",
   "execution_count": 4,
   "metadata": {},
   "outputs": [],
   "source": [
    "cities = ['adelaide',\n",
    " 'auckland',\n",
    " 'baltimore',\n",
    " 'bangkok',\n",
    " 'barcelona',\n",
    " 'belfast',\n",
    " 'bern',\n",
    " 'chennai',\n",
    " 'mexico_city',\n",
    " 'cologne',\n",
    " 'ghent',\n",
    " 'graz',\n",
    " 'hanoi',\n",
    " 'hong_kong',\n",
    " 'lisbon',\n",
    " 'melbourne',\n",
    " 'odense',\n",
    " 'olomouc',\n",
    " 'sao_paulo',\n",
    " 'phoenix',\n",
    " 'seattle',\n",
    " 'sydney',\n",
    " 'valencia',\n",
    " 'vic']"
   ]
  },
  {
   "cell_type": "code",
   "execution_count": 5,
   "metadata": {},
   "outputs": [],
   "source": [
    "cities_ind = gpd.GeoDataFrame()\n",
    "for city in cities:\n",
    "    #read file\n",
    "    city_ind = gpd.read_file(gpkgOutput_cities, layer=city)\n",
    "    cities_ind = cities_ind.append(city_ind, ignore_index=True)"
   ]
  },
  {
   "cell_type": "code",
   "execution_count": 6,
   "metadata": {},
   "outputs": [
    {
     "data": {
      "text/plain": [
       "Index(['Study region', 'urban_sample_point_count',\n",
       "       'pop_pct_access_500m_fresh_food_market_binary',\n",
       "       'pop_pct_access_500m_convenience_binary',\n",
       "       'pop_pct_access_500m_pt_osm_any_binary',\n",
       "       'pop_pct_access_500m_public_open_space_any_binary',\n",
       "       'pop_pct_access_500m_public_open_space_large_binary',\n",
       "       'pop_pct_access_500m_pt_gtfs_any_binary',\n",
       "       'pop_pct_access_500m_pt_gtfs_freq_30_binary',\n",
       "       'pop_pct_access_500m_pt_gtfs_freq_20_binary',\n",
       "       'pop_pct_access_500m_pt_any_binary', 'pop_nh_pop_density',\n",
       "       'pop_nh_intersection_density', 'pop_daily_living', 'pop_walkability',\n",
       "       'all_cities_pop_z_nh_population_density',\n",
       "       'all_cities_pop_z_nh_intersection_density',\n",
       "       'all_cities_pop_z_daily_living', 'all_cities_walkability', 'geometry',\n",
       "       'db', 'area_sqkm'],\n",
       "      dtype='object')"
      ]
     },
     "execution_count": 6,
     "metadata": {},
     "output_type": "execute_result"
    }
   ],
   "source": [
    "#correct vic study region column\n",
    "cities_ind['Study region'] = cities_ind['Study region'].fillna('Vic')\n",
    "cities_ind.columns"
   ]
  },
  {
   "cell_type": "code",
   "execution_count": 7,
   "metadata": {},
   "outputs": [
    {
     "ename": "KeyError",
     "evalue": "\"['all_cities_pop_walkability'] not in index\"",
     "output_type": "error",
     "traceback": [
      "\u001b[0;31m---------------------------------------------------------------------------\u001b[0m",
      "\u001b[0;31mKeyError\u001b[0m                                  Traceback (most recent call last)",
      "\u001b[0;32m<ipython-input-7-85b78ca81767>\u001b[0m in \u001b[0;36m<module>\u001b[0;34m\u001b[0m\n\u001b[1;32m      1\u001b[0m \u001b[0;31m# show pop-weighted walkability score ranking relative to all cities\u001b[0m\u001b[0;34m\u001b[0m\u001b[0;34m\u001b[0m\u001b[0;34m\u001b[0m\u001b[0m\n\u001b[0;32m----> 2\u001b[0;31m cities_ind[['Study region', 'all_cities_walkability', 'all_cities_pop_walkability'\n\u001b[0m\u001b[1;32m      3\u001b[0m            ]].sort_values('all_cities_pop_walkability').reset_index().drop(columns=['index'])\n",
      "\u001b[0;32m/opt/conda/lib/python3.7/site-packages/geopandas/geodataframe.py\u001b[0m in \u001b[0;36m__getitem__\u001b[0;34m(self, key)\u001b[0m\n\u001b[1;32m    574\u001b[0m         \u001b[0mGeoDataFrame\u001b[0m\u001b[0;34m.\u001b[0m\u001b[0;34m\u001b[0m\u001b[0;34m\u001b[0m\u001b[0m\n\u001b[1;32m    575\u001b[0m         \"\"\"\n\u001b[0;32m--> 576\u001b[0;31m         \u001b[0mresult\u001b[0m \u001b[0;34m=\u001b[0m \u001b[0msuper\u001b[0m\u001b[0;34m(\u001b[0m\u001b[0mGeoDataFrame\u001b[0m\u001b[0;34m,\u001b[0m \u001b[0mself\u001b[0m\u001b[0;34m)\u001b[0m\u001b[0;34m.\u001b[0m\u001b[0m__getitem__\u001b[0m\u001b[0;34m(\u001b[0m\u001b[0mkey\u001b[0m\u001b[0;34m)\u001b[0m\u001b[0;34m\u001b[0m\u001b[0;34m\u001b[0m\u001b[0m\n\u001b[0m\u001b[1;32m    577\u001b[0m         \u001b[0mgeo_col\u001b[0m \u001b[0;34m=\u001b[0m \u001b[0mself\u001b[0m\u001b[0;34m.\u001b[0m\u001b[0m_geometry_column_name\u001b[0m\u001b[0;34m\u001b[0m\u001b[0;34m\u001b[0m\u001b[0m\n\u001b[1;32m    578\u001b[0m         \u001b[0;32mif\u001b[0m \u001b[0misinstance\u001b[0m\u001b[0;34m(\u001b[0m\u001b[0mkey\u001b[0m\u001b[0;34m,\u001b[0m \u001b[0mstr\u001b[0m\u001b[0;34m)\u001b[0m \u001b[0;32mand\u001b[0m \u001b[0mkey\u001b[0m \u001b[0;34m==\u001b[0m \u001b[0mgeo_col\u001b[0m\u001b[0;34m:\u001b[0m\u001b[0;34m\u001b[0m\u001b[0;34m\u001b[0m\u001b[0m\n",
      "\u001b[0;32m/opt/conda/lib/python3.7/site-packages/pandas/core/frame.py\u001b[0m in \u001b[0;36m__getitem__\u001b[0;34m(self, key)\u001b[0m\n\u001b[1;32m   2804\u001b[0m             \u001b[0;32mif\u001b[0m \u001b[0mis_iterator\u001b[0m\u001b[0;34m(\u001b[0m\u001b[0mkey\u001b[0m\u001b[0;34m)\u001b[0m\u001b[0;34m:\u001b[0m\u001b[0;34m\u001b[0m\u001b[0;34m\u001b[0m\u001b[0m\n\u001b[1;32m   2805\u001b[0m                 \u001b[0mkey\u001b[0m \u001b[0;34m=\u001b[0m \u001b[0mlist\u001b[0m\u001b[0;34m(\u001b[0m\u001b[0mkey\u001b[0m\u001b[0;34m)\u001b[0m\u001b[0;34m\u001b[0m\u001b[0;34m\u001b[0m\u001b[0m\n\u001b[0;32m-> 2806\u001b[0;31m             \u001b[0mindexer\u001b[0m \u001b[0;34m=\u001b[0m \u001b[0mself\u001b[0m\u001b[0;34m.\u001b[0m\u001b[0mloc\u001b[0m\u001b[0;34m.\u001b[0m\u001b[0m_get_listlike_indexer\u001b[0m\u001b[0;34m(\u001b[0m\u001b[0mkey\u001b[0m\u001b[0;34m,\u001b[0m \u001b[0maxis\u001b[0m\u001b[0;34m=\u001b[0m\u001b[0;36m1\u001b[0m\u001b[0;34m,\u001b[0m \u001b[0mraise_missing\u001b[0m\u001b[0;34m=\u001b[0m\u001b[0;32mTrue\u001b[0m\u001b[0;34m)\u001b[0m\u001b[0;34m[\u001b[0m\u001b[0;36m1\u001b[0m\u001b[0;34m]\u001b[0m\u001b[0;34m\u001b[0m\u001b[0;34m\u001b[0m\u001b[0m\n\u001b[0m\u001b[1;32m   2807\u001b[0m \u001b[0;34m\u001b[0m\u001b[0m\n\u001b[1;32m   2808\u001b[0m         \u001b[0;31m# take() does not accept boolean indexers\u001b[0m\u001b[0;34m\u001b[0m\u001b[0;34m\u001b[0m\u001b[0;34m\u001b[0m\u001b[0m\n",
      "\u001b[0;32m/opt/conda/lib/python3.7/site-packages/pandas/core/indexing.py\u001b[0m in \u001b[0;36m_get_listlike_indexer\u001b[0;34m(self, key, axis, raise_missing)\u001b[0m\n\u001b[1;32m   1551\u001b[0m \u001b[0;34m\u001b[0m\u001b[0m\n\u001b[1;32m   1552\u001b[0m         self._validate_read_indexer(\n\u001b[0;32m-> 1553\u001b[0;31m             \u001b[0mkeyarr\u001b[0m\u001b[0;34m,\u001b[0m \u001b[0mindexer\u001b[0m\u001b[0;34m,\u001b[0m \u001b[0mo\u001b[0m\u001b[0;34m.\u001b[0m\u001b[0m_get_axis_number\u001b[0m\u001b[0;34m(\u001b[0m\u001b[0maxis\u001b[0m\u001b[0;34m)\u001b[0m\u001b[0;34m,\u001b[0m \u001b[0mraise_missing\u001b[0m\u001b[0;34m=\u001b[0m\u001b[0mraise_missing\u001b[0m\u001b[0;34m\u001b[0m\u001b[0;34m\u001b[0m\u001b[0m\n\u001b[0m\u001b[1;32m   1554\u001b[0m         )\n\u001b[1;32m   1555\u001b[0m         \u001b[0;32mreturn\u001b[0m \u001b[0mkeyarr\u001b[0m\u001b[0;34m,\u001b[0m \u001b[0mindexer\u001b[0m\u001b[0;34m\u001b[0m\u001b[0;34m\u001b[0m\u001b[0m\n",
      "\u001b[0;32m/opt/conda/lib/python3.7/site-packages/pandas/core/indexing.py\u001b[0m in \u001b[0;36m_validate_read_indexer\u001b[0;34m(self, key, indexer, axis, raise_missing)\u001b[0m\n\u001b[1;32m   1644\u001b[0m             \u001b[0;32mif\u001b[0m \u001b[0;32mnot\u001b[0m \u001b[0;34m(\u001b[0m\u001b[0mself\u001b[0m\u001b[0;34m.\u001b[0m\u001b[0mname\u001b[0m \u001b[0;34m==\u001b[0m \u001b[0;34m\"loc\"\u001b[0m \u001b[0;32mand\u001b[0m \u001b[0;32mnot\u001b[0m \u001b[0mraise_missing\u001b[0m\u001b[0;34m)\u001b[0m\u001b[0;34m:\u001b[0m\u001b[0;34m\u001b[0m\u001b[0;34m\u001b[0m\u001b[0m\n\u001b[1;32m   1645\u001b[0m                 \u001b[0mnot_found\u001b[0m \u001b[0;34m=\u001b[0m \u001b[0mlist\u001b[0m\u001b[0;34m(\u001b[0m\u001b[0mset\u001b[0m\u001b[0;34m(\u001b[0m\u001b[0mkey\u001b[0m\u001b[0;34m)\u001b[0m \u001b[0;34m-\u001b[0m \u001b[0mset\u001b[0m\u001b[0;34m(\u001b[0m\u001b[0max\u001b[0m\u001b[0;34m)\u001b[0m\u001b[0;34m)\u001b[0m\u001b[0;34m\u001b[0m\u001b[0;34m\u001b[0m\u001b[0m\n\u001b[0;32m-> 1646\u001b[0;31m                 \u001b[0;32mraise\u001b[0m \u001b[0mKeyError\u001b[0m\u001b[0;34m(\u001b[0m\u001b[0;34mf\"{not_found} not in index\"\u001b[0m\u001b[0;34m)\u001b[0m\u001b[0;34m\u001b[0m\u001b[0;34m\u001b[0m\u001b[0m\n\u001b[0m\u001b[1;32m   1647\u001b[0m \u001b[0;34m\u001b[0m\u001b[0m\n\u001b[1;32m   1648\u001b[0m             \u001b[0;31m# we skip the warning on Categorical/Interval\u001b[0m\u001b[0;34m\u001b[0m\u001b[0;34m\u001b[0m\u001b[0;34m\u001b[0m\u001b[0m\n",
      "\u001b[0;31mKeyError\u001b[0m: \"['all_cities_pop_walkability'] not in index\""
     ]
    }
   ],
   "source": [
    "# show pop-weighted walkability score ranking relative to all cities\n",
    "cities_ind[['Study region', 'all_cities_walkability', 'all_cities_pop_walkability'\n",
    "           ]].sort_values('all_cities_pop_walkability').reset_index().drop(columns=['index'])"
   ]
  },
  {
   "cell_type": "code",
   "execution_count": null,
   "metadata": {},
   "outputs": [],
   "source": [
    "# save these indicators in csv file\n",
    "cities_ind[['Study region', 'all_cities_pop_walkability',\n",
    "       'all_cities_pop_z_daily_living',\n",
    "       'all_cities_pop_z_nh_intersection_density',\n",
    "       'all_cities_pop_z_nh_population_density', \n",
    "        'pop_daily_living',  'pop_walkability',\n",
    "       'pop_nh_intersection_density', 'pop_nh_pop_density',\n",
    "       'pop_pct_access_500m_convenience_binary',\n",
    "       'pop_pct_access_500m_fresh_food_market_binary',\n",
    "       'pop_pct_access_500m_pt_any_binary',\n",
    "       'pop_pct_access_500m_pt_gtfs_any_binary',\n",
    "       'pop_pct_access_500m_pt_gtfs_freq_20_binary',\n",
    "       'pop_pct_access_500m_pt_gtfs_freq_30_binary',\n",
    "       'pop_pct_access_500m_pt_osm_any_binary',\n",
    "       'pop_pct_access_500m_public_open_space_any_binary',\n",
    "       'pop_pct_access_500m_public_open_space_large_binary', \n",
    "        'all_cities_walkability', 'all_cities_z_daily_living', \n",
    "        'all_cities_z_nh_intersection_density',\n",
    "       'all_cities_z_nh_population_density',\n",
    "       'local_daily_living', 'local_nh_intersection_density',\n",
    "       'local_nh_population_density', 'local_walkability', \n",
    "       'urban_sample_point_count']].to_csv('images/globe_cities_results_Sept2020.csv')"
   ]
  },
  {
   "cell_type": "markdown",
   "metadata": {},
   "source": [
    "## Other visualization to consider (work-in-progress):\n",
    "1. global mapping to plot indicators: [this site](https://geopandas.org/mapping.html)"
   ]
  },
  {
   "cell_type": "code",
   "execution_count": null,
   "metadata": {},
   "outputs": [],
   "source": [
    "continents = pd.read_csv('cities_continents.csv')\n",
    "cities_point = pd.merge(cities_ind, continents, left_on='Study region', right_on='City', how='outer')\n",
    "cities_point.columns"
   ]
  },
  {
   "cell_type": "code",
   "execution_count": null,
   "metadata": {},
   "outputs": [],
   "source": [
    "# creat point geometry to plot in the map\n",
    "list_lat = []   # create empty lists\n",
    "list_long = []\n",
    "\n",
    "for index, row in cities_point.iterrows(): # iterate over rows in dataframe\n",
    "    City = row['City']\n",
    "    Country = row['Country']\n",
    "    query = str(City) +','+str(Country)\n",
    "\n",
    "    results = ox.geocode(query)   \n",
    "    lat = results[1]\n",
    "    long = results[0]\n",
    "\n",
    "    list_lat.append(lat)\n",
    "    list_long.append(long)\n",
    "\n",
    "# create new columns from lists   \n",
    "cities_point['lat'] = list_lat   \n",
    "cities_point['lon'] = list_long"
   ]
  },
  {
   "cell_type": "code",
   "execution_count": null,
   "metadata": {},
   "outputs": [],
   "source": [
    "# generate point geometry columns \n",
    "cities_point = cities_point.rename(columns={'geometry':'poly_geometry'})\n",
    "\n",
    "from shapely.geometry import Point\n",
    "cities_point['geometry'] = cities_point.apply(lambda row: Point(row['lat'], row['lon']), axis=1)"
   ]
  },
  {
   "cell_type": "code",
   "execution_count": null,
   "metadata": {},
   "outputs": [],
   "source": [
    "import mpl_toolkits\n",
    "import matplotlib\n",
    "\n",
    "# use cartopy not basemap (which was deprecated years ago)\n",
    "from mpl_toolkits.basemap import Basemap\n",
    "\n",
    "# Set the dimension of the figure\n",
    "my_dpi=96\n",
    "plt.figure(figsize=(2600/my_dpi, 1800/my_dpi), dpi=my_dpi)\n",
    "\n",
    "# Make the background map\n",
    "m=Basemap(llcrnrlon=-150, llcrnrlat=-65,urcrnrlon=180,urcrnrlat=80)\n",
    "m.drawmapboundary(fill_color='#A6CAE0', linewidth=0)\n",
    "m.fillcontinents(color='grey', alpha=0.3)\n",
    "m.drawcoastlines(linewidth=0.1, color=\"white\")\n",
    " \n",
    "# prepare a color for each point depending on the continent.\n",
    "cities_point['labels_enc'] = pd.factorize(cities_point['Continents'])[0]\n",
    "\n",
    "m.scatter(cities_point['lat'], cities_point['lon'], marker='^', s=200,\n",
    "          c=cities_point['labels_enc'], cmap=\"Set1\", alpha=0.9)\n",
    " \n",
    "# copyright and source data info\n",
    "#plt.text( -170, -58,'walkability', ha='left', va='bottom', size=9, color='#555555' )\n",
    " "
   ]
  },
  {
   "cell_type": "markdown",
   "metadata": {},
   "source": [
    "Note: Cannot plot the negative z score bubble maps: If a variable takes negative values, then it cannot be directly assigned to point size as an encoding: after all, how can a shape have a negative area? Additional information needs to be encoded into shape size in order to indicate negative values. For example, you might have filled circles indicate positive values and unfilled circles indicate negative values. As another alternative, you might have positive points in one color, and negative points in a distinct, different color."
   ]
  },
  {
   "cell_type": "code",
   "execution_count": null,
   "metadata": {},
   "outputs": [],
   "source": []
  }
 ],
 "metadata": {
  "kernelspec": {
   "display_name": "Python 3",
   "language": "python",
   "name": "python3"
  },
  "language_info": {
   "codemirror_mode": {
    "name": "ipython",
    "version": 3
   },
   "file_extension": ".py",
   "mimetype": "text/x-python",
   "name": "python",
   "nbconvert_exporter": "python",
   "pygments_lexer": "ipython3",
   "version": "3.7.6"
  }
 },
 "nbformat": 4,
 "nbformat_minor": 4
}
