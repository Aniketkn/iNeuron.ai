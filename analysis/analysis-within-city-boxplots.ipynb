{
 "cells": [
  {
   "cell_type": "markdown",
   "metadata": {},
   "source": [
    "# Visualization and data analysis of output indicators \n",
    "\n",
    "This notebook presents data visualization and analysis for output indicators from the Global indicator project.   \n",
    "The analyses consist of two major components:  \n",
    "   1. Within-city variations\n",
    "    - Show maps of walkability indicators for all cities and do a visual sanity check to see if any issue occurs\n",
    "    - Interpret the within-city variation patterns\n",
    "    - Pick one or two cities as examples, plot different indicators and compare, interprete the within-city variations and how that may or may not represent the real-world situation\n",
    "\n",
    "   2. Between-city analysis\n",
    "    - Show tables for measurements and raw indicator number, rank cities from the highest to the lowest, and interprete the results\n",
    "    - Plot in a world map using graduated symbol or color to visualize and compare indicators across cities\n",
    "    - Create box plot to compare median statistics across cities\n",
    "    - We could may be do similar analyses like policy indicators analyses to color code cities based on the lancet study threshold?\n",
    "    \n",
    "\n",
    "**Note: Refer to the [workflow documentation](https://github.com/gboeing/global-indicators/blob/master/documentation/workflow.md) for indicators tables and description**\n",
    "    \n",
    "    "
   ]
  },
  {
   "cell_type": "code",
   "execution_count": 1,
   "metadata": {},
   "outputs": [],
   "source": [
    "import geopandas as gpd\n",
    "import pandas as pd\n",
    "import os\n",
    "import json\n",
    "import matplotlib.pyplot as plt\n",
    "import seaborn as sns\n",
    "\n",
    "%matplotlib inline"
   ]
  },
  {
   "cell_type": "code",
   "execution_count": 2,
   "metadata": {},
   "outputs": [],
   "source": [
    "image_path = './images'\n",
    "dpi = 300\n",
    "\n",
    "process_folder = '../process'\n",
    "process_config_path = '../process/configuration/cities.json'"
   ]
  },
  {
   "cell_type": "code",
   "execution_count": 3,
   "metadata": {},
   "outputs": [],
   "source": [
    "with open(process_config_path) as json_file:\n",
    "    config = json.load(json_file)\n",
    "\n",
    "output_folder = os.path.join(process_folder, config['folder'])\n",
    "input_folder = os.path.join(process_folder, config['input_folder'])\n",
    "\n",
    "# the path of \"global_indicators_hex_250m.gpkg\"\n",
    "gpkgOutput_hex250 = os.path.join(output_folder, config['output_hex_250m'])\n",
    "\n",
    "# create the path of \"global_indicators_city.gpkg\"\n",
    "gpkgOutput_cities = os.path.join(output_folder, config['global_indicators_city'])"
   ]
  },
  {
   "cell_type": "code",
   "execution_count": 4,
   "metadata": {},
   "outputs": [],
   "source": [
    "cities = ['adelaide',\n",
    " 'auckland',\n",
    " 'baltimore',\n",
    " 'bangkok',\n",
    " 'barcelona',\n",
    " 'belfast',\n",
    " 'bern',\n",
    " 'chennai',\n",
    " 'mexico_city',\n",
    " 'cologne',\n",
    " 'ghent',\n",
    " 'graz',\n",
    " 'hanoi',\n",
    " 'hong_kong',\n",
    " 'lisbon',\n",
    " 'melbourne',\n",
    " 'odense',\n",
    " 'olomouc',\n",
    " 'sao_paulo',\n",
    " 'phoenix',\n",
    " 'seattle',\n",
    " 'sydney',\n",
    " 'valencia',\n",
    " 'vic']"
   ]
  },
  {
   "cell_type": "markdown",
   "metadata": {},
   "source": [
    "## All cities hex-level indicators boxplot"
   ]
  },
  {
   "cell_type": "code",
   "execution_count": 5,
   "metadata": {},
   "outputs": [
    {
     "data": {
      "text/plain": [
       "334003"
      ]
     },
     "execution_count": 5,
     "metadata": {},
     "output_type": "execute_result"
    }
   ],
   "source": [
    "# concat all hexes for all cities in one big dataframe\n",
    "all_hexes=pd.DataFrame()\n",
    "\n",
    "for city in cities:\n",
    "    #read file\n",
    "    hex250 = gpd.read_file(gpkgOutput_hex250, layer=city)\n",
    "    hex250['city'] = city\n",
    "    # append all hexes into one dataframe for analysis\n",
    "    all_hexes = pd.concat([all_hexes, hex250], ignore_index=True)\n",
    "\n",
    "len(all_hexes)"
   ]
  },
  {
   "cell_type": "code",
   "execution_count": 6,
   "metadata": {},
   "outputs": [
    {
     "data": {
      "text/plain": [
       "Index(['index', 'study_region', 'urban_sample_point_count',\n",
       "       'pct_access_500m_fresh_food_market_binary',\n",
       "       'pct_access_500m_convenience_binary',\n",
       "       'pct_access_500m_pt_osm_any_binary',\n",
       "       'pct_access_500m_public_open_space_any_binary',\n",
       "       'pct_access_500m_public_open_space_large_binary',\n",
       "       'pct_access_500m_pt_gtfs_any_binary',\n",
       "       'pct_access_500m_pt_gtfs_freq_30_binary',\n",
       "       'pct_access_500m_pt_gtfs_freq_20_binary',\n",
       "       'pct_access_500m_pt_any_binary', 'local_nh_population_density',\n",
       "       'local_nh_intersection_density', 'local_daily_living',\n",
       "       'local_walkability', 'all_cities_z_nh_population_density',\n",
       "       'all_cities_z_nh_intersection_density', 'all_cities_z_daily_living',\n",
       "       'all_cities_walkability', 'geometry', 'city'],\n",
       "      dtype='object')"
      ]
     },
     "execution_count": 6,
     "metadata": {},
     "output_type": "execute_result"
    }
   ],
   "source": [
    "all_hexes.columns"
   ]
  },
  {
   "cell_type": "code",
   "execution_count": 7,
   "metadata": {},
   "outputs": [],
   "source": [
    "figs = {'all_cities_walkability': {'note': 'Sum z-scores of pop density + intersect density + daily living, hex-level',\n",
    "                                   'title': 'Walkability Index (place-based, not pop weighted)',\n",
    "                                   'filename': 'boxplot-walkability_unweighted.png'},\n",
    "        'local_daily_living': {'note': 'Sum of binary accessibility to all daily living destinations',\n",
    "                               'title': 'Daily Living Scores',\n",
    "                               'filename': 'boxplot-daily_living.png'},\n",
    "        'local_nh_population_density': {'note': 'Population per km2, hex-level',\n",
    "                                        'title': 'Local Population Density',\n",
    "                                        'filename': 'boxplot-pop_density.png'},\n",
    "        'local_nh_intersection_density': {'note': 'Intersections per km2, hex-level',\n",
    "                                          'title': 'Local Intersection Density',\n",
    "                                          'filename': 'boxplot-intersect_density.png'}\n",
    "}"
   ]
  },
  {
   "cell_type": "code",
   "execution_count": 8,
   "metadata": {},
   "outputs": [],
   "source": [
    "sns.set_style('whitegrid') #visual styles\n",
    "sns.set_context('paper') #presets for scaling figure element sizes"
   ]
  },
  {
   "cell_type": "code",
   "execution_count": 9,
   "metadata": {},
   "outputs": [],
   "source": [
    "for col, details in figs.items():\n",
    "\n",
    "    #order by median\n",
    "    median_order = all_hexes.groupby(by=['study_region'])[col].median().sort_values().index\n",
    "\n",
    "    fig, ax = plt.subplots(figsize=(8, 6))\n",
    "\n",
    "    # switch x and y\n",
    "    ax=sns.boxplot(ax=ax, y=all_hexes['study_region'], x=all_hexes[col],\n",
    "                   order=median_order, palette='Blues', width=0.6,\n",
    "                   fliersize=0.05, boxprops={'alpha':0.7})\n",
    "    ax.tick_params(axis='both', which='major')\n",
    "    ax.set_xlabel(details['note'])\n",
    "    ax.set_ylabel('')\n",
    "\n",
    "    # add a title to the figure\n",
    "    ax.set_title(details['title'], fontsize=16)\n",
    "    fig.tight_layout()\n",
    "\n",
    "    save_path = os.path.join(image_path, details['filename'])\n",
    "    fig.savefig(save_path, dpi=300, bbox_inches='tight')\n",
    "    plt.close()"
   ]
  },
  {
   "cell_type": "markdown",
   "metadata": {},
   "source": [
    "## All cities pop-weighted hex-level indicators boxplot (work-in-progress)\n",
    "\n",
    "Pop-weighted hex-level indicators are not currently in our processing scripts but we may want to include this for consistency with the city-level indicators"
   ]
  },
  {
   "cell_type": "code",
   "execution_count": 10,
   "metadata": {},
   "outputs": [],
   "source": [
    "def aggregation_hexes_pop_weighted(input_gdf, out_gdf, fieldNames):\n",
    "    \"\"\"\n",
    "    Aggregating hexagon level indicators by weighted population\n",
    "    Parameters\n",
    "\n",
    "    \"\"\"\n",
    "    # loop over each indicators field names of input and output gdf\n",
    "    for field in fieldNames:\n",
    "        # calculate the population weighted indicators based on input hexagon layer\n",
    "        # sum to aggregate up to the city level\n",
    "        out_gdf[field[1]] = (input_gdf[sc.cities_parameters[\"pop_est\"]] * input_gdf[field[0]]) / (\n",
    "            input_gdf[sc.cities_parameters[\"pop_est\"]].sum())\n",
    "    return out_gdf\n",
    "\n",
    "\n",
    "def calc_hexes_pop_pct_indicators(gpkg_hex_250m, city, gpkg_input, gpkg_output):\n",
    "    \"\"\"\n",
    "    Calculate population-weighted hex-level indicators,\n",
    "    and save to output geopackage\n",
    "    \"\"\"\n",
    "    gdf_hex = gpd.read_file(gpkg_hex_250m, layer=city)\n",
    "\n",
    "    gdf_hex_origin = gpd.read_file(gpkg_input, layer=sc.cities_parameters[\"hex250\"])\n",
    "    # join pop_est from original hex to processed hex\n",
    "    gdf_hex = gdf_hex.join(gdf_hex_origin.set_index(\"index\"), on=\"index\", how=\"left\", rsuffix=\"_origin\")\n",
    "\n",
    "    # hex-level field names from city-specific hex indicators gpkg\n",
    "    fieldNames = sc.hex_fieldNames[3:-1]\n",
    "    \n",
    "    # new file names for population-weighted city-level indicators\n",
    "    fieldNames_new = sc.city_fieldNames[2:-1]\n",
    "    \n",
    "    # calculate the population weighted city-level indicators\n",
    "    gdf_hexes = aggregation_hexes_pop_weighted(gdf_hex, gdf_hex, list(zip(fieldNames, fieldNames_new)))\n",
    "    \n",
    "    #gdf_hexes.to_file(gpkg_output, layer=city, driver=\"GPKG\")\n",
    "    return gdf_hexes"
   ]
  },
  {
   "cell_type": "code",
   "execution_count": 11,
   "metadata": {},
   "outputs": [
    {
     "ename": "NameError",
     "evalue": "name 'dirname' is not defined",
     "output_type": "error",
     "traceback": [
      "\u001b[0;31m---------------------------------------------------------------------------\u001b[0m",
      "\u001b[0;31mNameError\u001b[0m                                 Traceback (most recent call last)",
      "\u001b[0;32m<ipython-input-11-0b3825844ada>\u001b[0m in \u001b[0;36m<module>\u001b[0;34m\u001b[0m\n\u001b[1;32m      2\u001b[0m \u001b[0mgpkgInput_ori\u001b[0m \u001b[0;34m=\u001b[0m \u001b[0;34m[\u001b[0m\u001b[0;34m]\u001b[0m\u001b[0;34m\u001b[0m\u001b[0;34m\u001b[0m\u001b[0m\n\u001b[1;32m      3\u001b[0m \u001b[0;32mfor\u001b[0m \u001b[0mgpkg\u001b[0m \u001b[0;32min\u001b[0m \u001b[0mlist\u001b[0m\u001b[0;34m(\u001b[0m\u001b[0mconfig\u001b[0m\u001b[0;34m[\u001b[0m\u001b[0;34m\"gpkgNames\"\u001b[0m\u001b[0;34m]\u001b[0m\u001b[0;34m.\u001b[0m\u001b[0mvalues\u001b[0m\u001b[0;34m(\u001b[0m\u001b[0;34m)\u001b[0m\u001b[0;34m)\u001b[0m\u001b[0;34m:\u001b[0m\u001b[0;34m\u001b[0m\u001b[0;34m\u001b[0m\u001b[0m\n\u001b[0;32m----> 4\u001b[0;31m     \u001b[0mgpkgInput_ori\u001b[0m\u001b[0;34m.\u001b[0m\u001b[0mappend\u001b[0m\u001b[0;34m(\u001b[0m\u001b[0mos\u001b[0m\u001b[0;34m.\u001b[0m\u001b[0mpath\u001b[0m\u001b[0;34m.\u001b[0m\u001b[0mjoin\u001b[0m\u001b[0;34m(\u001b[0m\u001b[0mdirname\u001b[0m\u001b[0;34m,\u001b[0m \u001b[0minput_folder\u001b[0m\u001b[0;34m,\u001b[0m \u001b[0mgpkg\u001b[0m\u001b[0;34m)\u001b[0m\u001b[0;34m)\u001b[0m\u001b[0;34m\u001b[0m\u001b[0;34m\u001b[0m\u001b[0m\n\u001b[0m",
      "\u001b[0;31mNameError\u001b[0m: name 'dirname' is not defined"
     ]
    }
   ],
   "source": [
    "# read pre-prepared sample point stats of each city from disk\n",
    "gpkgInput_ori = []\n",
    "for gpkg in list(config[\"gpkgNames\"].values()):\n",
    "    gpkgInput_ori.append(os.path.join(dirname, input_folder, gpkg))"
   ]
  },
  {
   "cell_type": "code",
   "execution_count": null,
   "metadata": {},
   "outputs": [],
   "source": [
    "all_hexes1=pd.DataFrame()\n",
    "cities = list(config[\"gpkgNames\"].keys())\n",
    "\n",
    "for index, gpkgInput in enumerate(gpkgInput_ori):\n",
    "    #print(index, gpkgInput)\n",
    "    gdf_hexes = calc_hexes_pop_pct_indicators(gpkgOutput_hex250, cities[index], \n",
    "                                      gpkgInput, gpkgOutput_hex250) \n",
    "    # append all hexes into one dataframe for analysis\n",
    "    all_hexes1 = pd.concat([all_hexes1, gdf_hexes], ignore_index=True)\n",
    "\n",
    "all_hexes1.columns"
   ]
  },
  {
   "cell_type": "code",
   "execution_count": null,
   "metadata": {},
   "outputs": [],
   "source": [
    "# check if the results are the same as city-level outputs\n",
    "all_hexes1[['study_region', 'all_cities_pop_walkability', 'all_cities_pop_z_daily_living',\n",
    "       'all_cities_pop_z_nh_intersection_density',\n",
    "       'all_cities_pop_z_nh_population_density']].groupby('study_region').sum()"
   ]
  },
  {
   "cell_type": "code",
   "execution_count": null,
   "metadata": {},
   "outputs": [],
   "source": [
    "# library & dataset\n",
    "import seaborn as sns\n",
    "\n",
    "col ='all_cities_pop_walkability'\n",
    "\n",
    "#order by median\n",
    "median_order = all_hexes1.groupby(by=['study_region'])[col].median().sort_values().index\n",
    "\n",
    "fig, ax = plt.subplots(figsize=(20, 10))\n",
    "\n",
    "# Just switch x and y\n",
    "ax=sns.boxplot(ax=ax, y=all_hexes1['study_region'], x=all_hexes1[col], order=median_order, palette=\"Blues\", width=0.6)\n",
    "ax.tick_params(axis='both', which='major', labelsize=14)\n",
    "ax.set_xlabel('Walkability index (Z Scores)', fontsize=16)\n",
    "ax.set_ylabel('Study region', fontsize=16)\n",
    "ax.set(xlim=(-0.005, 0.008))\n",
    "\n",
    "# add a title to the figure\n",
    "fig.suptitle('Walkability Index  \\n ( weighted by population)', y=0.95, fontsize=20, weight='bold')\n",
    "\n",
    "fig.text(0.1, 0, 'Note: Population-weighted walkability index relative to all cities - sum of the population-weighted z-scores of pop and intersection density, and daily living generated at the hex level; ranked by median \\n', \n",
    "         fontsize=12, color='#555555')\n",
    "\n",
    "#fig.savefig('figure/walkability_popweighted.png', dpi=600)\n",
    "\n",
    "plt.show()"
   ]
  },
  {
   "cell_type": "code",
   "execution_count": null,
   "metadata": {},
   "outputs": [],
   "source": []
  }
 ],
 "metadata": {
  "kernelspec": {
   "display_name": "Python 3",
   "language": "python",
   "name": "python3"
  },
  "language_info": {
   "codemirror_mode": {
    "name": "ipython",
    "version": 3
   },
   "file_extension": ".py",
   "mimetype": "text/x-python",
   "name": "python",
   "nbconvert_exporter": "python",
   "pygments_lexer": "ipython3",
   "version": "3.7.6"
  }
 },
 "nbformat": 4,
 "nbformat_minor": 4
}
