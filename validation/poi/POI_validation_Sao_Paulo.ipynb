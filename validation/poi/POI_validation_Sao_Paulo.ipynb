{
 "cells": [
  {
   "cell_type": "code",
   "execution_count": 1,
   "metadata": {},
   "outputs": [],
   "source": [
    "import geopandas as gpd\n",
    "import numpy as np\n",
    "import matplotlib.pyplot as plt\n",
    "from geopy.distance import great_circle\n",
    "import os"
   ]
  },
  {
   "cell_type": "code",
   "execution_count": 2,
   "metadata": {},
   "outputs": [
    {
     "name": "stdout",
     "output_type": "stream",
     "text": [
      "number of OSM points:  2132\n",
      "number of Official points:  939\n"
     ]
    }
   ],
   "source": [
    "official_filename = \"SP_Freshfood_merged.shp\"\n",
    "OSM_filename = \"sao_paulo_br_2019_1600m_buffer.gpkg\"\n",
    "POIs_name = \"fresh_food_market\"\n",
    "\n",
    "gdf = gpd.read_file(OSM_filename, layer='destinations')\n",
    "gdf_osm = gdf[gdf['dest_name']==POIs_name]\n",
    "gdf_official = gpd.GeoDataFrame.from_file(official_filename)\n",
    "print(\"number of OSM points: \" ,len(gdf_osm))\n",
    "print(\"number of Official points: \", len(gdf_official))\n"
   ]
  },
  {
   "cell_type": "code",
   "execution_count": 3,
   "metadata": {},
   "outputs": [
    {
     "name": "stdout",
     "output_type": "stream",
     "text": [
      "epsg:31983\n"
     ]
    }
   ],
   "source": [
    "#Project gdf_osm to the crs of the official layer\n",
    "gdf_osm = gdf_osm.to_crs(gdf_official.crs)\n",
    "print(gdf_osm.crs)"
   ]
  },
  {
   "cell_type": "code",
   "execution_count": 4,
   "metadata": {},
   "outputs": [],
   "source": [
    "#Write data to shapefile\n",
    "from os.path import join as pjoin\n",
    "filename = \"sao_paulo_poi_official.shp\"\n",
    "path_to_file = pjoin(\"output\", filename)\n",
    "\n",
    "if os.path.isfile(path_to_file):\n",
    "    print (\"File exist\")\n",
    "else:\n",
    "    gdf_official.to_file(path_to_file)\n",
    "    \n",
    "filename = \"sao_paulo_poi_osm.shp\"\n",
    "path_to_file = pjoin(\"output\", filename)\n",
    "#gdf_osm = pd.merge(gdf_osm, gdf_osm.bounds, left_index=True, right_index=True)\n",
    "\n",
    "\n",
    "if os.path.isfile(path_to_file):\n",
    "    print (\"File exist\")\n",
    "else:\n",
    "    gdf_osm.to_file(path_to_file)\n"
   ]
  },
  {
   "cell_type": "code",
   "execution_count": 5,
   "metadata": {},
   "outputs": [
    {
     "name": "stdout",
     "output_type": "stream",
     "text": [
      "number of intersection items:  0\n",
      "Percentage:  0.0\n"
     ]
    }
   ],
   "source": [
    "#Calculate number of gdf_osm intersect with gdf_official\n",
    "mask1 = gdf_osm['geometry'].intersects(gdf_official['geometry'].unary_union)\n",
    "\n",
    "print(\"number of intersection items: \",len(gdf_osm[mask1]))\n",
    "print(\"Percentage: \",len(gdf_osm[mask1])*100/len(gdf_osm) )"
   ]
  },
  {
   "cell_type": "code",
   "execution_count": 9,
   "metadata": {},
   "outputs": [
    {
     "name": "stdout",
     "output_type": "stream",
     "text": [
      "Buffer:  5\n",
      "intersection:  511\n",
      "percent of OSM points 23.96810506566604\n",
      "intersection:  219\n",
      "percent of Official Point:  23.322683706070286\n",
      "/n\n",
      "Buffer:  10\n",
      "intersection:  554\n",
      "percent of OSM points 25.984990619136962\n",
      "intersection:  238\n",
      "percent of Official Point:  25.34611288604899\n",
      "/n\n",
      "Buffer:  15\n",
      "intersection:  638\n",
      "percent of OSM points 29.924953095684803\n",
      "intersection:  290\n",
      "percent of Official Point:  30.8839190628328\n",
      "/n\n",
      "Buffer:  20\n",
      "intersection:  737\n",
      "percent of OSM points 34.568480300187616\n",
      "intersection:  332\n",
      "percent of Official Point:  35.356762513312034\n",
      "/n\n",
      "Buffer:  25\n",
      "intersection:  868\n",
      "percent of OSM points 40.71294559099437\n",
      "intersection:  387\n",
      "percent of Official Point:  41.21405750798722\n",
      "/n\n",
      "Buffer:  30\n",
      "intersection:  999\n",
      "percent of OSM points 46.85741088180112\n",
      "intersection:  450\n",
      "percent of Official Point:  47.92332268370607\n",
      "/n\n",
      "Buffer:  35\n",
      "intersection:  1138\n",
      "percent of OSM points 53.37711069418386\n",
      "intersection:  511\n",
      "percent of Official Point:  54.419595314164006\n",
      "/n\n",
      "Buffer:  40\n",
      "intersection:  1260\n",
      "percent of OSM points 59.09943714821764\n",
      "intersection:  573\n",
      "percent of Official Point:  61.022364217252395\n",
      "/n\n",
      "Buffer:  45\n",
      "intersection:  1384\n",
      "percent of OSM points 64.9155722326454\n",
      "intersection:  635\n",
      "percent of Official Point:  67.62513312034079\n",
      "/n\n",
      "Buffer:  50\n",
      "intersection:  1470\n",
      "percent of OSM points 68.94934333958724\n",
      "intersection:  689\n",
      "percent of Official Point:  73.37593184238551\n",
      "/n\n",
      "Buffer:  55\n",
      "intersection:  1514\n",
      "percent of OSM points 71.01313320825516\n",
      "intersection:  743\n",
      "percent of Official Point:  79.12673056443025\n",
      "/n\n",
      "Buffer:  60\n",
      "intersection:  1544\n",
      "percent of OSM points 72.42026266416511\n",
      "intersection:  792\n",
      "percent of Official Point:  84.34504792332268\n",
      "/n\n",
      "Buffer:  65\n",
      "intersection:  1570\n",
      "percent of OSM points 73.63977485928706\n",
      "intersection:  833\n",
      "percent of Official Point:  88.71139510117146\n",
      "/n\n",
      "Buffer:  70\n",
      "intersection:  1589\n",
      "percent of OSM points 74.53095684803002\n",
      "intersection:  878\n",
      "percent of Official Point:  93.50372736954206\n",
      "/n\n",
      "Buffer:  75\n",
      "intersection:  1606\n",
      "percent of OSM points 75.328330206379\n",
      "intersection:  895\n",
      "percent of Official Point:  95.31416400425985\n",
      "/n\n",
      "Buffer:  80\n",
      "intersection:  1616\n",
      "percent of OSM points 75.79737335834896\n",
      "intersection:  907\n",
      "percent of Official Point:  96.59211927582534\n",
      "/n\n",
      "Buffer:  85\n",
      "intersection:  1627\n",
      "percent of OSM points 76.31332082551594\n",
      "intersection:  915\n",
      "percent of Official Point:  97.44408945686901\n",
      "/n\n",
      "Buffer:  90\n",
      "intersection:  1642\n",
      "percent of OSM points 77.01688555347091\n",
      "intersection:  918\n",
      "percent of Official Point:  97.76357827476038\n",
      "/n\n",
      "Buffer:  95\n",
      "intersection:  1661\n",
      "percent of OSM points 77.90806754221389\n",
      "intersection:  923\n",
      "percent of Official Point:  98.29605963791268\n",
      "/n\n"
     ]
    }
   ],
   "source": [
    "#Calculate intersection with various buffers\n",
    "buff = 5\n",
    "percent_list = []\n",
    "percent_dict = {}\n",
    "\n",
    "while buff<100:\n",
    "    OSM_buffer = gdf_osm\n",
    "    OSM_buffer['geometry'] = OSM_buffer.geometry.buffer(buff)\n",
    "    OP_buffer =gdf_official\n",
    "    OP_buffer['geometry'] = OP_buffer.geometry.buffer(buff)\n",
    "    \n",
    "    print(\"Buffer: \", str(buff))\n",
    "    \n",
    "    #Calculate percent of OSM points within Official points 100m buffer\n",
    "    mask = gdf_osm['geometry'].intersects(OP_buffer['geometry'].unary_union)\n",
    "    print(\"intersection: \",len(gdf_osm[mask]))\n",
    "    print(\"percent of OSM points\", str(len(gdf_osm[mask])*100/len(gdf_osm)))\n",
    "    \n",
    "    #Calculate percent of Official Point within OSM points 100m buffer\n",
    "    mask = gdf_official['geometry'].intersects(OSM_buffer['geometry'].unary_union)\n",
    "    print(\"intersection: \",len(gdf_official[mask]))\n",
    "    print(\"percent of Official Point: \", str(len(gdf_official[mask])*100/len(gdf_official)))\n",
    "    print(\"/n\")\n",
    "    \n",
    "    buff+=5\n",
    "    "
   ]
  },
  {
   "cell_type": "code",
   "execution_count": 6,
   "metadata": {},
   "outputs": [],
   "source": [
    "#Draw 100m buffer around OSM points; draw 100m buffer around official points\n",
    "OSM_buffer = gdf_osm\n",
    "OSM_buffer['geometry'] = OSM_buffer.geometry.buffer(100)\n",
    "OP_buffer =gdf_official\n",
    "OP_buffer['geometry'] = OP_buffer.geometry.buffer(100)\n"
   ]
  },
  {
   "cell_type": "code",
   "execution_count": 7,
   "metadata": {},
   "outputs": [
    {
     "name": "stdout",
     "output_type": "stream",
     "text": [
      "intersection:  487\n",
      "percent of OSM points 22.842401500938088\n"
     ]
    }
   ],
   "source": [
    "#Calculate percent of OSM points within Official points 100m buffer\n",
    "mask = gdf_osm['geometry'].intersects(OP_buffer['geometry'].unary_union)\n",
    "print(\"intersection: \",len(gdf_osm[mask]))\n",
    "print(\"percent of OSM points\", str(len(gdf_osm[mask])*100/len(gdf_osm)))"
   ]
  },
  {
   "cell_type": "code",
   "execution_count": 8,
   "metadata": {},
   "outputs": [
    {
     "name": "stdout",
     "output_type": "stream",
     "text": [
      "intersection:  205\n",
      "percent of Official Point:  21.831735889243877\n"
     ]
    }
   ],
   "source": [
    "#Calculate percent of Official Point within OSM points 100m buffer\n",
    "mask = gdf_official['geometry'].intersects(OSM_buffer['geometry'].unary_union)\n",
    "print(\"intersection: \",len(gdf_official[mask]))\n",
    "print(\"percent of Official Point: \", str(len(gdf_official[mask])*100/len(gdf_official)))"
   ]
  },
  {
   "cell_type": "code",
   "execution_count": null,
   "metadata": {},
   "outputs": [],
   "source": [
    "#Calculate distance to all Official polygons and pick the min\n",
    "def min_distance(gdf_osm, gdf_official):\n",
    "    nearest_dists = []\n",
    "    for item in gdf_osm.geometry:\n",
    "        nearest_dist = gdf_official.distance(item).min()\n",
    "        nearest_dists.append(nearest_dist)\n",
    "    gdf_osm['nearest_distance'] = nearest_dists\n",
    "    print(gdf_osm['nearest_distance'])"
   ]
  },
  {
   "cell_type": "code",
   "execution_count": null,
   "metadata": {},
   "outputs": [],
   "source": [
    "min_distance(gdf_osm,gdf_official)\n",
    "#Graphing the histogram of distance from gdf_osm to nearest Official points\n",
    "ax = gdf_osm['nearest_distance'].hist()\n",
    "plt.show()\n",
    "\n",
    "mean_dist = gdf_osm['nearest_distance'].mean()\n",
    "print(\"mean nearest distance: \",mean_dist)\n",
    "\n",
    "median_dist = gdf_osm['nearest_distance'].median()\n",
    "print(\"median nearest distance: \", median_dist)"
   ]
  }
 ],
 "metadata": {
  "kernelspec": {
   "display_name": "Python 3",
   "language": "python",
   "name": "python3"
  },
  "language_info": {
   "codemirror_mode": {
    "name": "ipython",
    "version": 3
   },
   "file_extension": ".py",
   "mimetype": "text/x-python",
   "name": "python",
   "nbconvert_exporter": "python",
   "pygments_lexer": "ipython3",
   "version": "3.7.6"
  }
 },
 "nbformat": 4,
 "nbformat_minor": 4
}
