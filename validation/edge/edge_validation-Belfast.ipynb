{
 "cells": [
  {
   "cell_type": "code",
   "execution_count": 1,
   "metadata": {},
   "outputs": [
    {
     "data": {
      "text/plain": [
       "{'study_region': 'belfast',\n",
       " 'to_crs': 'epsg:29902',\n",
       " 'osm_graphml_path': 'data/Belfast/belfast_gb_2019_10000m_all_osm_20190902.graphml.xml',\n",
       " 'osm_buffer_gpkg_path': 'data/Belfast/belfast_gb_2019_1600m_buffer.gpkg',\n",
       " 'official_streets_shp_path': 'data/Belfast/Belfast_City_Council_Area_Street_Network.shp'}"
      ]
     },
     "execution_count": 1,
     "metadata": {},
     "output_type": "execute_result"
    }
   ],
   "source": [
    "import json\n",
    "import edge_validation as ev\n",
    "\n",
    "with open('configuration/belfast.json') as f:\n",
    "    config = json.load(f)\n",
    "\n",
    "config"
   ]
  },
  {
   "cell_type": "code",
   "execution_count": 2,
   "metadata": {},
   "outputs": [
    {
     "name": "stdout",
     "output_type": "stream",
     "text": [
      "(70312, 22)\n",
      "(19757, 25)\n",
      "CPU times: user 53.1 s, sys: 259 ms, total: 53.3 s\n",
      "Wall time: 53.3 s\n"
     ]
    }
   ],
   "source": [
    "%%time\n",
    "# load gdf of edges from osm graph and the study area boundary polygon\n",
    "gdf_osm_streets, gdf_official_streets, study_area = ev.load_data(config['osm_graphml_path'],\n",
    "                                         config['osm_buffer_gpkg_path'],\n",
    "                                         config['official_streets_shp_path'])\n",
    "print(gdf_osm_streets.shape)\n",
    "print(gdf_official_streets.shape)"
   ]
  },
  {
   "cell_type": "code",
   "execution_count": 4,
   "metadata": {},
   "outputs": [
    {
     "name": "stdout",
     "output_type": "stream",
     "text": [
      "(26244, 22)\n",
      "(18662, 25)\n",
      "CPU times: user 27.1 s, sys: 3.93 ms, total: 27.1 s\n",
      "Wall time: 27.1 s\n"
     ]
    }
   ],
   "source": [
    "%%time\n",
    "gdf_osm_streets_clipped, gdf_official_streets_clipped = ev.clip_data(gdf_osm_streets, gdf_official_streets, study_area)\n",
    "print(gdf_osm_streets_clipped.shape)\n",
    "print(gdf_official_streets_clipped.shape)"
   ]
  },
  {
   "cell_type": "code",
   "execution_count": null,
   "metadata": {},
   "outputs": [],
   "source": [
    "# Clip data so that all three datasets only include the study area as defined by the project\n",
    "osm_data_clipped, official_clipped = ev.clip_data()"
   ]
  },
  {
   "cell_type": "code",
   "execution_count": null,
   "metadata": {},
   "outputs": [],
   "source": [
    "# Plot the study area\n",
    "ev.plot_map(gdf_study_area)"
   ]
  },
  {
   "cell_type": "code",
   "execution_count": null,
   "metadata": {},
   "outputs": [],
   "source": [
    "# Plot the osm dataset edge network\n",
    "ev.plot_map(gdf_osm)"
   ]
  },
  {
   "cell_type": "code",
   "execution_count": null,
   "metadata": {},
   "outputs": [],
   "source": [
    "# Plot the official dataset edge network\n",
    "ev.plot_map(gdf_official)"
   ]
  },
  {
   "cell_type": "code",
   "execution_count": null,
   "metadata": {},
   "outputs": [],
   "source": [
    "# Plot the osm dataset edge network clipped to only include edges within study area\n",
    "ev.plot_map(osm_data_clipped)"
   ]
  },
  {
   "cell_type": "code",
   "execution_count": null,
   "metadata": {},
   "outputs": [],
   "source": [
    "# Plot the offical dataset edge network clipped to only include edges within study area\n",
    "ev.plot_map(official_clipped)"
   ]
  },
  {
   "cell_type": "code",
   "execution_count": null,
   "metadata": {},
   "outputs": [],
   "source": [
    "# Find the total length of the osm dataset edge network\n",
    "ev.total_length(gdf_osm)"
   ]
  },
  {
   "cell_type": "code",
   "execution_count": null,
   "metadata": {},
   "outputs": [],
   "source": [
    "# Find the total length of the official dataset edge network\n",
    "ev.total_length(gdf_official)"
   ]
  },
  {
   "cell_type": "code",
   "execution_count": null,
   "metadata": {},
   "outputs": [],
   "source": [
    "# Find the area of the official dataset edge network which intersects with the osm network at a specified buffer\n",
    "# Change the buffer by replacing the integer in the first input\n",
    "ev.buffer_intersected(5, official_buffer)"
   ]
  },
  {
   "cell_type": "code",
   "execution_count": null,
   "metadata": {},
   "outputs": [],
   "source": [
    "# Find the area of the osm dataset edge network which intersects with the official network at a specified buffer\n",
    "# Change the buffer by replacing the integer in the first input\n",
    "# The buffer is measured in meters\n",
    "ev.buffer_intersected(5, osm_buffer)"
   ]
  },
  {
   "cell_type": "code",
   "execution_count": null,
   "metadata": {},
   "outputs": [],
   "source": [
    "# Find the percentage of overlap between the two networks at a specified buffer\n",
    "# Change the buffer by replacing the integer in the first input\n",
    "# The buffer is measured in meters\n",
    "ev.shared_area(5)"
   ]
  }
 ],
 "metadata": {
  "kernelspec": {
   "display_name": "Python 3",
   "language": "python",
   "name": "python3"
  },
  "language_info": {
   "codemirror_mode": {
    "name": "ipython",
    "version": 3
   },
   "file_extension": ".py",
   "mimetype": "text/x-python",
   "name": "python",
   "nbconvert_exporter": "python",
   "pygments_lexer": "ipython3",
   "version": "3.8.3"
  }
 },
 "nbformat": 4,
 "nbformat_minor": 4
}
