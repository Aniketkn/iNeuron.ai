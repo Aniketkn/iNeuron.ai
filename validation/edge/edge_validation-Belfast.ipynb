{
 "cells": [
  {
   "cell_type": "code",
   "execution_count": 1,
   "metadata": {},
   "outputs": [
    {
     "data": {
      "text/plain": [
       "{'study_region': 'belfast',\n",
       " 'to_crs': 'epsg:29902',\n",
       " 'osm_graphml_path': 'data/Belfast/belfast_gb_2019_10000m_all_osm_20190902.graphml.xml',\n",
       " 'osm_buffer_gpkg_path': 'data/Belfast/belfast_gb_2019_1600m_buffer.gpkg',\n",
       " 'official_streets_shp_path': 'data/Belfast/Belfast_City_Council_Area_Street_Network.shp'}"
      ]
     },
     "execution_count": 1,
     "metadata": {},
     "output_type": "execute_result"
    }
   ],
   "source": [
    "import json\n",
    "import matplotlib.pyplot as plt\n",
    "\n",
    "import edge_validation as ev\n",
    "\n",
    "with open('configuration/belfast.json') as f:\n",
    "    config = json.load(f)\n",
    "\n",
    "config"
   ]
  },
  {
   "cell_type": "code",
   "execution_count": 2,
   "metadata": {},
   "outputs": [
    {
     "name": "stdout",
     "output_type": "stream",
     "text": [
      "(70312, 22)\n",
      "(19757, 25)\n",
      "CPU times: user 53.8 s, sys: 256 ms, total: 54 s\n",
      "Wall time: 54 s\n"
     ]
    }
   ],
   "source": [
    "%%time\n",
    "# load street gdfs from osm graph and official shapefile, and the study area boundary polygon\n",
    "gdf_osm_streets, gdf_official_streets, study_area = ev.load_data(config['osm_graphml_path'],\n",
    "                                         config['osm_buffer_gpkg_path'],\n",
    "                                         config['official_streets_shp_path'])\n",
    "print(gdf_osm_streets.shape)\n",
    "print(gdf_official_streets.shape)"
   ]
  },
  {
   "cell_type": "code",
   "execution_count": 3,
   "metadata": {},
   "outputs": [
    {
     "name": "stdout",
     "output_type": "stream",
     "text": [
      "(26244, 22)\n",
      "(18662, 25)\n",
      "CPU times: user 27 s, sys: 0 ns, total: 27 s\n",
      "Wall time: 27 s\n"
     ]
    }
   ],
   "source": [
    "%%time\n",
    "# clip both street gdfs to the study area boundary\n",
    "gdf_osm_streets_clipped, gdf_official_streets_clipped = ev.clip_data(gdf_osm_streets, gdf_official_streets, study_area)\n",
    "print(gdf_osm_streets_clipped.shape)\n",
    "print(gdf_official_streets_clipped.shape)"
   ]
  },
  {
   "cell_type": "code",
   "execution_count": 4,
   "metadata": {},
   "outputs": [],
   "source": [
    "# plot map of study area + osm and official streets\n",
    "fig, ax = ev.plot_data(gdf_osm_streets_clipped, gdf_official_streets_clipped, study_area)\n",
    "plt.close()"
   ]
  },
  {
   "cell_type": "code",
   "execution_count": null,
   "metadata": {},
   "outputs": [],
   "source": []
  },
  {
   "cell_type": "code",
   "execution_count": null,
   "metadata": {},
   "outputs": [],
   "source": [
    "# Find the total length of the osm dataset edge network\n",
    "ev.total_length(gdf_osm)"
   ]
  },
  {
   "cell_type": "code",
   "execution_count": null,
   "metadata": {},
   "outputs": [],
   "source": [
    "# Find the total length of the official dataset edge network\n",
    "ev.total_length(gdf_official)"
   ]
  },
  {
   "cell_type": "code",
   "execution_count": null,
   "metadata": {},
   "outputs": [],
   "source": [
    "# Find the area of the official dataset edge network which intersects with the osm network at a specified buffer\n",
    "# Change the buffer by replacing the integer in the first input\n",
    "ev.buffer_intersected(5, official_buffer)"
   ]
  },
  {
   "cell_type": "code",
   "execution_count": null,
   "metadata": {},
   "outputs": [],
   "source": [
    "# Find the area of the osm dataset edge network which intersects with the official network at a specified buffer\n",
    "# Change the buffer by replacing the integer in the first input\n",
    "# The buffer is measured in meters\n",
    "ev.buffer_intersected(5, osm_buffer)"
   ]
  },
  {
   "cell_type": "code",
   "execution_count": null,
   "metadata": {},
   "outputs": [],
   "source": [
    "# Find the percentage of overlap between the two networks at a specified buffer\n",
    "# Change the buffer by replacing the integer in the first input\n",
    "# The buffer is measured in meters\n",
    "ev.shared_area(5)"
   ]
  }
 ],
 "metadata": {
  "kernelspec": {
   "display_name": "Python 3",
   "language": "python",
   "name": "python3"
  },
  "language_info": {
   "codemirror_mode": {
    "name": "ipython",
    "version": 3
   },
   "file_extension": ".py",
   "mimetype": "text/x-python",
   "name": "python",
   "nbconvert_exporter": "python",
   "pygments_lexer": "ipython3",
   "version": "3.8.3"
  }
 },
 "nbformat": 4,
 "nbformat_minor": 4
}
