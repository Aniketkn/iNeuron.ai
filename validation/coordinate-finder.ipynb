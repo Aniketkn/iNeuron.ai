{
 "cells": [
  {
   "cell_type": "code",
   "execution_count": 1,
   "metadata": {},
   "outputs": [],
   "source": [
    "import json\n",
    "import os\n",
    "import geopandas as gpd\n",
    "import matplotlib.pyplot as plt\n",
    "import pandas as pd\n",
    "import osmnx as ox\n",
    "import random"
   ]
  },
  {
   "cell_type": "code",
   "execution_count": 2,
   "metadata": {},
   "outputs": [],
   "source": [
    "ol_osm_buffer_gpkg_path = \"data/olomouc/olomouc_cz_2019_1600m_buffer.gpkg\"\n",
    "ol_official_dests_filepath = \"data/olomouc/olomouc_supermarkets_2018\"\n",
    "ol_destinations_column = \"OBJECTID\"\n",
    "ol_destinations_values = [\"1\", \"2\", \"3\", \"4\", \"5\", \"6\", \"7\", \"8\", \"9\", \"10\", \"11\", \"12\", \"13\", \"14\", \"15\", \"16\", \"17\", \"18\", \"19\", \"20\", \"21\", \"22\", \"23\", \"24\", \"25\", \"26\", \"27\", \"28\", \"29\", \"30\", \"31\", \"32\", \"33\", \"34\", \"35\", \"36\", \"37\", \"38\", \"39\", \"40\", \"41\", \"42\", \"43\", \"44\", \"45\", \"46\", \"47\", \"48\", \"49\", \"50\", \"51\", \"52\", \"53\", \"54\", \"55\", \"56\", \"57\", \"58\", \"59\", \"60\", \"61\", \"62\", \"63\"]\n",
    "crs = {'init': 'epsg:4326'}"
   ]
  },
  {
   "cell_type": "code",
   "execution_count": 3,
   "metadata": {},
   "outputs": [
    {
     "name": "stdout",
     "output_type": "stream",
     "text": [
      "2020-09-28 00:52:14 loaded study area boundary\n",
      "2020-09-28 00:52:15 loaded and filtered official destinations shapefile\n",
      "2020-09-28 00:52:15 loaded osm destinations shapefile\n",
      "2020-09-28 00:52:15 projected official destinations\n",
      "2020-09-28 00:52:15 clipped osm/official destinations to study area boundary\n"
     ]
    }
   ],
   "source": [
    "# load the study area boundary as a shapely (multi)polygon\n",
    "ol_gdf_study_area = gpd.read_file(ol_osm_buffer_gpkg_path, layer=\"urban_study_region\")\n",
    "ol_study_area = ol_gdf_study_area[\"geometry\"].iloc[0]\n",
    "print(ox.ts(), \"loaded study area boundary\")\n",
    "\n",
    "# load the entire geopackage\n",
    "ol_geopackage = gpd.read_file(ol_osm_buffer_gpkg_path)\n",
    "\n",
    "# load the official destinations shapefile\n",
    "# retain only rows with desired values in the destinations column\n",
    "ol_gdf_official_destinations = gpd.read_file(ol_official_dests_filepath)\n",
    "ol_mask = ol_gdf_official_destinations[ol_destinations_column].isin(ol_destinations_values)\n",
    "ol_gdf_official_destinations = ol_gdf_official_destinations[ol_mask]\n",
    "print(ox.ts(), \"loaded and filtered official destinations shapefile\")\n",
    "\n",
    "# load the osm destinations shapefile\n",
    "ol_gdf_osm = gpd.read_file(ol_osm_buffer_gpkg_path, layer=\"destinations\")\n",
    "ol_gdf_osm_destinations = ol_gdf_osm[ol_gdf_osm[\"dest_name\"] == \"fresh_food_market\"]\n",
    "print(ox.ts(), \"loaded osm destinations shapefile\")\n",
    "\n",
    "# project the data to a common crs\n",
    "ol_crs = ol_gdf_study_area.crs\n",
    "if ol_geopackage.crs != ol_crs:\n",
    "    ol_geopackage = ol_geopackage.to_crs(ol_crs)\n",
    "    print(ox.ts(), \"projected geopackage\")\n",
    "if ol_gdf_official_destinations.crs != ol_crs:\n",
    "    ol_gdf_official_destinations = ol_gdf_official_destinations.to_crs(ol_crs)\n",
    "    print(ox.ts(), \"projected official destinations\")\n",
    "if ol_gdf_osm_destinations.crs != ol_crs:\n",
    "    ol_gdf_osm_destinations = ol_gdf_osm_destinations.to_crs(ol_crs)\n",
    "    print(ox.ts(), \"projected osm destinations\")\n",
    "\n",
    "# spatially clip the destinationss to the study area boundary\n",
    "import warnings\n",
    "\n",
    "warnings.filterwarnings(\"ignore\", \"GeoSeries.notna\", UserWarning)  # temp warning suppression\n",
    "ol_gdf_osm_destinations_clipped = gpd.clip(ol_gdf_osm_destinations, ol_study_area)\n",
    "ol_gdf_official_destinations_clipped = gpd.clip(ol_gdf_official_destinations, ol_study_area)\n",
    "print(ox.ts(), \"clipped osm/official destinations to study area boundary\")\n",
    "\n",
    "# double-check everything has same CRS, then return\n",
    "assert (\n",
    "    ol_gdf_study_area.crs\n",
    "    == ol_geopackage.crs\n",
    "    == ol_gdf_osm_destinations_clipped.crs\n",
    "    == ol_gdf_official_destinations_clipped.crs\n",
    ")\n",
    "# returns ol_study_area, ol_geopackage, ol_gdf_osm_destinations_clipped, ol_gdf_official_destinations_clipped"
   ]
  },
  {
   "cell_type": "code",
   "execution_count": 4,
   "metadata": {},
   "outputs": [
    {
     "name": "stderr",
     "output_type": "stream",
     "text": [
      "/opt/conda/lib/python3.7/site-packages/pyproj/crs/crs.py:53: FutureWarning: '+init=<authority>:<code>' syntax is deprecated. '<authority>:<code>' is the preferred initialization method. When making the change, be mindful of axis order changes: https://pyproj4.github.io/pyproj/stable/gotchas.html#axis-order-changes-in-proj-6\n",
      "  return _prepare_from_string(\" \".join(pjargs))\n",
      "/opt/conda/lib/python3.7/site-packages/pyproj/crs/crs.py:53: FutureWarning: '+init=<authority>:<code>' syntax is deprecated. '<authority>:<code>' is the preferred initialization method. When making the change, be mindful of axis order changes: https://pyproj4.github.io/pyproj/stable/gotchas.html#axis-order-changes-in-proj-6\n",
      "  return _prepare_from_string(\" \".join(pjargs))\n"
     ]
    }
   ],
   "source": [
    "ol_gdf_osm_destinations_clipped = ol_gdf_osm_destinations_clipped.to_crs(crs)\n",
    "ol_gdf_official_destinations_clipped = ol_gdf_official_destinations_clipped.to_crs(crs)"
   ]
  },
  {
   "cell_type": "code",
   "execution_count": 5,
   "metadata": {},
   "outputs": [
    {
     "name": "stdout",
     "output_type": "stream",
     "text": [
      "(60, 6)\n"
     ]
    }
   ],
   "source": [
    "ol_gdf_osm_destinations_clipped = ol_gdf_osm_destinations_clipped.reset_index()\n",
    "print(ol_gdf_osm_destinations_clipped.shape)"
   ]
  },
  {
   "cell_type": "code",
   "execution_count": 6,
   "metadata": {},
   "outputs": [
    {
     "name": "stdout",
     "output_type": "stream",
     "text": [
      "{34, 4, 37, 38, 8, 40, 15, 23, 58, 30}\n"
     ]
    }
   ],
   "source": [
    "# Randomly select 20 destinations from the destinations derived from the OSM dataset for Olomouc\n",
    "# The first 10 destinations were selected using a random seed (random.choices), and therefore are not replicable, they are listed below\n",
    "# This cell finds 10 additional unique destiations\n",
    "# The 10 destinations that were found from a random seed are\n",
    "# 22, 49, 51, 57, 47, 48, 5, 36, 3, 17 \n",
    "random.seed(3)   \n",
    "ol_osm_set = set()\n",
    "for dest in range(11):\n",
    "    dest = random.randint(0,60) \n",
    "    ol_osm_set.add(dest)\n",
    "print(ol_osm_set)"
   ]
  },
  {
   "cell_type": "code",
   "execution_count": 7,
   "metadata": {},
   "outputs": [
    {
     "name": "stdout",
     "output_type": "stream",
     "text": [
      "POINT (17.247804 49.57584719999998)\n",
      "POINT (17.2369917 49.58190269999999)\n",
      "POINT (17.2494973 49.5746043)\n",
      "POINT (17.2494893 49.57467209999999)\n",
      "POINT (17.2521229 49.5922138)\n",
      "POINT (17.2582162 49.58705129999999)\n",
      "POINT (17.2484482 49.59638829999999)\n",
      "POINT (17.2437152 49.60243169999999)\n",
      "POINT (17.2511981 49.59444139999999)\n",
      "POINT (17.2500296 49.59516049999999)\n",
      "POINT (17.2578628 49.601745)\n",
      "POINT (17.2690025 49.59485)\n",
      "POINT (17.2667728 49.5954673)\n",
      "POINT (17.2719467 49.5883662)\n",
      "POINT (17.2780985 49.5923773)\n",
      "POINT (17.2728728 49.59919669999999)\n",
      "POINT (17.2783607 49.6016576)\n",
      "POINT (17.23491530227623 49.59111024959994)\n",
      "POINT (17.27325686072833 49.59914789669003)\n",
      "POINT (17.28454369789085 49.59358171700822)\n"
     ]
    }
   ],
   "source": [
    "print(ol_gdf_osm_destinations_clipped.loc[3, \"geometry\"])\n",
    "print(ol_gdf_osm_destinations_clipped.loc[4, \"geometry\"])\n",
    "print(ol_gdf_osm_destinations_clipped.loc[5, \"geometry\"])\n",
    "print(ol_gdf_osm_destinations_clipped.loc[8, \"geometry\"])\n",
    "print(ol_gdf_osm_destinations_clipped.loc[15, \"geometry\"])\n",
    "print(ol_gdf_osm_destinations_clipped.loc[17, \"geometry\"])\n",
    "print(ol_gdf_osm_destinations_clipped.loc[22, \"geometry\"])\n",
    "print(ol_gdf_osm_destinations_clipped.loc[23, \"geometry\"])\n",
    "print(ol_gdf_osm_destinations_clipped.loc[30, \"geometry\"])\n",
    "print(ol_gdf_osm_destinations_clipped.loc[34, \"geometry\"])\n",
    "print(ol_gdf_osm_destinations_clipped.loc[36, \"geometry\"])\n",
    "print(ol_gdf_osm_destinations_clipped.loc[37, \"geometry\"])\n",
    "print(ol_gdf_osm_destinations_clipped.loc[38, \"geometry\"])\n",
    "print(ol_gdf_osm_destinations_clipped.loc[40, \"geometry\"])\n",
    "print(ol_gdf_osm_destinations_clipped.loc[47, \"geometry\"])\n",
    "print(ol_gdf_osm_destinations_clipped.loc[48, \"geometry\"])\n",
    "print(ol_gdf_osm_destinations_clipped.loc[49, \"geometry\"])\n",
    "print(ol_gdf_osm_destinations_clipped.loc[51, \"geometry\"])\n",
    "print(ol_gdf_osm_destinations_clipped.loc[57, \"geometry\"])\n",
    "print(ol_gdf_osm_destinations_clipped.loc[58, \"geometry\"])"
   ]
  },
  {
   "cell_type": "code",
   "execution_count": 8,
   "metadata": {},
   "outputs": [
    {
     "name": "stdout",
     "output_type": "stream",
     "text": [
      "(50, 6)\n"
     ]
    }
   ],
   "source": [
    "ol_gdf_official_destinations_clipped = ol_gdf_official_destinations_clipped.reset_index()\n",
    "print(ol_gdf_official_destinations_clipped.shape)"
   ]
  },
  {
   "cell_type": "code",
   "execution_count": 23,
   "metadata": {},
   "outputs": [
    {
     "name": "stdout",
     "output_type": "stream",
     "text": [
      "{0, 2, 36, 5, 37, 9, 42, 48, 16, 31}\n"
     ]
    }
   ],
   "source": [
    "# Randomly select 20 destinations from the destinations derived from the official dataset for Olomouc\n",
    "# The first 10 destinations were selected using a random seed (random.choices), and therefore are not replicable, they are listed below\n",
    "# This cell finds 10 additional unique destiations\n",
    "# The 10 destinations that were found from a random seed are\n",
    "# 15, 47, 4, 14, 17, 39, 23, 29, 40, 8\n",
    "random.seed(6)   \n",
    "ol_off_set = set()\n",
    "for dest in range(10):\n",
    "    dest = random.randint(0,49)\n",
    "    ol_off_set.add(dest)\n",
    "print(ol_off_set)"
   ]
  },
  {
   "cell_type": "code",
   "execution_count": 24,
   "metadata": {},
   "outputs": [
    {
     "name": "stdout",
     "output_type": "stream",
     "text": [
      "POINT (17.2485335602552 49.60071812234299)\n",
      "POINT (17.24561824232677 49.59735297747774)\n",
      "POINT (17.2491618074927 49.59315871639684)\n",
      "POINT (17.22909333527297 49.5929938283056)\n",
      "POINT (17.27325348973117 49.59919483208895)\n",
      "POINT (17.27182509764802 49.58839795008866)\n",
      "POINT (17.27856878233937 49.59892950049041)\n",
      "POINT (17.27856878233937 49.59892950049041)\n",
      "POINT (17.28460614162956 49.59350857042033)\n",
      "POINT (17.28460614162956 49.59350857042033)\n",
      "POINT (17.27140486011946 49.58313360097501)\n",
      "POINT (17.2285914589908 49.59758264132959)\n",
      "POINT (17.23485561128411 49.59112131177946)\n",
      "POINT (17.24187669285135 49.59497907362115)\n",
      "POINT (17.23517431667831 49.57563574595006)\n",
      "POINT (17.25667615144096 49.57687776846497)\n",
      "POINT (17.25667615144096 49.57687776846497)\n",
      "POINT (17.25016263433868 49.59497598113982)\n",
      "POINT (17.24674659832209 49.58128741594175)\n",
      "POINT (17.24847334435308 49.58220919421118)\n"
     ]
    }
   ],
   "source": [
    "print(ol_gdf_official_destinations_clipped.loc[0, \"geometry\"])\n",
    "print(ol_gdf_official_destinations_clipped.loc[2, \"geometry\"])\n",
    "print(ol_gdf_official_destinations_clipped.loc[4, \"geometry\"])\n",
    "print(ol_gdf_official_destinations_clipped.loc[5, \"geometry\"])\n",
    "print(ol_gdf_official_destinations_clipped.loc[8, \"geometry\"])\n",
    "print(ol_gdf_official_destinations_clipped.loc[9, \"geometry\"])\n",
    "print(ol_gdf_official_destinations_clipped.loc[14, \"geometry\"])\n",
    "print(ol_gdf_official_destinations_clipped.loc[15, \"geometry\"])\n",
    "print(ol_gdf_official_destinations_clipped.loc[16, \"geometry\"])\n",
    "print(ol_gdf_official_destinations_clipped.loc[17, \"geometry\"])\n",
    "print(ol_gdf_official_destinations_clipped.loc[23, \"geometry\"])\n",
    "print(ol_gdf_official_destinations_clipped.loc[29, \"geometry\"])\n",
    "print(ol_gdf_official_destinations_clipped.loc[31, \"geometry\"])\n",
    "print(ol_gdf_official_destinations_clipped.loc[36, \"geometry\"])\n",
    "print(ol_gdf_official_destinations_clipped.loc[37, \"geometry\"])\n",
    "print(ol_gdf_official_destinations_clipped.loc[39, \"geometry\"])\n",
    "print(ol_gdf_official_destinations_clipped.loc[40, \"geometry\"])\n",
    "print(ol_gdf_official_destinations_clipped.loc[42, \"geometry\"])\n",
    "print(ol_gdf_official_destinations_clipped.loc[47, \"geometry\"])\n",
    "print(ol_gdf_official_destinations_clipped.loc[48, \"geometry\"])"
   ]
  },
  {
   "cell_type": "markdown",
   "metadata": {},
   "source": [
    "# Sao Paulo"
   ]
  },
  {
   "cell_type": "code",
   "execution_count": 13,
   "metadata": {},
   "outputs": [],
   "source": [
    "sp_osm_buffer_gpkg_path = \"data/sao_paulo/sao_paulo_br_2019_1600m_buffer.gpkg\"\n",
    "sp_official_dests_filepath = \"data/sao_paulo/SP_Freshfood_merged\"\n",
    "sp_destinations_column = \"eq_classe\"\n",
    "sp_destinations_values = [\"MERCADOS MUNICIPAIS\", \"SACOLÃƒO\"]"
   ]
  },
  {
   "cell_type": "code",
   "execution_count": 14,
   "metadata": {},
   "outputs": [
    {
     "name": "stdout",
     "output_type": "stream",
     "text": [
      "2020-09-28 01:09:22 loaded study area boundary\n",
      "2020-09-28 01:09:29 loaded and filtered official destinations shapefile\n",
      "2020-09-28 01:09:30 loaded osm destinations shapefile\n",
      "2020-09-28 01:09:30 projected official destinations\n",
      "2020-09-28 01:09:30 clipped osm/official destinations to study area boundary\n"
     ]
    }
   ],
   "source": [
    "# load the study area boundary as a shapely (multi)polygon\n",
    "sp_gdf_study_area = gpd.read_file(sp_osm_buffer_gpkg_path, layer=\"urban_study_region\")\n",
    "sp_study_area = sp_gdf_study_area[\"geometry\"].iloc[0]\n",
    "print(ox.ts(), \"loaded study area boundary\")\n",
    "\n",
    "# load the entire geopackage\n",
    "sp_geopackage = gpd.read_file(sp_osm_buffer_gpkg_path)\n",
    "\n",
    "# load the official destinations shapefile\n",
    "# retain only rows with desired values in the destinations column\n",
    "sp_gdf_official_destinations = gpd.read_file(sp_official_dests_filepath)\n",
    "sp_mask = sp_gdf_official_destinations[sp_destinations_column].isin(sp_destinations_values)\n",
    "sp_gdf_official_destinations = sp_gdf_official_destinations[sp_mask]\n",
    "print(ox.ts(), \"loaded and filtered official destinations shapefile\")\n",
    "\n",
    "# load the osm destinations shapefile\n",
    "sp_gdf_osm = gpd.read_file(sp_osm_buffer_gpkg_path, layer=\"destinations\")\n",
    "sp_gdf_osm_destinations = sp_gdf_osm[sp_gdf_osm[\"dest_name\"] == \"fresh_food_market\"]\n",
    "print(ox.ts(), \"loaded osm destinations shapefile\")\n",
    "\n",
    "# project the data to a common crs\n",
    "sp_crs = sp_gdf_study_area.crs\n",
    "if sp_geopackage.crs != sp_crs:\n",
    "    sp_geopackage = sp_geopackage.to_crs(sp_crs)\n",
    "    print(ox.ts(), \"projected geopackage\")\n",
    "if sp_gdf_official_destinations.crs != sp_crs:\n",
    "    sp_gdf_official_destinations = sp_gdf_official_destinations.to_crs(sp_crs)\n",
    "    print(ox.ts(), \"projected official destinations\")\n",
    "if sp_gdf_osm_destinations.crs != sp_crs:\n",
    "    sp_gdf_osm_destinations = sp_gdf_osm_destinations.to_crs(sp_crs)\n",
    "    print(ox.ts(), \"projected osm destinations\")\n",
    "\n",
    "# spatially clip the destinationss to the study area boundary\n",
    "import warnings\n",
    "\n",
    "warnings.filterwarnings(\"ignore\", \"GeoSeries.notna\", UserWarning)  # temp warning suppression\n",
    "sp_gdf_osm_destinations_clipped = gpd.clip(sp_gdf_osm_destinations, sp_study_area)\n",
    "sp_gdf_official_destinations_clipped = gpd.clip(sp_gdf_official_destinations, sp_study_area)\n",
    "print(ox.ts(), \"clipped osm/official destinations to study area boundary\")\n",
    "\n",
    "# double-check everything has same CRS, then return\n",
    "assert (\n",
    "    sp_gdf_study_area.crs\n",
    "    == sp_geopackage.crs\n",
    "    == sp_gdf_osm_destinations_clipped.crs\n",
    "    == sp_gdf_official_destinations_clipped.crs\n",
    ")\n",
    "# returns sp_study_area, sp_geopackage, sp_gdf_osm_destinations_clipped, sp_gdf_official_destinations_clipped"
   ]
  },
  {
   "cell_type": "code",
   "execution_count": 15,
   "metadata": {},
   "outputs": [
    {
     "name": "stderr",
     "output_type": "stream",
     "text": [
      "/opt/conda/lib/python3.7/site-packages/pyproj/crs/crs.py:53: FutureWarning: '+init=<authority>:<code>' syntax is deprecated. '<authority>:<code>' is the preferred initialization method. When making the change, be mindful of axis order changes: https://pyproj4.github.io/pyproj/stable/gotchas.html#axis-order-changes-in-proj-6\n",
      "  return _prepare_from_string(\" \".join(pjargs))\n",
      "/opt/conda/lib/python3.7/site-packages/pyproj/crs/crs.py:53: FutureWarning: '+init=<authority>:<code>' syntax is deprecated. '<authority>:<code>' is the preferred initialization method. When making the change, be mindful of axis order changes: https://pyproj4.github.io/pyproj/stable/gotchas.html#axis-order-changes-in-proj-6\n",
      "  return _prepare_from_string(\" \".join(pjargs))\n"
     ]
    }
   ],
   "source": [
    "sp_gdf_osm_destinations_clipped = sp_gdf_osm_destinations_clipped.to_crs(crs)\n",
    "sp_gdf_official_destinations_clipped = sp_gdf_official_destinations_clipped.to_crs(crs)"
   ]
  },
  {
   "cell_type": "code",
   "execution_count": 16,
   "metadata": {},
   "outputs": [
    {
     "name": "stdout",
     "output_type": "stream",
     "text": [
      "(1562, 6)\n"
     ]
    }
   ],
   "source": [
    "sp_gdf_osm_destinations_clipped = sp_gdf_osm_destinations_clipped.reset_index()\n",
    "print(sp_gdf_osm_destinations_clipped.shape)"
   ]
  },
  {
   "cell_type": "code",
   "execution_count": 17,
   "metadata": {},
   "outputs": [
    {
     "name": "stdout",
     "output_type": "stream",
     "text": [
      "{129, 967, 522, 1165, 241, 275, 1014, 1558, 920, 1334}\n"
     ]
    }
   ],
   "source": [
    "# Randomly select 20 destinations from the destinations derived from the OSM dataset for Sao Paulo\n",
    "# The first 10 destinations were selected using a random seed (random.choices), and therefore are not replicable, they are listed below\n",
    "# This cell finds 10 additional unique destiations\n",
    "# The 10 destinations that were found from a random seed are\n",
    "# 475, 1269, 179, 808, 440, 19, 686, 289, 708, 1063\n",
    "random.seed(1)   \n",
    "sp_osm_set = set()\n",
    "for dest in range(10):\n",
    "    dest = random.randint(0,1562)\n",
    "    sp_osm_set.add(dest)\n",
    "print(sp_osm_set)"
   ]
  },
  {
   "cell_type": "code",
   "execution_count": 18,
   "metadata": {},
   "outputs": [
    {
     "name": "stdout",
     "output_type": "stream",
     "text": [
      "POINT (-46.7819685 -23.6580963)\n",
      "POINT (-46.7048266 -23.6111952)\n",
      "POINT (-46.6923831 -23.5672164)\n",
      "POINT (-46.6360213 -23.61760680000001)\n",
      "POINT (-46.6047713 -23.63076639999999)\n",
      "POINT (-46.6402969 -23.5974519)\n",
      "POINT (-46.58094 -23.59129689999999)\n",
      "POINT (-46.4819764 -23.60342589999999)\n",
      "POINT (-46.6704075 -23.53567250000001)\n",
      "POINT (-46.5953604 -23.5502743)\n",
      "POINT (-46.6176659 -23.52998279999998)\n",
      "POINT (-46.6218692 -23.4815398)\n",
      "POINT (-46.5815645 -23.48931629999999)\n",
      "POINT (-46.4541466 -23.5147727)\n",
      "POINT (-46.77058315000711 -23.68497145002759)\n",
      "POINT (-46.69984489874574 -23.65016003306899)\n",
      "POINT (-46.61851197964082 -23.61899347715126)\n",
      "POINT (-46.69708051161243 -23.49417908854859)\n",
      "POINT (-46.62970289984809 -23.54206214767827)\n",
      "POINT (-46.38775618882573 -23.52180978440611)\n"
     ]
    }
   ],
   "source": [
    "print(sp_gdf_osm_destinations_clipped.loc[19, \"geometry\"])\n",
    "print(sp_gdf_osm_destinations_clipped.loc[129, \"geometry\"])\n",
    "print(sp_gdf_osm_destinations_clipped.loc[179, \"geometry\"])\n",
    "print(sp_gdf_osm_destinations_clipped.loc[241, \"geometry\"])\n",
    "print(sp_gdf_osm_destinations_clipped.loc[275, \"geometry\"])\n",
    "print(sp_gdf_osm_destinations_clipped.loc[289, \"geometry\"])\n",
    "print(sp_gdf_osm_destinations_clipped.loc[440, \"geometry\"])\n",
    "print(sp_gdf_osm_destinations_clipped.loc[475, \"geometry\"])\n",
    "print(sp_gdf_osm_destinations_clipped.loc[522, \"geometry\"])\n",
    "print(sp_gdf_osm_destinations_clipped.loc[686, \"geometry\"])\n",
    "print(sp_gdf_osm_destinations_clipped.loc[708, \"geometry\"])\n",
    "print(sp_gdf_osm_destinations_clipped.loc[808, \"geometry\"])\n",
    "print(sp_gdf_osm_destinations_clipped.loc[920, \"geometry\"])\n",
    "print(sp_gdf_osm_destinations_clipped.loc[967, \"geometry\"])\n",
    "print(sp_gdf_osm_destinations_clipped.loc[1014, \"geometry\"])\n",
    "print(sp_gdf_osm_destinations_clipped.loc[1063, \"geometry\"])\n",
    "print(sp_gdf_osm_destinations_clipped.loc[1165, \"geometry\"])\n",
    "print(sp_gdf_osm_destinations_clipped.loc[1269, \"geometry\"])\n",
    "print(sp_gdf_osm_destinations_clipped.loc[1334, \"geometry\"])\n",
    "print(sp_gdf_osm_destinations_clipped.loc[1558, \"geometry\"])"
   ]
  },
  {
   "cell_type": "code",
   "execution_count": 19,
   "metadata": {},
   "outputs": [
    {
     "name": "stdout",
     "output_type": "stream",
     "text": [
      "(34, 24)\n"
     ]
    }
   ],
   "source": [
    "sp_gdf_official_destinations_clipped = sp_gdf_official_destinations_clipped.reset_index()\n",
    "print(sp_gdf_official_destinations_clipped.shape)"
   ]
  },
  {
   "cell_type": "code",
   "execution_count": 20,
   "metadata": {},
   "outputs": [
    {
     "name": "stdout",
     "output_type": "stream",
     "text": [
      "{2, 3, 5, 10, 13, 16, 19, 23, 25, 27}\n"
     ]
    }
   ],
   "source": [
    "# Randomly select 20 destinations from the destinations derived from the Official dataset for Sao Paulo\n",
    "# The first 10 destinations were selected using a random seed (random.choices), and therefore are not replicable, they are listed below\n",
    "# This cell finds 10 additional unique destiations\n",
    "# The 10 destinations that were found from a random seed are\n",
    "# 20, 17, 28, 7, 29, 26, 11, 24, 30, 6\n",
    "random.seed(2)   \n",
    "sp_off_set = set()\n",
    "for dest in range(12):\n",
    "    dest = random.randint(0,34)\n",
    "    sp_off_set.add(dest)\n",
    "print(sp_off_set)"
   ]
  },
  {
   "cell_type": "code",
   "execution_count": 21,
   "metadata": {},
   "outputs": [
    {
     "name": "stdout",
     "output_type": "stream",
     "text": [
      "POINT (-46.69248703101302 -23.56565530129838)\n",
      "POINT (-46.43968056681558 -23.49357070584416)\n",
      "POINT (-46.60040132979196 -23.5972277401266)\n",
      "POINT (-46.54565477619595 -23.56641375048255)\n",
      "POINT (-46.61189898025206 -23.48147023661034)\n",
      "POINT (-46.70008929237225 -23.65058769324573)\n",
      "POINT (-46.41081158721061 -23.54280009501386)\n",
      "POINT (-46.52262365415542 -23.5968509429958)\n",
      "POINT (-46.76067057259279 -23.57081716163365)\n",
      "POINT (-46.76058029229463 -23.48934579771526)\n",
      "POINT (-46.74230177310341 -23.6736266747205)\n",
      "POINT (-46.69794971612233 -23.47434591257144)\n",
      "POINT (-46.43912461284087 -23.49429175409668)\n",
      "POINT (-46.77614003675547 -23.66768654891171)\n",
      "POINT (-46.67479183245619 -23.56469638564992)\n",
      "POINT (-46.64681055100298 -23.55100540556737)\n",
      "POINT (-46.64558758305883 -23.56347946547715)\n",
      "POINT (-46.69818786150953 -23.51602109851548)\n",
      "POINT (-46.70038334358041 -23.65101669679036)\n",
      "POINT (-46.73817144274712 -23.58792930436906)\n"
     ]
    }
   ],
   "source": [
    "print(sp_gdf_official_destinations_clipped.loc[2, \"geometry\"])\n",
    "print(sp_gdf_official_destinations_clipped.loc[3, \"geometry\"])\n",
    "print(sp_gdf_official_destinations_clipped.loc[5, \"geometry\"])\n",
    "print(sp_gdf_official_destinations_clipped.loc[6, \"geometry\"])\n",
    "print(sp_gdf_official_destinations_clipped.loc[7, \"geometry\"])\n",
    "print(sp_gdf_official_destinations_clipped.loc[10, \"geometry\"])\n",
    "print(sp_gdf_official_destinations_clipped.loc[11, \"geometry\"])\n",
    "print(sp_gdf_official_destinations_clipped.loc[13, \"geometry\"])\n",
    "print(sp_gdf_official_destinations_clipped.loc[16, \"geometry\"])\n",
    "print(sp_gdf_official_destinations_clipped.loc[17, \"geometry\"])\n",
    "print(sp_gdf_official_destinations_clipped.loc[19, \"geometry\"])\n",
    "print(sp_gdf_official_destinations_clipped.loc[20, \"geometry\"])\n",
    "print(sp_gdf_official_destinations_clipped.loc[23, \"geometry\"])\n",
    "print(sp_gdf_official_destinations_clipped.loc[24, \"geometry\"])\n",
    "print(sp_gdf_official_destinations_clipped.loc[25, \"geometry\"])\n",
    "print(sp_gdf_official_destinations_clipped.loc[26, \"geometry\"])\n",
    "print(sp_gdf_official_destinations_clipped.loc[27, \"geometry\"])\n",
    "print(sp_gdf_official_destinations_clipped.loc[28, \"geometry\"])\n",
    "print(sp_gdf_official_destinations_clipped.loc[29, \"geometry\"])\n",
    "print(sp_gdf_official_destinations_clipped.loc[30, \"geometry\"])"
   ]
  },
  {
   "cell_type": "code",
   "execution_count": null,
   "metadata": {},
   "outputs": [],
   "source": []
  }
 ],
 "metadata": {
  "kernelspec": {
   "display_name": "Python (GlobalInd)",
   "language": "python",
   "name": "globalind"
  },
  "language_info": {
   "codemirror_mode": {
    "name": "ipython",
    "version": 3
   },
   "file_extension": ".py",
   "mimetype": "text/x-python",
   "name": "python",
   "nbconvert_exporter": "python",
   "pygments_lexer": "ipython3",
   "version": "3.7.6"
  }
 },
 "nbformat": 4,
 "nbformat_minor": 4
}
