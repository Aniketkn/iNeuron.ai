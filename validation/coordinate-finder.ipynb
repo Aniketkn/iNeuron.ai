{
 "cells": [
  {
   "cell_type": "code",
   "execution_count": null,
   "metadata": {},
   "outputs": [],
   "source": [
    "import json\n",
    "import os\n",
    "import geopandas as gpd\n",
    "import matplotlib.pyplot as plt\n",
    "import pandas as pd\n",
    "import osmnx as ox\n",
    "import random"
   ]
  },
  {
   "cell_type": "code",
   "execution_count": null,
   "metadata": {},
   "outputs": [],
   "source": [
    "ol_osm_buffer_gpkg_path = \"data/olomouc/olomouc_cz_2019_1600m_buffer.gpkg\"\n",
    "ol_official_dests_filepath = \"data/olomouc/olomouc_supermarkets_2018\"\n",
    "ol_destinations_column = \"OBJECTID\"\n",
    "ol_destinations_values = [\"1\", \"2\", \"3\", \"4\", \"5\", \"6\", \"7\", \"8\", \"9\", \"10\", \"11\", \"12\", \"13\", \"14\", \"15\", \"16\", \"17\", \"18\", \"19\", \"20\", \"21\", \"22\", \"23\", \"24\", \"25\", \"26\", \"27\", \"28\", \"29\", \"30\", \"31\", \"32\", \"33\", \"34\", \"35\", \"36\", \"37\", \"38\", \"39\", \"40\", \"41\", \"42\", \"43\", \"44\", \"45\", \"46\", \"47\", \"48\", \"49\", \"50\", \"51\", \"52\", \"53\", \"54\", \"55\", \"56\", \"57\", \"58\", \"59\", \"60\", \"61\", \"62\", \"63\"]\n",
    "crs = {'init': 'epsg:4326'}"
   ]
  },
  {
   "cell_type": "code",
   "execution_count": null,
   "metadata": {},
   "outputs": [],
   "source": [
    "# load the study area boundary as a shapely (multi)polygon\n",
    "ol_gdf_study_area = gpd.read_file(ol_osm_buffer_gpkg_path, layer=\"urban_study_region\")\n",
    "ol_study_area = ol_gdf_study_area[\"geometry\"].iloc[0]\n",
    "print(ox.ts(), \"loaded study area boundary\")\n",
    "\n",
    "# load the entire geopackage\n",
    "ol_geopackage = gpd.read_file(ol_osm_buffer_gpkg_path)\n",
    "\n",
    "# load the official destinations shapefile\n",
    "# retain only rows with desired values in the destinations column\n",
    "ol_gdf_official_destinations = gpd.read_file(ol_official_dests_filepath)\n",
    "ol_mask = ol_gdf_official_destinations[ol_destinations_column].isin(ol_destinations_values)\n",
    "ol_gdf_official_destinations = ol_gdf_official_destinations[ol_mask]\n",
    "print(ox.ts(), \"loaded and filtered official destinations shapefile\")\n",
    "\n",
    "# load the osm destinations shapefile\n",
    "ol_gdf_osm = gpd.read_file(ol_osm_buffer_gpkg_path, layer=\"destinations\")\n",
    "ol_gdf_osm_destinations = ol_gdf_osm[ol_gdf_osm[\"dest_name\"] == \"fresh_food_market\"]\n",
    "print(ox.ts(), \"loaded osm destinations shapefile\")\n",
    "\n",
    "# project the data to a common crs\n",
    "ol_crs = ol_gdf_study_area.crs\n",
    "if ol_geopackage.crs != ol_crs:\n",
    "    ol_geopackage = ol_geopackage.to_crs(ol_crs)\n",
    "    print(ox.ts(), \"projected geopackage\")\n",
    "if ol_gdf_official_destinations.crs != ol_crs:\n",
    "    ol_gdf_official_destinations = ol_gdf_official_destinations.to_crs(ol_crs)\n",
    "    print(ox.ts(), \"projected official destinations\")\n",
    "if ol_gdf_osm_destinations.crs != ol_crs:\n",
    "    ol_gdf_osm_destinations = ol_gdf_osm_destinations.to_crs(ol_crs)\n",
    "    print(ox.ts(), \"projected osm destinations\")\n",
    "\n",
    "# spatially clip the destinationss to the study area boundary\n",
    "import warnings\n",
    "\n",
    "warnings.filterwarnings(\"ignore\", \"GeoSeries.notna\", UserWarning)  # temp warning suppression\n",
    "ol_gdf_osm_destinations_clipped = gpd.clip(ol_gdf_osm_destinations, ol_study_area)\n",
    "ol_gdf_official_destinations_clipped = gpd.clip(ol_gdf_official_destinations, ol_study_area)\n",
    "print(ox.ts(), \"clipped osm/official destinations to study area boundary\")\n",
    "\n",
    "# double-check everything has same CRS, then return\n",
    "assert (\n",
    "    ol_gdf_study_area.crs\n",
    "    == ol_geopackage.crs\n",
    "    == ol_gdf_osm_destinations_clipped.crs\n",
    "    == ol_gdf_official_destinations_clipped.crs\n",
    ")\n",
    "# returns ol_study_area, ol_geopackage, ol_gdf_osm_destinations_clipped, ol_gdf_official_destinations_clipped"
   ]
  },
  {
   "cell_type": "code",
   "execution_count": null,
   "metadata": {},
   "outputs": [],
   "source": [
    "ol_gdf_osm_destinations_clipped = ol_gdf_osm_destinations_clipped.to_crs(crs)\n",
    "ol_gdf_official_destinations_clipped = ol_gdf_official_destinations_clipped.to_crs(crs)"
   ]
  },
  {
   "cell_type": "code",
   "execution_count": null,
   "metadata": {},
   "outputs": [],
   "source": [
    "ol_gdf_osm_destinations_clipped = ol_gdf_osm_destinations_clipped.reset_index()\n",
    "print(ol_gdf_osm_destinations_clipped.shape)"
   ]
  },
  {
   "cell_type": "code",
   "execution_count": null,
   "metadata": {},
   "outputs": [],
   "source": [
    "ol_list1 = (range(60))\n",
    "sampling = random.choices(ol_list1, k=10)\n",
    "print(\"Randomly selected multiple choices using random.choices() \", sampling)\n",
    "# Randomly selected multiple choices using random.choices()  [22, 49, 51, 57, 47, 48, 4, 36, 3, 17]"
   ]
  },
  {
   "cell_type": "code",
   "execution_count": null,
   "metadata": {},
   "outputs": [],
   "source": [
    "print(ol_gdf_osm_destinations_clipped.loc[22, \"geometry\"])\n",
    "print(ol_gdf_osm_destinations_clipped.loc[49, \"geometry\"])\n",
    "print(ol_gdf_osm_destinations_clipped.loc[51, \"geometry\"])\n",
    "print(ol_gdf_osm_destinations_clipped.loc[57, \"geometry\"])\n",
    "print(ol_gdf_osm_destinations_clipped.loc[47, \"geometry\"])\n",
    "print(ol_gdf_osm_destinations_clipped.loc[46, \"geometry\"])\n",
    "print(ol_gdf_osm_destinations_clipped.loc[4, \"geometry\"])\n",
    "print(ol_gdf_osm_destinations_clipped.loc[36, \"geometry\"])\n",
    "print(ol_gdf_osm_destinations_clipped.loc[3, \"geometry\"])\n",
    "print(ol_gdf_osm_destinations_clipped.loc[17, \"geometry\"])"
   ]
  },
  {
   "cell_type": "code",
   "execution_count": null,
   "metadata": {},
   "outputs": [],
   "source": [
    "ol_gdf_official_destinations_clipped = ol_gdf_official_destinations_clipped.reset_index()\n",
    "print(ol_gdf_official_destinations_clipped.shape)"
   ]
  },
  {
   "cell_type": "code",
   "execution_count": null,
   "metadata": {},
   "outputs": [],
   "source": [
    "ol_list2 = (range(50))\n",
    "sampling = random.choices(ol_list2, k=10)\n",
    "print(\"Randomly selected multiple choices using random.choices() \", sampling)\n",
    "# Randomly selected multiple choices using random.choices()  [15, 47, 4, 14, 17, 39, 23, 29, 40, 8]"
   ]
  },
  {
   "cell_type": "code",
   "execution_count": null,
   "metadata": {},
   "outputs": [],
   "source": [
    "print(ol_gdf_official_destinations_clipped.loc[15, \"geometry\"])\n",
    "print(ol_gdf_official_destinations_clipped.loc[47, \"geometry\"])\n",
    "print(ol_gdf_official_destinations_clipped.loc[4, \"geometry\"])\n",
    "print(ol_gdf_official_destinations_clipped.loc[14, \"geometry\"])\n",
    "print(ol_gdf_official_destinations_clipped.loc[17, \"geometry\"])\n",
    "print(ol_gdf_official_destinations_clipped.loc[39, \"geometry\"])\n",
    "print(ol_gdf_official_destinations_clipped.loc[23, \"geometry\"])\n",
    "print(ol_gdf_official_destinations_clipped.loc[29, \"geometry\"])\n",
    "print(ol_gdf_official_destinations_clipped.loc[40, \"geometry\"])\n",
    "print(ol_gdf_official_destinations_clipped.loc[8, \"geometry\"])"
   ]
  },
  {
   "cell_type": "markdown",
   "metadata": {},
   "source": [
    "# Sao Paulo"
   ]
  },
  {
   "cell_type": "code",
   "execution_count": null,
   "metadata": {},
   "outputs": [],
   "source": [
    "sp_osm_buffer_gpkg_path = \"data/sao_paulo/sao_paulo_br_2019_1600m_buffer.gpkg\"\n",
    "sp_official_dests_filepath = \"data/sao_paulo/SP_Freshfood_merged\"\n",
    "sp_destinations_column = \"eq_classe\"\n",
    "sp_destinations_values = [\"MERCADOS MUNICIPAIS\", \"SACOLÃƒO\"]"
   ]
  },
  {
   "cell_type": "code",
   "execution_count": null,
   "metadata": {},
   "outputs": [],
   "source": [
    "# load the study area boundary as a shapely (multi)polygon\n",
    "sp_gdf_study_area = gpd.read_file(sp_osm_buffer_gpkg_path, layer=\"urban_study_region\")\n",
    "sp_study_area = sp_gdf_study_area[\"geometry\"].iloc[0]\n",
    "print(ox.ts(), \"loaded study area boundary\")\n",
    "\n",
    "# load the entire geopackage\n",
    "sp_geopackage = gpd.read_file(sp_osm_buffer_gpkg_path)\n",
    "\n",
    "# load the official destinations shapefile\n",
    "# retain only rows with desired values in the destinations column\n",
    "sp_gdf_official_destinations = gpd.read_file(sp_official_dests_filepath)\n",
    "sp_mask = sp_gdf_official_destinations[sp_destinations_column].isin(sp_destinations_values)\n",
    "sp_gdf_official_destinations = sp_gdf_official_destinations[sp_mask]\n",
    "print(ox.ts(), \"loaded and filtered official destinations shapefile\")\n",
    "\n",
    "# load the osm destinations shapefile\n",
    "sp_gdf_osm = gpd.read_file(sp_osm_buffer_gpkg_path, layer=\"destinations\")\n",
    "sp_gdf_osm_destinations = sp_gdf_osm[sp_gdf_osm[\"dest_name\"] == \"fresh_food_market\"]\n",
    "print(ox.ts(), \"loaded osm destinations shapefile\")\n",
    "\n",
    "# project the data to a common crs\n",
    "sp_crs = sp_gdf_study_area.crs\n",
    "if sp_geopackage.crs != sp_crs:\n",
    "    sp_geopackage = sp_geopackage.to_crs(sp_crs)\n",
    "    print(ox.ts(), \"projected geopackage\")\n",
    "if sp_gdf_official_destinations.crs != sp_crs:\n",
    "    sp_gdf_official_destinations = sp_gdf_official_destinations.to_crs(sp_crs)\n",
    "    print(ox.ts(), \"projected official destinations\")\n",
    "if sp_gdf_osm_destinations.crs != sp_crs:\n",
    "    sp_gdf_osm_destinations = sp_gdf_osm_destinations.to_crs(sp_crs)\n",
    "    print(ox.ts(), \"projected osm destinations\")\n",
    "\n",
    "# spatially clip the destinationss to the study area boundary\n",
    "import warnings\n",
    "\n",
    "warnings.filterwarnings(\"ignore\", \"GeoSeries.notna\", UserWarning)  # temp warning suppression\n",
    "sp_gdf_osm_destinations_clipped = gpd.clip(sp_gdf_osm_destinations, sp_study_area)\n",
    "sp_gdf_official_destinations_clipped = gpd.clip(sp_gdf_official_destinations, sp_study_area)\n",
    "print(ox.ts(), \"clipped osm/official destinations to study area boundary\")\n",
    "\n",
    "# double-check everything has same CRS, then return\n",
    "assert (\n",
    "    sp_gdf_study_area.crs\n",
    "    == sp_geopackage.crs\n",
    "    == sp_gdf_osm_destinations_clipped.crs\n",
    "    == sp_gdf_official_destinations_clipped.crs\n",
    ")\n",
    "# returns sp_study_area, sp_geopackage, sp_gdf_osm_destinations_clipped, sp_gdf_official_destinations_clipped"
   ]
  },
  {
   "cell_type": "code",
   "execution_count": null,
   "metadata": {},
   "outputs": [],
   "source": [
    "sp_gdf_osm_destinations_clipped = sp_gdf_osm_destinations_clipped.to_crs(crs)\n",
    "sp_gdf_official_destinations_clipped = sp_gdf_official_destinations_clipped.to_crs(crs)"
   ]
  },
  {
   "cell_type": "code",
   "execution_count": null,
   "metadata": {},
   "outputs": [],
   "source": [
    "sp_gdf_osm_destinations_clipped = sp_gdf_osm_destinations_clipped.reset_index()\n",
    "print(sp_gdf_osm_destinations_clipped.shape)"
   ]
  },
  {
   "cell_type": "code",
   "execution_count": null,
   "metadata": {},
   "outputs": [],
   "source": [
    "sp_list1 = (range(1562))\n",
    "sampling = random.choices(sp_list1, k=10)\n",
    "print(\"Randomly selected multiple choices using random.choices() \", sampling)\n",
    "# Randomly selected multiple choices using random.choices()  [475, 1269, 179, 808, 440, 19, 686, 289, 708, 1063]"
   ]
  },
  {
   "cell_type": "code",
   "execution_count": null,
   "metadata": {},
   "outputs": [],
   "source": [
    "print(sp_gdf_osm_destinations_clipped.loc[475, \"geometry\"])\n",
    "print(sp_gdf_osm_destinations_clipped.loc[1279, \"geometry\"])\n",
    "print(sp_gdf_osm_destinations_clipped.loc[179, \"geometry\"])\n",
    "print(sp_gdf_osm_destinations_clipped.loc[808, \"geometry\"])\n",
    "print(sp_gdf_osm_destinations_clipped.loc[440, \"geometry\"])\n",
    "print(sp_gdf_osm_destinations_clipped.loc[19, \"geometry\"])\n",
    "print(sp_gdf_osm_destinations_clipped.loc[686, \"geometry\"])\n",
    "print(sp_gdf_osm_destinations_clipped.loc[289, \"geometry\"])\n",
    "print(sp_gdf_osm_destinations_clipped.loc[708, \"geometry\"])\n",
    "print(sp_gdf_osm_destinations_clipped.loc[1063, \"geometry\"])\n"
   ]
  },
  {
   "cell_type": "code",
   "execution_count": null,
   "metadata": {},
   "outputs": [],
   "source": [
    "sp_gdf_official_destinations_clipped = sp_gdf_official_destinations_clipped.reset_index()\n",
    "print(sp_gdf_official_destinations_clipped.shape)"
   ]
  },
  {
   "cell_type": "code",
   "execution_count": null,
   "metadata": {},
   "outputs": [],
   "source": [
    "sp_list2 = (range(34))\n",
    "sampling = random.choices(sp_list2, k=10)\n",
    "print(\"Randomly selected multiple choices using random.choices() \", sampling)\n",
    "# Randomly selected multiple choices using random.choices()  [19, 16, 28, 7, 29, 25, 11, 23, 30, 6]"
   ]
  },
  {
   "cell_type": "code",
   "execution_count": null,
   "metadata": {},
   "outputs": [],
   "source": [
    "print(sp_gdf_official_destinations_clipped.loc[19, \"geometry\"])\n",
    "print(sp_gdf_official_destinations_clipped.loc[16, \"geometry\"])\n",
    "print(sp_gdf_official_destinations_clipped.loc[28, \"geometry\"])\n",
    "print(sp_gdf_official_destinations_clipped.loc[7, \"geometry\"])\n",
    "print(sp_gdf_official_destinations_clipped.loc[29, \"geometry\"])\n",
    "print(sp_gdf_official_destinations_clipped.loc[25, \"geometry\"])\n",
    "print(sp_gdf_official_destinations_clipped.loc[11, \"geometry\"])\n",
    "print(sp_gdf_official_destinations_clipped.loc[23, \"geometry\"])\n",
    "print(sp_gdf_official_destinations_clipped.loc[30, \"geometry\"])\n",
    "print(sp_gdf_official_destinations_clipped.loc[6, \"geometry\"])\n"
   ]
  },
  {
   "cell_type": "code",
   "execution_count": null,
   "metadata": {},
   "outputs": [],
   "source": [
    "gdf_official_destinations = gpd.read_file(sp_official_dests_filepath)\n"
   ]
  },
  {
   "cell_type": "code",
   "execution_count": null,
   "metadata": {},
   "outputs": [],
   "source": [
    "gdf_official_destinations"
   ]
  },
  {
   "cell_type": "code",
   "execution_count": null,
   "metadata": {},
   "outputs": [],
   "source": []
  }
 ],
 "metadata": {
  "kernelspec": {
   "display_name": "Python (GlobalInd)",
   "language": "python",
   "name": "globalind"
  },
  "language_info": {
   "codemirror_mode": {
    "name": "ipython",
    "version": 3
   },
   "file_extension": ".py",
   "mimetype": "text/x-python",
   "name": "python",
   "nbconvert_exporter": "python",
   "pygments_lexer": "ipython3",
   "version": "3.7.6"
  }
 },
 "nbformat": 4,
 "nbformat_minor": 4
}
