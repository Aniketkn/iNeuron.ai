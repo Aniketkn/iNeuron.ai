{
 "cells": [
  {
   "cell_type": "code",
   "execution_count": 4,
   "metadata": {},
   "outputs": [],
   "source": [
    "import geopandas as gpd\n",
    "import numpy as np\n",
    "import matplotlib.pyplot as plt\n",
    "from geopy.distance import great_circle\n",
    "import os"
   ]
  },
  {
   "cell_type": "code",
   "execution_count": 5,
   "metadata": {},
   "outputs": [
    {
     "name": "stdout",
     "output_type": "stream",
     "text": [
      "number of OSM points:  124\n",
      "number of Official points:  1479\n"
     ]
    }
   ],
   "source": [
    "official_filename = \"Restaurant_and_Food_Related.shp\"\n",
    "OSM_filename = \"belfast_gb_2019_1600m_buffer.gpkg\"\n",
    "POIs_name = \"fresh_food_market\"\n",
    "\n",
    "gdf = gpd.read_file(OSM_filename, layer='destinations')\n",
    "gdf_osm = gdf[gdf['dest_name']==POIs_name]\n",
    "gdf_official = gpd.GeoDataFrame.from_file(official_filename)\n",
    "print(\"number of OSM points: \" ,len(gdf_osm))\n",
    "print(\"number of Official points: \", len(gdf_official))\n"
   ]
  },
  {
   "cell_type": "code",
   "execution_count": 6,
   "metadata": {},
   "outputs": [
    {
     "name": "stdout",
     "output_type": "stream",
     "text": [
      "epsg:29903\n"
     ]
    }
   ],
   "source": [
    "#Project gdf_osm to the crs of the official layer\n",
    "gdf_osm = gdf_osm.to_crs(gdf_official.crs)\n",
    "print(gdf_osm.crs)"
   ]
  },
  {
   "cell_type": "code",
   "execution_count": 8,
   "metadata": {},
   "outputs": [
    {
     "name": "stdout",
     "output_type": "stream",
     "text": [
      "File exist\n"
     ]
    }
   ],
   "source": [
    "#Write data to shapefile\n",
    "from os.path import join as pjoin\n",
    "filename = \"belfast_poi_official.shp\"\n",
    "path_to_file = pjoin(\"output\", filename)\n",
    "\n",
    "if os.path.isfile(path_to_file):\n",
    "    print (\"File exist\")\n",
    "else:\n",
    "    gdf_official.to_file(path_to_file)\n",
    "    \n",
    "filename = \"belfast_poi_osm.shp\"\n",
    "path_to_file = pjoin(\"output\", filename)\n",
    "#gdf_osm = pd.merge(gdf_osm, gdf_osm.bounds, left_index=True, right_index=True)\n",
    "\n",
    "\n",
    "if os.path.isfile(path_to_file):\n",
    "    print (\"File exist\")\n",
    "else:\n",
    "    gdf_osm.to_file(path_to_file)\n"
   ]
  },
  {
   "cell_type": "code",
   "execution_count": 9,
   "metadata": {},
   "outputs": [
    {
     "name": "stdout",
     "output_type": "stream",
     "text": [
      "number of intersection items:  26\n",
      "Percentage:  20.967741935483872\n"
     ]
    }
   ],
   "source": [
    "#Calculate number of gdf_osm intersect with gdf_official\n",
    "mask1 = gdf_osm['geometry'].intersects(gdf_official['geometry'].unary_union)\n",
    "\n",
    "print(\"number of intersection items: \",len(gdf_osm[mask1]))\n",
    "print(\"Percentage: \",len(gdf_osm[mask1])*100/len(gdf_osm) )"
   ]
  },
  {
   "cell_type": "code",
   "execution_count": 15,
   "metadata": {},
   "outputs": [
    {
     "name": "stdout",
     "output_type": "stream",
     "text": [
      "Buffer:  5\n",
      "intersection:  95\n",
      "percent of OSM points 76.61290322580645\n",
      "intersection:  415\n",
      "percent of Official Point:  28.05949966193374\n",
      "\n",
      "\n",
      "Buffer:  10\n",
      "intersection:  95\n",
      "percent of OSM points 76.61290322580645\n",
      "intersection:  456\n",
      "percent of Official Point:  30.831643002028397\n",
      "\n",
      "\n",
      "Buffer:  15\n",
      "intersection:  96\n",
      "percent of OSM points 77.41935483870968\n",
      "intersection:  513\n",
      "percent of Official Point:  34.68559837728195\n",
      "\n",
      "\n",
      "Buffer:  20\n",
      "intersection:  97\n",
      "percent of OSM points 78.2258064516129\n",
      "intersection:  588\n",
      "percent of Official Point:  39.75659229208925\n",
      "\n",
      "\n",
      "Buffer:  25\n",
      "intersection:  98\n",
      "percent of OSM points 79.03225806451613\n",
      "intersection:  680\n",
      "percent of Official Point:  45.97701149425287\n",
      "\n",
      "\n",
      "Buffer:  30\n",
      "intersection:  100\n",
      "percent of OSM points 80.64516129032258\n",
      "intersection:  781\n",
      "percent of Official Point:  52.805949966193374\n",
      "\n",
      "\n",
      "Buffer:  35\n",
      "intersection:  101\n",
      "percent of OSM points 81.45161290322581\n",
      "intersection:  887\n",
      "percent of Official Point:  59.972954699121026\n",
      "\n",
      "\n",
      "Buffer:  40\n",
      "intersection:  101\n",
      "percent of OSM points 81.45161290322581\n",
      "intersection:  967\n",
      "percent of Official Point:  65.38201487491548\n",
      "\n",
      "\n",
      "Buffer:  45\n",
      "intersection:  104\n",
      "percent of OSM points 83.87096774193549\n",
      "intersection:  1035\n",
      "percent of Official Point:  69.97971602434077\n",
      "\n",
      "\n",
      "Buffer:  50\n",
      "intersection:  105\n",
      "percent of OSM points 84.6774193548387\n",
      "intersection:  1110\n",
      "percent of Official Point:  75.05070993914808\n",
      "\n",
      "\n",
      "Buffer:  55\n",
      "intersection:  108\n",
      "percent of OSM points 87.09677419354838\n",
      "intersection:  1187\n",
      "percent of Official Point:  80.25693035835023\n",
      "\n",
      "\n",
      "Buffer:  60\n",
      "intersection:  109\n",
      "percent of OSM points 87.90322580645162\n",
      "intersection:  1246\n",
      "percent of Official Point:  84.24611223799864\n",
      "\n",
      "\n",
      "Buffer:  65\n",
      "intersection:  110\n",
      "percent of OSM points 88.70967741935483\n",
      "intersection:  1308\n",
      "percent of Official Point:  88.43813387423936\n",
      "\n",
      "\n",
      "Buffer:  70\n",
      "intersection:  110\n",
      "percent of OSM points 88.70967741935483\n",
      "intersection:  1356\n",
      "percent of Official Point:  91.68356997971603\n",
      "\n",
      "\n",
      "Buffer:  75\n",
      "intersection:  110\n",
      "percent of OSM points 88.70967741935483\n",
      "intersection:  1400\n",
      "percent of Official Point:  94.65855307640298\n",
      "\n",
      "\n",
      "Buffer:  80\n",
      "intersection:  110\n",
      "percent of OSM points 88.70967741935483\n",
      "intersection:  1432\n",
      "percent of Official Point:  96.82217714672076\n",
      "\n",
      "\n",
      "Buffer:  85\n",
      "intersection:  111\n",
      "percent of OSM points 89.51612903225806\n",
      "intersection:  1452\n",
      "percent of Official Point:  98.17444219066937\n",
      "\n",
      "\n",
      "Buffer:  90\n",
      "intersection:  112\n",
      "percent of OSM points 90.3225806451613\n",
      "intersection:  1460\n",
      "percent of Official Point:  98.71534820824881\n",
      "\n",
      "\n",
      "Buffer:  95\n",
      "intersection:  115\n",
      "percent of OSM points 92.74193548387096\n",
      "intersection:  1467\n",
      "percent of Official Point:  99.18864097363083\n",
      "\n",
      "\n"
     ]
    }
   ],
   "source": [
    "buff = 5\n",
    "percent_list = []\n",
    "percent_dict = {}\n",
    "\n",
    "while buff<100:\n",
    "    OSM_buffer = gdf_osm\n",
    "    OSM_buffer['geometry'] = OSM_buffer.geometry.buffer(buff)\n",
    "    OP_buffer =gdf_official\n",
    "    OP_buffer['geometry'] = OP_buffer.geometry.buffer(buff)\n",
    "    \n",
    "    print(\"Buffer: \", str(buff))\n",
    "    \n",
    "    #Calculate percent of OSM points within Official points 100m buffer\n",
    "    mask = gdf_osm['geometry'].intersects(OP_buffer['geometry'].unary_union)\n",
    "    print(\"intersection: \",len(gdf_osm[mask]))\n",
    "    print(\"percent of OSM points\", str(len(gdf_osm[mask])*100/len(gdf_osm)))\n",
    "    \n",
    "    #Calculate percent of Official Point within OSM points 100m buffer\n",
    "    mask = gdf_official['geometry'].intersects(OSM_buffer['geometry'].unary_union)\n",
    "    print(\"intersection: \",len(gdf_official[mask]))\n",
    "    print(\"percent of Official Point: \", str(len(gdf_official[mask])*100/len(gdf_official)))\n",
    "    print(\"\\n\")\n",
    "    \n",
    "    buff+=5\n",
    "    "
   ]
  },
  {
   "cell_type": "code",
   "execution_count": 10,
   "metadata": {},
   "outputs": [],
   "source": [
    "#Draw 100m buffer around OSM points; draw 100m buffer around official points\n",
    "OSM_buffer = gdf_osm\n",
    "OSM_buffer['geometry'] = OSM_buffer.geometry.buffer(100)\n",
    "OP_buffer =gdf_official\n",
    "OP_buffer['geometry'] = OP_buffer.geometry.buffer(100)\n"
   ]
  },
  {
   "cell_type": "code",
   "execution_count": 11,
   "metadata": {},
   "outputs": [
    {
     "name": "stdout",
     "output_type": "stream",
     "text": [
      "intersection:  95\n",
      "percent of OSM points 76.61290322580645\n"
     ]
    }
   ],
   "source": [
    "#Calculate percent of OSM points within Official points 100m buffer\n",
    "mask = gdf_osm['geometry'].intersects(OP_buffer['geometry'].unary_union)\n",
    "print(\"intersection: \",len(gdf_osm[mask]))\n",
    "print(\"percent of OSM points\", str(len(gdf_osm[mask])*100/len(gdf_osm)))"
   ]
  },
  {
   "cell_type": "code",
   "execution_count": 12,
   "metadata": {},
   "outputs": [
    {
     "name": "stdout",
     "output_type": "stream",
     "text": [
      "intersection:  392\n",
      "percent of Official Point:  26.504394861392832\n"
     ]
    }
   ],
   "source": [
    "#Calculate percent of Official Point within OSM points 100m buffer\n",
    "mask = gdf_official['geometry'].intersects(OSM_buffer['geometry'].unary_union)\n",
    "print(\"intersection: \",len(gdf_official[mask]))\n",
    "print(\"percent of Official Point: \", str(len(gdf_official[mask])*100/len(gdf_official)))"
   ]
  },
  {
   "cell_type": "code",
   "execution_count": 13,
   "metadata": {},
   "outputs": [],
   "source": [
    "#Calculate distance to all Official polygons and pick the min\n",
    "def min_distance(gdf_osm, gdf_official):\n",
    "    nearest_dists = []\n",
    "    for item in gdf_osm.geometry:\n",
    "        nearest_dist = gdf_official.distance(item).min()\n",
    "        nearest_dists.append(nearest_dist)\n",
    "    gdf_osm['nearest_distance'] = nearest_dists\n",
    "    print(gdf_osm['nearest_distance'])"
   ]
  },
  {
   "cell_type": "code",
   "execution_count": 14,
   "metadata": {},
   "outputs": [
    {
     "name": "stdout",
     "output_type": "stream",
     "text": [
      "0       177.124947\n",
      "1       165.866495\n",
      "2         0.000000\n",
      "3         0.000000\n",
      "4         0.000000\n",
      "          ...     \n",
      "119    2686.268184\n",
      "120    2700.175889\n",
      "121    2690.904391\n",
      "122    2710.769835\n",
      "123    3338.042871\n",
      "Name: nearest_distance, Length: 124, dtype: float64\n"
     ]
    },
    {
     "data": {
      "image/png": "[encoded data removed]",
      "text/plain": [
       "<Figure size 432x288 with 1 Axes>"
      ]
     },
     "metadata": {
      "needs_background": "light"
     },
     "output_type": "display_data"
    },
    {
     "name": "stdout",
     "output_type": "stream",
     "text": [
      "mean nearest distance:  299.3810425391026\n",
      "median nearest distance:  0.0\n"
     ]
    }
   ],
   "source": [
    "min_distance(gdf_osm,gdf_official)\n",
    "#Graphing the histogram of distance from gdf_osm to nearest Official points\n",
    "ax = gdf_osm['nearest_distance'].hist()\n",
    "plt.show()\n",
    "\n",
    "mean_dist = gdf_osm['nearest_distance'].mean()\n",
    "print(\"mean nearest distance: \",mean_dist)\n",
    "\n",
    "median_dist = gdf_osm['nearest_distance'].median()\n",
    "print(\"median nearest distance: \", median_dist)"
   ]
  },
  {
   "cell_type": "code",
   "execution_count": null,
   "metadata": {},
   "outputs": [],
   "source": []
  }
 ],
 "metadata": {
  "kernelspec": {
   "display_name": "Python 3",
   "language": "python",
   "name": "python3"
  },
  "language_info": {
   "codemirror_mode": {
    "name": "ipython",
    "version": 3
   },
   "file_extension": ".py",
   "mimetype": "text/x-python",
   "name": "python",
   "nbconvert_exporter": "python",
   "pygments_lexer": "ipython3",
   "version": "3.7.6"
  }
 },
 "nbformat": 4,
 "nbformat_minor": 4
}
