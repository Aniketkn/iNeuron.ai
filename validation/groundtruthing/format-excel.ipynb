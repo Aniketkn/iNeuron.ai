{
 "cells": [
  {
   "cell_type": "code",
   "execution_count": 6,
   "metadata": {},
   "outputs": [],
   "source": [
    "import json\n",
    "import os\n",
    "import geopandas as gpd\n",
    "import pandas as pd\n",
    "import osmnx as ox\n",
    "import random\n",
    "import xlwt \n",
    "from xlwt import Workbook "
   ]
  },
  {
   "cell_type": "code",
   "execution_count": 7,
   "metadata": {},
   "outputs": [],
   "source": [
    "# Workbook is created \n",
    "wb = Workbook() \n",
    "\n",
    "# add_sheet is used to create sheet. \n",
    "sheet1 = wb.add_sheet('Sheet 1') "
   ]
  },
  {
   "cell_type": "code",
   "execution_count": 2,
   "metadata": {},
   "outputs": [],
   "source": [
    "cities = ['adelaide',\n",
    "'auckland',\n",
    "'baltimore',\n",
    "'bangkok',\n",
    "'barcelona',\n",
    "'belfast',\n",
    "'bern',\n",
    "'chennai',\n",
    "'mexico_city',\n",
    "'cologne',\n",
    "'ghent',\n",
    "'graz',\n",
    "'hanoi',\n",
    "'hong_kong',\n",
    "'lisbon',\n",
    "'melbourne',\n",
    "'odense',\n",
    "'olomouc',\n",
    "'sao_paulo',          \n",
    "'phoenix',\n",
    "'seattle',\n",
    "'sydney',\n",
    "'valencia',\n",
    "'vic'\n",
    "         ]"
   ]
  },
  {
   "cell_type": "code",
   "execution_count": 3,
   "metadata": {},
   "outputs": [],
   "source": [
    "filenames_filepath = \"./filenames.csv\""
   ]
  },
  {
   "cell_type": "code",
   "execution_count": null,
   "metadata": {},
   "outputs": [],
   "source": [
    "# RUN THE SCRIPT\n",
    "filenames = {}\n",
    "for destination in destinations:\n",
    "\n",
    "    print(ox.ts(), f\"begin processing {destination}\")\n",
    "    filenames[destination] = {}\n",
    "\n",
    "    city_name = \n",
    "    hexagon_pop_quantile = \n",
    "    latitude = \n",
    "    longitude = \n",
    "    google_maps_screenshot = \n",
    "    google_satellite_screenshot = \n",
    "    google_street_view_screenshot = \n",
    "    \n",
    "    # calculate total street length and edge count in each dataset, then add to indicators\n",
    "    filenames[destination][\"City_Name\"] = city_name\n",
    "    filenames[destination][\"Hexagon_Pop_Quintile\"] = hexagon_pop_quantile\n",
    "    filenames[destination][\"Latitude\"] = latitude\n",
    "    filenames[destination][\"Longitude\"] = longitude\n",
    "    filenames[destination][\"Google_Maps_Date\"] = \"\"\n",
    "    filenames[destination][\"Google_Maps_Screenshot\"] = google_maps_screenshot\n",
    "    filenames[destination][\"Google_Satellite_Date\"] = \"\"\n",
    "    filenames[destination][\"Google_Satellite_Screenshot\"] = google_satellite_screenshot\n",
    "    filenames[destination][\"Google_Street_View_Date\"] = \"\"\n",
    "    filenames[destination][\"Google_Street_View_Screenshot\"] = google_street_view_screenshot\n",
    "    filenames[destination][\"Assessment\"] = \"\"\n",
    "    print(ox.ts(), f\"finshed names for {city}\")\n",
    "\n",
    "# turn indicators into a dataframe and save to disk\n",
    "df_filenames = pd.DataFrame(filenames).T\n",
    "df_filenames.to_csv(filenames_filepath, index=True, encoding=\"utf-8\")\n",
    "print(ox.ts(), f'all done, saved filenames to disk at \"{filenames_filepath}\"')\n"
   ]
  },
  {
   "cell_type": "code",
   "execution_count": null,
   "metadata": {},
   "outputs": [],
   "source": [
    "print(ox.ts(), f'all done, saved indicators to disk at \"{indicators_filepath}\"')"
   ]
  }
 ],
 "metadata": {
  "kernelspec": {
   "display_name": "Python (GlobalInd)",
   "language": "python",
   "name": "globalind"
  },
  "language_info": {
   "codemirror_mode": {
    "name": "ipython",
    "version": 3
   },
   "file_extension": ".py",
   "mimetype": "text/x-python",
   "name": "python",
   "nbconvert_exporter": "python",
   "pygments_lexer": "ipython3",
   "version": "3.7.6"
  }
 },
 "nbformat": 4,
 "nbformat_minor": 4
}
