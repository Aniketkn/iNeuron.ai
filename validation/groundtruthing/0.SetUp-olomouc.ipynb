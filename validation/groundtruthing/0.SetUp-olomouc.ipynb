{
 "cells": [
  {
   "cell_type": "code",
   "execution_count": 1,
   "metadata": {},
   "outputs": [],
   "source": [
    "import json\n",
    "import os\n",
    "import geopandas as gpd\n",
    "import matplotlib.pyplot as plt\n",
    "import pandas as pd\n",
    "import osmnx as ox\n",
    "import random\n",
    "import numpy as np\n",
    "\n",
    "%matplotlib inline"
   ]
  },
  {
   "cell_type": "markdown",
   "metadata": {},
   "source": [
    "## Load and Clean Data"
   ]
  },
  {
   "cell_type": "code",
   "execution_count": 2,
   "metadata": {},
   "outputs": [],
   "source": [
    "process_folder = '../../process'\n",
    "process_config_path = '../../process/configuration/olomouc.json'\n",
    "pop_col = [\"pop_ghs_2015\"]\n",
    "dest_col = [\"destinations\"]\n",
    "np.random.seed(24)"
   ]
  },
  {
   "cell_type": "code",
   "execution_count": 3,
   "metadata": {},
   "outputs": [],
   "source": [
    "with open(process_config_path) as json_file:\n",
    "    config = json.load(json_file)\n",
    "\n",
    "input_folder = os.path.join(process_folder, config['folder'])\n",
    "\n",
    "gpkg_input = os.path.join(input_folder, config['geopackagePath'])"
   ]
  },
  {
   "cell_type": "code",
   "execution_count": 4,
   "metadata": {},
   "outputs": [],
   "source": [
    "pop = gpd.read_file(gpkg_input, layer='pop_ghs_2015' )"
   ]
  },
  {
   "cell_type": "code",
   "execution_count": 5,
   "metadata": {},
   "outputs": [
    {
     "data": {
      "text/plain": [
       "Index(['index', 'pop_est', 'area_sqkm', 'pop_per_sqkm', 'intersection_count',\n",
       "       'intersections_per_sqkm', 'count_pub', 'count_cafe', 'count_restaurant',\n",
       "       'count_convenience', 'count_bar', 'count_fast_food', 'count_food_court',\n",
       "       'count_fresh_food_market', 'count_pt_any', 'geometry'],\n",
       "      dtype='object')"
      ]
     },
     "execution_count": 5,
     "metadata": {},
     "output_type": "execute_result"
    }
   ],
   "source": [
    "pop.columns"
   ]
  },
  {
   "cell_type": "code",
   "execution_count": 6,
   "metadata": {},
   "outputs": [],
   "source": [
    "dests = gpd.read_file(gpkg_input, layer='destinations' )"
   ]
  },
  {
   "cell_type": "code",
   "execution_count": 7,
   "metadata": {},
   "outputs": [
    {
     "data": {
      "text/plain": [
       "Index(['dest_oid', 'osm_id', 'dest_name', 'dest_name_full', 'edge_ogc_fid',\n",
       "       'n1', 'n2', 'n1_distance', 'n2_distance', 'match_point_distance',\n",
       "       'geometry'],\n",
       "      dtype='object')"
      ]
     },
     "execution_count": 7,
     "metadata": {},
     "output_type": "execute_result"
    }
   ],
   "source": [
    "dests.columns"
   ]
  },
  {
   "cell_type": "code",
   "execution_count": 8,
   "metadata": {},
   "outputs": [],
   "source": [
    "fresh_food = dests[dests['dest_name_full'].str.contains('Fresh Food / Market')]"
   ]
  },
  {
   "cell_type": "code",
   "execution_count": 9,
   "metadata": {},
   "outputs": [],
   "source": [
    "gdf_study_area = gpd.read_file(gpkg_input, layer=\"urban_study_region\")\n",
    "study_area = gdf_study_area[\"geometry\"].iloc[0]"
   ]
  },
  {
   "cell_type": "code",
   "execution_count": 10,
   "metadata": {},
   "outputs": [],
   "source": [
    "crs = gdf_study_area.crs\n",
    "if pop.crs != crs:\n",
    "    pop = pop.to_crs(crs)\n",
    "if fresh_food.crs != crs:\n",
    "    fresh_food = fresh_food.to_crs(crs)"
   ]
  },
  {
   "cell_type": "code",
   "execution_count": 11,
   "metadata": {},
   "outputs": [],
   "source": [
    "import warnings\n",
    "\n",
    "warnings.filterwarnings(\"ignore\", \"GeoSeries.notna\", UserWarning)  # temp warning suppression\n",
    "pop_clipped = gpd.clip(pop, study_area)\n",
    "fresh_food_clipped = gpd.clip(fresh_food, study_area)"
   ]
  },
  {
   "cell_type": "markdown",
   "metadata": {},
   "source": [
    "## Create Density-Based Quintiles"
   ]
  },
  {
   "cell_type": "code",
   "execution_count": 12,
   "metadata": {},
   "outputs": [],
   "source": [
    "pop_clipped['pop_quintile'] = pd.qcut(pop_clipped['pop_est'], 5, labels=False)"
   ]
  },
  {
   "cell_type": "markdown",
   "metadata": {},
   "source": [
    "## Assign Hexagon-Data to Destinations"
   ]
  },
  {
   "cell_type": "code",
   "execution_count": 13,
   "metadata": {},
   "outputs": [],
   "source": [
    "joined_freshfood = gpd.sjoin(fresh_food_clipped, pop_clipped, how='left', op='within')"
   ]
  },
  {
   "cell_type": "code",
   "execution_count": 14,
   "metadata": {},
   "outputs": [
    {
     "data": {
      "text/plain": [
       "(58, 28)"
      ]
     },
     "execution_count": 14,
     "metadata": {},
     "output_type": "execute_result"
    }
   ],
   "source": [
    "joined_freshfood.shape"
   ]
  },
  {
   "cell_type": "code",
   "execution_count": 15,
   "metadata": {},
   "outputs": [],
   "source": [
    "cleaned_joined_freshfood = joined_freshfood[~joined_freshfood['dest_name_full'].isnull()]"
   ]
  },
  {
   "cell_type": "code",
   "execution_count": 16,
   "metadata": {},
   "outputs": [
    {
     "data": {
      "text/plain": [
       "Index(['dest_oid', 'osm_id', 'dest_name', 'dest_name_full', 'edge_ogc_fid',\n",
       "       'n1', 'n2', 'n1_distance', 'n2_distance', 'match_point_distance',\n",
       "       'geometry', 'index_right', 'index', 'pop_est', 'area_sqkm',\n",
       "       'pop_per_sqkm', 'intersection_count', 'intersections_per_sqkm',\n",
       "       'count_pub', 'count_cafe', 'count_restaurant', 'count_convenience',\n",
       "       'count_bar', 'count_fast_food', 'count_food_court',\n",
       "       'count_fresh_food_market', 'count_pt_any', 'pop_quintile'],\n",
       "      dtype='object')"
      ]
     },
     "execution_count": 16,
     "metadata": {},
     "output_type": "execute_result"
    }
   ],
   "source": [
    "cleaned_joined_freshfood.columns"
   ]
  },
  {
   "cell_type": "markdown",
   "metadata": {},
   "source": [
    "## Select Destinations"
   ]
  },
  {
   "cell_type": "code",
   "execution_count": 17,
   "metadata": {},
   "outputs": [],
   "source": [
    "q1_count_list = cleaned_joined_freshfood.loc[cleaned_joined_freshfood['pop_quintile'] == 0].values.tolist()\n",
    "q2_count_list = cleaned_joined_freshfood.loc[cleaned_joined_freshfood['pop_quintile'] == 1].values.tolist()\n",
    "q3_count_list = cleaned_joined_freshfood.loc[cleaned_joined_freshfood['pop_quintile'] == 2].values.tolist()\n",
    "q4_count_list = cleaned_joined_freshfood.loc[cleaned_joined_freshfood['pop_quintile'] == 3].values.tolist()\n",
    "q5_count_list = cleaned_joined_freshfood.loc[cleaned_joined_freshfood['pop_quintile'] == 4].values.tolist()"
   ]
  },
  {
   "cell_type": "code",
   "execution_count": 18,
   "metadata": {},
   "outputs": [],
   "source": [
    "count = 0\n",
    "good_quant = 0 \n",
    "if len(q1_count_list) < 10:\n",
    "    q1_dests = len(q1_count_list)\n",
    "    count = count + len(q1_count_list)\n",
    "else:\n",
    "    q1_dests = 10\n",
    "    count = count + 10\n",
    "    good_quant = good_quant + 1\n",
    "\n",
    "if len(q2_count_list) < 10:\n",
    "    q2_dests = len(q2_count_list)\n",
    "    count = count + len(q2_count_list)\n",
    "else:\n",
    "    q2_dests = 10\n",
    "    count = count + 10\n",
    "    good_quant = good_quant + 1\n",
    "\n",
    "if len(q3_count_list) < 10:\n",
    "    q3_dests = len(q3_count_list)\n",
    "    count = count + len(q3_count_list)\n",
    "else:\n",
    "    q3_dests = 10\n",
    "    count = count + 10\n",
    "    good_quant = good_quant + 1\n",
    "\n",
    "if len(q4_count_list) < 10:\n",
    "    q4_dests = len(q4_count_list)\n",
    "    count = count + len(q4_count_list)\n",
    "else:\n",
    "    q4_dests = 10\n",
    "    count = count + 10\n",
    "    good_quant = good_quant + 1\n",
    "\n",
    "if len(q5_count_list) < 10:\n",
    "    q5_dests = len(q5_count_list)\n",
    "    count = count + len(q5_count_list)\n",
    "else:\n",
    "    q5_dests = 10\n",
    "    count = count + 10\n",
    "    good_quant = good_quant + 1"
   ]
  },
  {
   "cell_type": "code",
   "execution_count": 19,
   "metadata": {},
   "outputs": [],
   "source": [
    "extra_dests = 50 - count\n",
    "extra_dests_per_quant = int(extra_dests / good_quant)\n",
    "\n",
    "if extra_dests > 0:\n",
    "\n",
    "    count_2 = 0\n",
    "    good_quant_2 = 0 \n",
    "\n",
    "    if len(q1_count_list) < (10 + extra_dests_per_quant):\n",
    "        q1_dests = len(q1_count_list)\n",
    "        count_2 = count_2 + len(q1_count_list)\n",
    "    else:\n",
    "        q1_dests = 10 + extra_dests_per_quant\n",
    "        count_2 = count_2 + q1_dests\n",
    "        good_quant_2 = good_quant_2 + 1\n",
    "\n",
    "    if len(q2_count_list) < (10 + extra_dests_per_quant):\n",
    "        q2_dests = len(q2_count_list)\n",
    "        count_2 = count_2 + len(q2_count_list)\n",
    "    else:\n",
    "        q2_dests = 10 + extra_dests_per_quant\n",
    "        count_2 = count_2 + q2_dests\n",
    "        good_quant_2 = good_quant_2 + 1\n",
    "\n",
    "    if len(q3_count_list) < (10 + extra_dests_per_quant):\n",
    "        q3_dests = len(q3_count_list)\n",
    "        count_2 = count_2 + len(q3_count_list)\n",
    "    else:\n",
    "        q3_dests = 10 + extra_dests_per_quant\n",
    "        count_2 = count_2 + q3_dests\n",
    "        good_quant_2 = good_quant_2 + 1\n",
    "\n",
    "    if len(q4_count_list) < (10 + extra_dests_per_quant):\n",
    "        q4_dests = len(q4_count_list)\n",
    "        count_2 = count_2 + len(q4_count_list)\n",
    "    else:\n",
    "        q4_dests = 10 + extra_dests_per_quant\n",
    "        count_2 = count_2 + q4_dests\n",
    "        good_quant_2 = good_quant_2 + 1\n",
    "\n",
    "    if len(q5_count_list) < (10 + extra_dests_per_quant):\n",
    "        q5_dests = len(q5_count_list)\n",
    "        count_2 = count_2 + len(q5_count_list)\n",
    "    else:\n",
    "        q5_dests = 10 + extra_dests_per_quant + (extra_dests%good_quant)\n",
    "        count_2 = count_2 + q5_dests\n",
    "        good_quant_2 = good_quant_2 + 1"
   ]
  },
  {
   "cell_type": "code",
   "execution_count": 20,
   "metadata": {},
   "outputs": [],
   "source": [
    "extra_dests_2 = 50 - count_2\n",
    "extra_dests_per_quant_2 = int(extra_dests_2 / good_quant_2)\n",
    "\n",
    "if extra_dests_2 > 0:\n",
    "\n",
    "    count_3 = 0\n",
    "    good_quant_3 = 0 \n",
    "\n",
    "    if len(q1_count_list) < (10 + extra_dests_per_quant + extra_dests_per_quant_2):\n",
    "        q1_dests = len(q1_count_list)\n",
    "        count_3 = count_3 + len(q1_count_list)\n",
    "    else:\n",
    "        q1_dests = 10 + extra_dests_per_quant + extra_dests_per_quant_2\n",
    "        count_3 = count_3 + q1_dests\n",
    "        good_quant_3 = good_quant_3 + 1\n",
    "\n",
    "    if len(q2_count_list) < (10 + extra_dests_per_quant + extra_dests_per_quant_2):\n",
    "        q2_dests = len(q2_count_list)\n",
    "        count_3 = count_3 + len(q2_count_list)\n",
    "    else:\n",
    "        q2_dests = 10 + extra_dests_per_quant + extra_dests_per_quant_2\n",
    "        count_3 = count_3 + q2_dests\n",
    "        good_quant_3 = good_quant_3 + 1\n",
    "\n",
    "    if len(q3_count_list) < (10 + extra_dests_per_quant + extra_dests_per_quant_2):\n",
    "        q3_dests = len(q3_count_list)\n",
    "        count_3 = count_3 + len(q3_count_list)\n",
    "    else:\n",
    "        q3_dests = 10 + extra_dests_per_quant + extra_dests_per_quant_2\n",
    "        count_3 = count_3 + q3_dests\n",
    "        good_quant_3 = good_quant_3 + 1\n",
    "\n",
    "    if len(q4_count_list) < (10 + extra_dests_per_quant + extra_dests_per_quant_2):\n",
    "        q4_dests = len(q4_count_list)\n",
    "        count_3 = count_3 + len(q4_count_list)\n",
    "    else:\n",
    "        q4_dests = 10 + extra_dests_per_quant + extra_dests_per_quant_2\n",
    "        count_3 = count_3 + q4_dests\n",
    "        good_quant_3 = good_quant_3 + 1\n",
    "\n",
    "    if len(q5_count_list) < (10 + extra_dests_per_quant + extra_dests_per_quant_2):\n",
    "        q5_dests = len(q5_count_list)\n",
    "        count_3 = count_3 + len(q5_count_list)\n",
    "    else:\n",
    "        q5_dests = 10 + extra_dests_per_quant + extra_dests_per_quant_2 + (extra_dests%good_quant) + (extra_dests_2%good_quant_2)\n",
    "        count_3 = count_3 + q5_dests\n",
    "        good_quant_3 = good_quant_3 + 1"
   ]
  },
  {
   "cell_type": "code",
   "execution_count": 24,
   "metadata": {},
   "outputs": [],
   "source": [
    "extra_dests_3 = 50 - count_3\n",
    "\n",
    "if extra_dests_3 == 1:\n",
    "    q5_dests = q5_dests + 1\n",
    "elif extra_dests_3 == 0:\n",
    "    q5_dests = q5_dests\n",
    "else:\n",
    "    print('did not distribute 50 destinations to quitiles')"
   ]
  },
  {
   "cell_type": "code",
   "execution_count": 25,
   "metadata": {},
   "outputs": [],
   "source": [
    "q1_count = cleaned_joined_freshfood.loc[cleaned_joined_freshfood['pop_quintile'] == 0]\n",
    "q2_count = cleaned_joined_freshfood.loc[cleaned_joined_freshfood['pop_quintile'] == 1]\n",
    "q3_count = cleaned_joined_freshfood.loc[cleaned_joined_freshfood['pop_quintile'] == 2]\n",
    "q4_count = cleaned_joined_freshfood.loc[cleaned_joined_freshfood['pop_quintile'] == 3]\n",
    "q5_count = cleaned_joined_freshfood.loc[cleaned_joined_freshfood['pop_quintile'] == 4]"
   ]
  },
  {
   "cell_type": "code",
   "execution_count": 26,
   "metadata": {},
   "outputs": [],
   "source": [
    "q1_sample_dests = q1_count.sample(q1_dests)\n",
    "q2_sample_dests = q2_count.sample(q2_dests)\n",
    "q3_sample_dests = q3_count.sample(q3_dests)\n",
    "q4_sample_dests = q4_count.sample(q4_dests)\n",
    "q5_sample_dests = q5_count.sample(q5_dests)"
   ]
  },
  {
   "cell_type": "code",
   "execution_count": 27,
   "metadata": {},
   "outputs": [
    {
     "name": "stdout",
     "output_type": "stream",
     "text": [
      "0\n",
      "0\n",
      "11\n",
      "17\n",
      "30\n",
      "0\n",
      "0\n",
      "11\n",
      "17\n",
      "22\n",
      "50\n"
     ]
    }
   ],
   "source": [
    "print(len(q1_count))\n",
    "print(len(q2_count))\n",
    "print(len(q3_count))\n",
    "print(len(q4_count))\n",
    "print(len(q5_count))\n",
    "\n",
    "print((q1_dests))\n",
    "print((q2_dests))\n",
    "print((q3_dests))\n",
    "print((q4_dests))\n",
    "print((q5_dests))\n",
    "print(q1_dests + q2_dests + q3_dests + q4_dests + q5_dests)"
   ]
  },
  {
   "cell_type": "code",
   "execution_count": null,
   "metadata": {},
   "outputs": [],
   "source": [
    "sample_dests = [q1_sample_dests, q2_sample_dests, q3_sample_dests, q4_sample_dests, q5_sample_dests]"
   ]
  },
  {
   "cell_type": "code",
   "execution_count": null,
   "metadata": {},
   "outputs": [],
   "source": [
    "final_sample_dests = pd.concat(sample_dests)"
   ]
  },
  {
   "cell_type": "code",
   "execution_count": null,
   "metadata": {},
   "outputs": [],
   "source": [
    "final_sample_dests = final_sample_dests.reset_index(drop=True)"
   ]
  },
  {
   "cell_type": "code",
   "execution_count": null,
   "metadata": {},
   "outputs": [],
   "source": [
    "final_sample_dests.head(1)"
   ]
  },
  {
   "cell_type": "code",
   "execution_count": null,
   "metadata": {},
   "outputs": [],
   "source": [
    "final_sample_dests = final_sample_dests.to_crs({'init': 'epsg:4326'})"
   ]
  },
  {
   "cell_type": "code",
   "execution_count": null,
   "metadata": {},
   "outputs": [],
   "source": [
    "final_sample_dests['lat'] = final_sample_dests.geometry.y\n",
    "final_sample_dests['lon'] = final_sample_dests.geometry.x"
   ]
  },
  {
   "cell_type": "code",
   "execution_count": null,
   "metadata": {},
   "outputs": [],
   "source": [
    "from collections import defaultdict"
   ]
  },
  {
   "cell_type": "code",
   "execution_count": null,
   "metadata": {},
   "outputs": [],
   "source": [
    "cities = ['vic']\n",
    "filenames = {}\n",
    "\n",
    "for city in cities: \n",
    "    for index, row in final_sample_dests.iterrows():\n",
    "        city_name = city\n",
    "        hexagon_pop_quantile = final_sample_dests['pop_quintile']\n",
    "        latitude = final_sample_dests['lat']\n",
    "        longitude = final_sample_dests['lon']\n",
    "        google_maps_screenshot = f\"{latitude}_{longitude}_{city}_google_maps_image\"\n",
    "        google_satellite_screenshot = f\"{latitude}_{longitude}_{city}_google_satellite_image\"\n",
    "        google_street_view_screenshot = f\"{latitude}_{longitude}_{city}_google_street_view_image\"\n",
    "\n",
    "        # calculate total street length and edge count in each dataset, then add to indicators\n",
    "        filenames[index][row][\"City_Name\"] = city_name\n",
    "        filenames[index][row][\"Hexagon_Pop_Quintile\"] = hexagon_pop_quantile\n",
    "        filenames[index][row][\"Latitude\"] = latitude\n",
    "        filenames[index][row][\"Longitude\"] = longitude\n",
    "        filenames[index][row][\"Google_Maps_Date\"] = \"\"\n",
    "        filenames[index][row][\"Google_Maps_Screenshot\"] = google_maps_screenshot\n",
    "        filenames[index][row][\"Google_Satellite_Date\"] = \"\"\n",
    "        filenames[index][row][\"Google_Satellite_Screenshot\"] = google_satellite_screenshot\n",
    "        filenames[index][row][\"Google_Street_View_Date\"] = \"\"\n",
    "        filenames[index][row][\"Google_Street_View_Screenshot\"] = google_street_view_screenshot\n",
    "        filenames[index][row][\"Assessment\"] = \"\"\n",
    "        print(ox.ts(), f\"finshed names for {city}\")\n",
    "\n",
    "# turn indicators into a dataframe and save to disk\n",
    "df_filenames = pd.DataFrame(filenames).T\n",
    "df_filenames.to_csv(filenames_filepath, index=True, encoding=\"utf-8\")\n",
    "print(ox.ts(), f'all done, saved filenames to disk at \"{filenames_filepath}\"')"
   ]
  },
  {
   "cell_type": "markdown",
   "metadata": {},
   "source": [
    "# OLD"
   ]
  },
  {
   "cell_type": "code",
   "execution_count": null,
   "metadata": {},
   "outputs": [],
   "source": [
    "count = 0\n",
    "if len(q1_count_list) < 10:\n",
    "    q1_sampledeficit = 10 - len(q1_count_list)\n",
    "    if q1_sampledeficit % 4 == 0:\n",
    "        count = count\n",
    "    else:\n",
    "        count = count + (q1_sampledeficit % 4)\n",
    "    extra_q1 = (int(q1_sampledeficit/4))\n",
    "    q1_dests = len(q1_count_list) \n",
    "else:\n",
    "    extra_q1 = 0\n",
    "    q1_dests = 10\n",
    "if len(q2_count_list) < (extra_q1 + 10):\n",
    "    q2_sampledeficit = (extra_q1 + 10) - len(q2_count_list)\n",
    "    if q2_sampledeficit % 3 == 0:\n",
    "        count = count\n",
    "    else:\n",
    "        count = count +(q2_sampledeficit % 3)\n",
    "    extra_q2 = (int(q2_sampledeficit/3))\n",
    "    q2_dests = len(q2_count_list)\n",
    "else:\n",
    "    extra_q2 = 0\n",
    "    q2_dests = 10 + extra_q1\n",
    "if len(q3_count_list) < (extra_q1 + extra_q2 + 10):\n",
    "    q3_sampledeficit = (extra_q1 + extra_q2 + 10) - len(q3_count_list)\n",
    "    if q3_sampledeficit % 2 == 0:\n",
    "        count = count\n",
    "    else:\n",
    "        count = count + (q3_sampledeficit % 2)\n",
    "    extra_q3 = (int(q3_sampledeficit/2))\n",
    "    q3_dests = len(q3_count_list)\n",
    "else:\n",
    "    extra_q3 = 0\n",
    "    q3_dests = 10 + extra_q1 + extra_q2\n",
    "if len(q4_count_list) < (extra_q1 + extra_q2 + extra_q3 + 10):\n",
    "    q4_sampledeficit = (extra_q1 + extra_q2 + extra_q3 + 10) - len(q4_count_list)\n",
    "    extra_q4 = (int(q4_sampledeficit))\n",
    "    q4_dests = len(q4_count_list)\n",
    "else:\n",
    "    extra_q4 = 0\n",
    "    q4_dests = 10 + extra_q1 + extra_q2 + extra_q3\n",
    "if len(q5_count_list) < (extra_q1 + extra_q2 + extra_q3 + extra_q4 + 10):\n",
    "    print(\"fewer than 50 destinations exist\")\n",
    "else:\n",
    "    q5_dests = 10 + extra_q1 + extra_q2 + extra_q3 + extra_q4 + count"
   ]
  }
 ],
 "metadata": {
  "kernelspec": {
   "display_name": "Python (GlobalInd)",
   "language": "python",
   "name": "globalind"
  },
  "language_info": {
   "codemirror_mode": {
    "name": "ipython",
    "version": 3
   },
   "file_extension": ".py",
   "mimetype": "text/x-python",
   "name": "python",
   "nbconvert_exporter": "python",
   "pygments_lexer": "ipython3",
   "version": "3.7.6"
  }
 },
 "nbformat": 4,
 "nbformat_minor": 4
}
