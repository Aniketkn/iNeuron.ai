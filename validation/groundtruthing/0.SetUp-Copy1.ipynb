{
 "cells": [
  {
   "cell_type": "code",
   "execution_count": 1,
   "metadata": {},
   "outputs": [],
   "source": [
    "import json\n",
    "import os\n",
    "import geopandas as gpd\n",
    "import matplotlib.pyplot as plt\n",
    "import pandas as pd\n",
    "import osmnx as ox\n",
    "import random\n",
    "import numpy as np\n",
    "\n",
    "%matplotlib inline"
   ]
  },
  {
   "cell_type": "markdown",
   "metadata": {},
   "source": [
    "## Load and Clean Data"
   ]
  },
  {
   "cell_type": "code",
   "execution_count": 2,
   "metadata": {},
   "outputs": [],
   "source": [
    "process_folder = '../../process'\n",
    "process_config_path = '../../process/configuration/vic.json'\n",
    "pop_col = [\"pop_ghs_2015\"]\n",
    "dest_col = [\"destinations\"]\n",
    "filenames_filepath = \"./filenames.csv\"\n",
    "np.random.seed(24)"
   ]
  },
  {
   "cell_type": "code",
   "execution_count": 3,
   "metadata": {},
   "outputs": [],
   "source": [
    "with open(process_config_path) as json_file:\n",
    "    config = json.load(json_file)\n",
    "\n",
    "input_folder = os.path.join(process_folder, config['folder'])\n",
    "\n",
    "gpkg_input = os.path.join(input_folder, config['geopackagePath'])"
   ]
  },
  {
   "cell_type": "code",
   "execution_count": 4,
   "metadata": {},
   "outputs": [],
   "source": [
    "pop = gpd.read_file(gpkg_input, layer='pop_ghs_2015' )"
   ]
  },
  {
   "cell_type": "code",
   "execution_count": 5,
   "metadata": {},
   "outputs": [],
   "source": [
    "dests = gpd.read_file(gpkg_input, layer='destinations' )"
   ]
  },
  {
   "cell_type": "code",
   "execution_count": 6,
   "metadata": {},
   "outputs": [],
   "source": [
    "fresh_food = dests[dests['dest_name_full'].str.contains('Fresh Food / Market')]"
   ]
  },
  {
   "cell_type": "code",
   "execution_count": 7,
   "metadata": {},
   "outputs": [],
   "source": [
    "gdf_study_area = gpd.read_file(gpkg_input, layer=\"urban_study_region\")\n",
    "study_area = gdf_study_area[\"geometry\"].iloc[0]"
   ]
  },
  {
   "cell_type": "code",
   "execution_count": 8,
   "metadata": {},
   "outputs": [],
   "source": [
    "crs = gdf_study_area.crs\n",
    "if pop.crs != crs:\n",
    "    pop = pop.to_crs(crs)\n",
    "if fresh_food.crs != crs:\n",
    "    fresh_food = fresh_food.to_crs(crs)"
   ]
  },
  {
   "cell_type": "code",
   "execution_count": 9,
   "metadata": {},
   "outputs": [],
   "source": [
    "import warnings\n",
    "\n",
    "warnings.filterwarnings(\"ignore\", \"GeoSeries.notna\", UserWarning)  # temp warning suppression\n",
    "pop_clipped = gpd.clip(pop, study_area)\n",
    "fresh_food_clipped = gpd.clip(fresh_food, study_area)"
   ]
  },
  {
   "cell_type": "markdown",
   "metadata": {},
   "source": [
    "## Assign Hexagon-Data to Destinations"
   ]
  },
  {
   "cell_type": "code",
   "execution_count": 10,
   "metadata": {},
   "outputs": [],
   "source": [
    "joined_freshfood = gpd.sjoin(fresh_food_clipped, pop_clipped, how='left', op='within')"
   ]
  },
  {
   "cell_type": "markdown",
   "metadata": {},
   "source": [
    "## Create Density-Based Quintiles"
   ]
  },
  {
   "cell_type": "code",
   "execution_count": 11,
   "metadata": {},
   "outputs": [],
   "source": [
    "ordered_joined_freshfood = joined_freshfood.sort_values('pop_est')"
   ]
  },
  {
   "cell_type": "code",
   "execution_count": 12,
   "metadata": {},
   "outputs": [],
   "source": [
    "split_joined_freshfood = np.array_split(ordered_joined_freshfood, 5)"
   ]
  },
  {
   "cell_type": "code",
   "execution_count": 13,
   "metadata": {},
   "outputs": [],
   "source": [
    "q1_dests = (split_joined_freshfood[0])\n",
    "q2_dests = (split_joined_freshfood[1])\n",
    "q3_dests = (split_joined_freshfood[2])\n",
    "q4_dests = (split_joined_freshfood[3])\n",
    "q5_dests = (split_joined_freshfood[4])"
   ]
  },
  {
   "cell_type": "code",
   "execution_count": 14,
   "metadata": {},
   "outputs": [],
   "source": [
    "q1_dests['quantile'] = 1\n",
    "q2_dests['quantile'] = 2\n",
    "q3_dests['quantile'] = 3\n",
    "q4_dests['quantile'] = 4\n",
    "q5_dests['quantile'] = 5"
   ]
  },
  {
   "cell_type": "markdown",
   "metadata": {},
   "source": [
    "## Select Destinations"
   ]
  },
  {
   "cell_type": "code",
   "execution_count": 15,
   "metadata": {},
   "outputs": [],
   "source": [
    "q1_sample_dests = q1_dests.sample(10)\n",
    "q2_sample_dests = q2_dests.sample(10)\n",
    "q3_sample_dests = q3_dests.sample(10)\n",
    "q4_sample_dests = q4_dests.sample(10)\n",
    "q5_sample_dests = q5_dests.sample(10)"
   ]
  },
  {
   "cell_type": "code",
   "execution_count": 16,
   "metadata": {},
   "outputs": [],
   "source": [
    "sample_dests = [q1_sample_dests, q2_sample_dests, q3_sample_dests, q4_sample_dests, q5_sample_dests]"
   ]
  },
  {
   "cell_type": "code",
   "execution_count": 17,
   "metadata": {},
   "outputs": [],
   "source": [
    "final_sample_dests = pd.concat(sample_dests)"
   ]
  },
  {
   "cell_type": "code",
   "execution_count": 19,
   "metadata": {},
   "outputs": [
    {
     "name": "stderr",
     "output_type": "stream",
     "text": [
      "/opt/conda/lib/python3.7/site-packages/pyproj/crs/crs.py:53: FutureWarning: '+init=<authority>:<code>' syntax is deprecated. '<authority>:<code>' is the preferred initialization method. When making the change, be mindful of axis order changes: https://pyproj4.github.io/pyproj/stable/gotchas.html#axis-order-changes-in-proj-6\n",
      "  return _prepare_from_string(\" \".join(pjargs))\n"
     ]
    }
   ],
   "source": [
    "final_sample_dests = final_sample_dests.to_crs({'init': 'epsg:4326'})"
   ]
  },
  {
   "cell_type": "code",
   "execution_count": 20,
   "metadata": {},
   "outputs": [],
   "source": [
    "final_sample_dests['lat'] = final_sample_dests.geometry.y\n",
    "final_sample_dests['lon'] = final_sample_dests.geometry.x"
   ]
  },
  {
   "cell_type": "code",
   "execution_count": 22,
   "metadata": {},
   "outputs": [
    {
     "name": "stdout",
     "output_type": "stream",
     "text": [
      "2020-10-26 22:20:54 finshed names for vic\n",
      "2020-10-26 22:20:55 all done, saved filenames to disk at \"./filenames.csv\"\n"
     ]
    }
   ],
   "source": [
    "cities = ['vic']\n",
    "filenames = {}\n",
    "\n",
    "for city in cities: \n",
    "    for index, row in final_sample_dests.iterrows():\n",
    "        city_name = city\n",
    "        hexagon_pop_quantile = row['quantile']\n",
    "        latitude = row['lat']\n",
    "        longitude = row['lon']\n",
    "        google_maps_screenshot = f\"{latitude}_{longitude}_{city}_google_maps_image\"\n",
    "        google_satellite_screenshot = f\"{latitude}_{longitude}_{city}_google_satellite_image\"\n",
    "        google_street_view_screenshot = f\"{latitude}_{longitude}_{city}_google_street_view_image\"\n",
    "\n",
    "        # calculate total street length and edge count in each dataset, then add to indicators\n",
    "        filenames[index] = {}\n",
    "        filenames[index][\"Hexagon_Pop_Quintile\"] = hexagon_pop_quantile\n",
    "        filenames[index][\"City_Name\"] = city_name\n",
    "        filenames[index][\"Latitude\"] = latitude\n",
    "        filenames[index][\"Longitude\"] = longitude\n",
    "        filenames[index][\"Google_Maps_Date\"] = \"\"\n",
    "        filenames[index][\"Google_Maps_Screenshot\"] = google_maps_screenshot\n",
    "        filenames[index][\"Google_Satellite_Date\"] = \"\"\n",
    "        filenames[index][\"Google_Satellite_Screenshot\"] = google_satellite_screenshot\n",
    "        filenames[index][\"Google_Street_View_Date\"] = \"\"\n",
    "        filenames[index][\"Google_Street_View_Screenshot\"] = google_street_view_screenshot\n",
    "        filenames[index][\"Assessment\"] = \"\"\n",
    "        filenames[index][\"Comments\"] = \"\"\n",
    "\n",
    "print(ox.ts(), f\"finshed names for {city}\")\n",
    "\n",
    "# turn indicators into a dataframe and save to disk\n",
    "df_filenames = pd.DataFrame(filenames).T\n",
    "df_filenames.to_csv(filenames_filepath, index=True, encoding=\"utf-8\")\n",
    "print(ox.ts(), f'all done, saved filenames to disk at \"{filenames_filepath}\"')"
   ]
  },
  {
   "cell_type": "code",
   "execution_count": null,
   "metadata": {},
   "outputs": [],
   "source": []
  }
 ],
 "metadata": {
  "kernelspec": {
   "display_name": "Python (GlobalInd)",
   "language": "python",
   "name": "globalind"
  },
  "language_info": {
   "codemirror_mode": {
    "name": "ipython",
    "version": 3
   },
   "file_extension": ".py",
   "mimetype": "text/x-python",
   "name": "python",
   "nbconvert_exporter": "python",
   "pygments_lexer": "ipython3",
   "version": "3.7.6"
  }
 },
 "nbformat": 4,
 "nbformat_minor": 4
}
