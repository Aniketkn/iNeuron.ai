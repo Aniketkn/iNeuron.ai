{
 "cells": [
  {
   "cell_type": "code",
   "execution_count": 1,
   "metadata": {},
   "outputs": [],
   "source": [
    "import json\n",
    "import os\n",
    "import geopandas as gpd\n",
    "import matplotlib.pyplot as plt\n",
    "import pandas as pd\n",
    "import osmnx as ox\n",
    "import random\n",
    "import numpy as np\n",
    "\n",
    "%matplotlib inline"
   ]
  },
  {
   "cell_type": "markdown",
   "metadata": {},
   "source": [
    "## Load and Clean Data"
   ]
  },
  {
   "cell_type": "code",
   "execution_count": 2,
   "metadata": {},
   "outputs": [],
   "source": [
    "process_folder = '../../process'\n",
    "process_config_path = '../../process/configuration/adelaide.json'\n",
    "pop_col = [\"pop_ghs_2015\"]\n",
    "dest_col = [\"destinations\"]\n",
    "np.random.seed(24)"
   ]
  },
  {
   "cell_type": "code",
   "execution_count": 3,
   "metadata": {},
   "outputs": [],
   "source": [
    "with open(process_config_path) as json_file:\n",
    "    config = json.load(json_file)\n",
    "\n",
    "input_folder = os.path.join(process_folder, config['folder'])\n",
    "\n",
    "gpkg_input = os.path.join(input_folder, config['geopackagePath'])"
   ]
  },
  {
   "cell_type": "code",
   "execution_count": 4,
   "metadata": {},
   "outputs": [],
   "source": [
    "pop = gpd.read_file(gpkg_input, layer='pop_ghs_2015' )"
   ]
  },
  {
   "cell_type": "code",
   "execution_count": 5,
   "metadata": {},
   "outputs": [
    {
     "data": {
      "text/plain": [
       "Index(['index', 'pop_est', 'area_sqkm', 'pop_per_sqkm', 'intersection_count',\n",
       "       'intersections_per_sqkm', 'count_pub', 'count_cafe', 'count_restaurant',\n",
       "       'count_convenience', 'count_bar', 'count_fast_food', 'count_food_court',\n",
       "       'count_fresh_food_market', 'count_pt_any', 'geometry'],\n",
       "      dtype='object')"
      ]
     },
     "execution_count": 5,
     "metadata": {},
     "output_type": "execute_result"
    }
   ],
   "source": [
    "pop.columns"
   ]
  },
  {
   "cell_type": "code",
   "execution_count": 6,
   "metadata": {},
   "outputs": [],
   "source": [
    "dests = gpd.read_file(gpkg_input, layer='destinations' )"
   ]
  },
  {
   "cell_type": "code",
   "execution_count": 7,
   "metadata": {},
   "outputs": [
    {
     "data": {
      "text/plain": [
       "Index(['dest_oid', 'osm_id', 'dest_name', 'dest_name_full', 'edge_ogc_fid',\n",
       "       'n1', 'n2', 'n1_distance', 'n2_distance', 'match_point_distance',\n",
       "       'geometry'],\n",
       "      dtype='object')"
      ]
     },
     "execution_count": 7,
     "metadata": {},
     "output_type": "execute_result"
    }
   ],
   "source": [
    "dests.columns"
   ]
  },
  {
   "cell_type": "code",
   "execution_count": 8,
   "metadata": {},
   "outputs": [],
   "source": [
    "fresh_food = dests[dests['dest_name_full'].str.contains('Fresh Food / Market')]"
   ]
  },
  {
   "cell_type": "code",
   "execution_count": 9,
   "metadata": {},
   "outputs": [],
   "source": [
    "gdf_study_area = gpd.read_file(gpkg_input, layer=\"urban_study_region\")\n",
    "study_area = gdf_study_area[\"geometry\"].iloc[0]"
   ]
  },
  {
   "cell_type": "code",
   "execution_count": 10,
   "metadata": {},
   "outputs": [],
   "source": [
    "crs = gdf_study_area.crs\n",
    "if pop.crs != crs:\n",
    "    pop = pop.to_crs(crs)\n",
    "if fresh_food.crs != crs:\n",
    "    fresh_food = fresh_food.to_crs(crs)"
   ]
  },
  {
   "cell_type": "code",
   "execution_count": 11,
   "metadata": {},
   "outputs": [],
   "source": [
    "import warnings\n",
    "\n",
    "warnings.filterwarnings(\"ignore\", \"GeoSeries.notna\", UserWarning)  # temp warning suppression\n",
    "pop_clipped = gpd.clip(pop, study_area)\n",
    "fresh_food_clipped = gpd.clip(fresh_food, study_area)"
   ]
  },
  {
   "cell_type": "markdown",
   "metadata": {},
   "source": [
    "## Create Density-Based Quintiles"
   ]
  },
  {
   "cell_type": "code",
   "execution_count": 12,
   "metadata": {},
   "outputs": [],
   "source": [
    "pop_clipped['pop_quintile'] = pd.qcut(pop_clipped['pop_est'], 5, labels=False)"
   ]
  },
  {
   "cell_type": "markdown",
   "metadata": {},
   "source": [
    "## Assign Hexagon-Data to Destinations"
   ]
  },
  {
   "cell_type": "code",
   "execution_count": 13,
   "metadata": {},
   "outputs": [],
   "source": [
    "joined_freshfood = gpd.sjoin(fresh_food_clipped, pop_clipped, how='left', op='within')"
   ]
  },
  {
   "cell_type": "code",
   "execution_count": 14,
   "metadata": {},
   "outputs": [
    {
     "data": {
      "text/plain": [
       "(372, 28)"
      ]
     },
     "execution_count": 14,
     "metadata": {},
     "output_type": "execute_result"
    }
   ],
   "source": [
    "joined_freshfood.shape"
   ]
  },
  {
   "cell_type": "code",
   "execution_count": 15,
   "metadata": {},
   "outputs": [],
   "source": [
    "cleaned_joined_freshfood = joined_freshfood[~joined_freshfood['dest_name_full'].isnull()]"
   ]
  },
  {
   "cell_type": "code",
   "execution_count": 16,
   "metadata": {},
   "outputs": [
    {
     "data": {
      "text/plain": [
       "Index(['dest_oid', 'osm_id', 'dest_name', 'dest_name_full', 'edge_ogc_fid',\n",
       "       'n1', 'n2', 'n1_distance', 'n2_distance', 'match_point_distance',\n",
       "       'geometry', 'index_right', 'index', 'pop_est', 'area_sqkm',\n",
       "       'pop_per_sqkm', 'intersection_count', 'intersections_per_sqkm',\n",
       "       'count_pub', 'count_cafe', 'count_restaurant', 'count_convenience',\n",
       "       'count_bar', 'count_fast_food', 'count_food_court',\n",
       "       'count_fresh_food_market', 'count_pt_any', 'pop_quintile'],\n",
       "      dtype='object')"
      ]
     },
     "execution_count": 16,
     "metadata": {},
     "output_type": "execute_result"
    }
   ],
   "source": [
    "cleaned_joined_freshfood.columns"
   ]
  },
  {
   "cell_type": "markdown",
   "metadata": {},
   "source": [
    "## Select Destinations"
   ]
  },
  {
   "cell_type": "code",
   "execution_count": 17,
   "metadata": {},
   "outputs": [],
   "source": [
    "q1_count_list = cleaned_joined_freshfood.loc[cleaned_joined_freshfood['pop_quintile'] == 0].values.tolist()\n",
    "q2_count_list = cleaned_joined_freshfood.loc[cleaned_joined_freshfood['pop_quintile'] == 1].values.tolist()\n",
    "q3_count_list = cleaned_joined_freshfood.loc[cleaned_joined_freshfood['pop_quintile'] == 2].values.tolist()\n",
    "q4_count_list = cleaned_joined_freshfood.loc[cleaned_joined_freshfood['pop_quintile'] == 3].values.tolist()\n",
    "q5_count_list = cleaned_joined_freshfood.loc[cleaned_joined_freshfood['pop_quintile'] == 4].values.tolist()"
   ]
  },
  {
   "cell_type": "code",
   "execution_count": 18,
   "metadata": {},
   "outputs": [],
   "source": [
    "count = 0\n",
    "if len(q1_count_list) < 10:\n",
    "    q1_sampledeficit = 10 - len(q1_count_list)\n",
    "    if q1_sampledeficit % 4 == 0:\n",
    "        count = count\n",
    "    else:\n",
    "        count = count + (q1_sampledeficit % 4)\n",
    "    extra_q1 = (int(q1_sampledeficit/4))\n",
    "    q1_dests = len(q1_count_list) \n",
    "else:\n",
    "    extra_q1 = 0\n",
    "    q1_dests = 10\n",
    "if len(q2_count_list) < (extra_q1 + 10):\n",
    "    q2_sampledeficit = (extra_q1 + 10) - len(q2_count_list)\n",
    "    if q2_sampledeficit % 3 == 0:\n",
    "        count = count\n",
    "    else:\n",
    "        count = count +(q2_sampledeficit % 3)\n",
    "    extra_q2 = (int(q2_sampledeficit/3))\n",
    "    q2_dests = len(q2_count_list)\n",
    "else:\n",
    "    extra_q2 = 0\n",
    "    q2_dests = 10 + extra_q1\n",
    "if len(q3_count_list) < (extra_q1 + extra_q2 + 10):\n",
    "    q3_sampledeficit = (extra_q1 + extra_q2 + 10) - len(q3_count_list)\n",
    "    if q3_sampledeficit % 2 == 0:\n",
    "        count = count\n",
    "    else:\n",
    "        count = count + (q3_sampledeficit % 2)\n",
    "    extra_q3 = (int(q3_sampledeficit/2))\n",
    "    q3_dests = len(q3_count_list)\n",
    "else:\n",
    "    extra_q3 = 0\n",
    "    q3_dests = 10 + extra_q1 + extra_q2\n",
    "if len(q4_count_list) < (extra_q1 + extra_q2 + extra_q3 + 10):\n",
    "    q4_sampledeficit = (extra_q1 + extra_q2 + extra_q3 + 10) - len(q4_count_list)\n",
    "    extra_q4 = (int(q4_sampledeficit))\n",
    "    q4_dests = len(q4_count_list)\n",
    "else:\n",
    "    extra_q4 = 0\n",
    "    q4_dests = 10 + extra_q1 + extra_q2 + extra_q3\n",
    "if len(q5_count_list) < (extra_q1 + extra_q2 + extra_q3 + extra_q4 + 10):\n",
    "    print(\"fewer than 50 destinations exist\")\n",
    "else:\n",
    "    q5_dests = 10 + extra_q1 + extra_q2 + extra_q3 + extra_q4 + count"
   ]
  },
  {
   "cell_type": "code",
   "execution_count": 19,
   "metadata": {},
   "outputs": [],
   "source": [
    "q1_count = cleaned_joined_freshfood.loc[cleaned_joined_freshfood['pop_quintile'] == 0]\n",
    "q2_count = cleaned_joined_freshfood.loc[cleaned_joined_freshfood['pop_quintile'] == 1]\n",
    "q3_count = cleaned_joined_freshfood.loc[cleaned_joined_freshfood['pop_quintile'] == 2]\n",
    "q4_count = cleaned_joined_freshfood.loc[cleaned_joined_freshfood['pop_quintile'] == 3]\n",
    "q5_count = cleaned_joined_freshfood.loc[cleaned_joined_freshfood['pop_quintile'] == 4]"
   ]
  },
  {
   "cell_type": "code",
   "execution_count": 20,
   "metadata": {},
   "outputs": [],
   "source": [
    "q1_sample_dests = q1_count.sample(q1_dests)\n",
    "q2_sample_dests = q2_count.sample(q2_dests)\n",
    "q3_sample_dests = q3_count.sample(q3_dests)\n",
    "q4_sample_dests = q4_count.sample(q4_dests)\n",
    "q5_sample_dests = q5_count.sample(q5_dests)"
   ]
  },
  {
   "cell_type": "code",
   "execution_count": 21,
   "metadata": {},
   "outputs": [],
   "source": [
    "sample_dests = [q1_sample_dests, q2_sample_dests, q3_sample_dests, q4_sample_dests, q5_sample_dests]"
   ]
  },
  {
   "cell_type": "code",
   "execution_count": 22,
   "metadata": {},
   "outputs": [],
   "source": [
    "final_sample_dests = pd.concat(sample_dests)"
   ]
  },
  {
   "cell_type": "code",
   "execution_count": 23,
   "metadata": {},
   "outputs": [],
   "source": [
    "final_sample_dests = final_sample_dests.reset_index(drop=True)"
   ]
  },
  {
   "cell_type": "code",
   "execution_count": 24,
   "metadata": {},
   "outputs": [
    {
     "data": {
      "text/html": [
       "<div>\n",
       "<style scoped>\n",
       "    .dataframe tbody tr th:only-of-type {\n",
       "        vertical-align: middle;\n",
       "    }\n",
       "\n",
       "    .dataframe tbody tr th {\n",
       "        vertical-align: top;\n",
       "    }\n",
       "\n",
       "    .dataframe thead th {\n",
       "        text-align: right;\n",
       "    }\n",
       "</style>\n",
       "<table border=\"1\" class=\"dataframe\">\n",
       "  <thead>\n",
       "    <tr style=\"text-align: right;\">\n",
       "      <th></th>\n",
       "      <th>dest_oid</th>\n",
       "      <th>osm_id</th>\n",
       "      <th>dest_name</th>\n",
       "      <th>dest_name_full</th>\n",
       "      <th>edge_ogc_fid</th>\n",
       "      <th>n1</th>\n",
       "      <th>n2</th>\n",
       "      <th>n1_distance</th>\n",
       "      <th>n2_distance</th>\n",
       "      <th>match_point_distance</th>\n",
       "      <th>...</th>\n",
       "      <th>count_pub</th>\n",
       "      <th>count_cafe</th>\n",
       "      <th>count_restaurant</th>\n",
       "      <th>count_convenience</th>\n",
       "      <th>count_bar</th>\n",
       "      <th>count_fast_food</th>\n",
       "      <th>count_food_court</th>\n",
       "      <th>count_fresh_food_market</th>\n",
       "      <th>count_pt_any</th>\n",
       "      <th>pop_quintile</th>\n",
       "    </tr>\n",
       "  </thead>\n",
       "  <tbody>\n",
       "    <tr>\n",
       "      <th>0</th>\n",
       "      <td>23</td>\n",
       "      <td>5336040626</td>\n",
       "      <td>fresh_food_market</td>\n",
       "      <td>Fresh Food / Market</td>\n",
       "      <td>114871</td>\n",
       "      <td>5334832864</td>\n",
       "      <td>5334832855</td>\n",
       "      <td>56</td>\n",
       "      <td>168</td>\n",
       "      <td>14</td>\n",
       "      <td>...</td>\n",
       "      <td>NaN</td>\n",
       "      <td>NaN</td>\n",
       "      <td>NaN</td>\n",
       "      <td>NaN</td>\n",
       "      <td>NaN</td>\n",
       "      <td>NaN</td>\n",
       "      <td>NaN</td>\n",
       "      <td>1.0</td>\n",
       "      <td>2.0</td>\n",
       "      <td>0.0</td>\n",
       "    </tr>\n",
       "  </tbody>\n",
       "</table>\n",
       "<p>1 rows × 28 columns</p>\n",
       "</div>"
      ],
      "text/plain": [
       "   dest_oid      osm_id          dest_name       dest_name_full  edge_ogc_fid  \\\n",
       "0        23  5336040626  fresh_food_market  Fresh Food / Market        114871   \n",
       "\n",
       "           n1          n2  n1_distance  n2_distance  match_point_distance  \\\n",
       "0  5334832864  5334832855           56          168                    14   \n",
       "\n",
       "   ... count_pub  count_cafe  count_restaurant  count_convenience  count_bar  \\\n",
       "0  ...       NaN         NaN               NaN                NaN        NaN   \n",
       "\n",
       "   count_fast_food  count_food_court  count_fresh_food_market  count_pt_any  \\\n",
       "0              NaN               NaN                      1.0           2.0   \n",
       "\n",
       "   pop_quintile  \n",
       "0           0.0  \n",
       "\n",
       "[1 rows x 28 columns]"
      ]
     },
     "execution_count": 24,
     "metadata": {},
     "output_type": "execute_result"
    }
   ],
   "source": [
    "final_sample_dests.head(1)"
   ]
  },
  {
   "cell_type": "code",
   "execution_count": 25,
   "metadata": {},
   "outputs": [
    {
     "name": "stderr",
     "output_type": "stream",
     "text": [
      "/opt/conda/lib/python3.7/site-packages/pyproj/crs/crs.py:53: FutureWarning: '+init=<authority>:<code>' syntax is deprecated. '<authority>:<code>' is the preferred initialization method. When making the change, be mindful of axis order changes: https://pyproj4.github.io/pyproj/stable/gotchas.html#axis-order-changes-in-proj-6\n",
      "  return _prepare_from_string(\" \".join(pjargs))\n"
     ]
    }
   ],
   "source": [
    "final_sample_dests = final_sample_dests.to_crs({'init': 'epsg:4326'})"
   ]
  },
  {
   "cell_type": "code",
   "execution_count": 26,
   "metadata": {},
   "outputs": [],
   "source": [
    "final_sample_dests['lat'] = final_sample_dests.geometry.y\n",
    "final_sample_dests['lon'] = final_sample_dests.geometry.x"
   ]
  },
  {
   "cell_type": "code",
   "execution_count": 27,
   "metadata": {},
   "outputs": [
    {
     "data": {
      "text/html": [
       "<div>\n",
       "<style scoped>\n",
       "    .dataframe tbody tr th:only-of-type {\n",
       "        vertical-align: middle;\n",
       "    }\n",
       "\n",
       "    .dataframe tbody tr th {\n",
       "        vertical-align: top;\n",
       "    }\n",
       "\n",
       "    .dataframe thead th {\n",
       "        text-align: right;\n",
       "    }\n",
       "</style>\n",
       "<table border=\"1\" class=\"dataframe\">\n",
       "  <thead>\n",
       "    <tr style=\"text-align: right;\">\n",
       "      <th></th>\n",
       "      <th>dest_oid</th>\n",
       "      <th>osm_id</th>\n",
       "      <th>dest_name</th>\n",
       "      <th>dest_name_full</th>\n",
       "      <th>edge_ogc_fid</th>\n",
       "      <th>n1</th>\n",
       "      <th>n2</th>\n",
       "      <th>n1_distance</th>\n",
       "      <th>n2_distance</th>\n",
       "      <th>match_point_distance</th>\n",
       "      <th>...</th>\n",
       "      <th>count_restaurant</th>\n",
       "      <th>count_convenience</th>\n",
       "      <th>count_bar</th>\n",
       "      <th>count_fast_food</th>\n",
       "      <th>count_food_court</th>\n",
       "      <th>count_fresh_food_market</th>\n",
       "      <th>count_pt_any</th>\n",
       "      <th>pop_quintile</th>\n",
       "      <th>lat</th>\n",
       "      <th>lon</th>\n",
       "    </tr>\n",
       "  </thead>\n",
       "  <tbody>\n",
       "    <tr>\n",
       "      <th>0</th>\n",
       "      <td>23</td>\n",
       "      <td>5336040626</td>\n",
       "      <td>fresh_food_market</td>\n",
       "      <td>Fresh Food / Market</td>\n",
       "      <td>114871</td>\n",
       "      <td>5334832864</td>\n",
       "      <td>5334832855</td>\n",
       "      <td>56</td>\n",
       "      <td>168</td>\n",
       "      <td>14</td>\n",
       "      <td>...</td>\n",
       "      <td>NaN</td>\n",
       "      <td>NaN</td>\n",
       "      <td>NaN</td>\n",
       "      <td>NaN</td>\n",
       "      <td>NaN</td>\n",
       "      <td>1.0</td>\n",
       "      <td>2.0</td>\n",
       "      <td>0.0</td>\n",
       "      <td>-35.115960</td>\n",
       "      <td>138.497700</td>\n",
       "    </tr>\n",
       "    <tr>\n",
       "      <th>1</th>\n",
       "      <td>389</td>\n",
       "      <td>552718759</td>\n",
       "      <td>fresh_food_market</td>\n",
       "      <td>Fresh Food / Market</td>\n",
       "      <td>208545</td>\n",
       "      <td>363242888</td>\n",
       "      <td>363242879</td>\n",
       "      <td>0</td>\n",
       "      <td>104</td>\n",
       "      <td>28</td>\n",
       "      <td>...</td>\n",
       "      <td>NaN</td>\n",
       "      <td>NaN</td>\n",
       "      <td>NaN</td>\n",
       "      <td>NaN</td>\n",
       "      <td>NaN</td>\n",
       "      <td>1.0</td>\n",
       "      <td>NaN</td>\n",
       "      <td>0.0</td>\n",
       "      <td>-35.113667</td>\n",
       "      <td>138.492695</td>\n",
       "    </tr>\n",
       "    <tr>\n",
       "      <th>2</th>\n",
       "      <td>466</td>\n",
       "      <td>26805247</td>\n",
       "      <td>fresh_food_market</td>\n",
       "      <td>Fresh Food / Market</td>\n",
       "      <td>42042</td>\n",
       "      <td>1069616575</td>\n",
       "      <td>1069616180</td>\n",
       "      <td>12</td>\n",
       "      <td>0</td>\n",
       "      <td>4</td>\n",
       "      <td>...</td>\n",
       "      <td>NaN</td>\n",
       "      <td>NaN</td>\n",
       "      <td>NaN</td>\n",
       "      <td>NaN</td>\n",
       "      <td>NaN</td>\n",
       "      <td>1.0</td>\n",
       "      <td>NaN</td>\n",
       "      <td>0.0</td>\n",
       "      <td>-34.790441</td>\n",
       "      <td>138.695935</td>\n",
       "    </tr>\n",
       "    <tr>\n",
       "      <th>3</th>\n",
       "      <td>190</td>\n",
       "      <td>7006866699</td>\n",
       "      <td>fresh_food_market</td>\n",
       "      <td>Fresh Food / Market</td>\n",
       "      <td>133757</td>\n",
       "      <td>1920840918</td>\n",
       "      <td>6010677658</td>\n",
       "      <td>123</td>\n",
       "      <td>8</td>\n",
       "      <td>23</td>\n",
       "      <td>...</td>\n",
       "      <td>NaN</td>\n",
       "      <td>NaN</td>\n",
       "      <td>NaN</td>\n",
       "      <td>NaN</td>\n",
       "      <td>NaN</td>\n",
       "      <td>1.0</td>\n",
       "      <td>NaN</td>\n",
       "      <td>0.0</td>\n",
       "      <td>-34.906512</td>\n",
       "      <td>138.578225</td>\n",
       "    </tr>\n",
       "    <tr>\n",
       "      <th>4</th>\n",
       "      <td>393</td>\n",
       "      <td>203684561</td>\n",
       "      <td>fresh_food_market</td>\n",
       "      <td>Fresh Food / Market</td>\n",
       "      <td>182971</td>\n",
       "      <td>632219160</td>\n",
       "      <td>2136833724</td>\n",
       "      <td>43</td>\n",
       "      <td>42</td>\n",
       "      <td>24</td>\n",
       "      <td>...</td>\n",
       "      <td>NaN</td>\n",
       "      <td>NaN</td>\n",
       "      <td>NaN</td>\n",
       "      <td>NaN</td>\n",
       "      <td>NaN</td>\n",
       "      <td>NaN</td>\n",
       "      <td>2.0</td>\n",
       "      <td>0.0</td>\n",
       "      <td>-34.881401</td>\n",
       "      <td>138.491495</td>\n",
       "    </tr>\n",
       "  </tbody>\n",
       "</table>\n",
       "<p>5 rows × 30 columns</p>\n",
       "</div>"
      ],
      "text/plain": [
       "   dest_oid      osm_id          dest_name       dest_name_full  edge_ogc_fid  \\\n",
       "0        23  5336040626  fresh_food_market  Fresh Food / Market        114871   \n",
       "1       389   552718759  fresh_food_market  Fresh Food / Market        208545   \n",
       "2       466    26805247  fresh_food_market  Fresh Food / Market         42042   \n",
       "3       190  7006866699  fresh_food_market  Fresh Food / Market        133757   \n",
       "4       393   203684561  fresh_food_market  Fresh Food / Market        182971   \n",
       "\n",
       "           n1          n2  n1_distance  n2_distance  match_point_distance  \\\n",
       "0  5334832864  5334832855           56          168                    14   \n",
       "1   363242888   363242879            0          104                    28   \n",
       "2  1069616575  1069616180           12            0                     4   \n",
       "3  1920840918  6010677658          123            8                    23   \n",
       "4   632219160  2136833724           43           42                    24   \n",
       "\n",
       "   ... count_restaurant  count_convenience  count_bar  count_fast_food  \\\n",
       "0  ...              NaN                NaN        NaN              NaN   \n",
       "1  ...              NaN                NaN        NaN              NaN   \n",
       "2  ...              NaN                NaN        NaN              NaN   \n",
       "3  ...              NaN                NaN        NaN              NaN   \n",
       "4  ...              NaN                NaN        NaN              NaN   \n",
       "\n",
       "   count_food_court  count_fresh_food_market  count_pt_any  pop_quintile  \\\n",
       "0               NaN                      1.0           2.0           0.0   \n",
       "1               NaN                      1.0           NaN           0.0   \n",
       "2               NaN                      1.0           NaN           0.0   \n",
       "3               NaN                      1.0           NaN           0.0   \n",
       "4               NaN                      NaN           2.0           0.0   \n",
       "\n",
       "         lat         lon  \n",
       "0 -35.115960  138.497700  \n",
       "1 -35.113667  138.492695  \n",
       "2 -34.790441  138.695935  \n",
       "3 -34.906512  138.578225  \n",
       "4 -34.881401  138.491495  \n",
       "\n",
       "[5 rows x 30 columns]"
      ]
     },
     "execution_count": 27,
     "metadata": {},
     "output_type": "execute_result"
    }
   ],
   "source": [
    "final_sample_dests.head()"
   ]
  },
  {
   "cell_type": "code",
   "execution_count": 28,
   "metadata": {},
   "outputs": [
    {
     "ename": "KeyError",
     "evalue": "'dest_oid'",
     "output_type": "error",
     "traceback": [
      "\u001b[0;31m---------------------------------------------------------------------------\u001b[0m",
      "\u001b[0;31mKeyError\u001b[0m                                  Traceback (most recent call last)",
      "\u001b[0;32m<ipython-input-28-4345c2516748>\u001b[0m in \u001b[0;36m<module>\u001b[0;34m\u001b[0m\n\u001b[1;32m     13\u001b[0m \u001b[0;34m\u001b[0m\u001b[0m\n\u001b[1;32m     14\u001b[0m         \u001b[0;31m# calculate total street length and edge count in each dataset, then add to indicators\u001b[0m\u001b[0;34m\u001b[0m\u001b[0;34m\u001b[0m\u001b[0;34m\u001b[0m\u001b[0m\n\u001b[0;32m---> 15\u001b[0;31m         \u001b[0mfilenames\u001b[0m\u001b[0;34m[\u001b[0m\u001b[0mdestination\u001b[0m\u001b[0;34m]\u001b[0m\u001b[0;34m[\u001b[0m\u001b[0;34m\"City_Name\"\u001b[0m\u001b[0;34m]\u001b[0m \u001b[0;34m=\u001b[0m \u001b[0mcity_name\u001b[0m\u001b[0;34m\u001b[0m\u001b[0;34m\u001b[0m\u001b[0m\n\u001b[0m\u001b[1;32m     16\u001b[0m \u001b[0;34m\u001b[0m\u001b[0m\n\u001b[1;32m     17\u001b[0m \u001b[0;34m\u001b[0m\u001b[0m\n",
      "\u001b[0;31mKeyError\u001b[0m: 'dest_oid'"
     ]
    }
   ],
   "source": [
    "cities = ['adelaide']\n",
    "filenames = {}\n",
    "\n",
    "for city in cities: \n",
    "    for destination in final_sample_dests:\n",
    "        city_name = {city}\n",
    "        hexagon_pop_quantile = final_sample_dests['pop_quintile']\n",
    "        latitude = final_sample_dests['lat']\n",
    "        longitude = final_sample_dests['lon']\n",
    "        google_maps_screenshot = f\"{latitude}_{longitude}_{city}_google_maps_image\"\n",
    "        google_satellite_screenshot = f\"{latitude}_{longitude}_{city}_google_satellite_image\"\n",
    "        google_street_view_screenshot = f\"{latitude}_{longitude}_{city}_google_street_view_image\"\n",
    "\n",
    "        # calculate total street length and edge count in each dataset, then add to indicators\n",
    "        filenames[destination][\"City_Name\"] = city_name\n",
    "                  \n",
    "\n",
    "                  \n",
    "        filenames[destination][\"Hexagon_Pop_Quintile\"] = hexagon_pop_quantile\n",
    "        filenames[destination][\"Latitude\"] = latitude\n",
    "        filenames[destination][\"Longitude\"] = longitude\n",
    "        filenames[destination][\"Google_Maps_Date\"] = \"\"\n",
    "        filenames[destination][\"Google_Maps_Screenshot\"] = google_maps_screenshot\n",
    "        filenames[destination][\"Google_Satellite_Date\"] = \"\"\n",
    "        filenames[destination][\"Google_Satellite_Screenshot\"] = google_satellite_screenshot\n",
    "        filenames[destination][\"Google_Street_View_Date\"] = \"\"\n",
    "        filenames[destination][\"Google_Street_View_Screenshot\"] = google_street_view_screenshot\n",
    "        filenames[destination][\"Assessment\"] = \"\"\n",
    "        print(ox.ts(), f\"finshed names for {city}\")\n",
    "\n",
    "# turn indicators into a dataframe and save to disk\n",
    "df_filenames = pd.DataFrame(filenames).T\n",
    "df_filenames.to_csv(filenames_filepath, index=True, encoding=\"utf-8\")\n",
    "print(ox.ts(), f'all done, saved filenames to disk at \"{filenames_filepath}\"')"
   ]
  }
 ],
 "metadata": {
  "kernelspec": {
   "display_name": "Python (GlobalInd)",
   "language": "python",
   "name": "globalind"
  },
  "language_info": {
   "codemirror_mode": {
    "name": "ipython",
    "version": 3
   },
   "file_extension": ".py",
   "mimetype": "text/x-python",
   "name": "python",
   "nbconvert_exporter": "python",
   "pygments_lexer": "ipython3",
   "version": "3.7.6"
  }
 },
 "nbformat": 4,
 "nbformat_minor": 4
}
