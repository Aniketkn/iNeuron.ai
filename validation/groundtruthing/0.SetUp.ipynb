{
 "cells": [
  {
   "cell_type": "code",
   "execution_count": 67,
   "metadata": {},
   "outputs": [],
   "source": [
    "import json\n",
    "import os\n",
    "import geopandas as gpd\n",
    "import matplotlib.pyplot as plt\n",
    "import pandas as pd\n",
    "import osmnx as ox\n",
    "import random\n",
    "import numpy as np\n",
    "\n",
    "%matplotlib inline"
   ]
  },
  {
   "cell_type": "markdown",
   "metadata": {},
   "source": [
    "## Load and Clean Data"
   ]
  },
  {
   "cell_type": "code",
   "execution_count": 69,
   "metadata": {},
   "outputs": [],
   "source": [
    "process_folder = '../../process'\n",
    "process_config_path = '../../process/configuration/adelaide.json'\n",
    "pop_col = [\"pop_ghs_2015\"]\n",
    "dest_col = [\"destinations\"]\n",
    "np.random.seed(24)"
   ]
  },
  {
   "cell_type": "code",
   "execution_count": 3,
   "metadata": {},
   "outputs": [],
   "source": [
    "with open(process_config_path) as json_file:\n",
    "    config = json.load(json_file)\n",
    "\n",
    "input_folder = os.path.join(process_folder, config['folder'])\n",
    "\n",
    "# the path of \"adelaide_au_2020_1600m_buffer.gpkg\"\n",
    "gpkg_input = os.path.join(input_folder, config['geopackagePath'])"
   ]
  },
  {
   "cell_type": "code",
   "execution_count": 4,
   "metadata": {},
   "outputs": [],
   "source": [
    "pop = gpd.read_file(gpkg_input, layer='pop_ghs_2015' )"
   ]
  },
  {
   "cell_type": "code",
   "execution_count": 5,
   "metadata": {},
   "outputs": [
    {
     "data": {
      "text/plain": [
       "Index(['index', 'pop_est', 'area_sqkm', 'pop_per_sqkm', 'intersection_count',\n",
       "       'intersections_per_sqkm', 'count_pub', 'count_cafe', 'count_restaurant',\n",
       "       'count_convenience', 'count_bar', 'count_fast_food', 'count_food_court',\n",
       "       'count_fresh_food_market', 'count_pt_any', 'geometry'],\n",
       "      dtype='object')"
      ]
     },
     "execution_count": 5,
     "metadata": {},
     "output_type": "execute_result"
    }
   ],
   "source": [
    "pop.columns"
   ]
  },
  {
   "cell_type": "code",
   "execution_count": 6,
   "metadata": {},
   "outputs": [],
   "source": [
    "food_array = pop['count_fresh_food_market'].unique()"
   ]
  },
  {
   "cell_type": "code",
   "execution_count": 7,
   "metadata": {},
   "outputs": [
    {
     "data": {
      "text/plain": [
       "array([nan,  1.,  2.,  4.,  6.,  3.,  5.])"
      ]
     },
     "execution_count": 7,
     "metadata": {},
     "output_type": "execute_result"
    }
   ],
   "source": [
    "food_array"
   ]
  },
  {
   "cell_type": "code",
   "execution_count": 8,
   "metadata": {},
   "outputs": [],
   "source": [
    "dests = gpd.read_file(gpkg_input, layer='destinations' )"
   ]
  },
  {
   "cell_type": "code",
   "execution_count": 9,
   "metadata": {},
   "outputs": [
    {
     "data": {
      "text/plain": [
       "Index(['dest_oid', 'osm_id', 'dest_name', 'dest_name_full', 'edge_ogc_fid',\n",
       "       'n1', 'n2', 'n1_distance', 'n2_distance', 'match_point_distance',\n",
       "       'geometry'],\n",
       "      dtype='object')"
      ]
     },
     "execution_count": 9,
     "metadata": {},
     "output_type": "execute_result"
    }
   ],
   "source": [
    "dests.columns"
   ]
  },
  {
   "cell_type": "code",
   "execution_count": 10,
   "metadata": {},
   "outputs": [],
   "source": [
    "dests_array = dests['dest_name_full'].unique()"
   ]
  },
  {
   "cell_type": "code",
   "execution_count": 11,
   "metadata": {},
   "outputs": [
    {
     "data": {
      "text/plain": [
       "array(['Fresh Food / Market', 'Convenience',\n",
       "       'Public transport stop (any)', 'Restaurant', 'Café', 'Food court',\n",
       "       'Fast food', 'Pub', 'Bar'], dtype=object)"
      ]
     },
     "execution_count": 11,
     "metadata": {},
     "output_type": "execute_result"
    }
   ],
   "source": [
    "dests_array"
   ]
  },
  {
   "cell_type": "code",
   "execution_count": 12,
   "metadata": {},
   "outputs": [],
   "source": [
    "fresh_food = dests[dests['dest_name_full'].str.contains('Fresh Food / Market')]"
   ]
  },
  {
   "cell_type": "code",
   "execution_count": 13,
   "metadata": {},
   "outputs": [],
   "source": [
    "gdf_study_area = gpd.read_file(gpkg_input, layer=\"urban_study_region\")\n",
    "study_area = gdf_study_area[\"geometry\"].iloc[0]"
   ]
  },
  {
   "cell_type": "code",
   "execution_count": 14,
   "metadata": {},
   "outputs": [],
   "source": [
    "crs = gdf_study_area.crs\n",
    "if pop.crs != crs:\n",
    "    pop = pop.to_crs(crs)\n",
    "if fresh_food.crs != crs:\n",
    "    fresh_food = fresh_food.to_crs(crs)"
   ]
  },
  {
   "cell_type": "code",
   "execution_count": 15,
   "metadata": {},
   "outputs": [],
   "source": [
    "import warnings\n",
    "\n",
    "warnings.filterwarnings(\"ignore\", \"GeoSeries.notna\", UserWarning)  # temp warning suppression\n",
    "pop_clipped = gpd.clip(pop, study_area)\n",
    "fresh_food_clipped = gpd.clip(fresh_food, study_area)"
   ]
  },
  {
   "cell_type": "markdown",
   "metadata": {},
   "source": [
    "## Create Density-Based Quintiles"
   ]
  },
  {
   "cell_type": "code",
   "execution_count": 16,
   "metadata": {},
   "outputs": [],
   "source": [
    "pop_clipped['pop_quintile'] = pd.qcut(pop_clipped['pop_est'], 5, labels=False)"
   ]
  },
  {
   "cell_type": "code",
   "execution_count": 17,
   "metadata": {},
   "outputs": [
    {
     "data": {
      "text/html": [
       "<div>\n",
       "<style scoped>\n",
       "    .dataframe tbody tr th:only-of-type {\n",
       "        vertical-align: middle;\n",
       "    }\n",
       "\n",
       "    .dataframe tbody tr th {\n",
       "        vertical-align: top;\n",
       "    }\n",
       "\n",
       "    .dataframe thead th {\n",
       "        text-align: right;\n",
       "    }\n",
       "</style>\n",
       "<table border=\"1\" class=\"dataframe\">\n",
       "  <thead>\n",
       "    <tr style=\"text-align: right;\">\n",
       "      <th></th>\n",
       "      <th>index</th>\n",
       "      <th>pop_est</th>\n",
       "      <th>area_sqkm</th>\n",
       "      <th>pop_per_sqkm</th>\n",
       "      <th>intersection_count</th>\n",
       "      <th>intersections_per_sqkm</th>\n",
       "      <th>count_pub</th>\n",
       "      <th>count_cafe</th>\n",
       "      <th>count_restaurant</th>\n",
       "      <th>count_convenience</th>\n",
       "      <th>count_bar</th>\n",
       "      <th>count_fast_food</th>\n",
       "      <th>count_food_court</th>\n",
       "      <th>count_fresh_food_market</th>\n",
       "      <th>count_pt_any</th>\n",
       "      <th>geometry</th>\n",
       "      <th>pop_quintile</th>\n",
       "    </tr>\n",
       "  </thead>\n",
       "  <tbody>\n",
       "    <tr>\n",
       "      <th>0</th>\n",
       "      <td>40313</td>\n",
       "      <td>183.111305</td>\n",
       "      <td>0.040548</td>\n",
       "      <td>4515.914594</td>\n",
       "      <td>2</td>\n",
       "      <td>49.324258</td>\n",
       "      <td>1.0</td>\n",
       "      <td>NaN</td>\n",
       "      <td>NaN</td>\n",
       "      <td>NaN</td>\n",
       "      <td>NaN</td>\n",
       "      <td>NaN</td>\n",
       "      <td>NaN</td>\n",
       "      <td>NaN</td>\n",
       "      <td>1.0</td>\n",
       "      <td>POLYGON ((419652.000 -3944385.000, 419714.000 ...</td>\n",
       "      <td>4.0</td>\n",
       "    </tr>\n",
       "    <tr>\n",
       "      <th>2</th>\n",
       "      <td>40264</td>\n",
       "      <td>172.549214</td>\n",
       "      <td>0.040548</td>\n",
       "      <td>4255.430957</td>\n",
       "      <td>3</td>\n",
       "      <td>73.986387</td>\n",
       "      <td>1.0</td>\n",
       "      <td>NaN</td>\n",
       "      <td>NaN</td>\n",
       "      <td>NaN</td>\n",
       "      <td>NaN</td>\n",
       "      <td>NaN</td>\n",
       "      <td>NaN</td>\n",
       "      <td>NaN</td>\n",
       "      <td>NaN</td>\n",
       "      <td>POLYGON ((410557.908 -3944459.000, 410600.000 ...</td>\n",
       "      <td>3.0</td>\n",
       "    </tr>\n",
       "    <tr>\n",
       "      <th>4</th>\n",
       "      <td>46118</td>\n",
       "      <td>365.420676</td>\n",
       "      <td>0.040548</td>\n",
       "      <td>9012.051796</td>\n",
       "      <td>11</td>\n",
       "      <td>271.283417</td>\n",
       "      <td>1.0</td>\n",
       "      <td>NaN</td>\n",
       "      <td>NaN</td>\n",
       "      <td>NaN</td>\n",
       "      <td>NaN</td>\n",
       "      <td>NaN</td>\n",
       "      <td>NaN</td>\n",
       "      <td>NaN</td>\n",
       "      <td>NaN</td>\n",
       "      <td>POLYGON ((419280.000 -3939807.000, 419342.000 ...</td>\n",
       "      <td>4.0</td>\n",
       "    </tr>\n",
       "    <tr>\n",
       "      <th>5</th>\n",
       "      <td>46700</td>\n",
       "      <td>199.951604</td>\n",
       "      <td>0.040548</td>\n",
       "      <td>4931.232227</td>\n",
       "      <td>5</td>\n",
       "      <td>123.310644</td>\n",
       "      <td>1.0</td>\n",
       "      <td>NaN</td>\n",
       "      <td>1.0</td>\n",
       "      <td>NaN</td>\n",
       "      <td>NaN</td>\n",
       "      <td>NaN</td>\n",
       "      <td>NaN</td>\n",
       "      <td>NaN</td>\n",
       "      <td>NaN</td>\n",
       "      <td>POLYGON ((423372.000 -3939371.000, 423434.000 ...</td>\n",
       "      <td>4.0</td>\n",
       "    </tr>\n",
       "    <tr>\n",
       "      <th>6</th>\n",
       "      <td>43320</td>\n",
       "      <td>150.517657</td>\n",
       "      <td>0.040548</td>\n",
       "      <td>3712.085837</td>\n",
       "      <td>3</td>\n",
       "      <td>73.986387</td>\n",
       "      <td>1.0</td>\n",
       "      <td>NaN</td>\n",
       "      <td>NaN</td>\n",
       "      <td>NaN</td>\n",
       "      <td>NaN</td>\n",
       "      <td>1.0</td>\n",
       "      <td>NaN</td>\n",
       "      <td>NaN</td>\n",
       "      <td>2.0</td>\n",
       "      <td>POLYGON ((419466.000 -3942096.000, 419528.000 ...</td>\n",
       "      <td>3.0</td>\n",
       "    </tr>\n",
       "    <tr>\n",
       "      <th>...</th>\n",
       "      <td>...</td>\n",
       "      <td>...</td>\n",
       "      <td>...</td>\n",
       "      <td>...</td>\n",
       "      <td>...</td>\n",
       "      <td>...</td>\n",
       "      <td>...</td>\n",
       "      <td>...</td>\n",
       "      <td>...</td>\n",
       "      <td>...</td>\n",
       "      <td>...</td>\n",
       "      <td>...</td>\n",
       "      <td>...</td>\n",
       "      <td>...</td>\n",
       "      <td>...</td>\n",
       "      <td>...</td>\n",
       "      <td>...</td>\n",
       "    </tr>\n",
       "    <tr>\n",
       "      <th>33935</th>\n",
       "      <td>73317</td>\n",
       "      <td>129.910117</td>\n",
       "      <td>0.040548</td>\n",
       "      <td>3203.860033</td>\n",
       "      <td>5</td>\n",
       "      <td>123.310644</td>\n",
       "      <td>NaN</td>\n",
       "      <td>NaN</td>\n",
       "      <td>NaN</td>\n",
       "      <td>NaN</td>\n",
       "      <td>NaN</td>\n",
       "      <td>NaN</td>\n",
       "      <td>NaN</td>\n",
       "      <td>NaN</td>\n",
       "      <td>NaN</td>\n",
       "      <td>POLYGON ((426906.000 -3917898.000, 426968.000 ...</td>\n",
       "      <td>2.0</td>\n",
       "    </tr>\n",
       "    <tr>\n",
       "      <th>33941</th>\n",
       "      <td>73526</td>\n",
       "      <td>0.603814</td>\n",
       "      <td>0.040548</td>\n",
       "      <td>14.891336</td>\n",
       "      <td>0</td>\n",
       "      <td>0.000000</td>\n",
       "      <td>NaN</td>\n",
       "      <td>NaN</td>\n",
       "      <td>NaN</td>\n",
       "      <td>NaN</td>\n",
       "      <td>NaN</td>\n",
       "      <td>NaN</td>\n",
       "      <td>NaN</td>\n",
       "      <td>NaN</td>\n",
       "      <td>NaN</td>\n",
       "      <td>POLYGON ((424483.126 -3917571.000, 424488.000 ...</td>\n",
       "      <td>0.0</td>\n",
       "    </tr>\n",
       "    <tr>\n",
       "      <th>33942</th>\n",
       "      <td>73527</td>\n",
       "      <td>0.286308</td>\n",
       "      <td>0.040548</td>\n",
       "      <td>7.060964</td>\n",
       "      <td>0</td>\n",
       "      <td>0.000000</td>\n",
       "      <td>NaN</td>\n",
       "      <td>NaN</td>\n",
       "      <td>NaN</td>\n",
       "      <td>NaN</td>\n",
       "      <td>NaN</td>\n",
       "      <td>NaN</td>\n",
       "      <td>NaN</td>\n",
       "      <td>NaN</td>\n",
       "      <td>NaN</td>\n",
       "      <td>POLYGON ((424488.000 -3917571.000, 424550.000 ...</td>\n",
       "      <td>0.0</td>\n",
       "    </tr>\n",
       "    <tr>\n",
       "      <th>33944</th>\n",
       "      <td>73760</td>\n",
       "      <td>62.798863</td>\n",
       "      <td>0.040548</td>\n",
       "      <td>1548.753643</td>\n",
       "      <td>0</td>\n",
       "      <td>0.000000</td>\n",
       "      <td>NaN</td>\n",
       "      <td>NaN</td>\n",
       "      <td>NaN</td>\n",
       "      <td>NaN</td>\n",
       "      <td>NaN</td>\n",
       "      <td>NaN</td>\n",
       "      <td>NaN</td>\n",
       "      <td>NaN</td>\n",
       "      <td>NaN</td>\n",
       "      <td>POLYGON ((426162.000 -3917462.000, 426174.703 ...</td>\n",
       "      <td>1.0</td>\n",
       "    </tr>\n",
       "    <tr>\n",
       "      <th>33952</th>\n",
       "      <td>74209</td>\n",
       "      <td>84.966934</td>\n",
       "      <td>0.040548</td>\n",
       "      <td>2095.465477</td>\n",
       "      <td>4</td>\n",
       "      <td>98.648515</td>\n",
       "      <td>NaN</td>\n",
       "      <td>NaN</td>\n",
       "      <td>NaN</td>\n",
       "      <td>NaN</td>\n",
       "      <td>NaN</td>\n",
       "      <td>NaN</td>\n",
       "      <td>NaN</td>\n",
       "      <td>NaN</td>\n",
       "      <td>NaN</td>\n",
       "      <td>POLYGON ((426162.000 -3917026.000, 426224.000 ...</td>\n",
       "      <td>1.0</td>\n",
       "    </tr>\n",
       "  </tbody>\n",
       "</table>\n",
       "<p>14052 rows × 17 columns</p>\n",
       "</div>"
      ],
      "text/plain": [
       "       index     pop_est  area_sqkm  pop_per_sqkm  intersection_count  \\\n",
       "0      40313  183.111305   0.040548   4515.914594                   2   \n",
       "2      40264  172.549214   0.040548   4255.430957                   3   \n",
       "4      46118  365.420676   0.040548   9012.051796                  11   \n",
       "5      46700  199.951604   0.040548   4931.232227                   5   \n",
       "6      43320  150.517657   0.040548   3712.085837                   3   \n",
       "...      ...         ...        ...           ...                 ...   \n",
       "33935  73317  129.910117   0.040548   3203.860033                   5   \n",
       "33941  73526    0.603814   0.040548     14.891336                   0   \n",
       "33942  73527    0.286308   0.040548      7.060964                   0   \n",
       "33944  73760   62.798863   0.040548   1548.753643                   0   \n",
       "33952  74209   84.966934   0.040548   2095.465477                   4   \n",
       "\n",
       "       intersections_per_sqkm  count_pub  count_cafe  count_restaurant  \\\n",
       "0                   49.324258        1.0         NaN               NaN   \n",
       "2                   73.986387        1.0         NaN               NaN   \n",
       "4                  271.283417        1.0         NaN               NaN   \n",
       "5                  123.310644        1.0         NaN               1.0   \n",
       "6                   73.986387        1.0         NaN               NaN   \n",
       "...                       ...        ...         ...               ...   \n",
       "33935              123.310644        NaN         NaN               NaN   \n",
       "33941                0.000000        NaN         NaN               NaN   \n",
       "33942                0.000000        NaN         NaN               NaN   \n",
       "33944                0.000000        NaN         NaN               NaN   \n",
       "33952               98.648515        NaN         NaN               NaN   \n",
       "\n",
       "       count_convenience  count_bar  count_fast_food  count_food_court  \\\n",
       "0                    NaN        NaN              NaN               NaN   \n",
       "2                    NaN        NaN              NaN               NaN   \n",
       "4                    NaN        NaN              NaN               NaN   \n",
       "5                    NaN        NaN              NaN               NaN   \n",
       "6                    NaN        NaN              1.0               NaN   \n",
       "...                  ...        ...              ...               ...   \n",
       "33935                NaN        NaN              NaN               NaN   \n",
       "33941                NaN        NaN              NaN               NaN   \n",
       "33942                NaN        NaN              NaN               NaN   \n",
       "33944                NaN        NaN              NaN               NaN   \n",
       "33952                NaN        NaN              NaN               NaN   \n",
       "\n",
       "       count_fresh_food_market  count_pt_any  \\\n",
       "0                          NaN           1.0   \n",
       "2                          NaN           NaN   \n",
       "4                          NaN           NaN   \n",
       "5                          NaN           NaN   \n",
       "6                          NaN           2.0   \n",
       "...                        ...           ...   \n",
       "33935                      NaN           NaN   \n",
       "33941                      NaN           NaN   \n",
       "33942                      NaN           NaN   \n",
       "33944                      NaN           NaN   \n",
       "33952                      NaN           NaN   \n",
       "\n",
       "                                                geometry  pop_quintile  \n",
       "0      POLYGON ((419652.000 -3944385.000, 419714.000 ...           4.0  \n",
       "2      POLYGON ((410557.908 -3944459.000, 410600.000 ...           3.0  \n",
       "4      POLYGON ((419280.000 -3939807.000, 419342.000 ...           4.0  \n",
       "5      POLYGON ((423372.000 -3939371.000, 423434.000 ...           4.0  \n",
       "6      POLYGON ((419466.000 -3942096.000, 419528.000 ...           3.0  \n",
       "...                                                  ...           ...  \n",
       "33935  POLYGON ((426906.000 -3917898.000, 426968.000 ...           2.0  \n",
       "33941  POLYGON ((424483.126 -3917571.000, 424488.000 ...           0.0  \n",
       "33942  POLYGON ((424488.000 -3917571.000, 424550.000 ...           0.0  \n",
       "33944  POLYGON ((426162.000 -3917462.000, 426174.703 ...           1.0  \n",
       "33952  POLYGON ((426162.000 -3917026.000, 426224.000 ...           1.0  \n",
       "\n",
       "[14052 rows x 17 columns]"
      ]
     },
     "execution_count": 17,
     "metadata": {},
     "output_type": "execute_result"
    }
   ],
   "source": [
    "pop_clipped"
   ]
  },
  {
   "cell_type": "code",
   "execution_count": 18,
   "metadata": {},
   "outputs": [],
   "source": [
    "quintile_0 = pop_clipped.loc[pop_clipped['pop_quintile'] == 0]\n",
    "quintile_1 = pop_clipped.loc[pop_clipped['pop_quintile'] == 1]\n",
    "quintile_2 = pop_clipped.loc[pop_clipped['pop_quintile'] == 2]\n",
    "quintile_3 = pop_clipped.loc[pop_clipped['pop_quintile'] == 3]\n",
    "quintile_4 = pop_clipped.loc[pop_clipped['pop_quintile'] == 4]"
   ]
  },
  {
   "cell_type": "markdown",
   "metadata": {},
   "source": [
    "## Assign Hexagon-Data to Destinations"
   ]
  },
  {
   "cell_type": "code",
   "execution_count": 19,
   "metadata": {},
   "outputs": [],
   "source": [
    "joined_freshfood = gpd.sjoin(fresh_food_clipped, pop_clipped, how='right', op='within')"
   ]
  },
  {
   "cell_type": "code",
   "execution_count": 20,
   "metadata": {},
   "outputs": [
    {
     "data": {
      "text/plain": [
       "Index(['index_left', 'dest_oid', 'osm_id', 'dest_name', 'dest_name_full',\n",
       "       'edge_ogc_fid', 'n1', 'n2', 'n1_distance', 'n2_distance',\n",
       "       'match_point_distance', 'index', 'pop_est', 'area_sqkm', 'pop_per_sqkm',\n",
       "       'intersection_count', 'intersections_per_sqkm', 'count_pub',\n",
       "       'count_cafe', 'count_restaurant', 'count_convenience', 'count_bar',\n",
       "       'count_fast_food', 'count_food_court', 'count_fresh_food_market',\n",
       "       'count_pt_any', 'geometry', 'pop_quintile'],\n",
       "      dtype='object')"
      ]
     },
     "execution_count": 20,
     "metadata": {},
     "output_type": "execute_result"
    }
   ],
   "source": [
    "joined_freshfood.columns"
   ]
  },
  {
   "cell_type": "code",
   "execution_count": 21,
   "metadata": {},
   "outputs": [],
   "source": [
    "cleaned_joined_freshfood = joined_freshfood[~joined_freshfood['dest_name_full'].isnull()]"
   ]
  },
  {
   "cell_type": "markdown",
   "metadata": {},
   "source": [
    "## Select Destinations"
   ]
  },
  {
   "cell_type": "code",
   "execution_count": 63,
   "metadata": {},
   "outputs": [],
   "source": [
    "final_destiations = cleaned_joined_freshfood.sample(frac=1).groupby('pop_quintile', sort=False).head(10)"
   ]
  },
  {
   "cell_type": "markdown",
   "metadata": {},
   "source": [
    "## Checking Work"
   ]
  },
  {
   "cell_type": "code",
   "execution_count": 50,
   "metadata": {},
   "outputs": [
    {
     "data": {
      "image/png": "[encoded data removed]",
      "text/plain": [
       "<Figure size 432x288 with 1 Axes>"
      ]
     },
     "metadata": {
      "needs_background": "light"
     },
     "output_type": "display_data"
    }
   ],
   "source": [
    "cleaned_joined_freshfood['pop_quintile'].hist()\n",
    "plt.show()"
   ]
  },
  {
   "cell_type": "code",
   "execution_count": null,
   "metadata": {},
   "outputs": [],
   "source": [
    "scheme = 'Quantiles'\n",
    "k = 5\n",
    "cmap = 'plasma'\n",
    "edgecolor = 'none'\n",
    "city_color = 'none'\n",
    "city_edge = 'w'\n",
    "city_edge_lw = 0.2\n",
    "title_y = 1.02\n",
    "title_fontsize = 16\n",
    "title_weight = 'bold'\n",
    "\n",
    "fontcolor = 'w'\n",
    "params = {\"text.color\" : fontcolor,\n",
    "          \"ytick.color\" : fontcolor,\n",
    "          \"xtick.color\" : fontcolor}\n",
    "plt.rcParams.update(params)"
   ]
  },
  {
   "cell_type": "code",
   "execution_count": null,
   "metadata": {},
   "outputs": [],
   "source": [
    "cleaned_joined_freshfood.plot(column='n1', cmap=cmap, edgecolor=edgecolor)"
   ]
  },
  {
   "cell_type": "code",
   "execution_count": null,
   "metadata": {},
   "outputs": [],
   "source": [
    "pop_clipped.plot(column='pop_est', cmap=cmap, edgecolor=edgecolor)"
   ]
  },
  {
   "cell_type": "code",
   "execution_count": null,
   "metadata": {},
   "outputs": [],
   "source": [
    "pop.plot(column='pop_est', cmap=cmap, edgecolor=edgecolor)"
   ]
  },
  {
   "cell_type": "code",
   "execution_count": null,
   "metadata": {},
   "outputs": [],
   "source": [
    "pop.head(1).plot(column='pop_est', cmap=cmap, edgecolor=edgecolor)"
   ]
  },
  {
   "cell_type": "code",
   "execution_count": null,
   "metadata": {},
   "outputs": [],
   "source": [
    "dests.plot(column='n1', cmap=cmap, edgecolor=edgecolor)"
   ]
  },
  {
   "cell_type": "code",
   "execution_count": null,
   "metadata": {},
   "outputs": [],
   "source": [
    "grouped_quintiles = cleaned_joined_freshfood.groupby('pop_quintile')"
   ]
  },
  {
   "cell_type": "code",
   "execution_count": null,
   "metadata": {},
   "outputs": [],
   "source": [
    "quintile_0adelaide_au_2020_1600m_buffer.gpkg"
   ]
  }
 ],
 "metadata": {
  "kernelspec": {
   "display_name": "Python (GlobalInd)",
   "language": "python",
   "name": "globalind"
  },
  "language_info": {
   "codemirror_mode": {
    "name": "ipython",
    "version": 3
   },
   "file_extension": ".py",
   "mimetype": "text/x-python",
   "name": "python",
   "nbconvert_exporter": "python",
   "pygments_lexer": "ipython3",
   "version": "3.7.6"
  }
 },
 "nbformat": 4,
 "nbformat_minor": 4
}
