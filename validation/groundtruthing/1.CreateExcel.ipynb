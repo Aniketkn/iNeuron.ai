{
 "cells": [
  {
   "cell_type": "code",
   "execution_count": 1,
   "metadata": {},
   "outputs": [],
   "source": [
    "import json\n",
    "import os\n",
    "import geopandas as gpd\n",
    "import matplotlib.pyplot as plt\n",
    "import pandas as pd\n",
    "import osmnx as ox\n",
    "import random\n",
    "import numpy as np\n",
    "\n",
    "%matplotlib inline"
   ]
  },
  {
   "cell_type": "code",
   "execution_count": 2,
   "metadata": {},
   "outputs": [],
   "source": [
    "cities = ['adelaide',\n",
    "'auckland',\n",
    "'baltimore',\n",
    "'bangkok',\n",
    "'barcelona',\n",
    "'belfast',\n",
    "'bern',\n",
    "'chennai',\n",
    "'mexico_city',\n",
    "'cologne',\n",
    "'ghent',\n",
    "'graz',\n",
    "'hanoi',\n",
    "'hong_kong',\n",
    "'lisbon',\n",
    "'melbourne',\n",
    "'odense',\n",
    "'olomouc',\n",
    "'sao_paulo',          \n",
    "'phoenix',\n",
    "'seattle',\n",
    "'sydney',\n",
    "'valencia',\n",
    "'vic'\n",
    "         ]"
   ]
  },
  {
   "cell_type": "code",
   "execution_count": 3,
   "metadata": {},
   "outputs": [],
   "source": [
    "process_folder = '../../process'\n",
    "pop_col = [\"pop_ghs_2015\"]\n",
    "dest_col = [\"destinations\"]\n",
    "filenames_filepath = \"./groundtruthing.csv\"\n",
    "np.random.seed(24)"
   ]
  },
  {
   "cell_type": "code",
   "execution_count": 4,
   "metadata": {},
   "outputs": [
    {
     "name": "stdout",
     "output_type": "stream",
     "text": [
      "start adelaide\n"
     ]
    },
    {
     "name": "stderr",
     "output_type": "stream",
     "text": [
      "/opt/conda/lib/python3.7/site-packages/pyproj/crs/crs.py:53: FutureWarning: '+init=<authority>:<code>' syntax is deprecated. '<authority>:<code>' is the preferred initialization method. When making the change, be mindful of axis order changes: https://pyproj4.github.io/pyproj/stable/gotchas.html#axis-order-changes-in-proj-6\n",
      "  return _prepare_from_string(\" \".join(pjargs))\n"
     ]
    },
    {
     "name": "stdout",
     "output_type": "stream",
     "text": [
      "adelaide shape below\n",
      "(50, 29)\n",
      "2020-11-02 04:32:31 finshed names for adelaide\n",
      "start auckland\n"
     ]
    },
    {
     "name": "stderr",
     "output_type": "stream",
     "text": [
      "/opt/conda/lib/python3.7/site-packages/pyproj/crs/crs.py:53: FutureWarning: '+init=<authority>:<code>' syntax is deprecated. '<authority>:<code>' is the preferred initialization method. When making the change, be mindful of axis order changes: https://pyproj4.github.io/pyproj/stable/gotchas.html#axis-order-changes-in-proj-6\n",
      "  return _prepare_from_string(\" \".join(pjargs))\n"
     ]
    },
    {
     "name": "stdout",
     "output_type": "stream",
     "text": [
      "auckland shape below\n",
      "(50, 29)\n",
      "2020-11-02 04:44:55 finshed names for auckland\n",
      "start baltimore\n"
     ]
    },
    {
     "name": "stderr",
     "output_type": "stream",
     "text": [
      "/opt/conda/lib/python3.7/site-packages/pyproj/crs/crs.py:53: FutureWarning: '+init=<authority>:<code>' syntax is deprecated. '<authority>:<code>' is the preferred initialization method. When making the change, be mindful of axis order changes: https://pyproj4.github.io/pyproj/stable/gotchas.html#axis-order-changes-in-proj-6\n",
      "  return _prepare_from_string(\" \".join(pjargs))\n"
     ]
    },
    {
     "name": "stdout",
     "output_type": "stream",
     "text": [
      "baltimore shape below\n",
      "(50, 29)\n",
      "2020-11-02 04:45:19 finshed names for baltimore\n",
      "start bangkok\n"
     ]
    },
    {
     "name": "stderr",
     "output_type": "stream",
     "text": [
      "/opt/conda/lib/python3.7/site-packages/pyproj/crs/crs.py:53: FutureWarning: '+init=<authority>:<code>' syntax is deprecated. '<authority>:<code>' is the preferred initialization method. When making the change, be mindful of axis order changes: https://pyproj4.github.io/pyproj/stable/gotchas.html#axis-order-changes-in-proj-6\n",
      "  return _prepare_from_string(\" \".join(pjargs))\n"
     ]
    },
    {
     "name": "stdout",
     "output_type": "stream",
     "text": [
      "bangkok shape below\n",
      "(50, 29)\n",
      "2020-11-02 04:47:13 finshed names for bangkok\n",
      "start barcelona\n"
     ]
    },
    {
     "name": "stderr",
     "output_type": "stream",
     "text": [
      "/opt/conda/lib/python3.7/site-packages/pyproj/crs/crs.py:53: FutureWarning: '+init=<authority>:<code>' syntax is deprecated. '<authority>:<code>' is the preferred initialization method. When making the change, be mindful of axis order changes: https://pyproj4.github.io/pyproj/stable/gotchas.html#axis-order-changes-in-proj-6\n",
      "  return _prepare_from_string(\" \".join(pjargs))\n"
     ]
    },
    {
     "name": "stdout",
     "output_type": "stream",
     "text": [
      "barcelona shape below\n",
      "(50, 29)\n",
      "2020-11-02 04:48:14 finshed names for barcelona\n",
      "start belfast\n"
     ]
    },
    {
     "name": "stderr",
     "output_type": "stream",
     "text": [
      "/opt/conda/lib/python3.7/site-packages/pyproj/crs/crs.py:53: FutureWarning: '+init=<authority>:<code>' syntax is deprecated. '<authority>:<code>' is the preferred initialization method. When making the change, be mindful of axis order changes: https://pyproj4.github.io/pyproj/stable/gotchas.html#axis-order-changes-in-proj-6\n",
      "  return _prepare_from_string(\" \".join(pjargs))\n"
     ]
    },
    {
     "name": "stdout",
     "output_type": "stream",
     "text": [
      "belfast shape below\n",
      "(50, 29)\n",
      "2020-11-02 04:48:27 finshed names for belfast\n",
      "start bern\n"
     ]
    },
    {
     "name": "stderr",
     "output_type": "stream",
     "text": [
      "/opt/conda/lib/python3.7/site-packages/pyproj/crs/crs.py:53: FutureWarning: '+init=<authority>:<code>' syntax is deprecated. '<authority>:<code>' is the preferred initialization method. When making the change, be mindful of axis order changes: https://pyproj4.github.io/pyproj/stable/gotchas.html#axis-order-changes-in-proj-6\n",
      "  return _prepare_from_string(\" \".join(pjargs))\n"
     ]
    },
    {
     "name": "stdout",
     "output_type": "stream",
     "text": [
      "bern shape below\n",
      "(50, 29)\n",
      "2020-11-02 04:48:30 finshed names for bern\n",
      "start chennai\n"
     ]
    },
    {
     "name": "stderr",
     "output_type": "stream",
     "text": [
      "/opt/conda/lib/python3.7/site-packages/pyproj/crs/crs.py:53: FutureWarning: '+init=<authority>:<code>' syntax is deprecated. '<authority>:<code>' is the preferred initialization method. When making the change, be mindful of axis order changes: https://pyproj4.github.io/pyproj/stable/gotchas.html#axis-order-changes-in-proj-6\n",
      "  return _prepare_from_string(\" \".join(pjargs))\n"
     ]
    },
    {
     "name": "stdout",
     "output_type": "stream",
     "text": [
      "chennai shape below\n",
      "(50, 29)\n",
      "2020-11-02 04:48:48 finshed names for chennai\n",
      "start mexico_city\n"
     ]
    },
    {
     "name": "stderr",
     "output_type": "stream",
     "text": [
      "/opt/conda/lib/python3.7/site-packages/pyproj/crs/crs.py:53: FutureWarning: '+init=<authority>:<code>' syntax is deprecated. '<authority>:<code>' is the preferred initialization method. When making the change, be mindful of axis order changes: https://pyproj4.github.io/pyproj/stable/gotchas.html#axis-order-changes-in-proj-6\n",
      "  return _prepare_from_string(\" \".join(pjargs))\n"
     ]
    },
    {
     "name": "stdout",
     "output_type": "stream",
     "text": [
      "mexico_city shape below\n",
      "(50, 29)\n",
      "2020-11-02 04:51:29 finshed names for mexico_city\n",
      "start cologne\n"
     ]
    },
    {
     "name": "stderr",
     "output_type": "stream",
     "text": [
      "/opt/conda/lib/python3.7/site-packages/pyproj/crs/crs.py:53: FutureWarning: '+init=<authority>:<code>' syntax is deprecated. '<authority>:<code>' is the preferred initialization method. When making the change, be mindful of axis order changes: https://pyproj4.github.io/pyproj/stable/gotchas.html#axis-order-changes-in-proj-6\n",
      "  return _prepare_from_string(\" \".join(pjargs))\n"
     ]
    },
    {
     "name": "stdout",
     "output_type": "stream",
     "text": [
      "cologne shape below\n",
      "(50, 29)\n",
      "2020-11-02 04:51:59 finshed names for cologne\n",
      "start ghent\n"
     ]
    },
    {
     "name": "stderr",
     "output_type": "stream",
     "text": [
      "/opt/conda/lib/python3.7/site-packages/pyproj/crs/crs.py:53: FutureWarning: '+init=<authority>:<code>' syntax is deprecated. '<authority>:<code>' is the preferred initialization method. When making the change, be mindful of axis order changes: https://pyproj4.github.io/pyproj/stable/gotchas.html#axis-order-changes-in-proj-6\n",
      "  return _prepare_from_string(\" \".join(pjargs))\n"
     ]
    },
    {
     "name": "stdout",
     "output_type": "stream",
     "text": [
      "ghent shape below\n",
      "(50, 29)\n",
      "2020-11-02 04:52:05 finshed names for ghent\n",
      "start graz\n"
     ]
    },
    {
     "name": "stderr",
     "output_type": "stream",
     "text": [
      "/opt/conda/lib/python3.7/site-packages/pyproj/crs/crs.py:53: FutureWarning: '+init=<authority>:<code>' syntax is deprecated. '<authority>:<code>' is the preferred initialization method. When making the change, be mindful of axis order changes: https://pyproj4.github.io/pyproj/stable/gotchas.html#axis-order-changes-in-proj-6\n",
      "  return _prepare_from_string(\" \".join(pjargs))\n"
     ]
    },
    {
     "name": "stdout",
     "output_type": "stream",
     "text": [
      "graz shape below\n",
      "(50, 28)\n",
      "2020-11-02 04:52:09 finshed names for graz\n",
      "start hanoi\n"
     ]
    },
    {
     "name": "stderr",
     "output_type": "stream",
     "text": [
      "/opt/conda/lib/python3.7/site-packages/pyproj/crs/crs.py:53: FutureWarning: '+init=<authority>:<code>' syntax is deprecated. '<authority>:<code>' is the preferred initialization method. When making the change, be mindful of axis order changes: https://pyproj4.github.io/pyproj/stable/gotchas.html#axis-order-changes-in-proj-6\n",
      "  return _prepare_from_string(\" \".join(pjargs))\n"
     ]
    },
    {
     "name": "stdout",
     "output_type": "stream",
     "text": [
      "hanoi shape below\n",
      "(50, 29)\n",
      "2020-11-02 04:53:50 finshed names for hanoi\n",
      "start hong_kong\n"
     ]
    },
    {
     "name": "stderr",
     "output_type": "stream",
     "text": [
      "/opt/conda/lib/python3.7/site-packages/pyproj/crs/crs.py:53: FutureWarning: '+init=<authority>:<code>' syntax is deprecated. '<authority>:<code>' is the preferred initialization method. When making the change, be mindful of axis order changes: https://pyproj4.github.io/pyproj/stable/gotchas.html#axis-order-changes-in-proj-6\n",
      "  return _prepare_from_string(\" \".join(pjargs))\n"
     ]
    },
    {
     "name": "stdout",
     "output_type": "stream",
     "text": [
      "hong_kong shape below\n",
      "(50, 29)\n",
      "2020-11-02 05:03:21 finshed names for hong_kong\n",
      "start lisbon\n"
     ]
    },
    {
     "name": "stderr",
     "output_type": "stream",
     "text": [
      "/opt/conda/lib/python3.7/site-packages/pyproj/crs/crs.py:53: FutureWarning: '+init=<authority>:<code>' syntax is deprecated. '<authority>:<code>' is the preferred initialization method. When making the change, be mindful of axis order changes: https://pyproj4.github.io/pyproj/stable/gotchas.html#axis-order-changes-in-proj-6\n",
      "  return _prepare_from_string(\" \".join(pjargs))\n"
     ]
    },
    {
     "name": "stdout",
     "output_type": "stream",
     "text": [
      "lisbon shape below\n",
      "(50, 29)\n",
      "2020-11-02 05:03:31 finshed names for lisbon\n",
      "start melbourne\n"
     ]
    },
    {
     "name": "stderr",
     "output_type": "stream",
     "text": [
      "/opt/conda/lib/python3.7/site-packages/pyproj/crs/crs.py:53: FutureWarning: '+init=<authority>:<code>' syntax is deprecated. '<authority>:<code>' is the preferred initialization method. When making the change, be mindful of axis order changes: https://pyproj4.github.io/pyproj/stable/gotchas.html#axis-order-changes-in-proj-6\n",
      "  return _prepare_from_string(\" \".join(pjargs))\n"
     ]
    },
    {
     "name": "stdout",
     "output_type": "stream",
     "text": [
      "melbourne shape below\n",
      "(50, 29)\n",
      "2020-11-02 05:08:07 finshed names for melbourne\n",
      "start odense\n"
     ]
    },
    {
     "name": "stderr",
     "output_type": "stream",
     "text": [
      "/opt/conda/lib/python3.7/site-packages/pyproj/crs/crs.py:53: FutureWarning: '+init=<authority>:<code>' syntax is deprecated. '<authority>:<code>' is the preferred initialization method. When making the change, be mindful of axis order changes: https://pyproj4.github.io/pyproj/stable/gotchas.html#axis-order-changes-in-proj-6\n",
      "  return _prepare_from_string(\" \".join(pjargs))\n"
     ]
    },
    {
     "name": "stdout",
     "output_type": "stream",
     "text": [
      "odense shape below\n",
      "(50, 28)\n",
      "2020-11-02 05:08:35 finshed names for odense\n",
      "start olomouc\n"
     ]
    },
    {
     "name": "stderr",
     "output_type": "stream",
     "text": [
      "/opt/conda/lib/python3.7/site-packages/pyproj/crs/crs.py:53: FutureWarning: '+init=<authority>:<code>' syntax is deprecated. '<authority>:<code>' is the preferred initialization method. When making the change, be mindful of axis order changes: https://pyproj4.github.io/pyproj/stable/gotchas.html#axis-order-changes-in-proj-6\n",
      "  return _prepare_from_string(\" \".join(pjargs))\n"
     ]
    },
    {
     "name": "stdout",
     "output_type": "stream",
     "text": [
      "olomouc shape below\n",
      "(50, 29)\n",
      "2020-11-02 05:08:37 finshed names for olomouc\n",
      "start sao_paulo\n"
     ]
    },
    {
     "name": "stderr",
     "output_type": "stream",
     "text": [
      "/opt/conda/lib/python3.7/site-packages/pyproj/crs/crs.py:53: FutureWarning: '+init=<authority>:<code>' syntax is deprecated. '<authority>:<code>' is the preferred initialization method. When making the change, be mindful of axis order changes: https://pyproj4.github.io/pyproj/stable/gotchas.html#axis-order-changes-in-proj-6\n",
      "  return _prepare_from_string(\" \".join(pjargs))\n"
     ]
    },
    {
     "name": "stdout",
     "output_type": "stream",
     "text": [
      "sao_paulo shape below\n",
      "(50, 29)\n",
      "2020-11-02 05:09:16 finshed names for sao_paulo\n",
      "start phoenix\n"
     ]
    },
    {
     "name": "stderr",
     "output_type": "stream",
     "text": [
      "/opt/conda/lib/python3.7/site-packages/pyproj/crs/crs.py:53: FutureWarning: '+init=<authority>:<code>' syntax is deprecated. '<authority>:<code>' is the preferred initialization method. When making the change, be mindful of axis order changes: https://pyproj4.github.io/pyproj/stable/gotchas.html#axis-order-changes-in-proj-6\n",
      "  return _prepare_from_string(\" \".join(pjargs))\n"
     ]
    },
    {
     "name": "stdout",
     "output_type": "stream",
     "text": [
      "phoenix shape below\n",
      "(50, 29)\n",
      "2020-11-02 05:10:42 finshed names for phoenix\n",
      "start seattle\n"
     ]
    },
    {
     "name": "stderr",
     "output_type": "stream",
     "text": [
      "/opt/conda/lib/python3.7/site-packages/pyproj/crs/crs.py:53: FutureWarning: '+init=<authority>:<code>' syntax is deprecated. '<authority>:<code>' is the preferred initialization method. When making the change, be mindful of axis order changes: https://pyproj4.github.io/pyproj/stable/gotchas.html#axis-order-changes-in-proj-6\n",
      "  return _prepare_from_string(\" \".join(pjargs))\n"
     ]
    },
    {
     "name": "stdout",
     "output_type": "stream",
     "text": [
      "seattle shape below\n",
      "(50, 29)\n",
      "2020-11-02 05:12:33 finshed names for seattle\n",
      "start sydney\n"
     ]
    },
    {
     "name": "stderr",
     "output_type": "stream",
     "text": [
      "/opt/conda/lib/python3.7/site-packages/pyproj/crs/crs.py:53: FutureWarning: '+init=<authority>:<code>' syntax is deprecated. '<authority>:<code>' is the preferred initialization method. When making the change, be mindful of axis order changes: https://pyproj4.github.io/pyproj/stable/gotchas.html#axis-order-changes-in-proj-6\n",
      "  return _prepare_from_string(\" \".join(pjargs))\n"
     ]
    },
    {
     "name": "stdout",
     "output_type": "stream",
     "text": [
      "sydney shape below\n",
      "(50, 29)\n",
      "2020-11-02 06:06:58 finshed names for sydney\n",
      "start valencia\n"
     ]
    },
    {
     "name": "stderr",
     "output_type": "stream",
     "text": [
      "/opt/conda/lib/python3.7/site-packages/pyproj/crs/crs.py:53: FutureWarning: '+init=<authority>:<code>' syntax is deprecated. '<authority>:<code>' is the preferred initialization method. When making the change, be mindful of axis order changes: https://pyproj4.github.io/pyproj/stable/gotchas.html#axis-order-changes-in-proj-6\n",
      "  return _prepare_from_string(\" \".join(pjargs))\n"
     ]
    },
    {
     "name": "stdout",
     "output_type": "stream",
     "text": [
      "valencia shape below\n",
      "(50, 29)\n",
      "2020-11-02 06:07:12 finshed names for valencia\n",
      "start vic\n"
     ]
    },
    {
     "name": "stderr",
     "output_type": "stream",
     "text": [
      "/opt/conda/lib/python3.7/site-packages/pyproj/crs/crs.py:53: FutureWarning: '+init=<authority>:<code>' syntax is deprecated. '<authority>:<code>' is the preferred initialization method. When making the change, be mindful of axis order changes: https://pyproj4.github.io/pyproj/stable/gotchas.html#axis-order-changes-in-proj-6\n",
      "  return _prepare_from_string(\" \".join(pjargs))\n"
     ]
    },
    {
     "name": "stdout",
     "output_type": "stream",
     "text": [
      "vic shape below\n",
      "(50, 28)\n",
      "2020-11-02 06:07:15 finshed names for vic\n",
      "2020-11-02 06:07:15 all done, saved filenames to disk at \"./groundtruthing.csv\"\n"
     ]
    }
   ],
   "source": [
    "filenames = {}\n",
    "\n",
    "for city in cities:\n",
    "    \n",
    "    print(f\"start {city}\")\n",
    "\n",
    "    process_config_path = f\"../../process/configuration/{city}.json\"\n",
    "\n",
    "    with open(process_config_path) as json_file:\n",
    "        config = json.load(json_file)\n",
    "\n",
    "    input_folder = os.path.join(process_folder, config['folder'])\n",
    "\n",
    "    gpkg_input = os.path.join(input_folder, config['geopackagePath'])\n",
    "\n",
    "    pop = gpd.read_file(gpkg_input, layer='pop_ghs_2015' )\n",
    "\n",
    "    dests = gpd.read_file(gpkg_input, layer='destinations' )\n",
    "\n",
    "    fresh_food = dests[dests['dest_name_full'].str.contains('Fresh Food / Market')]\n",
    "\n",
    "    gdf_study_area = gpd.read_file(gpkg_input, layer=\"urban_study_region\")\n",
    "    study_area = gdf_study_area[\"geometry\"].iloc[0]\n",
    "\n",
    "    crs = gdf_study_area.crs\n",
    "    if pop.crs != crs:\n",
    "        pop = pop.to_crs(crs)\n",
    "    if fresh_food.crs != crs:\n",
    "        fresh_food = fresh_food.to_crs(crs)\n",
    "\n",
    "    import warnings\n",
    "\n",
    "    warnings.filterwarnings(\"ignore\", \"GeoSeries.notna\", UserWarning)  # temp warning suppression\n",
    "    pop_clipped = gpd.clip(pop, study_area)\n",
    "    fresh_food_clipped = gpd.clip(fresh_food, study_area)\n",
    "\n",
    "    joined_freshfood = gpd.sjoin(fresh_food_clipped, pop_clipped, how='left', op='within')\n",
    "\n",
    "    ordered_joined_freshfood = joined_freshfood.sort_values('pop_est')\n",
    "\n",
    "    split_joined_freshfood = np.array_split(ordered_joined_freshfood, 5)\n",
    "\n",
    "    q1_dests = (split_joined_freshfood[0])\n",
    "    q2_dests = (split_joined_freshfood[1])\n",
    "    q3_dests = (split_joined_freshfood[2])\n",
    "    q4_dests = (split_joined_freshfood[3])\n",
    "    q5_dests = (split_joined_freshfood[4])\n",
    "\n",
    "    q1_dests['quantile'] = 1\n",
    "    q2_dests['quantile'] = 2\n",
    "    q3_dests['quantile'] = 3\n",
    "    q4_dests['quantile'] = 4\n",
    "    q5_dests['quantile'] = 5\n",
    "\n",
    "    q1_sample_dests = q1_dests.sample(10)\n",
    "    q2_sample_dests = q2_dests.sample(10)\n",
    "    q3_sample_dests = q3_dests.sample(10)\n",
    "    q4_sample_dests = q4_dests.sample(10)\n",
    "    q5_sample_dests = q5_dests.sample(10)\n",
    "\n",
    "    sample_dests = [q1_sample_dests, q2_sample_dests, q3_sample_dests, q4_sample_dests, q5_sample_dests]\n",
    "\n",
    "    final_sample_dests = pd.concat(sample_dests)\n",
    "\n",
    "    final_sample_dests = final_sample_dests.to_crs({'init': 'epsg:4326'})\n",
    "\n",
    "    final_sample_dests['lat'] = final_sample_dests.geometry.y\n",
    "    final_sample_dests['lon'] = final_sample_dests.geometry.x\n",
    "    \n",
    "    final_sample_dests = final_sample_dests.set_index('osm_id')\n",
    "    \n",
    "    \n",
    "    print(f\"{city} shape below\")\n",
    "    print(final_sample_dests.shape)\n",
    "\n",
    "    for index, row in final_sample_dests.iterrows():\n",
    "        filenames[index] = {}\n",
    "\n",
    "        city_name = city\n",
    "        hexagon_pop_quantile = row['quantile']\n",
    "        latitude = row['lat']\n",
    "        longitude = row['lon']\n",
    "        google_maps_screenshot = f\"{latitude}_{longitude}_{city}_google_maps_image\"\n",
    "        google_satellite_screenshot = f\"{latitude}_{longitude}_{city}_google_satellite_image\"\n",
    "        google_street_view_screenshot = f\"{latitude}_{longitude}_{city}_google_street_view_image\"\n",
    "\n",
    "        # calculate total street length and edge count in each dataset, then add to indicators\n",
    "        filenames[index][\"Hexagon_Pop_Quintile\"] = hexagon_pop_quantile\n",
    "        filenames[index][\"City_Name\"] = city_name\n",
    "        filenames[index][\"Latitude\"] = latitude\n",
    "        filenames[index][\"Longitude\"] = longitude\n",
    "        filenames[index][\"Google_Maps_Date\"] = \"\"\n",
    "        filenames[index][\"Google_Maps_Screenshot\"] = google_maps_screenshot\n",
    "        filenames[index][\"Google_Satellite_Date\"] = \"\"\n",
    "        filenames[index][\"Google_Satellite_Screenshot\"] = google_satellite_screenshot\n",
    "        filenames[index][\"Google_Street_View_Date\"] = \"\"\n",
    "        filenames[index][\"Google_Street_View_Screenshot\"] = google_street_view_screenshot\n",
    "        filenames[index][\"Assessment\"] = \"\"\n",
    "        filenames[index][\"Comments\"] = \"\"\n",
    "\n",
    "    print(ox.ts(), f\"finshed names for {city}\")\n",
    "\n",
    "# turn indicators into a dataframe and save to disk\n",
    "df_filenames = pd.DataFrame(filenames).T\n",
    "df_filenames.to_csv(filenames_filepath, index=True, encoding=\"utf-8\")\n",
    "print(ox.ts(), f'all done, saved filenames to disk at \"{filenames_filepath}\"')\n"
   ]
  },
  {
   "cell_type": "code",
   "execution_count": null,
   "metadata": {},
   "outputs": [],
   "source": []
  },
  {
   "cell_type": "code",
   "execution_count": null,
   "metadata": {},
   "outputs": [],
   "source": []
  }
 ],
 "metadata": {
  "kernelspec": {
   "display_name": "Python (GlobalInd)",
   "language": "python",
   "name": "globalind"
  },
  "language_info": {
   "codemirror_mode": {
    "name": "ipython",
    "version": 3
   },
   "file_extension": ".py",
   "mimetype": "text/x-python",
   "name": "python",
   "nbconvert_exporter": "python",
   "pygments_lexer": "ipython3",
   "version": "3.7.6"
  }
 },
 "nbformat": 4,
 "nbformat_minor": 4
}
