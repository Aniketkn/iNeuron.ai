{
 "cells": [
  {
   "cell_type": "code",
   "execution_count": 1,
   "metadata": {},
   "outputs": [],
   "source": [
    "import geopandas as gpd\n",
    "import numpy as np\n",
    "import matplotlib.pyplot as plt\n",
    "from geopy.distance import great_circle\n",
    "import os"
   ]
  },
  {
   "cell_type": "code",
   "execution_count": 2,
   "metadata": {},
   "outputs": [
    {
     "name": "stdout",
     "output_type": "stream",
     "text": [
      "number of OSM points:  67\n",
      "number of Official points:  63\n"
     ]
    }
   ],
   "source": [
    "official_filename = \"Olomouc_supermarkets_2018.shp\"\n",
    "OSM_filename = \"olomouc_cz_2019_1600m_buffer.gpkg\"\n",
    "POIs_name = \"fresh_food_market\"\n",
    "\n",
    "gdf = gpd.read_file(OSM_filename, layer='destinations')\n",
    "gdf_osm = gdf[gdf['dest_name']==POIs_name]\n",
    "gdf_official = gpd.GeoDataFrame.from_file(official_filename)\n",
    "print(\"number of OSM points: \" ,len(gdf_osm))\n",
    "print(\"number of Official points: \", len(gdf_official))\n"
   ]
  },
  {
   "cell_type": "code",
   "execution_count": 3,
   "metadata": {},
   "outputs": [
    {
     "name": "stdout",
     "output_type": "stream",
     "text": [
      "epsg:5514\n"
     ]
    }
   ],
   "source": [
    "#Project gdf_osm to the crs of the official layer\n",
    "gdf_osm = gdf_osm.to_crs(gdf_official.crs)\n",
    "print(gdf_osm.crs)"
   ]
  },
  {
   "cell_type": "code",
   "execution_count": 5,
   "metadata": {},
   "outputs": [],
   "source": [
    "#Write data to shapefile\n",
    "from os.path import join as pjoin\n",
    "filename = \"olomouc_poi_official.shp\"\n",
    "path_to_file = pjoin(\"output\", filename)\n",
    "\n",
    "if os.path.isfile(path_to_file):\n",
    "    print (\"File exist\")\n",
    "else:\n",
    "    gdf_official.to_file(path_to_file)\n",
    "    \n",
    "filename = \"olomouc_poi_osm.shp\"\n",
    "path_to_file = pjoin(\"output\", filename)\n",
    "#gdf_osm = pd.merge(gdf_osm, gdf_osm.bounds, left_index=True, right_index=True)\n",
    "\n",
    "\n",
    "if os.path.isfile(path_to_file):\n",
    "    print (\"File exist\")\n",
    "else:\n",
    "    gdf_osm.to_file(path_to_file)\n"
   ]
  },
  {
   "cell_type": "code",
   "execution_count": 13,
   "metadata": {},
   "outputs": [
    {
     "name": "stdout",
     "output_type": "stream",
     "text": [
      "Buffer:  5\n",
      "intersection:  66\n",
      "percent of OSM points 98.50746268656717\n",
      "intersection:  61\n",
      "percent of Official Point:  96.82539682539682\n",
      "\n",
      "\n",
      "Buffer:  10\n",
      "intersection:  66\n",
      "percent of OSM points 98.50746268656717\n",
      "intersection:  61\n",
      "percent of Official Point:  96.82539682539682\n",
      "\n",
      "\n",
      "Buffer:  15\n",
      "intersection:  66\n",
      "percent of OSM points 98.50746268656717\n",
      "intersection:  61\n",
      "percent of Official Point:  96.82539682539682\n",
      "\n",
      "\n",
      "Buffer:  20\n",
      "intersection:  67\n",
      "percent of OSM points 100.0\n",
      "intersection:  61\n",
      "percent of Official Point:  96.82539682539682\n",
      "\n",
      "\n",
      "Buffer:  25\n",
      "intersection:  67\n",
      "percent of OSM points 100.0\n",
      "intersection:  61\n",
      "percent of Official Point:  96.82539682539682\n",
      "\n",
      "\n",
      "Buffer:  30\n",
      "intersection:  67\n",
      "percent of OSM points 100.0\n",
      "intersection:  61\n",
      "percent of Official Point:  96.82539682539682\n",
      "\n",
      "\n",
      "Buffer:  35\n",
      "intersection:  67\n",
      "percent of OSM points 100.0\n",
      "intersection:  62\n",
      "percent of Official Point:  98.41269841269842\n",
      "\n",
      "\n",
      "Buffer:  40\n",
      "intersection:  67\n",
      "percent of OSM points 100.0\n",
      "intersection:  62\n",
      "percent of Official Point:  98.41269841269842\n",
      "\n",
      "\n",
      "Buffer:  45\n",
      "intersection:  67\n",
      "percent of OSM points 100.0\n",
      "intersection:  62\n",
      "percent of Official Point:  98.41269841269842\n",
      "\n",
      "\n",
      "Buffer:  50\n",
      "intersection:  67\n",
      "percent of OSM points 100.0\n",
      "intersection:  62\n",
      "percent of Official Point:  98.41269841269842\n",
      "\n",
      "\n",
      "Buffer:  55\n",
      "intersection:  67\n",
      "percent of OSM points 100.0\n",
      "intersection:  62\n",
      "percent of Official Point:  98.41269841269842\n",
      "\n",
      "\n",
      "Buffer:  60\n",
      "intersection:  67\n",
      "percent of OSM points 100.0\n",
      "intersection:  62\n",
      "percent of Official Point:  98.41269841269842\n",
      "\n",
      "\n",
      "Buffer:  65\n",
      "intersection:  67\n",
      "percent of OSM points 100.0\n",
      "intersection:  62\n",
      "percent of Official Point:  98.41269841269842\n",
      "\n",
      "\n",
      "Buffer:  70\n",
      "intersection:  67\n",
      "percent of OSM points 100.0\n",
      "intersection:  62\n",
      "percent of Official Point:  98.41269841269842\n",
      "\n",
      "\n",
      "Buffer:  75\n",
      "intersection:  67\n",
      "percent of OSM points 100.0\n",
      "intersection:  62\n",
      "percent of Official Point:  98.41269841269842\n",
      "\n",
      "\n",
      "Buffer:  80\n",
      "intersection:  67\n",
      "percent of OSM points 100.0\n",
      "intersection:  62\n",
      "percent of Official Point:  98.41269841269842\n",
      "\n",
      "\n",
      "Buffer:  85\n",
      "intersection:  67\n",
      "percent of OSM points 100.0\n",
      "intersection:  62\n",
      "percent of Official Point:  98.41269841269842\n",
      "\n",
      "\n",
      "Buffer:  90\n",
      "intersection:  67\n",
      "percent of OSM points 100.0\n",
      "intersection:  62\n",
      "percent of Official Point:  98.41269841269842\n",
      "\n",
      "\n",
      "Buffer:  95\n",
      "intersection:  67\n",
      "percent of OSM points 100.0\n",
      "intersection:  62\n",
      "percent of Official Point:  98.41269841269842\n",
      "\n",
      "\n"
     ]
    }
   ],
   "source": [
    "buff = 5\n",
    "percent_list = []\n",
    "percent_dict = {}\n",
    "\n",
    "while buff<100:\n",
    "    OSM_buffer = gdf_osm\n",
    "    OSM_buffer['geometry'] = OSM_buffer.geometry.buffer(buff)\n",
    "    OP_buffer =gdf_official\n",
    "    OP_buffer['geometry'] = OP_buffer.geometry.buffer(buff)\n",
    "    \n",
    "    print(\"Buffer: \", str(buff))\n",
    "    \n",
    "    #Calculate percent of OSM points within Official points 100m buffer\n",
    "    mask = gdf_osm['geometry'].intersects(OP_buffer['geometry'].unary_union)\n",
    "    print(\"intersection: \",len(gdf_osm[mask]))\n",
    "    print(\"percent of OSM points\", str(len(gdf_osm[mask])*100/len(gdf_osm)))\n",
    "    \n",
    "    #Calculate percent of Official Point within OSM points 100m buffer\n",
    "    mask = gdf_official['geometry'].intersects(OSM_buffer['geometry'].unary_union)\n",
    "    print(\"intersection: \",len(gdf_official[mask]))\n",
    "    print(\"percent of Official Point: \", str(len(gdf_official[mask])*100/len(gdf_official)))\n",
    "    print(\"\\n\")\n",
    "    \n",
    "    buff+=5\n",
    "    "
   ]
  },
  {
   "cell_type": "code",
   "execution_count": 6,
   "metadata": {},
   "outputs": [
    {
     "name": "stdout",
     "output_type": "stream",
     "text": [
      "number of intersection items:  0\n",
      "Percentage:  0.0\n"
     ]
    }
   ],
   "source": [
    "#Calculate number of gdf_osm intersect with gdf_official\n",
    "mask1 = gdf_osm['geometry'].intersects(gdf_official['geometry'].unary_union)\n",
    "\n",
    "print(\"number of intersection items: \",len(gdf_osm[mask1]))\n",
    "print(\"Percentage: \",len(gdf_osm[mask1])*100/len(gdf_osm) )"
   ]
  },
  {
   "cell_type": "code",
   "execution_count": 7,
   "metadata": {},
   "outputs": [],
   "source": [
    "#Draw 100m buffer around OSM points; draw 100m buffer around official points\n",
    "OSM_buffer = gdf_osm\n",
    "OSM_buffer['geometry'] = OSM_buffer.geometry.buffer(100)\n",
    "OP_buffer =gdf_official\n",
    "OP_buffer['geometry'] = OP_buffer.geometry.buffer(100)\n"
   ]
  },
  {
   "cell_type": "code",
   "execution_count": 8,
   "metadata": {},
   "outputs": [
    {
     "name": "stdout",
     "output_type": "stream",
     "text": [
      "intersection:  45\n",
      "percent of OSM points 67.16417910447761\n"
     ]
    }
   ],
   "source": [
    "#Calculate percent of OSM points within Official points 100m buffer\n",
    "mask = gdf_osm['geometry'].intersects(OP_buffer['geometry'].unary_union)\n",
    "print(\"intersection: \",len(gdf_osm[mask]))\n",
    "print(\"percent of OSM points\", str(len(gdf_osm[mask])*100/len(gdf_osm)))"
   ]
  },
  {
   "cell_type": "code",
   "execution_count": 9,
   "metadata": {},
   "outputs": [
    {
     "name": "stdout",
     "output_type": "stream",
     "text": [
      "intersection:  46\n",
      "percent of Official Point:  73.01587301587301\n"
     ]
    }
   ],
   "source": [
    "#Calculate percent of Official Point within OSM points 100m buffer\n",
    "mask = gdf_official['geometry'].intersects(OSM_buffer['geometry'].unary_union)\n",
    "print(\"intersection: \",len(gdf_official[mask]))\n",
    "print(\"percent of Official Point: \", str(len(gdf_official[mask])*100/len(gdf_official)))"
   ]
  },
  {
   "cell_type": "code",
   "execution_count": 10,
   "metadata": {},
   "outputs": [],
   "source": [
    "#Calculate distance to all Official polygons and pick the min\n",
    "def min_distance(gdf_osm, gdf_official):\n",
    "    nearest_dists = []\n",
    "    for item in gdf_osm.geometry:\n",
    "        nearest_dist = gdf_official.distance(item).min()\n",
    "        nearest_dists.append(nearest_dist)\n",
    "    gdf_osm['nearest_distance'] = nearest_dists\n",
    "    print(gdf_osm['nearest_distance'])"
   ]
  },
  {
   "cell_type": "code",
   "execution_count": 11,
   "metadata": {},
   "outputs": [
    {
     "name": "stdout",
     "output_type": "stream",
     "text": [
      "0        0.000000\n",
      "1     1996.712643\n",
      "2        0.000000\n",
      "3        0.000000\n",
      "4        0.000000\n",
      "         ...     \n",
      "62      66.048072\n",
      "63     281.553036\n",
      "64       0.000000\n",
      "65       0.000000\n",
      "66       0.000000\n",
      "Name: nearest_distance, Length: 67, dtype: float64\n"
     ]
    },
    {
     "data": {
      "image/png": "[encoded data removed]",
      "text/plain": [
       "<Figure size 432x288 with 1 Axes>"
      ]
     },
     "metadata": {
      "needs_background": "light"
     },
     "output_type": "display_data"
    },
    {
     "name": "stdout",
     "output_type": "stream",
     "text": [
      "mean nearest distance:  69.84908280634559\n",
      "median nearest distance:  0.0\n"
     ]
    }
   ],
   "source": [
    "min_distance(gdf_osm,gdf_official)\n",
    "#Graphing the histogram of distance from gdf_osm to nearest Official points\n",
    "ax = gdf_osm['nearest_distance'].hist()\n",
    "plt.show()\n",
    "\n",
    "mean_dist = gdf_osm['nearest_distance'].mean()\n",
    "print(\"mean nearest distance: \",mean_dist)\n",
    "\n",
    "median_dist = gdf_osm['nearest_distance'].median()\n",
    "print(\"median nearest distance: \", median_dist)"
   ]
  },
  {
   "cell_type": "code",
   "execution_count": null,
   "metadata": {},
   "outputs": [],
   "source": []
  }
 ],
 "metadata": {
  "kernelspec": {
   "display_name": "Python 3",
   "language": "python",
   "name": "python3"
  },
  "language_info": {
   "codemirror_mode": {
    "name": "ipython",
    "version": 3
   },
   "file_extension": ".py",
   "mimetype": "text/x-python",
   "name": "python",
   "nbconvert_exporter": "python",
   "pygments_lexer": "ipython3",
   "version": "3.7.6"
  }
 },
 "nbformat": 4,
 "nbformat_minor": 4
}
